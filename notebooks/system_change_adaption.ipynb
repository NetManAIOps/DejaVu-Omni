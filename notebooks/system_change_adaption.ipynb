{
 "cells": [
  {
   "cell_type": "code",
   "execution_count": 1,
   "metadata": {},
   "outputs": [
    {
     "name": "stdout",
     "output_type": "stream",
     "text": [
      "drift_ts=1709442000\n",
      "metrics_before: 4437, metrics_after: 4737, metrics: 4258\n"
     ]
    }
   ],
   "source": [
    "import sys\n",
    "import os\n",
    "sys.path.insert(0, os.path.realpath(\"..\"))\n",
    "import pandas as pd\n",
    "from pathlib import Path\n",
    "from tqdm import tqdm\n",
    "import copy\n",
    "import numpy as np\n",
    "\n",
    "DATASET = 'D'\n",
    "WORK_DIR = Path(f\"../data/{DATASET}\")\n",
    "drift_ranges = [1709449200, 1709488800, 1709571600, 1711548600, 1711574700, 1711599900, 1711611600, 1711634400, 1711682400, 1712052000, 1712080800, 1712116800, 1712145600, 1712167200, 1712188800, 1712491200, 1712530800, 1712595600, 1712682000, 1712854800, 1712867400]\n",
    "fault_df = pd.read_csv(WORK_DIR / \"faults.csv\")\n",
    "with open(WORK_DIR / \"drift.txt\", 'r') as f:\n",
    "    drift_ts = int(f.read())\n",
    "print(f\"{drift_ts=}\")\n",
    "metric_df = pd.read_pickle(WORK_DIR / \"metrics.norm.pkl\")\n",
    "failure_timestamps = []\n",
    "for _, failure in fault_df.iterrows():\n",
    "    timestamp = failure['timestamp']\n",
    "    failure_timestamps.extend([timestamp + i*60 for i in range(0, 20)])\n",
    "\n",
    "metric_index_dict = metric_df.groupby(['name']).groups\n",
    "metric_index_after_dict = metric_df[metric_df.timestamp>=drift_ts & ~(metric_df.timestamp.isin(failure_timestamps))].groupby(['name']).groups\n",
    "metric_index_before_dict = metric_df[(metric_df.timestamp<drift_ts) & ~(metric_df.timestamp.isin(failure_timestamps))].groupby(['name']).groups\n",
    "metrics_before = set(metric_index_before_dict.keys())\n",
    "metrics_after = set(metric_index_after_dict.keys())\n",
    "metrics = list(metrics_before & metrics_after)\n",
    "metrics = [metric for metric in metrics if 'loadgenerator' not in metric]\n",
    "print(f\"metrics_before: {len(metrics_before)}, metrics_after: {len(metrics_after)}, metrics: {len(metrics)}\")"
   ]
  },
  {
   "cell_type": "code",
   "execution_count": 2,
   "metadata": {},
   "outputs": [
    {
     "name": "stdout",
     "output_type": "stream",
     "text": [
      "['traffic_0.2', 'traffic_2', 'order_svc_delay', 'traffic_0.2', 'station_svc_cpu', 'travel_svc_memory', 'order_svc_delay', 'node3_node_cpu', 'node3_node_memory', 'order_svc_cpu', 'preserve_svc_memory', 'seat_svc_delay', 'node3_node_cpu', 'node4_node_memory', 'traffic_0.6', 'order_svc_memory', 'traffic_2', 'node2_node_cpu', 'travel_svc_cpu', 'node2_node_memory']\n",
      "[1709139600, 1709143200, 1709146800, 1709161200, 1709164800, 1709168400, 1709218800, 1709220600, 1709226000, 1709227800, 1709229600, 1709231400, 1709233200, 1709235000, 1709236800, 1709238600, 1709240400, 1709242200, 1709244000, 1709245800, 1709247600, 1709249400, 1709253000, 1709254800, 1709256600, 1709265600, 1709267400, 1709269200, 1709271000, 1709272800, 1709276400, 1709278200, 1709280000, 1709281800, 1709283600, 1709285400, 1709287200, 1709289000, 1709290800, 1709292600, 1709294400, 1709296200, 1709298000, 1709299800, 1709301600, 1709303400, 1709305200, 1709307000, 1709316000, 1709317800, 1709319600, 1709326800, 1709328600, 1709330400, 1709332200, 1709334000, 1709335800, 1709337600, 1709339400, 1709341200, 1709343000, 1709344800, 1709346600, 1709350200, 1709352000, 1709353800, 1709355600, 1709357400, 1709359200, 1709361000, 1709362800, 1709364600, 1709370000, 1709371800, 1709373600, 1709375400, 1709377200, 1709379000, 1709380800, 1709382600, 1709384400, 1709386200, 1709388000, 1709389800, 1709391600, 1709393400, 1709398800, 1709400600, 1709402400, 1709404200, 1709406000, 1709407800, 1709409600, 1709411400, 1709413200, 1709415000, 1709416800, 1709418600, 1709420400, 1709422200, 1709424000, 1709425800, 1709427600, 1709429400, 1709431200, 1709433000, 1709434800, 1709436600, 1709438400, 1709440200, 1709458200, 1709499600, 1709512200, 1709578800, 1709580600, 1711555800, 1711557600, 1711580100, 1711581900, 1711617600, 1711618800, 1711621200, 1711622400, 1711639800, 1711657800, 1711689600, 1711700400, 1712073600, 1712084400, 1712086200, 1712089800, 1712098800, 1712106000, 1712109600, 1712129400, 1712172600, 1712178000, 1712179800, 1712190600, 1712192400, 1712194200, 1712498400, 1712500200, 1712505600, 1712507400, 1712516400, 1712518200, 1712538000, 1712566800, 1712601000, 1712602800, 1712611800, 1712617200, 1712692800, 1712696400, 1712698200, 1712703600, 1712714400, 1712856600, 1712860200]\n"
     ]
    }
   ],
   "source": [
    "import json\n",
    "with open(f'../data/{DATASET}/system_change.json', 'r') as f:\n",
    "    drifts = json.load(f)\n",
    "drifts = [drift[0] for drift in drifts][1:]\n",
    "print(drifts)\n",
    "failure_ts = []\n",
    "for _, failure in fault_df.iterrows():\n",
    "    failure_ts.append(failure['timestamp'])\n",
    "print(failure_ts)"
   ]
  },
  {
   "cell_type": "code",
   "execution_count": 3,
   "metadata": {},
   "outputs": [
    {
     "name": "stdout",
     "output_type": "stream",
     "text": [
      "Use scipy logsumexp().\n"
     ]
    }
   ],
   "source": [
    "from bayesian_changepoint_detection.priors import const_prior\n",
    "from functools import partial\n",
    "from bayesian_changepoint_detection.bayesian_models import offline_changepoint_detection\n",
    "import bayesian_changepoint_detection.offline_likelihoods as offline_ll\n",
    "from pathlib import Path\n",
    "\n",
    "pdf_root = Path('../figures/change_metric_figures')\n",
    "pdf_root.mkdir(exist_ok=True)\n",
    "\n",
    "CP_THRESHOLD = 0.7\n",
    "\n",
    "metric_df_icpp = copy.deepcopy(metric_df)\n",
    "metric_index_dict = metric_df_icpp.groupby(['name']).groups\n",
    "# metric_index_before_dict = metric_df_icpp[(metric_df_icpp.timestamp<drift_ts) & ~(metric_df_icpp.timestamp.isin(failure_timestamps))].groupby(['name']).groups\n",
    "metric_index_before_dict = metric_df_icpp[(metric_df_icpp.timestamp<drift_ts)].groupby(['name']).groups\n",
    "metrics_before = set(metric_index_before_dict.keys())"
   ]
  },
  {
   "cell_type": "markdown",
   "metadata": {},
   "source": [
    "## Bayesian Change Point Detection & adaption"
   ]
  },
  {
   "cell_type": "code",
   "execution_count": 4,
   "metadata": {},
   "outputs": [
    {
     "name": "stdout",
     "output_type": "stream",
     "text": [
      "drift_start=1709449200 drift_end=1709488800\n",
      "metrics_before: 4437, metrics_after: 4263, metrics: 4234\n"
     ]
    },
    {
     "name": "stderr",
     "output_type": "stream",
     "text": [
      "drift metrics:   0%|          | 13/4234 [00:15<14:43,  4.78it/s]  "
     ]
    },
    {
     "name": "stdout",
     "output_type": "stream",
     "text": [
      "change_point: 21, offset_in_after: 1\n"
     ]
    },
    {
     "name": "stderr",
     "output_type": "stream",
     "text": [
      "drift metrics:   0%|          | 15/4234 [00:15<12:07,  5.80it/s]"
     ]
    },
    {
     "name": "stdout",
     "output_type": "stream",
     "text": [
      "change_point: 40, offset_in_after: 20\n"
     ]
    },
    {
     "name": "stderr",
     "output_type": "stream",
     "text": [
      "drift metrics:   0%|          | 18/4234 [00:16<11:06,  6.32it/s]"
     ]
    },
    {
     "name": "stdout",
     "output_type": "stream",
     "text": [
      "change_point: 27, offset_in_after: 7\n"
     ]
    },
    {
     "name": "stderr",
     "output_type": "stream",
     "text": [
      "drift metrics:   1%|          | 26/4234 [00:17<10:55,  6.42it/s]"
     ]
    },
    {
     "name": "stdout",
     "output_type": "stream",
     "text": [
      "change_point: 36, offset_in_after: 16\n"
     ]
    },
    {
     "name": "stderr",
     "output_type": "stream",
     "text": [
      "drift metrics:   1%|          | 34/4234 [00:18<10:37,  6.58it/s]"
     ]
    },
    {
     "name": "stdout",
     "output_type": "stream",
     "text": [
      "change_point: 21, offset_in_after: 1\n"
     ]
    },
    {
     "name": "stderr",
     "output_type": "stream",
     "text": [
      "drift metrics:   1%|          | 41/4234 [00:19<10:29,  6.66it/s]"
     ]
    },
    {
     "name": "stdout",
     "output_type": "stream",
     "text": [
      "change_point: 20, offset_in_after: 0\n"
     ]
    },
    {
     "name": "stderr",
     "output_type": "stream",
     "text": [
      "drift metrics:   2%|▏         | 75/4234 [00:24<10:29,  6.61it/s]"
     ]
    },
    {
     "name": "stdout",
     "output_type": "stream",
     "text": [
      "change_point: 20, offset_in_after: 0\n"
     ]
    },
    {
     "name": "stderr",
     "output_type": "stream",
     "text": [
      "drift metrics:   2%|▏         | 86/4234 [00:26<10:39,  6.49it/s]"
     ]
    },
    {
     "name": "stdout",
     "output_type": "stream",
     "text": [
      "change_point: 20, offset_in_after: 0\n"
     ]
    },
    {
     "name": "stderr",
     "output_type": "stream",
     "text": [
      "drift metrics:   2%|▏         | 92/4234 [00:27<10:35,  6.52it/s]"
     ]
    },
    {
     "name": "stdout",
     "output_type": "stream",
     "text": [
      "change_point: 20, offset_in_after: 0\n"
     ]
    },
    {
     "name": "stderr",
     "output_type": "stream",
     "text": [
      "drift metrics:   2%|▏         | 96/4234 [00:27<10:47,  6.39it/s]"
     ]
    },
    {
     "name": "stdout",
     "output_type": "stream",
     "text": [
      "change_point: 21, offset_in_after: 1\n"
     ]
    },
    {
     "name": "stderr",
     "output_type": "stream",
     "text": [
      "drift metrics:   2%|▏         | 99/4234 [00:28<09:55,  6.94it/s]"
     ]
    },
    {
     "name": "stdout",
     "output_type": "stream",
     "text": [
      "change_point: 39, offset_in_after: 19\n"
     ]
    },
    {
     "name": "stderr",
     "output_type": "stream",
     "text": [
      "drift metrics:   2%|▏         | 104/4234 [00:29<09:59,  6.89it/s]"
     ]
    },
    {
     "name": "stdout",
     "output_type": "stream",
     "text": [
      "change_point: 24, offset_in_after: 4\n"
     ]
    },
    {
     "name": "stderr",
     "output_type": "stream",
     "text": [
      "drift metrics:   3%|▎         | 106/4234 [00:29<10:18,  6.68it/s]"
     ]
    },
    {
     "name": "stdout",
     "output_type": "stream",
     "text": [
      "change_point: 21, offset_in_after: 1\n"
     ]
    },
    {
     "name": "stderr",
     "output_type": "stream",
     "text": [
      "drift metrics:   3%|▎         | 108/4234 [00:29<10:29,  6.55it/s]"
     ]
    },
    {
     "name": "stdout",
     "output_type": "stream",
     "text": [
      "change_point: 21, offset_in_after: 1\n"
     ]
    },
    {
     "name": "stderr",
     "output_type": "stream",
     "text": [
      "drift metrics:   3%|▎         | 111/4234 [00:30<10:55,  6.29it/s]"
     ]
    },
    {
     "name": "stdout",
     "output_type": "stream",
     "text": [
      "change_point: 21, offset_in_after: 1\n"
     ]
    },
    {
     "name": "stderr",
     "output_type": "stream",
     "text": [
      "drift metrics:   3%|▎         | 129/4234 [00:32<10:10,  6.72it/s]"
     ]
    },
    {
     "name": "stdout",
     "output_type": "stream",
     "text": [
      "change_point: 33, offset_in_after: 13\n",
      "change_point: 20, offset_in_after: 0\n"
     ]
    },
    {
     "name": "stderr",
     "output_type": "stream",
     "text": [
      "drift metrics:   3%|▎         | 142/4234 [00:34<10:00,  6.81it/s]"
     ]
    },
    {
     "name": "stdout",
     "output_type": "stream",
     "text": [
      "change_point: 21, offset_in_after: 1\n"
     ]
    },
    {
     "name": "stderr",
     "output_type": "stream",
     "text": [
      "drift metrics:   3%|▎         | 147/4234 [00:35<09:43,  7.00it/s]"
     ]
    },
    {
     "name": "stdout",
     "output_type": "stream",
     "text": [
      "change_point: 29, offset_in_after: 9\n"
     ]
    },
    {
     "name": "stderr",
     "output_type": "stream",
     "text": [
      "drift metrics:   5%|▍         | 193/4234 [00:42<11:14,  6.00it/s]"
     ]
    },
    {
     "name": "stdout",
     "output_type": "stream",
     "text": [
      "change_point: 34, offset_in_after: 14\n"
     ]
    },
    {
     "name": "stderr",
     "output_type": "stream",
     "text": [
      "drift metrics:   5%|▍         | 201/4234 [00:43<10:41,  6.28it/s]"
     ]
    },
    {
     "name": "stdout",
     "output_type": "stream",
     "text": [
      "change_point: 21, offset_in_after: 1\n"
     ]
    },
    {
     "name": "stderr",
     "output_type": "stream",
     "text": [
      "drift metrics:   5%|▍         | 204/4234 [00:44<10:39,  6.30it/s]"
     ]
    },
    {
     "name": "stdout",
     "output_type": "stream",
     "text": [
      "change_point: 20, offset_in_after: 0\n"
     ]
    },
    {
     "name": "stderr",
     "output_type": "stream",
     "text": [
      "drift metrics:   6%|▌         | 256/4234 [00:51<10:00,  6.62it/s]"
     ]
    },
    {
     "name": "stdout",
     "output_type": "stream",
     "text": [
      "change_point: 38, offset_in_after: 18\n",
      "change_point: 25, offset_in_after: 5\n"
     ]
    },
    {
     "name": "stderr",
     "output_type": "stream",
     "text": [
      "drift metrics:   7%|▋         | 311/4234 [01:00<09:47,  6.67it/s]"
     ]
    },
    {
     "name": "stdout",
     "output_type": "stream",
     "text": [
      "change_point: 21, offset_in_after: 1\n"
     ]
    },
    {
     "name": "stderr",
     "output_type": "stream",
     "text": [
      "drift metrics:   8%|▊         | 322/4234 [01:01<10:12,  6.39it/s]"
     ]
    },
    {
     "name": "stdout",
     "output_type": "stream",
     "text": [
      "change_point: 20, offset_in_after: 0\n"
     ]
    },
    {
     "name": "stderr",
     "output_type": "stream",
     "text": [
      "drift metrics:   8%|▊         | 352/4234 [01:06<09:24,  6.88it/s]"
     ]
    },
    {
     "name": "stdout",
     "output_type": "stream",
     "text": [
      "change_point: 36, offset_in_after: 16\n"
     ]
    },
    {
     "name": "stderr",
     "output_type": "stream",
     "text": [
      "drift metrics:   8%|▊         | 357/4234 [01:06<09:53,  6.53it/s]"
     ]
    },
    {
     "name": "stdout",
     "output_type": "stream",
     "text": [
      "change_point: 21, offset_in_after: 1\n"
     ]
    },
    {
     "name": "stderr",
     "output_type": "stream",
     "text": [
      "drift metrics:   9%|▊         | 360/4234 [01:07<09:32,  6.77it/s]"
     ]
    },
    {
     "name": "stdout",
     "output_type": "stream",
     "text": [
      "change_point: 21, offset_in_after: 1\n"
     ]
    },
    {
     "name": "stderr",
     "output_type": "stream",
     "text": [
      "drift metrics:  11%|█         | 462/4234 [01:22<09:32,  6.59it/s]"
     ]
    },
    {
     "name": "stdout",
     "output_type": "stream",
     "text": [
      "change_point: 24, offset_in_after: 4\n",
      "change_point: 21, offset_in_after: 1\n"
     ]
    },
    {
     "name": "stderr",
     "output_type": "stream",
     "text": [
      "drift metrics:  13%|█▎        | 536/4234 [01:33<09:25,  6.54it/s]"
     ]
    },
    {
     "name": "stdout",
     "output_type": "stream",
     "text": [
      "change_point: 20, offset_in_after: 0\n"
     ]
    },
    {
     "name": "stderr",
     "output_type": "stream",
     "text": [
      "drift metrics:  14%|█▍        | 606/4234 [01:43<08:12,  7.37it/s]"
     ]
    },
    {
     "name": "stdout",
     "output_type": "stream",
     "text": [
      "change_point: 21, offset_in_after: 1\n"
     ]
    },
    {
     "name": "stderr",
     "output_type": "stream",
     "text": [
      "drift metrics:  15%|█▍        | 614/4234 [01:45<09:01,  6.69it/s]"
     ]
    },
    {
     "name": "stdout",
     "output_type": "stream",
     "text": [
      "change_point: 21, offset_in_after: 1\n"
     ]
    },
    {
     "name": "stderr",
     "output_type": "stream",
     "text": [
      "drift metrics:  15%|█▍        | 625/4234 [01:46<09:03,  6.64it/s]"
     ]
    },
    {
     "name": "stdout",
     "output_type": "stream",
     "text": [
      "change_point: 21, offset_in_after: 1\n"
     ]
    },
    {
     "name": "stderr",
     "output_type": "stream",
     "text": [
      "drift metrics:  16%|█▌        | 661/4234 [01:52<08:15,  7.22it/s]"
     ]
    },
    {
     "name": "stdout",
     "output_type": "stream",
     "text": [
      "change_point: 29, offset_in_after: 9\n"
     ]
    },
    {
     "name": "stderr",
     "output_type": "stream",
     "text": [
      "drift metrics:  16%|█▌        | 669/4234 [01:53<09:02,  6.57it/s]"
     ]
    },
    {
     "name": "stdout",
     "output_type": "stream",
     "text": [
      "change_point: 36, offset_in_after: 16\n"
     ]
    },
    {
     "name": "stderr",
     "output_type": "stream",
     "text": [
      "drift metrics:  16%|█▌        | 673/4234 [01:53<09:04,  6.54it/s]"
     ]
    },
    {
     "name": "stdout",
     "output_type": "stream",
     "text": [
      "change_point: 21, offset_in_after: 1\n"
     ]
    },
    {
     "name": "stderr",
     "output_type": "stream",
     "text": [
      "drift metrics:  16%|█▌        | 684/4234 [01:55<08:59,  6.58it/s]"
     ]
    },
    {
     "name": "stdout",
     "output_type": "stream",
     "text": [
      "change_point: 21, offset_in_after: 1\n"
     ]
    },
    {
     "name": "stderr",
     "output_type": "stream",
     "text": [
      "drift metrics:  16%|█▋        | 690/4234 [01:56<08:57,  6.60it/s]"
     ]
    },
    {
     "name": "stdout",
     "output_type": "stream",
     "text": [
      "change_point: 21, offset_in_after: 1\n"
     ]
    },
    {
     "name": "stderr",
     "output_type": "stream",
     "text": [
      "drift metrics:  17%|█▋        | 705/4234 [01:58<09:00,  6.53it/s]"
     ]
    },
    {
     "name": "stdout",
     "output_type": "stream",
     "text": [
      "change_point: 38, offset_in_after: 18\n"
     ]
    },
    {
     "name": "stderr",
     "output_type": "stream",
     "text": [
      "drift metrics:  17%|█▋        | 720/4234 [02:01<09:05,  6.44it/s]"
     ]
    },
    {
     "name": "stdout",
     "output_type": "stream",
     "text": [
      "change_point: 21, offset_in_after: 1\n"
     ]
    },
    {
     "name": "stderr",
     "output_type": "stream",
     "text": [
      "drift metrics:  17%|█▋        | 735/4234 [02:03<08:52,  6.57it/s]"
     ]
    },
    {
     "name": "stdout",
     "output_type": "stream",
     "text": [
      "change_point: 20, offset_in_after: 0\n"
     ]
    },
    {
     "name": "stderr",
     "output_type": "stream",
     "text": [
      "drift metrics:  18%|█▊        | 755/4234 [02:06<08:26,  6.87it/s]"
     ]
    },
    {
     "name": "stdout",
     "output_type": "stream",
     "text": [
      "change_point: 21, offset_in_after: 1\n"
     ]
    },
    {
     "name": "stderr",
     "output_type": "stream",
     "text": [
      "drift metrics:  19%|█▊        | 789/4234 [02:10<08:07,  7.06it/s]"
     ]
    },
    {
     "name": "stdout",
     "output_type": "stream",
     "text": [
      "change_point: 28, offset_in_after: 8\n"
     ]
    },
    {
     "name": "stderr",
     "output_type": "stream",
     "text": [
      "drift metrics:  19%|█▉        | 795/4234 [02:11<08:10,  7.01it/s]"
     ]
    },
    {
     "name": "stdout",
     "output_type": "stream",
     "text": [
      "change_point: 32, offset_in_after: 12\n"
     ]
    },
    {
     "name": "stderr",
     "output_type": "stream",
     "text": [
      "drift metrics:  19%|█▉        | 798/4234 [02:12<08:31,  6.71it/s]"
     ]
    },
    {
     "name": "stdout",
     "output_type": "stream",
     "text": [
      "change_point: 21, offset_in_after: 1\n"
     ]
    },
    {
     "name": "stderr",
     "output_type": "stream",
     "text": [
      "drift metrics:  19%|█▉        | 805/4234 [02:13<08:07,  7.04it/s]"
     ]
    },
    {
     "name": "stdout",
     "output_type": "stream",
     "text": [
      "change_point: 39, offset_in_after: 19\n"
     ]
    },
    {
     "name": "stderr",
     "output_type": "stream",
     "text": [
      "drift metrics:  20%|██        | 848/4234 [02:20<08:32,  6.61it/s]"
     ]
    },
    {
     "name": "stdout",
     "output_type": "stream",
     "text": [
      "change_point: 31, offset_in_after: 11\n",
      "change_point: 25, offset_in_after: 5\n"
     ]
    },
    {
     "name": "stderr",
     "output_type": "stream",
     "text": [
      "drift metrics:  21%|██        | 875/4234 [02:23<08:33,  6.54it/s]"
     ]
    },
    {
     "name": "stdout",
     "output_type": "stream",
     "text": [
      "change_point: 20, offset_in_after: 0\n"
     ]
    },
    {
     "name": "stderr",
     "output_type": "stream",
     "text": [
      "drift metrics:  21%|██        | 881/4234 [02:24<08:39,  6.45it/s]"
     ]
    },
    {
     "name": "stdout",
     "output_type": "stream",
     "text": [
      "change_point: 20, offset_in_after: 0\n"
     ]
    },
    {
     "name": "stderr",
     "output_type": "stream",
     "text": [
      "drift metrics:  21%|██        | 895/4234 [02:26<08:17,  6.72it/s]"
     ]
    },
    {
     "name": "stdout",
     "output_type": "stream",
     "text": [
      "change_point: 21, offset_in_after: 1\n",
      "change_point: 39, offset_in_after: 19\n"
     ]
    },
    {
     "name": "stderr",
     "output_type": "stream",
     "text": [
      "drift metrics:  21%|██▏       | 910/4234 [02:29<07:58,  6.94it/s]"
     ]
    },
    {
     "name": "stdout",
     "output_type": "stream",
     "text": [
      "change_point: 20, offset_in_after: 0\n"
     ]
    },
    {
     "name": "stderr",
     "output_type": "stream",
     "text": [
      "drift metrics:  22%|██▏       | 941/4234 [02:33<08:34,  6.40it/s]"
     ]
    },
    {
     "name": "stdout",
     "output_type": "stream",
     "text": [
      "change_point: 37, offset_in_after: 17\n"
     ]
    },
    {
     "name": "stderr",
     "output_type": "stream",
     "text": [
      "drift metrics:  22%|██▏       | 944/4234 [02:34<08:34,  6.40it/s]"
     ]
    },
    {
     "name": "stdout",
     "output_type": "stream",
     "text": [
      "change_point: 39, offset_in_after: 19\n"
     ]
    },
    {
     "name": "stderr",
     "output_type": "stream",
     "text": [
      "drift metrics:  23%|██▎       | 960/4234 [02:36<07:55,  6.89it/s]"
     ]
    },
    {
     "name": "stdout",
     "output_type": "stream",
     "text": [
      "change_point: 21, offset_in_after: 1\n"
     ]
    },
    {
     "name": "stderr",
     "output_type": "stream",
     "text": [
      "drift metrics:  23%|██▎       | 987/4234 [02:40<08:17,  6.53it/s]"
     ]
    },
    {
     "name": "stdout",
     "output_type": "stream",
     "text": [
      "change_point: 21, offset_in_after: 1\n"
     ]
    },
    {
     "name": "stderr",
     "output_type": "stream",
     "text": [
      "drift metrics:  24%|██▍       | 1027/4234 [02:46<08:08,  6.56it/s]"
     ]
    },
    {
     "name": "stdout",
     "output_type": "stream",
     "text": [
      "change_point: 20, offset_in_after: 0\n"
     ]
    },
    {
     "name": "stderr",
     "output_type": "stream",
     "text": [
      "drift metrics:  24%|██▍       | 1029/4234 [02:46<08:14,  6.49it/s]"
     ]
    },
    {
     "name": "stdout",
     "output_type": "stream",
     "text": [
      "change_point: 36, offset_in_after: 16\n"
     ]
    },
    {
     "name": "stderr",
     "output_type": "stream",
     "text": [
      "drift metrics:  25%|██▍       | 1045/4234 [02:48<07:59,  6.65it/s]"
     ]
    },
    {
     "name": "stdout",
     "output_type": "stream",
     "text": [
      "change_point: 21, offset_in_after: 1\n"
     ]
    },
    {
     "name": "stderr",
     "output_type": "stream",
     "text": [
      "drift metrics:  25%|██▌       | 1068/4234 [02:52<07:47,  6.78it/s]"
     ]
    },
    {
     "name": "stdout",
     "output_type": "stream",
     "text": [
      "change_point: 21, offset_in_after: 1\n"
     ]
    },
    {
     "name": "stderr",
     "output_type": "stream",
     "text": [
      "drift metrics:  26%|██▌       | 1089/4234 [02:55<07:50,  6.68it/s]"
     ]
    },
    {
     "name": "stdout",
     "output_type": "stream",
     "text": [
      "change_point: 28, offset_in_after: 8\n"
     ]
    },
    {
     "name": "stderr",
     "output_type": "stream",
     "text": [
      "drift metrics:  26%|██▌       | 1092/4234 [02:55<08:01,  6.52it/s]"
     ]
    },
    {
     "name": "stdout",
     "output_type": "stream",
     "text": [
      "change_point: 34, offset_in_after: 14\n",
      "change_point: 24, offset_in_after: 4\n"
     ]
    },
    {
     "name": "stderr",
     "output_type": "stream",
     "text": [
      "drift metrics:  26%|██▌       | 1094/4234 [02:56<07:57,  6.58it/s]"
     ]
    },
    {
     "name": "stdout",
     "output_type": "stream",
     "text": [
      "change_point: 20, offset_in_after: 0\n"
     ]
    },
    {
     "name": "stderr",
     "output_type": "stream",
     "text": [
      "drift metrics:  26%|██▌       | 1097/4234 [02:56<07:37,  6.85it/s]"
     ]
    },
    {
     "name": "stdout",
     "output_type": "stream",
     "text": [
      "change_point: 21, offset_in_after: 1\n"
     ]
    },
    {
     "name": "stderr",
     "output_type": "stream",
     "text": [
      "drift metrics:  26%|██▌       | 1111/4234 [02:58<07:42,  6.76it/s]"
     ]
    },
    {
     "name": "stdout",
     "output_type": "stream",
     "text": [
      "change_point: 21, offset_in_after: 1\n"
     ]
    },
    {
     "name": "stderr",
     "output_type": "stream",
     "text": [
      "drift metrics:  27%|██▋       | 1139/4234 [03:02<07:51,  6.56it/s]"
     ]
    },
    {
     "name": "stdout",
     "output_type": "stream",
     "text": [
      "change_point: 20, offset_in_after: 0\n"
     ]
    },
    {
     "name": "stderr",
     "output_type": "stream",
     "text": [
      "drift metrics:  27%|██▋       | 1156/4234 [03:05<08:10,  6.27it/s]"
     ]
    },
    {
     "name": "stdout",
     "output_type": "stream",
     "text": [
      "change_point: 21, offset_in_after: 1\n"
     ]
    },
    {
     "name": "stderr",
     "output_type": "stream",
     "text": [
      "drift metrics:  27%|██▋       | 1159/4234 [03:05<07:54,  6.48it/s]"
     ]
    },
    {
     "name": "stdout",
     "output_type": "stream",
     "text": [
      "change_point: 21, offset_in_after: 1\n",
      "change_point: 31, offset_in_after: 11\n"
     ]
    },
    {
     "name": "stderr",
     "output_type": "stream",
     "text": [
      "drift metrics:  28%|██▊       | 1189/4234 [03:10<07:19,  6.93it/s]"
     ]
    },
    {
     "name": "stdout",
     "output_type": "stream",
     "text": [
      "change_point: 21, offset_in_after: 1\n"
     ]
    },
    {
     "name": "stderr",
     "output_type": "stream",
     "text": [
      "drift metrics:  28%|██▊       | 1201/4234 [03:12<07:41,  6.58it/s]"
     ]
    },
    {
     "name": "stdout",
     "output_type": "stream",
     "text": [
      "change_point: 21, offset_in_after: 1\n"
     ]
    },
    {
     "name": "stderr",
     "output_type": "stream",
     "text": [
      "drift metrics:  29%|██▊       | 1208/4234 [03:13<07:44,  6.51it/s]"
     ]
    },
    {
     "name": "stdout",
     "output_type": "stream",
     "text": [
      "change_point: 33, offset_in_after: 13\n"
     ]
    },
    {
     "name": "stderr",
     "output_type": "stream",
     "text": [
      "drift metrics:  29%|██▉       | 1218/4234 [03:14<07:05,  7.08it/s]"
     ]
    },
    {
     "name": "stdout",
     "output_type": "stream",
     "text": [
      "change_point: 38, offset_in_after: 18\n"
     ]
    },
    {
     "name": "stderr",
     "output_type": "stream",
     "text": [
      "drift metrics:  29%|██▉       | 1244/4234 [03:18<07:02,  7.08it/s]"
     ]
    },
    {
     "name": "stdout",
     "output_type": "stream",
     "text": [
      "change_point: 28, offset_in_after: 8\n"
     ]
    },
    {
     "name": "stderr",
     "output_type": "stream",
     "text": [
      "drift metrics:  30%|██▉       | 1252/4234 [03:19<07:35,  6.55it/s]"
     ]
    },
    {
     "name": "stdout",
     "output_type": "stream",
     "text": [
      "change_point: 20, offset_in_after: 0\n"
     ]
    },
    {
     "name": "stderr",
     "output_type": "stream",
     "text": [
      "drift metrics:  30%|██▉       | 1255/4234 [03:20<07:01,  7.07it/s]"
     ]
    },
    {
     "name": "stdout",
     "output_type": "stream",
     "text": [
      "change_point: 27, offset_in_after: 7\n"
     ]
    },
    {
     "name": "stderr",
     "output_type": "stream",
     "text": [
      "drift metrics:  30%|██▉       | 1261/4234 [03:21<07:29,  6.61it/s]"
     ]
    },
    {
     "name": "stdout",
     "output_type": "stream",
     "text": [
      "change_point: 23, offset_in_after: 3\n",
      "change_point: 21, offset_in_after: 1\n"
     ]
    },
    {
     "name": "stderr",
     "output_type": "stream",
     "text": [
      "drift metrics:  30%|███       | 1282/4234 [03:24<07:24,  6.65it/s]"
     ]
    },
    {
     "name": "stdout",
     "output_type": "stream",
     "text": [
      "change_point: 21, offset_in_after: 1\n"
     ]
    },
    {
     "name": "stderr",
     "output_type": "stream",
     "text": [
      "drift metrics:  32%|███▏      | 1340/4234 [03:33<07:23,  6.52it/s]"
     ]
    },
    {
     "name": "stdout",
     "output_type": "stream",
     "text": [
      "change_point: 21, offset_in_after: 1\n",
      "change_point: 20, offset_in_after: 0\n"
     ]
    },
    {
     "name": "stderr",
     "output_type": "stream",
     "text": [
      "drift metrics:  32%|███▏      | 1344/4234 [03:33<07:26,  6.48it/s]"
     ]
    },
    {
     "name": "stdout",
     "output_type": "stream",
     "text": [
      "change_point: 38, offset_in_after: 18\n",
      "change_point: 20, offset_in_after: 0\n"
     ]
    },
    {
     "name": "stderr",
     "output_type": "stream",
     "text": [
      "drift metrics:  33%|███▎      | 1379/4234 [03:39<07:07,  6.68it/s]"
     ]
    },
    {
     "name": "stdout",
     "output_type": "stream",
     "text": [
      "change_point: 21, offset_in_after: 1\n"
     ]
    },
    {
     "name": "stderr",
     "output_type": "stream",
     "text": [
      "drift metrics:  34%|███▍      | 1433/4234 [03:47<06:48,  6.85it/s]"
     ]
    },
    {
     "name": "stdout",
     "output_type": "stream",
     "text": [
      "change_point: 21, offset_in_after: 1\n"
     ]
    },
    {
     "name": "stderr",
     "output_type": "stream",
     "text": [
      "drift metrics:  34%|███▍      | 1452/4234 [03:50<07:00,  6.61it/s]"
     ]
    },
    {
     "name": "stdout",
     "output_type": "stream",
     "text": [
      "change_point: 30, offset_in_after: 10\n"
     ]
    },
    {
     "name": "stderr",
     "output_type": "stream",
     "text": [
      "drift metrics:  35%|███▍      | 1469/4234 [03:52<07:00,  6.57it/s]"
     ]
    },
    {
     "name": "stdout",
     "output_type": "stream",
     "text": [
      "change_point: 28, offset_in_after: 8\n"
     ]
    },
    {
     "name": "stderr",
     "output_type": "stream",
     "text": [
      "drift metrics:  35%|███▍      | 1479/4234 [03:54<07:01,  6.54it/s]"
     ]
    },
    {
     "name": "stdout",
     "output_type": "stream",
     "text": [
      "change_point: 35, offset_in_after: 15\n"
     ]
    },
    {
     "name": "stderr",
     "output_type": "stream",
     "text": [
      "drift metrics:  35%|███▌      | 1487/4234 [03:55<06:55,  6.61it/s]"
     ]
    },
    {
     "name": "stdout",
     "output_type": "stream",
     "text": [
      "change_point: 29, offset_in_after: 9\n"
     ]
    },
    {
     "name": "stderr",
     "output_type": "stream",
     "text": [
      "drift metrics:  36%|███▌      | 1524/4234 [04:01<07:00,  6.44it/s]"
     ]
    },
    {
     "name": "stdout",
     "output_type": "stream",
     "text": [
      "change_point: 20, offset_in_after: 0\n"
     ]
    },
    {
     "name": "stderr",
     "output_type": "stream",
     "text": [
      "drift metrics:  36%|███▋      | 1540/4234 [04:03<06:54,  6.50it/s]"
     ]
    },
    {
     "name": "stdout",
     "output_type": "stream",
     "text": [
      "change_point: 21, offset_in_after: 1\n"
     ]
    },
    {
     "name": "stderr",
     "output_type": "stream",
     "text": [
      "drift metrics:  37%|███▋      | 1549/4234 [04:04<06:38,  6.74it/s]"
     ]
    },
    {
     "name": "stdout",
     "output_type": "stream",
     "text": [
      "change_point: 36, offset_in_after: 16\n"
     ]
    },
    {
     "name": "stderr",
     "output_type": "stream",
     "text": [
      "drift metrics:  37%|███▋      | 1551/4234 [04:05<06:43,  6.65it/s]"
     ]
    },
    {
     "name": "stdout",
     "output_type": "stream",
     "text": [
      "change_point: 30, offset_in_after: 10\n"
     ]
    },
    {
     "name": "stderr",
     "output_type": "stream",
     "text": [
      "drift metrics:  37%|███▋      | 1563/4234 [04:06<06:32,  6.81it/s]"
     ]
    },
    {
     "name": "stdout",
     "output_type": "stream",
     "text": [
      "change_point: 20, offset_in_after: 0\n"
     ]
    },
    {
     "name": "stderr",
     "output_type": "stream",
     "text": [
      "drift metrics:  37%|███▋      | 1570/4234 [04:07<06:49,  6.51it/s]"
     ]
    },
    {
     "name": "stdout",
     "output_type": "stream",
     "text": [
      "change_point: 27, offset_in_after: 7\n",
      "change_point: 28, offset_in_after: 8\n"
     ]
    },
    {
     "name": "stderr",
     "output_type": "stream",
     "text": [
      "drift metrics:  38%|███▊      | 1590/4234 [04:11<06:42,  6.56it/s]"
     ]
    },
    {
     "name": "stdout",
     "output_type": "stream",
     "text": [
      "change_point: 21, offset_in_after: 1\n"
     ]
    },
    {
     "name": "stderr",
     "output_type": "stream",
     "text": [
      "drift metrics:  38%|███▊      | 1599/4234 [04:12<06:37,  6.64it/s]"
     ]
    },
    {
     "name": "stdout",
     "output_type": "stream",
     "text": [
      "change_point: 21, offset_in_after: 1\n"
     ]
    },
    {
     "name": "stderr",
     "output_type": "stream",
     "text": [
      "drift metrics:  38%|███▊      | 1627/4234 [04:16<06:18,  6.89it/s]"
     ]
    },
    {
     "name": "stdout",
     "output_type": "stream",
     "text": [
      "change_point: 21, offset_in_after: 1\n"
     ]
    },
    {
     "name": "stderr",
     "output_type": "stream",
     "text": [
      "drift metrics:  39%|███▉      | 1654/4234 [04:20<06:38,  6.47it/s]"
     ]
    },
    {
     "name": "stdout",
     "output_type": "stream",
     "text": [
      "change_point: 24, offset_in_after: 4\n",
      "change_point: 21, offset_in_after: 1\n"
     ]
    },
    {
     "name": "stderr",
     "output_type": "stream",
     "text": [
      "drift metrics:  39%|███▉      | 1659/4234 [04:21<06:36,  6.49it/s]"
     ]
    },
    {
     "name": "stdout",
     "output_type": "stream",
     "text": [
      "change_point: 30, offset_in_after: 10\n"
     ]
    },
    {
     "name": "stderr",
     "output_type": "stream",
     "text": [
      "drift metrics:  39%|███▉      | 1668/4234 [04:22<06:18,  6.78it/s]"
     ]
    },
    {
     "name": "stdout",
     "output_type": "stream",
     "text": [
      "change_point: 28, offset_in_after: 8\n",
      "change_point: 23, offset_in_after: 3\n"
     ]
    },
    {
     "name": "stderr",
     "output_type": "stream",
     "text": [
      "drift metrics:  39%|███▉      | 1672/4234 [04:23<06:32,  6.53it/s]"
     ]
    },
    {
     "name": "stdout",
     "output_type": "stream",
     "text": [
      "change_point: 38, offset_in_after: 18\n"
     ]
    },
    {
     "name": "stderr",
     "output_type": "stream",
     "text": [
      "drift metrics:  40%|████      | 1707/4234 [04:28<06:29,  6.48it/s]"
     ]
    },
    {
     "name": "stdout",
     "output_type": "stream",
     "text": [
      "change_point: 21, offset_in_after: 1\n"
     ]
    },
    {
     "name": "stderr",
     "output_type": "stream",
     "text": [
      "drift metrics:  41%|████      | 1734/4234 [04:32<06:11,  6.73it/s]"
     ]
    },
    {
     "name": "stdout",
     "output_type": "stream",
     "text": [
      "change_point: 21, offset_in_after: 1\n"
     ]
    },
    {
     "name": "stderr",
     "output_type": "stream",
     "text": [
      "drift metrics:  41%|████      | 1737/4234 [04:32<06:22,  6.53it/s]"
     ]
    },
    {
     "name": "stdout",
     "output_type": "stream",
     "text": [
      "change_point: 21, offset_in_after: 1\n"
     ]
    },
    {
     "name": "stderr",
     "output_type": "stream",
     "text": [
      "drift metrics:  42%|████▏     | 1761/4234 [04:36<06:09,  6.68it/s]"
     ]
    },
    {
     "name": "stdout",
     "output_type": "stream",
     "text": [
      "change_point: 26, offset_in_after: 6\n"
     ]
    },
    {
     "name": "stderr",
     "output_type": "stream",
     "text": [
      "drift metrics:  42%|████▏     | 1765/4234 [04:36<06:00,  6.84it/s]"
     ]
    },
    {
     "name": "stdout",
     "output_type": "stream",
     "text": [
      "change_point: 21, offset_in_after: 1\n"
     ]
    },
    {
     "name": "stderr",
     "output_type": "stream",
     "text": [
      "drift metrics:  42%|████▏     | 1789/4234 [04:40<05:49,  7.00it/s]"
     ]
    },
    {
     "name": "stdout",
     "output_type": "stream",
     "text": [
      "change_point: 22, offset_in_after: 2\n"
     ]
    },
    {
     "name": "stderr",
     "output_type": "stream",
     "text": [
      "drift metrics:  42%|████▏     | 1797/4234 [04:41<06:14,  6.51it/s]"
     ]
    },
    {
     "name": "stdout",
     "output_type": "stream",
     "text": [
      "change_point: 20, offset_in_after: 0\n",
      "change_point: 22, offset_in_after: 2\n"
     ]
    },
    {
     "name": "stderr",
     "output_type": "stream",
     "text": [
      "drift metrics:  43%|████▎     | 1833/4234 [04:46<05:50,  6.85it/s]"
     ]
    },
    {
     "name": "stdout",
     "output_type": "stream",
     "text": [
      "change_point: 21, offset_in_after: 1\n"
     ]
    },
    {
     "name": "stderr",
     "output_type": "stream",
     "text": [
      "drift metrics:  44%|████▎     | 1843/4234 [04:48<05:56,  6.71it/s]"
     ]
    },
    {
     "name": "stdout",
     "output_type": "stream",
     "text": [
      "change_point: 21, offset_in_after: 1\n"
     ]
    },
    {
     "name": "stderr",
     "output_type": "stream",
     "text": [
      "drift metrics:  44%|████▍     | 1873/4234 [04:53<06:07,  6.43it/s]"
     ]
    },
    {
     "name": "stdout",
     "output_type": "stream",
     "text": [
      "change_point: 30, offset_in_after: 10\n"
     ]
    },
    {
     "name": "stderr",
     "output_type": "stream",
     "text": [
      "drift metrics:  44%|████▍     | 1878/4234 [04:54<06:07,  6.42it/s]"
     ]
    },
    {
     "name": "stdout",
     "output_type": "stream",
     "text": [
      "change_point: 21, offset_in_after: 1\n"
     ]
    },
    {
     "name": "stderr",
     "output_type": "stream",
     "text": [
      "drift metrics:  45%|████▍     | 1890/4234 [04:55<05:54,  6.62it/s]"
     ]
    },
    {
     "name": "stdout",
     "output_type": "stream",
     "text": [
      "change_point: 21, offset_in_after: 1\n",
      "change_point: 21, offset_in_after: 1\n"
     ]
    },
    {
     "name": "stderr",
     "output_type": "stream",
     "text": [
      "drift metrics:  45%|████▌     | 1920/4234 [05:00<05:54,  6.53it/s]"
     ]
    },
    {
     "name": "stdout",
     "output_type": "stream",
     "text": [
      "change_point: 23, offset_in_after: 3\n"
     ]
    },
    {
     "name": "stderr",
     "output_type": "stream",
     "text": [
      "drift metrics:  45%|████▌     | 1922/4234 [05:00<05:57,  6.47it/s]"
     ]
    },
    {
     "name": "stdout",
     "output_type": "stream",
     "text": [
      "change_point: 20, offset_in_after: 0\n"
     ]
    },
    {
     "name": "stderr",
     "output_type": "stream",
     "text": [
      "drift metrics:  45%|████▌     | 1926/4234 [05:01<05:52,  6.54it/s]"
     ]
    },
    {
     "name": "stdout",
     "output_type": "stream",
     "text": [
      "change_point: 37, offset_in_after: 17\n",
      "change_point: 24, offset_in_after: 4\n"
     ]
    },
    {
     "name": "stderr",
     "output_type": "stream",
     "text": [
      "drift metrics:  46%|████▌     | 1932/4234 [05:02<05:50,  6.57it/s]"
     ]
    },
    {
     "name": "stdout",
     "output_type": "stream",
     "text": [
      "change_point: 27, offset_in_after: 7\n"
     ]
    },
    {
     "name": "stderr",
     "output_type": "stream",
     "text": [
      "drift metrics:  48%|████▊     | 2041/4234 [05:18<05:35,  6.54it/s]"
     ]
    },
    {
     "name": "stdout",
     "output_type": "stream",
     "text": [
      "change_point: 20, offset_in_after: 0\n"
     ]
    },
    {
     "name": "stderr",
     "output_type": "stream",
     "text": [
      "drift metrics:  48%|████▊     | 2047/4234 [05:18<05:35,  6.52it/s]"
     ]
    },
    {
     "name": "stdout",
     "output_type": "stream",
     "text": [
      "change_point: 21, offset_in_after: 1\n"
     ]
    },
    {
     "name": "stderr",
     "output_type": "stream",
     "text": [
      "drift metrics:  49%|████▉     | 2075/4234 [05:23<05:31,  6.52it/s]"
     ]
    },
    {
     "name": "stdout",
     "output_type": "stream",
     "text": [
      "change_point: 21, offset_in_after: 1\n"
     ]
    },
    {
     "name": "stderr",
     "output_type": "stream",
     "text": [
      "drift metrics:  49%|████▉     | 2095/4234 [05:26<05:24,  6.60it/s]"
     ]
    },
    {
     "name": "stdout",
     "output_type": "stream",
     "text": [
      "change_point: 21, offset_in_after: 1\n"
     ]
    },
    {
     "name": "stderr",
     "output_type": "stream",
     "text": [
      "drift metrics:  50%|████▉     | 2107/4234 [05:27<05:27,  6.49it/s]"
     ]
    },
    {
     "name": "stdout",
     "output_type": "stream",
     "text": [
      "change_point: 20, offset_in_after: 0\n"
     ]
    },
    {
     "name": "stderr",
     "output_type": "stream",
     "text": [
      "drift metrics:  50%|████▉     | 2110/4234 [05:28<05:13,  6.77it/s]"
     ]
    },
    {
     "name": "stdout",
     "output_type": "stream",
     "text": [
      "change_point: 21, offset_in_after: 1\n"
     ]
    },
    {
     "name": "stderr",
     "output_type": "stream",
     "text": [
      "drift metrics:  50%|█████     | 2127/4234 [05:31<05:15,  6.69it/s]"
     ]
    },
    {
     "name": "stdout",
     "output_type": "stream",
     "text": [
      "change_point: 20, offset_in_after: 0\n",
      "change_point: 20, offset_in_after: 0\n"
     ]
    },
    {
     "name": "stderr",
     "output_type": "stream",
     "text": [
      "drift metrics:  51%|█████     | 2167/4234 [05:36<04:55,  6.99it/s]"
     ]
    },
    {
     "name": "stdout",
     "output_type": "stream",
     "text": [
      "change_point: 21, offset_in_after: 1\n"
     ]
    },
    {
     "name": "stderr",
     "output_type": "stream",
     "text": [
      "drift metrics:  51%|█████▏    | 2180/4234 [05:38<05:14,  6.53it/s]"
     ]
    },
    {
     "name": "stdout",
     "output_type": "stream",
     "text": [
      "change_point: 21, offset_in_after: 1\n"
     ]
    },
    {
     "name": "stderr",
     "output_type": "stream",
     "text": [
      "drift metrics:  52%|█████▏    | 2188/4234 [05:39<05:13,  6.52it/s]"
     ]
    },
    {
     "name": "stdout",
     "output_type": "stream",
     "text": [
      "change_point: 21, offset_in_after: 1\n",
      "change_point: 21, offset_in_after: 1\n"
     ]
    },
    {
     "name": "stderr",
     "output_type": "stream",
     "text": [
      "drift metrics:  52%|█████▏    | 2194/4234 [05:40<05:23,  6.31it/s]"
     ]
    },
    {
     "name": "stdout",
     "output_type": "stream",
     "text": [
      "change_point: 21, offset_in_after: 1\n"
     ]
    },
    {
     "name": "stderr",
     "output_type": "stream",
     "text": [
      "drift metrics:  52%|█████▏    | 2203/4234 [05:42<05:42,  5.93it/s]"
     ]
    },
    {
     "name": "stdout",
     "output_type": "stream",
     "text": [
      "change_point: 21, offset_in_after: 1\n"
     ]
    },
    {
     "name": "stderr",
     "output_type": "stream",
     "text": [
      "drift metrics:  52%|█████▏    | 2215/4234 [05:44<05:19,  6.32it/s]"
     ]
    },
    {
     "name": "stdout",
     "output_type": "stream",
     "text": [
      "change_point: 21, offset_in_after: 1\n"
     ]
    },
    {
     "name": "stderr",
     "output_type": "stream",
     "text": [
      "drift metrics:  53%|█████▎    | 2228/4234 [05:46<05:00,  6.67it/s]"
     ]
    },
    {
     "name": "stdout",
     "output_type": "stream",
     "text": [
      "change_point: 21, offset_in_after: 1\n",
      "change_point: 27, offset_in_after: 7\n"
     ]
    },
    {
     "name": "stderr",
     "output_type": "stream",
     "text": [
      "drift metrics:  53%|█████▎    | 2234/4234 [05:47<05:06,  6.52it/s]"
     ]
    },
    {
     "name": "stdout",
     "output_type": "stream",
     "text": [
      "change_point: 21, offset_in_after: 1\n"
     ]
    },
    {
     "name": "stderr",
     "output_type": "stream",
     "text": [
      "drift metrics:  53%|█████▎    | 2238/4234 [05:47<05:08,  6.47it/s]"
     ]
    },
    {
     "name": "stdout",
     "output_type": "stream",
     "text": [
      "change_point: 21, offset_in_after: 1\n"
     ]
    },
    {
     "name": "stderr",
     "output_type": "stream",
     "text": [
      "drift metrics:  53%|█████▎    | 2246/4234 [05:49<05:09,  6.43it/s]"
     ]
    },
    {
     "name": "stdout",
     "output_type": "stream",
     "text": [
      "change_point: 21, offset_in_after: 1\n",
      "change_point: 25, offset_in_after: 5\n"
     ]
    },
    {
     "name": "stderr",
     "output_type": "stream",
     "text": [
      "drift metrics:  53%|█████▎    | 2253/4234 [05:50<05:09,  6.39it/s]"
     ]
    },
    {
     "name": "stdout",
     "output_type": "stream",
     "text": [
      "change_point: 20, offset_in_after: 0\n"
     ]
    },
    {
     "name": "stderr",
     "output_type": "stream",
     "text": [
      "drift metrics:  53%|█████▎    | 2259/4234 [05:51<05:04,  6.50it/s]"
     ]
    },
    {
     "name": "stdout",
     "output_type": "stream",
     "text": [
      "change_point: 21, offset_in_after: 1\n"
     ]
    },
    {
     "name": "stderr",
     "output_type": "stream",
     "text": [
      "drift metrics:  54%|█████▍    | 2277/4234 [05:53<04:59,  6.52it/s]"
     ]
    },
    {
     "name": "stdout",
     "output_type": "stream",
     "text": [
      "change_point: 21, offset_in_after: 1\n"
     ]
    },
    {
     "name": "stderr",
     "output_type": "stream",
     "text": [
      "drift metrics:  54%|█████▍    | 2279/4234 [05:54<04:59,  6.53it/s]"
     ]
    },
    {
     "name": "stdout",
     "output_type": "stream",
     "text": [
      "change_point: 21, offset_in_after: 1\n"
     ]
    },
    {
     "name": "stderr",
     "output_type": "stream",
     "text": [
      "drift metrics:  54%|█████▍    | 2286/4234 [05:55<04:57,  6.55it/s]"
     ]
    },
    {
     "name": "stdout",
     "output_type": "stream",
     "text": [
      "change_point: 37, offset_in_after: 17\n"
     ]
    },
    {
     "name": "stderr",
     "output_type": "stream",
     "text": [
      "drift metrics:  55%|█████▍    | 2308/4234 [05:58<04:54,  6.54it/s]"
     ]
    },
    {
     "name": "stdout",
     "output_type": "stream",
     "text": [
      "change_point: 28, offset_in_after: 8\n"
     ]
    },
    {
     "name": "stderr",
     "output_type": "stream",
     "text": [
      "drift metrics:  55%|█████▍    | 2318/4234 [05:59<04:39,  6.85it/s]"
     ]
    },
    {
     "name": "stdout",
     "output_type": "stream",
     "text": [
      "change_point: 31, offset_in_after: 11\n"
     ]
    },
    {
     "name": "stderr",
     "output_type": "stream",
     "text": [
      "drift metrics:  56%|█████▌    | 2354/4234 [06:05<04:39,  6.73it/s]"
     ]
    },
    {
     "name": "stdout",
     "output_type": "stream",
     "text": [
      "change_point: 21, offset_in_after: 1\n",
      "change_point: 33, offset_in_after: 13\n"
     ]
    },
    {
     "name": "stderr",
     "output_type": "stream",
     "text": [
      "drift metrics:  57%|█████▋    | 2403/4234 [06:12<04:26,  6.86it/s]"
     ]
    },
    {
     "name": "stdout",
     "output_type": "stream",
     "text": [
      "change_point: 21, offset_in_after: 1\n"
     ]
    },
    {
     "name": "stderr",
     "output_type": "stream",
     "text": [
      "drift metrics:  57%|█████▋    | 2433/4234 [06:16<04:33,  6.58it/s]"
     ]
    },
    {
     "name": "stdout",
     "output_type": "stream",
     "text": [
      "change_point: 38, offset_in_after: 18\n"
     ]
    },
    {
     "name": "stderr",
     "output_type": "stream",
     "text": [
      "drift metrics:  58%|█████▊    | 2472/4234 [06:22<04:08,  7.08it/s]"
     ]
    },
    {
     "name": "stdout",
     "output_type": "stream",
     "text": [
      "change_point: 21, offset_in_after: 1\n"
     ]
    },
    {
     "name": "stderr",
     "output_type": "stream",
     "text": [
      "drift metrics:  60%|██████    | 2547/4234 [06:33<04:42,  5.97it/s]"
     ]
    },
    {
     "name": "stdout",
     "output_type": "stream",
     "text": [
      "change_point: 25, offset_in_after: 5\n"
     ]
    },
    {
     "name": "stderr",
     "output_type": "stream",
     "text": [
      "drift metrics:  60%|██████    | 2561/4234 [06:35<04:10,  6.67it/s]"
     ]
    },
    {
     "name": "stdout",
     "output_type": "stream",
     "text": [
      "change_point: 21, offset_in_after: 1\n"
     ]
    },
    {
     "name": "stderr",
     "output_type": "stream",
     "text": [
      "drift metrics:  61%|██████    | 2566/4234 [06:36<04:18,  6.46it/s]"
     ]
    },
    {
     "name": "stdout",
     "output_type": "stream",
     "text": [
      "change_point: 21, offset_in_after: 1\n"
     ]
    },
    {
     "name": "stderr",
     "output_type": "stream",
     "text": [
      "drift metrics:  61%|██████    | 2592/4234 [06:40<04:16,  6.41it/s]"
     ]
    },
    {
     "name": "stdout",
     "output_type": "stream",
     "text": [
      "change_point: 20, offset_in_after: 0\n"
     ]
    },
    {
     "name": "stderr",
     "output_type": "stream",
     "text": [
      "drift metrics:  61%|██████▏   | 2602/4234 [06:42<04:07,  6.58it/s]"
     ]
    },
    {
     "name": "stdout",
     "output_type": "stream",
     "text": [
      "change_point: 32, offset_in_after: 12\n"
     ]
    },
    {
     "name": "stderr",
     "output_type": "stream",
     "text": [
      "drift metrics:  62%|██████▏   | 2617/4234 [06:44<04:04,  6.63it/s]"
     ]
    },
    {
     "name": "stdout",
     "output_type": "stream",
     "text": [
      "change_point: 32, offset_in_after: 12\n"
     ]
    },
    {
     "name": "stderr",
     "output_type": "stream",
     "text": [
      "drift metrics:  62%|██████▏   | 2634/4234 [06:47<04:00,  6.65it/s]"
     ]
    },
    {
     "name": "stdout",
     "output_type": "stream",
     "text": [
      "change_point: 21, offset_in_after: 1\n"
     ]
    },
    {
     "name": "stderr",
     "output_type": "stream",
     "text": [
      "drift metrics:  62%|██████▏   | 2640/4234 [06:47<03:47,  7.01it/s]"
     ]
    },
    {
     "name": "stdout",
     "output_type": "stream",
     "text": [
      "change_point: 21, offset_in_after: 1\n"
     ]
    },
    {
     "name": "stderr",
     "output_type": "stream",
     "text": [
      "drift metrics:  63%|██████▎   | 2651/4234 [06:49<03:55,  6.71it/s]"
     ]
    },
    {
     "name": "stdout",
     "output_type": "stream",
     "text": [
      "change_point: 26, offset_in_after: 6\n"
     ]
    },
    {
     "name": "stderr",
     "output_type": "stream",
     "text": [
      "drift metrics:  63%|██████▎   | 2656/4234 [06:50<04:21,  6.04it/s]"
     ]
    },
    {
     "name": "stdout",
     "output_type": "stream",
     "text": [
      "change_point: 20, offset_in_after: 0\n"
     ]
    },
    {
     "name": "stderr",
     "output_type": "stream",
     "text": [
      "drift metrics:  63%|██████▎   | 2668/4234 [06:52<04:00,  6.51it/s]"
     ]
    },
    {
     "name": "stdout",
     "output_type": "stream",
     "text": [
      "change_point: 27, offset_in_after: 7\n"
     ]
    },
    {
     "name": "stderr",
     "output_type": "stream",
     "text": [
      "drift metrics:  63%|██████▎   | 2685/4234 [06:54<04:07,  6.27it/s]"
     ]
    },
    {
     "name": "stdout",
     "output_type": "stream",
     "text": [
      "change_point: 20, offset_in_after: 0\n"
     ]
    },
    {
     "name": "stderr",
     "output_type": "stream",
     "text": [
      "drift metrics:  64%|██████▎   | 2696/4234 [06:56<04:00,  6.40it/s]"
     ]
    },
    {
     "name": "stdout",
     "output_type": "stream",
     "text": [
      "change_point: 21, offset_in_after: 1\n"
     ]
    },
    {
     "name": "stderr",
     "output_type": "stream",
     "text": [
      "drift metrics:  64%|██████▍   | 2702/4234 [06:57<04:06,  6.22it/s]"
     ]
    },
    {
     "name": "stdout",
     "output_type": "stream",
     "text": [
      "change_point: 21, offset_in_after: 1\n"
     ]
    },
    {
     "name": "stderr",
     "output_type": "stream",
     "text": [
      "drift metrics:  65%|██████▌   | 2756/4234 [07:05<03:51,  6.38it/s]"
     ]
    },
    {
     "name": "stdout",
     "output_type": "stream",
     "text": [
      "change_point: 35, offset_in_after: 15\n"
     ]
    },
    {
     "name": "stderr",
     "output_type": "stream",
     "text": [
      "drift metrics:  66%|██████▌   | 2790/4234 [07:10<03:45,  6.42it/s]"
     ]
    },
    {
     "name": "stdout",
     "output_type": "stream",
     "text": [
      "change_point: 20, offset_in_after: 0\n"
     ]
    },
    {
     "name": "stderr",
     "output_type": "stream",
     "text": [
      "drift metrics:  67%|██████▋   | 2818/4234 [07:15<04:02,  5.83it/s]"
     ]
    },
    {
     "name": "stdout",
     "output_type": "stream",
     "text": [
      "change_point: 20, offset_in_after: 0\n"
     ]
    },
    {
     "name": "stderr",
     "output_type": "stream",
     "text": [
      "drift metrics:  67%|██████▋   | 2823/4234 [07:16<03:49,  6.16it/s]"
     ]
    },
    {
     "name": "stdout",
     "output_type": "stream",
     "text": [
      "change_point: 35, offset_in_after: 15\n"
     ]
    },
    {
     "name": "stderr",
     "output_type": "stream",
     "text": [
      "drift metrics:  67%|██████▋   | 2829/4234 [07:17<03:39,  6.40it/s]"
     ]
    },
    {
     "name": "stdout",
     "output_type": "stream",
     "text": [
      "change_point: 20, offset_in_after: 0\n",
      "change_point: 21, offset_in_after: 1\n"
     ]
    },
    {
     "name": "stderr",
     "output_type": "stream",
     "text": [
      "drift metrics:  67%|██████▋   | 2837/4234 [07:18<03:49,  6.08it/s]"
     ]
    },
    {
     "name": "stdout",
     "output_type": "stream",
     "text": [
      "change_point: 21, offset_in_after: 1\n"
     ]
    },
    {
     "name": "stderr",
     "output_type": "stream",
     "text": [
      "drift metrics:  67%|██████▋   | 2845/4234 [07:19<03:58,  5.83it/s]"
     ]
    },
    {
     "name": "stdout",
     "output_type": "stream",
     "text": [
      "change_point: 21, offset_in_after: 1\n"
     ]
    },
    {
     "name": "stderr",
     "output_type": "stream",
     "text": [
      "drift metrics:  68%|██████▊   | 2869/4234 [07:23<03:55,  5.79it/s]"
     ]
    },
    {
     "name": "stdout",
     "output_type": "stream",
     "text": [
      "change_point: 28, offset_in_after: 8\n"
     ]
    },
    {
     "name": "stderr",
     "output_type": "stream",
     "text": [
      "drift metrics:  68%|██████▊   | 2884/4234 [07:26<03:44,  6.02it/s]"
     ]
    },
    {
     "name": "stdout",
     "output_type": "stream",
     "text": [
      "change_point: 36, offset_in_after: 16\n"
     ]
    },
    {
     "name": "stderr",
     "output_type": "stream",
     "text": [
      "drift metrics:  68%|██████▊   | 2895/4234 [07:28<03:47,  5.89it/s]"
     ]
    },
    {
     "name": "stdout",
     "output_type": "stream",
     "text": [
      "change_point: 20, offset_in_after: 0\n"
     ]
    },
    {
     "name": "stderr",
     "output_type": "stream",
     "text": [
      "drift metrics:  69%|██████▉   | 2916/4234 [07:31<04:20,  5.05it/s]"
     ]
    },
    {
     "name": "stdout",
     "output_type": "stream",
     "text": [
      "change_point: 37, offset_in_after: 17\n"
     ]
    },
    {
     "name": "stderr",
     "output_type": "stream",
     "text": [
      "drift metrics:  70%|██████▉   | 2954/4234 [07:38<03:27,  6.16it/s]"
     ]
    },
    {
     "name": "stdout",
     "output_type": "stream",
     "text": [
      "change_point: 25, offset_in_after: 5\n"
     ]
    },
    {
     "name": "stderr",
     "output_type": "stream",
     "text": [
      "drift metrics:  71%|███████   | 2989/4234 [07:44<03:56,  5.27it/s]"
     ]
    },
    {
     "name": "stdout",
     "output_type": "stream",
     "text": [
      "change_point: 37, offset_in_after: 17\n"
     ]
    },
    {
     "name": "stderr",
     "output_type": "stream",
     "text": [
      "drift metrics:  71%|███████   | 3005/4234 [07:47<03:49,  5.36it/s]"
     ]
    },
    {
     "name": "stdout",
     "output_type": "stream",
     "text": [
      "change_point: 21, offset_in_after: 1\n"
     ]
    },
    {
     "name": "stderr",
     "output_type": "stream",
     "text": [
      "drift metrics:  71%|███████▏  | 3024/4234 [07:50<03:30,  5.75it/s]"
     ]
    },
    {
     "name": "stdout",
     "output_type": "stream",
     "text": [
      "change_point: 20, offset_in_after: 0\n"
     ]
    },
    {
     "name": "stderr",
     "output_type": "stream",
     "text": [
      "drift metrics:  72%|███████▏  | 3044/4234 [07:53<03:00,  6.59it/s]"
     ]
    },
    {
     "name": "stdout",
     "output_type": "stream",
     "text": [
      "change_point: 27, offset_in_after: 7\n"
     ]
    },
    {
     "name": "stderr",
     "output_type": "stream",
     "text": [
      "drift metrics:  73%|███████▎  | 3071/4234 [07:58<03:37,  5.34it/s]"
     ]
    },
    {
     "name": "stdout",
     "output_type": "stream",
     "text": [
      "change_point: 21, offset_in_after: 1\n"
     ]
    },
    {
     "name": "stderr",
     "output_type": "stream",
     "text": [
      "drift metrics:  73%|███████▎  | 3088/4234 [08:01<03:01,  6.30it/s]"
     ]
    },
    {
     "name": "stdout",
     "output_type": "stream",
     "text": [
      "change_point: 21, offset_in_after: 1\n"
     ]
    },
    {
     "name": "stderr",
     "output_type": "stream",
     "text": [
      "drift metrics:  74%|███████▎  | 3122/4234 [08:06<02:56,  6.29it/s]"
     ]
    },
    {
     "name": "stdout",
     "output_type": "stream",
     "text": [
      "change_point: 21, offset_in_after: 1\n"
     ]
    },
    {
     "name": "stderr",
     "output_type": "stream",
     "text": [
      "drift metrics:  74%|███████▍  | 3137/4234 [08:09<03:33,  5.13it/s]"
     ]
    },
    {
     "name": "stdout",
     "output_type": "stream",
     "text": [
      "change_point: 32, offset_in_after: 12\n"
     ]
    },
    {
     "name": "stderr",
     "output_type": "stream",
     "text": [
      "drift metrics:  74%|███████▍  | 3144/4234 [08:10<03:12,  5.67it/s]"
     ]
    },
    {
     "name": "stdout",
     "output_type": "stream",
     "text": [
      "change_point: 24, offset_in_after: 4\n"
     ]
    },
    {
     "name": "stderr",
     "output_type": "stream",
     "text": [
      "drift metrics:  75%|███████▍  | 3160/4234 [08:13<02:44,  6.53it/s]"
     ]
    },
    {
     "name": "stdout",
     "output_type": "stream",
     "text": [
      "change_point: 33, offset_in_after: 13\n"
     ]
    },
    {
     "name": "stderr",
     "output_type": "stream",
     "text": [
      "drift metrics:  75%|███████▍  | 3172/4234 [08:15<03:12,  5.52it/s]"
     ]
    },
    {
     "name": "stdout",
     "output_type": "stream",
     "text": [
      "change_point: 21, offset_in_after: 1\n"
     ]
    },
    {
     "name": "stderr",
     "output_type": "stream",
     "text": [
      "drift metrics:  75%|███████▌  | 3179/4234 [08:16<02:58,  5.92it/s]"
     ]
    },
    {
     "name": "stdout",
     "output_type": "stream",
     "text": [
      "change_point: 20, offset_in_after: 0\n"
     ]
    },
    {
     "name": "stderr",
     "output_type": "stream",
     "text": [
      "drift metrics:  75%|███████▌  | 3191/4234 [08:18<02:46,  6.27it/s]"
     ]
    },
    {
     "name": "stdout",
     "output_type": "stream",
     "text": [
      "change_point: 32, offset_in_after: 12\n"
     ]
    },
    {
     "name": "stderr",
     "output_type": "stream",
     "text": [
      "drift metrics:  77%|███████▋  | 3242/4234 [08:27<02:48,  5.88it/s]"
     ]
    },
    {
     "name": "stdout",
     "output_type": "stream",
     "text": [
      "change_point: 21, offset_in_after: 1\n"
     ]
    },
    {
     "name": "stderr",
     "output_type": "stream",
     "text": [
      "drift metrics:  77%|███████▋  | 3264/4234 [08:31<02:51,  5.64it/s]"
     ]
    },
    {
     "name": "stdout",
     "output_type": "stream",
     "text": [
      "change_point: 20, offset_in_after: 0\n"
     ]
    },
    {
     "name": "stderr",
     "output_type": "stream",
     "text": [
      "drift metrics:  77%|███████▋  | 3270/4234 [08:32<02:44,  5.85it/s]"
     ]
    },
    {
     "name": "stdout",
     "output_type": "stream",
     "text": [
      "change_point: 27, offset_in_after: 7\n"
     ]
    },
    {
     "name": "stderr",
     "output_type": "stream",
     "text": [
      "drift metrics:  78%|███████▊  | 3283/4234 [08:34<02:36,  6.06it/s]"
     ]
    },
    {
     "name": "stdout",
     "output_type": "stream",
     "text": [
      "change_point: 28, offset_in_after: 8\n"
     ]
    },
    {
     "name": "stderr",
     "output_type": "stream",
     "text": [
      "drift metrics:  78%|███████▊  | 3315/4234 [08:40<02:50,  5.40it/s]"
     ]
    },
    {
     "name": "stdout",
     "output_type": "stream",
     "text": [
      "change_point: 21, offset_in_after: 1\n"
     ]
    },
    {
     "name": "stderr",
     "output_type": "stream",
     "text": [
      "drift metrics:  79%|███████▊  | 3332/4234 [08:43<02:40,  5.62it/s]"
     ]
    },
    {
     "name": "stdout",
     "output_type": "stream",
     "text": [
      "change_point: 21, offset_in_after: 1\n"
     ]
    },
    {
     "name": "stderr",
     "output_type": "stream",
     "text": [
      "drift metrics:  79%|███████▉  | 3358/4234 [08:47<02:20,  6.23it/s]"
     ]
    },
    {
     "name": "stdout",
     "output_type": "stream",
     "text": [
      "change_point: 21, offset_in_after: 1\n"
     ]
    },
    {
     "name": "stderr",
     "output_type": "stream",
     "text": [
      "drift metrics:  79%|███████▉  | 3363/4234 [08:48<02:15,  6.45it/s]"
     ]
    },
    {
     "name": "stdout",
     "output_type": "stream",
     "text": [
      "change_point: 37, offset_in_after: 17\n"
     ]
    },
    {
     "name": "stderr",
     "output_type": "stream",
     "text": [
      "drift metrics:  80%|████████  | 3397/4234 [08:53<02:30,  5.58it/s]"
     ]
    },
    {
     "name": "stdout",
     "output_type": "stream",
     "text": [
      "change_point: 20, offset_in_after: 0\n"
     ]
    },
    {
     "name": "stderr",
     "output_type": "stream",
     "text": [
      "drift metrics:  81%|████████▏ | 3443/4234 [09:01<02:06,  6.28it/s]"
     ]
    },
    {
     "name": "stdout",
     "output_type": "stream",
     "text": [
      "change_point: 28, offset_in_after: 8\n"
     ]
    },
    {
     "name": "stderr",
     "output_type": "stream",
     "text": [
      "drift metrics:  81%|████████▏ | 3447/4234 [09:01<02:08,  6.13it/s]"
     ]
    },
    {
     "name": "stdout",
     "output_type": "stream",
     "text": [
      "change_point: 20, offset_in_after: 0\n"
     ]
    },
    {
     "name": "stderr",
     "output_type": "stream",
     "text": [
      "drift metrics:  82%|████████▏ | 3460/4234 [09:03<01:59,  6.48it/s]"
     ]
    },
    {
     "name": "stdout",
     "output_type": "stream",
     "text": [
      "change_point: 21, offset_in_after: 1\n"
     ]
    },
    {
     "name": "stderr",
     "output_type": "stream",
     "text": [
      "drift metrics:  82%|████████▏ | 3483/4234 [09:07<01:51,  6.71it/s]"
     ]
    },
    {
     "name": "stdout",
     "output_type": "stream",
     "text": [
      "change_point: 21, offset_in_after: 1\n"
     ]
    },
    {
     "name": "stderr",
     "output_type": "stream",
     "text": [
      "drift metrics:  83%|████████▎ | 3517/4234 [09:13<02:13,  5.39it/s]"
     ]
    },
    {
     "name": "stdout",
     "output_type": "stream",
     "text": [
      "change_point: 33, offset_in_after: 13\n"
     ]
    },
    {
     "name": "stderr",
     "output_type": "stream",
     "text": [
      "drift metrics:  83%|████████▎ | 3525/4234 [09:14<02:07,  5.57it/s]"
     ]
    },
    {
     "name": "stdout",
     "output_type": "stream",
     "text": [
      "change_point: 27, offset_in_after: 7\n"
     ]
    },
    {
     "name": "stderr",
     "output_type": "stream",
     "text": [
      "drift metrics:  83%|████████▎ | 3535/4234 [09:16<01:55,  6.06it/s]"
     ]
    },
    {
     "name": "stdout",
     "output_type": "stream",
     "text": [
      "change_point: 21, offset_in_after: 1\n"
     ]
    },
    {
     "name": "stderr",
     "output_type": "stream",
     "text": [
      "drift metrics:  84%|████████▍ | 3549/4234 [09:18<02:00,  5.68it/s]"
     ]
    },
    {
     "name": "stdout",
     "output_type": "stream",
     "text": [
      "change_point: 20, offset_in_after: 0\n"
     ]
    },
    {
     "name": "stderr",
     "output_type": "stream",
     "text": [
      "drift metrics:  84%|████████▍ | 3552/4234 [09:19<02:00,  5.68it/s]"
     ]
    },
    {
     "name": "stdout",
     "output_type": "stream",
     "text": [
      "change_point: 25, offset_in_after: 5\n"
     ]
    },
    {
     "name": "stderr",
     "output_type": "stream",
     "text": [
      "drift metrics:  85%|████████▍ | 3595/4234 [09:26<01:40,  6.34it/s]"
     ]
    },
    {
     "name": "stdout",
     "output_type": "stream",
     "text": [
      "change_point: 21, offset_in_after: 1\n"
     ]
    },
    {
     "name": "stderr",
     "output_type": "stream",
     "text": [
      "drift metrics:  85%|████████▌ | 3612/4234 [09:29<01:51,  5.56it/s]"
     ]
    },
    {
     "name": "stdout",
     "output_type": "stream",
     "text": [
      "change_point: 20, offset_in_after: 0\n"
     ]
    },
    {
     "name": "stderr",
     "output_type": "stream",
     "text": [
      "drift metrics:  87%|████████▋ | 3665/4234 [09:38<01:30,  6.29it/s]"
     ]
    },
    {
     "name": "stdout",
     "output_type": "stream",
     "text": [
      "change_point: 21, offset_in_after: 1\n"
     ]
    },
    {
     "name": "stderr",
     "output_type": "stream",
     "text": [
      "drift metrics:  87%|████████▋ | 3688/4234 [09:42<01:51,  4.91it/s]"
     ]
    },
    {
     "name": "stdout",
     "output_type": "stream",
     "text": [
      "change_point: 39, offset_in_after: 19\n"
     ]
    },
    {
     "name": "stderr",
     "output_type": "stream",
     "text": [
      "drift metrics:  87%|████████▋ | 3698/4234 [09:44<01:36,  5.58it/s]"
     ]
    },
    {
     "name": "stdout",
     "output_type": "stream",
     "text": [
      "change_point: 20, offset_in_after: 0\n"
     ]
    },
    {
     "name": "stderr",
     "output_type": "stream",
     "text": [
      "drift metrics:  88%|████████▊ | 3712/4234 [09:46<01:24,  6.16it/s]"
     ]
    },
    {
     "name": "stdout",
     "output_type": "stream",
     "text": [
      "change_point: 38, offset_in_after: 18\n"
     ]
    },
    {
     "name": "stderr",
     "output_type": "stream",
     "text": [
      "drift metrics:  88%|████████▊ | 3738/4234 [09:50<01:12,  6.81it/s]"
     ]
    },
    {
     "name": "stdout",
     "output_type": "stream",
     "text": [
      "change_point: 31, offset_in_after: 11\n"
     ]
    },
    {
     "name": "stderr",
     "output_type": "stream",
     "text": [
      "drift metrics:  89%|████████▉ | 3759/4234 [09:54<01:22,  5.76it/s]"
     ]
    },
    {
     "name": "stdout",
     "output_type": "stream",
     "text": [
      "change_point: 37, offset_in_after: 17\n"
     ]
    },
    {
     "name": "stderr",
     "output_type": "stream",
     "text": [
      "drift metrics:  89%|████████▉ | 3761/4234 [09:54<01:27,  5.38it/s]"
     ]
    },
    {
     "name": "stdout",
     "output_type": "stream",
     "text": [
      "change_point: 28, offset_in_after: 8\n"
     ]
    },
    {
     "name": "stderr",
     "output_type": "stream",
     "text": [
      "drift metrics:  89%|████████▉ | 3764/4234 [09:55<01:26,  5.41it/s]"
     ]
    },
    {
     "name": "stdout",
     "output_type": "stream",
     "text": [
      "change_point: 36, offset_in_after: 16\n"
     ]
    },
    {
     "name": "stderr",
     "output_type": "stream",
     "text": [
      "drift metrics:  89%|████████▉ | 3784/4234 [09:58<01:09,  6.44it/s]"
     ]
    },
    {
     "name": "stdout",
     "output_type": "stream",
     "text": [
      "change_point: 35, offset_in_after: 15\n"
     ]
    },
    {
     "name": "stderr",
     "output_type": "stream",
     "text": [
      "drift metrics:  89%|████████▉ | 3788/4234 [09:58<01:07,  6.63it/s]"
     ]
    },
    {
     "name": "stdout",
     "output_type": "stream",
     "text": [
      "change_point: 21, offset_in_after: 1\n"
     ]
    },
    {
     "name": "stderr",
     "output_type": "stream",
     "text": [
      "drift metrics:  90%|█████████ | 3820/4234 [10:04<01:06,  6.25it/s]"
     ]
    },
    {
     "name": "stdout",
     "output_type": "stream",
     "text": [
      "change_point: 20, offset_in_after: 0\n"
     ]
    },
    {
     "name": "stderr",
     "output_type": "stream",
     "text": [
      "drift metrics:  90%|█████████ | 3824/4234 [10:04<01:08,  6.01it/s]"
     ]
    },
    {
     "name": "stdout",
     "output_type": "stream",
     "text": [
      "change_point: 28, offset_in_after: 8\n"
     ]
    },
    {
     "name": "stderr",
     "output_type": "stream",
     "text": [
      "drift metrics:  90%|█████████ | 3827/4234 [10:05<01:04,  6.28it/s]"
     ]
    },
    {
     "name": "stdout",
     "output_type": "stream",
     "text": [
      "change_point: 37, offset_in_after: 17\n"
     ]
    },
    {
     "name": "stderr",
     "output_type": "stream",
     "text": [
      "drift metrics:  91%|█████████ | 3853/4234 [10:09<01:07,  5.62it/s]"
     ]
    },
    {
     "name": "stdout",
     "output_type": "stream",
     "text": [
      "change_point: 21, offset_in_after: 1\n"
     ]
    },
    {
     "name": "stderr",
     "output_type": "stream",
     "text": [
      "drift metrics:  92%|█████████▏| 3882/4234 [10:14<00:56,  6.20it/s]"
     ]
    },
    {
     "name": "stdout",
     "output_type": "stream",
     "text": [
      "change_point: 37, offset_in_after: 17\n"
     ]
    },
    {
     "name": "stderr",
     "output_type": "stream",
     "text": [
      "drift metrics:  92%|█████████▏| 3884/4234 [10:14<00:57,  6.11it/s]"
     ]
    },
    {
     "name": "stdout",
     "output_type": "stream",
     "text": [
      "change_point: 27, offset_in_after: 7\n"
     ]
    },
    {
     "name": "stderr",
     "output_type": "stream",
     "text": [
      "drift metrics:  92%|█████████▏| 3894/4234 [10:16<00:55,  6.14it/s]"
     ]
    },
    {
     "name": "stdout",
     "output_type": "stream",
     "text": [
      "change_point: 21, offset_in_after: 1\n"
     ]
    },
    {
     "name": "stderr",
     "output_type": "stream",
     "text": [
      "drift metrics:  92%|█████████▏| 3903/4234 [10:17<00:52,  6.30it/s]"
     ]
    },
    {
     "name": "stdout",
     "output_type": "stream",
     "text": [
      "change_point: 29, offset_in_after: 9\n"
     ]
    },
    {
     "name": "stderr",
     "output_type": "stream",
     "text": [
      "drift metrics:  92%|█████████▏| 3905/4234 [10:18<00:52,  6.33it/s]"
     ]
    },
    {
     "name": "stdout",
     "output_type": "stream",
     "text": [
      "change_point: 21, offset_in_after: 1\n"
     ]
    },
    {
     "name": "stderr",
     "output_type": "stream",
     "text": [
      "drift metrics:  92%|█████████▏| 3907/4234 [10:18<00:52,  6.23it/s]"
     ]
    },
    {
     "name": "stdout",
     "output_type": "stream",
     "text": [
      "change_point: 21, offset_in_after: 1\n"
     ]
    },
    {
     "name": "stderr",
     "output_type": "stream",
     "text": [
      "drift metrics:  92%|█████████▏| 3909/4234 [10:18<00:52,  6.18it/s]"
     ]
    },
    {
     "name": "stdout",
     "output_type": "stream",
     "text": [
      "change_point: 39, offset_in_after: 19\n"
     ]
    },
    {
     "name": "stderr",
     "output_type": "stream",
     "text": [
      "drift metrics:  92%|█████████▏| 3912/4234 [10:19<00:51,  6.26it/s]"
     ]
    },
    {
     "name": "stdout",
     "output_type": "stream",
     "text": [
      "change_point: 37, offset_in_after: 17\n"
     ]
    },
    {
     "name": "stderr",
     "output_type": "stream",
     "text": [
      "drift metrics:  93%|█████████▎| 3947/4234 [10:25<00:50,  5.72it/s]"
     ]
    },
    {
     "name": "stdout",
     "output_type": "stream",
     "text": [
      "change_point: 30, offset_in_after: 10\n"
     ]
    },
    {
     "name": "stderr",
     "output_type": "stream",
     "text": [
      "drift metrics:  94%|█████████▎| 3967/4234 [10:28<00:42,  6.34it/s]"
     ]
    },
    {
     "name": "stdout",
     "output_type": "stream",
     "text": [
      "change_point: 21, offset_in_after: 1\n"
     ]
    },
    {
     "name": "stderr",
     "output_type": "stream",
     "text": [
      "drift metrics:  94%|█████████▍| 3993/4234 [10:32<00:39,  6.17it/s]"
     ]
    },
    {
     "name": "stdout",
     "output_type": "stream",
     "text": [
      "change_point: 37, offset_in_after: 17\n"
     ]
    },
    {
     "name": "stderr",
     "output_type": "stream",
     "text": [
      "drift metrics:  95%|█████████▍| 4016/4234 [10:36<00:35,  6.19it/s]"
     ]
    },
    {
     "name": "stdout",
     "output_type": "stream",
     "text": [
      "change_point: 20, offset_in_after: 0\n"
     ]
    },
    {
     "name": "stderr",
     "output_type": "stream",
     "text": [
      "drift metrics:  96%|█████████▌| 4070/4234 [10:44<00:25,  6.51it/s]"
     ]
    },
    {
     "name": "stdout",
     "output_type": "stream",
     "text": [
      "change_point: 27, offset_in_after: 7\n"
     ]
    },
    {
     "name": "stderr",
     "output_type": "stream",
     "text": [
      "drift metrics:  97%|█████████▋| 4095/4234 [10:48<00:26,  5.28it/s]"
     ]
    },
    {
     "name": "stdout",
     "output_type": "stream",
     "text": [
      "change_point: 34, offset_in_after: 14\n"
     ]
    },
    {
     "name": "stderr",
     "output_type": "stream",
     "text": [
      "drift metrics:  97%|█████████▋| 4102/4234 [10:49<00:21,  6.11it/s]"
     ]
    },
    {
     "name": "stdout",
     "output_type": "stream",
     "text": [
      "change_point: 30, offset_in_after: 10\n"
     ]
    },
    {
     "name": "stderr",
     "output_type": "stream",
     "text": [
      "drift metrics:  97%|█████████▋| 4108/4234 [10:50<00:22,  5.65it/s]"
     ]
    },
    {
     "name": "stdout",
     "output_type": "stream",
     "text": [
      "change_point: 21, offset_in_after: 1\n",
      "change_point: 37, offset_in_after: 17\n"
     ]
    },
    {
     "name": "stderr",
     "output_type": "stream",
     "text": [
      "drift metrics:  98%|█████████▊| 4141/4234 [10:56<00:14,  6.29it/s]"
     ]
    },
    {
     "name": "stdout",
     "output_type": "stream",
     "text": [
      "change_point: 21, offset_in_after: 1\n"
     ]
    },
    {
     "name": "stderr",
     "output_type": "stream",
     "text": [
      "drift metrics:  98%|█████████▊| 4160/4234 [10:59<00:14,  5.04it/s]"
     ]
    },
    {
     "name": "stdout",
     "output_type": "stream",
     "text": [
      "change_point: 32, offset_in_after: 12\n"
     ]
    },
    {
     "name": "stderr",
     "output_type": "stream",
     "text": [
      "drift metrics:  99%|█████████▉| 4182/4234 [11:03<00:08,  6.31it/s]"
     ]
    },
    {
     "name": "stdout",
     "output_type": "stream",
     "text": [
      "change_point: 21, offset_in_after: 1\n"
     ]
    },
    {
     "name": "stderr",
     "output_type": "stream",
     "text": [
      "drift metrics:  99%|█████████▉| 4192/4234 [11:05<00:07,  5.86it/s]"
     ]
    },
    {
     "name": "stdout",
     "output_type": "stream",
     "text": [
      "change_point: 35, offset_in_after: 15\n"
     ]
    },
    {
     "name": "stderr",
     "output_type": "stream",
     "text": [
      "drift metrics:  99%|█████████▉| 4206/4234 [11:07<00:04,  6.52it/s]"
     ]
    },
    {
     "name": "stdout",
     "output_type": "stream",
     "text": [
      "change_point: 38, offset_in_after: 18\n"
     ]
    },
    {
     "name": "stderr",
     "output_type": "stream",
     "text": [
      "drift metrics: 100%|██████████| 4234/4234 [11:12<00:00,  6.30it/s]"
     ]
    },
    {
     "name": "stdout",
     "output_type": "stream",
     "text": [
      "successfully drift 257 metrics using method [icpp] in range (1709449200, 1709488800)\n",
      "\n",
      "\n",
      "257 drifts of all 4234 metrics...\n"
     ]
    },
    {
     "name": "stderr",
     "output_type": "stream",
     "text": [
      "\n"
     ]
    }
   ],
   "source": [
    "from bayesian_changepoint_detection.priors import const_prior\n",
    "from functools import partial\n",
    "from bayesian_changepoint_detection.bayesian_models import offline_changepoint_detection\n",
    "import bayesian_changepoint_detection.offline_likelihoods as offline_ll\n",
    "import time\n",
    "\n",
    "CP_THRESHOLD = 0.7\n",
    "\n",
    "metric_df_icpp = copy.deepcopy(metric_df)\n",
    "metric_index_dict = metric_df_icpp.groupby(['name']).groups\n",
    "metric_index_before_dict = metric_df_icpp[(metric_df_icpp.timestamp<drift_ts) & ~(metric_df_icpp.timestamp.isin(failure_timestamps))].groupby(['name']).groups\n",
    "metrics_before = set(metric_index_before_dict.keys())\n",
    "\n",
    "time_detect, time_adapt = [], []\n",
    "\n",
    "for i in range(len(drift_ranges)-1):\n",
    "    drift_num = 0\n",
    "    drift_metrics = []\n",
    "    drift_start, drift_end = drift_ranges[i], drift_ranges[i+1]\n",
    "    print(f\"{drift_start=} {drift_end=}\")\n",
    "    metric_index_after_dict = metric_df_icpp[(metric_df_icpp.timestamp>=drift_start) & (metric_df_icpp.timestamp<drift_end) & ~(metric_df_icpp.timestamp.isin(failure_timestamps))].groupby(['name']).groups\n",
    "    metric_index_after_all_dict = metric_df_icpp[(metric_df_icpp.timestamp>=drift_start) & (metric_df_icpp.timestamp<drift_end)].groupby(['name']).groups\n",
    "    metrics_after = set(metric_index_after_dict.keys())\n",
    "    metrics = list(metrics_before & metrics_after)\n",
    "    metrics = [metric for metric in metrics if 'loadgenerator' not in metric]\n",
    "    print(f\"metrics_before: {len(metrics_before)}, metrics_after: {len(metrics_after)}, metrics: {len(metrics)}\")\n",
    "    \n",
    "    is_drifts, change_points, length_list = [], [], []\n",
    "    for metric in tqdm(metrics, desc=\"drift metrics: \"):\n",
    "        if 'fake' in metric:\n",
    "            continue\n",
    "        metric_index = metric_index_dict[metric]\n",
    "        metric_index_after = metric_index_after_dict[metric]\n",
    "        metric_index_before = metric_index_before_dict[metric]\n",
    "        metrics_data = metric_df_icpp.loc[metric_index]\n",
    "\n",
    "        before_metrics = metrics_data.loc[metric_index_before].sort_values(by=['timestamp']).drop_duplicates()[-120:]\n",
    "        metrics_data_after = metrics_data.loc[metric_index_after]\n",
    "        after_metrics = metrics_data_after.sort_values(by=['timestamp']).drop_duplicates()[:90]\n",
    "        if before_metrics.empty or after_metrics.empty or len(after_metrics) < 10:\n",
    "            continue\n",
    "        before_metrics_value = before_metrics.value\n",
    "        after_metrics_value = after_metrics.value\n",
    "\n",
    "        combined_array = np.concatenate((before_metrics_value[-20:],after_metrics_value[:20]))\n",
    "        time_start = time.time()\n",
    "        Q, P, Pcp = offline_changepoint_detection(combined_array, partial(const_prior, p=1/(len(combined_array) + 1)) ,offline_ll.StudentT(),truncate=-40)\n",
    "        a = np.exp(Pcp).sum(0)\n",
    "        threshold_indices = np.where(a > CP_THRESHOLD)[0] + 2  # 满足阈值的位置，并加2\n",
    "        filtered_change_points = []\n",
    "        last_accepted_cp = -np.inf\n",
    "        for cp in threshold_indices:\n",
    "            if cp >= len(before_metrics_value[-20:]) and (last_accepted_cp == -np.inf or cp - last_accepted_cp >= 3):\n",
    "                if last_accepted_cp != -np.inf and cp - last_accepted_cp < 3:\n",
    "                    continue\n",
    "                filtered_change_points.append(cp)\n",
    "                last_accepted_cp = cp \n",
    "        if filtered_change_points:\n",
    "            change_point = filtered_change_points[-1]  # 取最后一个位置\n",
    "            is_drift = True\n",
    "        else:\n",
    "            change_point = None  # 无有效变点\n",
    "            is_drift = False\n",
    "        time_end = time.time()\n",
    "        time_detect.append(time_end-time_start)\n",
    "        is_drifts.append(is_drift)\n",
    "        change_points.append(change_point)\n",
    "        length_list.append((len(before_metrics_value), len(after_metrics_value)))\n",
    "        if is_drift:\n",
    "            time_start = time.time()\n",
    "            before_mean = before_metrics_value.mean()\n",
    "            before_std = before_metrics_value.std()\n",
    "            if change_point is not None:\n",
    "                offset_in_after = change_point - len(before_metrics_value[-20:])\n",
    "                print(f\"change_point: {change_point}, offset_in_after: {offset_in_after}\")\n",
    "                after_metrics_value = after_metrics_value[offset_in_after+1:]\n",
    "            after_mean = after_metrics_value.mean()\n",
    "            after_std = after_metrics_value.std()\n",
    "            drift_num += 1\n",
    "            drift_metrics.append(metric)\n",
    "            scale = before_std / after_std if after_std != 0 else 1\n",
    "            bias = before_mean - after_mean * scale\n",
    "\n",
    "            metric_index_after_all = metric_index_after_all_dict[metric]\n",
    "            metrics_data_after_all = metrics_data.loc[metric_index_after_all]\n",
    "            after_metrics_value_all = metrics_data_after_all['value'].values * scale + bias\n",
    "            metric_df_icpp.loc[metric_index_after_all, 'value'] = after_metrics_value_all\n",
    "            time_end = time.time()\n",
    "            time_adapt.append(time_end-time_start)\n",
    "    print(f\"successfully drift {drift_num} metrics using method [icpp] in range ({drift_start}, {drift_end})\")\n",
    "    print(f\"\\n\\n{sum(is_drifts)} drifts of all {len(metrics)} metrics...\")\n",
    "\n",
    "metric_df_icpp.to_pickle(WORK_DIR / f'metrics.norm.detect.drift.mean.pkl')"
   ]
  },
  {
   "cell_type": "markdown",
   "metadata": {},
   "source": [
    "## w/o CPD"
   ]
  },
  {
   "cell_type": "code",
   "execution_count": null,
   "metadata": {},
   "outputs": [],
   "source": [
    "metric_df_wo_cpd = copy.deepcopy(metric_df)\n",
    "metric_index_dict = metric_df_wo_cpd.groupby(['name']).groups\n",
    "metric_index_before_dict = metric_df_wo_cpd[(metric_df_wo_cpd.timestamp<drift_ts) & ~(metric_df_wo_cpd.timestamp.isin(failure_timestamps))].groupby(['name']).groups\n",
    "metrics_before = set(metric_index_before_dict.keys())\n",
    "for i in range(len(drift_ranges)-1):\n",
    "    drift_num = 0\n",
    "    drift_metrics = []\n",
    "    drift_start, drift_end = drift_ranges[i], drift_ranges[i+1]\n",
    "    print(f\"{drift_start=} {drift_end=}\")\n",
    "    metric_index_after_dict = metric_df_wo_cpd[(metric_df_wo_cpd.timestamp>=drift_start) & (metric_df_wo_cpd.timestamp<drift_end) & ~(metric_df_wo_cpd.timestamp.isin(failure_timestamps))].groupby(['name']).groups\n",
    "    metric_index_after_all_dict = metric_df_wo_cpd[(metric_df_wo_cpd.timestamp>=drift_start) & (metric_df_wo_cpd.timestamp<drift_end)].groupby(['name']).groups\n",
    "    metrics_after = set(metric_index_after_dict.keys())\n",
    "    metrics = list(metrics_before & metrics_after)\n",
    "    metrics = [metric for metric in metrics if 'loadgenerator' not in metric]\n",
    "    print(f\"metrics_before: {len(metrics_before)}, metrics_after: {len(metrics_after)}, metrics: {len(metrics)}\")\n",
    "    \n",
    "    for metric in tqdm(metrics, desc=\"drift metrics: \"):\n",
    "        if 'fake' in metric:\n",
    "            continue\n",
    "        metric_index = metric_index_dict[metric]\n",
    "        metric_index_after = metric_index_after_dict[metric]\n",
    "        metric_index_before = metric_index_before_dict[metric]\n",
    "        metrics_data = metric_df_wo_cpd.loc[metric_index]\n",
    "        before_metrics = metrics_data.loc[metric_index_before].sort_values(by=['timestamp']).drop_duplicates()[-120:]\n",
    "        metrics_data_after = metrics_data.loc[metric_index_after]\n",
    "        after_metrics = metrics_data_after.sort_values(by=['timestamp']).drop_duplicates()[:90]\n",
    "        if before_metrics.empty or after_metrics.empty or len(after_metrics) < 10 or len(after_metrics.value.unique()) == 1:\n",
    "            continue\n",
    "        before_metrics_value = before_metrics.value\n",
    "        before_median = before_metrics_value.median()\n",
    "        before_IQR = before_metrics_value.quantile(0.75) - before_metrics_value.quantile(0.25)\n",
    "        after_metrics_value = after_metrics.value\n",
    "        after_median = after_metrics_value.median()\n",
    "        after_IQR = after_metrics_value.quantile(0.75) - after_metrics_value.quantile(0.25)\n",
    "        drift_num += 1\n",
    "        drift_metrics.append(metric)\n",
    "        scale = before_IQR / after_IQR if after_IQR != 0 else 1\n",
    "        bias = before_median - after_median * scale\n",
    "\n",
    "        metric_index_after_all = metric_index_after_all_dict[metric]\n",
    "        metrics_data_after_all = metrics_data.loc[metric_index_after_all]\n",
    "        after_metrics_value_all = metrics_data_after_all['value'].values * scale + bias\n",
    "        metric_df_wo_cpd.loc[metric_index_after_all, 'value'] = after_metrics_value_all\n",
    "    print(f\"successfully drift {drift_num} metrics using method [wo_cpd] in range ({drift_start}, {drift_end})\")\n",
    "metric_df_wo_cpd.to_pickle(WORK_DIR / f'metrics.norm.detect.mean.pkl')"
   ]
  },
  {
   "cell_type": "markdown",
   "metadata": {},
   "source": [
    "## w StepWise"
   ]
  },
  {
   "cell_type": "code",
   "execution_count": null,
   "metadata": {},
   "outputs": [],
   "source": [
    "from sklearn.linear_model import RANSACRegressor\n",
    "\n",
    "metric_df_stepwise = copy.deepcopy(metric_df)\n",
    "metric_index_dict = metric_df_stepwise.groupby(['name']).groups\n",
    "metric_index_before_dict = metric_df_stepwise[(metric_df_stepwise.timestamp<drift_ts) & ~(metric_df_stepwise.timestamp.isin(failure_timestamps))].groupby(['name']).groups\n",
    "metrics_before = set(metric_index_before_dict.keys())\n",
    "for i in range(len(drift_ranges)-1):\n",
    "    drift_num = 0\n",
    "    drift_metrics = []\n",
    "    drift_start, drift_end = drift_ranges[i], drift_ranges[i+1]\n",
    "    print(f\"{drift_start=} {drift_end=}\")\n",
    "    metric_index_after_all_dict = metric_df_stepwise[(metric_df_stepwise.timestamp>=drift_start) & (metric_df_stepwise.timestamp<drift_end)].groupby(['name']).groups\n",
    "    metric_index_after_dict = metric_df_stepwise[(metric_df_stepwise.timestamp>=drift_start) & (metric_df_stepwise.timestamp<drift_end) & ~(metric_df_stepwise.timestamp.isin(failure_timestamps))].groupby(['name']).groups\n",
    "    metrics_after = set(metric_index_after_dict.keys())\n",
    "    metrics = list(metrics_before & metrics_after)\n",
    "    metrics = [metric for metric in metrics if 'loadgenerator' not in metric]\n",
    "    print(f\"metrics_before: {len(metrics_before)}, metrics_after: {len(metrics_after)}, metrics: {len(metrics)}\")\n",
    "    \n",
    "    for metric in tqdm(metrics, desc=\"drift metrics: \"):\n",
    "        if 'fake' in metric:\n",
    "            continue\n",
    "        metric_index = metric_index_dict[metric]\n",
    "        metric_index_after = metric_index_after_dict[metric]\n",
    "        metric_index_before = metric_index_before_dict[metric]\n",
    "        metrics_data = metric_df_stepwise.loc[metric_index]\n",
    "        before_metrics = metrics_data.loc[metric_index_before].sort_values(by=['timestamp']).drop_duplicates()\n",
    "        metrics_data_after = metrics_data.loc[metric_index_after]\n",
    "        after_metrics = metrics_data_after.sort_values(by=['timestamp']).drop_duplicates()[:30]\n",
    "        if before_metrics.empty or after_metrics.empty or len(after_metrics) < 10 or len(after_metrics.value.unique()) == 1:\n",
    "            continue\n",
    "        before_metrics_value = before_metrics.value\n",
    "        \n",
    "        ts_medians = np.zeros(24*60//17, dtype=np.float32)\n",
    "        mod = 5040      # 24*60*60//17\n",
    "        for i in range(24*60//17):\n",
    "            tmp = before_metrics.loc[before_metrics.timestamp % mod == i*60].sort_values(by=['timestamp']).drop_duplicates()[-10:]['value']\n",
    "            ts_medians[i] = tmp.median(skipna=True)\n",
    "        ts_medians[np.isnan(ts_medians)] = 0\n",
    "        target_series = []\n",
    "        for i in range(after_metrics.shape[0]):\n",
    "            tmp = after_metrics.iloc[i]\n",
    "            timestamp = tmp['timestamp']\n",
    "            target_series.append(ts_medians[(timestamp%mod)//60])\n",
    "        target_series = np.array(target_series)\n",
    "        rlr = RANSACRegressor()\n",
    "        rlr.fit(np.array(after_metrics.value).reshape((-1, 1)), target_series)\n",
    "\n",
    "        metric_index_after_all = metric_index_after_all_dict[metric]\n",
    "        metrics_data_after_all = metrics_data.loc[metric_index_after_all]\n",
    "        after_metrics_value_all = rlr.predict(metrics_data_after_all['value'].values.reshape((-1, 1)))\n",
    "        metric_df_stepwise.loc[metric_index_after_all, 'value'] = after_metrics_value_all\n",
    "    print(f\"successfully drift {drift_num} metrics using method [stepwise] in range ({drift_start}, {drift_end})\")\n",
    "metric_df_stepwise.to_pickle(WORK_DIR / f'metrics.norm.drift.stepwise.pkl')"
   ]
  }
 ],
 "metadata": {
  "kernelspec": {
   "display_name": "base",
   "language": "python",
   "name": "python3"
  },
  "language_info": {
   "codemirror_mode": {
    "name": "ipython",
    "version": 3
   },
   "file_extension": ".py",
   "mimetype": "text/x-python",
   "name": "python",
   "nbconvert_exporter": "python",
   "pygments_lexer": "ipython3",
   "version": "3.8.12"
  }
 },
 "nbformat": 4,
 "nbformat_minor": 2
}
