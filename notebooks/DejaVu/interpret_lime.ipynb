{
 "cells": [
  {
   "cell_type": "code",
   "execution_count": 1,
   "id": "c2bc3700-8a3d-4ba4-a963-36e22508f219",
   "metadata": {},
   "outputs": [
    {
     "name": "stderr",
     "output_type": "stream",
     "text": [
      "Using backend: pytorch\n"
     ]
    }
   ],
   "source": [
    "%load_ext autoreload\n",
    "%autoreload 2\n",
    "\n",
    "import sys\n",
    "import os\n",
    "sys.path.insert(0, \"/SSF\")\n",
    "from DejaVu.explib.read_model import read_model"
   ]
  },
  {
   "cell_type": "code",
   "execution_count": 2,
   "id": "6db5c263-ec4f-45af-9f15-d06bccc318ef",
   "metadata": {
    "scrolled": true,
    "tags": []
   },
   "outputs": [
    {
     "name": "stderr",
     "output_type": "stream",
     "text": [
      "2022-03-18 09:48:32.055 | DEBUG    | utils.load_model:best_checkpoint:19 - path=PosixPath('/data/SSF/experiment_outputs/run_GAT_node_classification.py.2021-12-22T03:50:07.949451') metric='val_loss' mode='min'\n",
      "2022-03-18 09:48:32.100 | DEBUG    | utils.load_model:best_checkpoint:40 - ckpt_path=PosixPath('/data/SSF/experiment_outputs/run_GAT_node_classification.py.2021-12-22T03:50:07.949451/lightning_logs/version_0/checkpoints/epoch=449-A@1=0.647059-val_loss=0.296444-MAR=2.235294.ckpt') has metrics: {'epoch': '449', 'A@1': '0.647059', 'val_loss': '0.296444', 'MAR': '2.235294'}\n",
      "2022-03-18 09:48:32.101 | DEBUG    | utils.load_model:best_checkpoint:40 - ckpt_path=PosixPath('/data/SSF/experiment_outputs/run_GAT_node_classification.py.2021-12-22T03:50:07.949451/lightning_logs/version_0/checkpoints/epoch=119-A@1=0.882353-val_loss=0.346040-MAR=1.470588.ckpt') has metrics: {'epoch': '119', 'A@1': '0.882353', 'val_loss': '0.346040', 'MAR': '1.470588'}\n",
      "2022-03-18 09:48:32.101 | DEBUG    | utils.load_model:best_checkpoint:40 - ckpt_path=PosixPath('/data/SSF/experiment_outputs/run_GAT_node_classification.py.2021-12-22T03:50:07.949451/lightning_logs/version_0/checkpoints/epoch=109-A@1=0.882353-val_loss=0.331854-MAR=1.823529.ckpt') has metrics: {'epoch': '109', 'A@1': '0.882353', 'val_loss': '0.331854', 'MAR': '1.823529'}\n",
      "2022-03-18 09:48:32.102 | DEBUG    | utils.load_model:best_checkpoint:40 - ckpt_path=PosixPath('/data/SSF/experiment_outputs/run_GAT_node_classification.py.2021-12-22T03:50:07.949451/lightning_logs/version_0/checkpoints/epoch=69-A@1=0.882353-val_loss=0.341408-MAR=3.352941.ckpt') has metrics: {'epoch': '69', 'A@1': '0.882353', 'val_loss': '0.341408', 'MAR': '3.352941'}\n",
      "2022-03-18 09:48:32.102 | DEBUG    | utils.load_model:best_checkpoint:40 - ckpt_path=PosixPath('/data/SSF/experiment_outputs/run_GAT_node_classification.py.2021-12-22T03:50:07.949451/lightning_logs/version_0/checkpoints/epoch=59-A@1=0.823529-val_loss=0.295916-MAR=1.705882.ckpt') has metrics: {'epoch': '59', 'A@1': '0.823529', 'val_loss': '0.295916', 'MAR': '1.705882'}\n",
      "2022-03-18 09:48:32.103 | WARNING  | utils.load_model:best_checkpoint:35 - ckpt_path=PosixPath('/data/SSF/experiment_outputs/run_GAT_node_classification.py.2021-12-22T03:50:07.949451/lightning_logs/version_0/checkpoints/last.ckpt') not match\n",
      "2022-03-18 09:48:32.167 | DEBUG    | utils.load_model:best_checkpoint:47 - best ckpt: best_model_path=PosixPath('/data/SSF/experiment_outputs/run_GAT_node_classification.py.2021-12-22T03:50:07.949451/lightning_logs/version_0/checkpoints/epoch=59-A@1=0.823529-val_loss=0.295916-MAR=1.705882.ckpt')\n",
      "2022-03-18 09:48:32.367 | INFO     | failure_dependency_graph.failure_dependency_graph:_load_FDG:206 - Loading FDG from /SSF/data/A1/FDG.pkl\n",
      "2022-03-18 09:48:33.259 | INFO     | failure_dependency_graph.model_interface:__init__:47 - dataset_cache_dir=/tmp/SSF/.cache/faults=_SSF_data_A1_faults.csv.graph=_SSF_data_A1_graph.yml.metrics=_SSF_data_A1_metrics.norm.pkl.use_anomaly_direction_constraint=False\n",
      "2022-03-18 09:48:33.622 | INFO     | failure_dependency_graph.model_interface:split_failures_by_type:209 - fault ids with multiple root causes: []\n",
      "2022-03-18 09:48:33.623 | INFO     | failure_dependency_graph.model_interface:split_failures_by_type:234 - fault_type=('Docker CPU',)                \n",
      "train_length=7     train_ids=[5, 23, 12, 37, 0, 58, 30] \n",
      "validation_length=4     validation_ids=[75, 29, 3, 15] \n",
      "test_length=8     test_ids=[65, 59, 18, 50, 44, 41, 8, 52] \n",
      "(7   recurring faults)\n",
      "2022-03-18 09:48:33.624 | INFO     | failure_dependency_graph.model_interface:split_failures_by_type:234 - fault_type=('Docker',)                    \n",
      "train_length=12    train_ids=[35, 25, 56, 71, 53, 17, 13, 9, 6, 1, 7, 26] \n",
      "validation_length=6     validation_ids=[2, 21, 63, 68, 70, 54] \n",
      "test_length=12    test_ids=[24, 31, 28, 77, 48, 49, 16, 67, 76, 62, 60, 69] \n",
      "(12  recurring faults)\n",
      "2022-03-18 09:48:33.624 | INFO     | failure_dependency_graph.model_interface:split_failures_by_type:234 - fault_type=('DB Session',)                \n",
      "train_length=2     train_ids=[36, 47] \n",
      "validation_length=2     validation_ids=[74, 45] \n",
      "test_length=3     test_ids=[19, 4, 57] \n",
      "(1   recurring faults)\n",
      "2022-03-18 09:48:33.625 | INFO     | failure_dependency_graph.model_interface:split_failures_by_type:234 - fault_type=('DB State',)                  \n",
      "train_length=2     train_ids=[46, 11] \n",
      "validation_length=1     validation_ids=[27] \n",
      "test_length=2     test_ids=[34, 10] \n",
      "(2   recurring faults)\n",
      "2022-03-18 09:48:33.626 | INFO     | failure_dependency_graph.model_interface:split_failures_by_type:234 - fault_type=('OS Network',)                \n",
      "train_length=6     train_ids=[22, 39, 64, 61, 20, 38] \n",
      "validation_length=4     validation_ids=[51, 42, 55, 32] \n",
      "test_length=7     test_ids=[40, 14, 33, 66, 43, 73, 72] \n",
      "(4   recurring faults)\n",
      "2022-03-18 09:48:33.626 | INFO     | failure_dependency_graph.model_interface:split_failures_by_type:247 - repeat [5, 23, 12, 37, 0, 58, 30] for 1 times\n",
      "2022-03-18 09:48:33.627 | INFO     | failure_dependency_graph.model_interface:split_failures_by_type:247 - repeat [35, 25, 56, 71, 53, 17, 13, 9, 6, 1, 7, 26] for 1 times\n",
      "2022-03-18 09:48:33.627 | INFO     | failure_dependency_graph.model_interface:split_failures_by_type:247 - repeat [36, 47] for 6 times\n",
      "2022-03-18 09:48:33.628 | INFO     | failure_dependency_graph.model_interface:split_failures_by_type:247 - repeat [46, 11] for 6 times\n",
      "2022-03-18 09:48:33.629 | INFO     | failure_dependency_graph.model_interface:split_failures_by_type:247 - repeat [22, 39, 64, 61, 20, 38] for 2 times\n",
      "2022-03-18 09:48:33.629 | INFO     | failure_dependency_graph.model_interface:split_failures_by_type:265 - len(train_list)=55 len(set(train_list))=29 len(validation_list)=17 len(test_list)=32 \n",
      "2022-03-18 09:48:33.688 | WARNING  | failure_dependency_graph.model_interface:get_metric_preprocessor:105 - Use cached metric preprocessor\n",
      "/opt/conda/lib/python3.8/site-packages/pytorch_lightning/trainer/connectors/callback_connector.py:90: LightningDeprecationWarning: Setting `Trainer(progress_bar_refresh_rate=0)` is deprecated in v1.5 and will be removed in v1.7. Please pass `pytorch_lightning.callbacks.progress.TQDMProgressBar` with `refresh_rate` directly to the Trainer's `callbacks` argument instead. Or, to disable the progress bar pass `enable_progress_bar = False` to the Trainer.\n",
      "  rank_zero_deprecation(\n",
      "GPU available: False, used: False\n",
      "TPU available: False, using: 0 TPU cores\n",
      "IPU available: False, using: 0 IPUs\n",
      "/opt/conda/lib/python3.8/site-packages/pytorch_lightning/trainer/trainer.py:906: LightningDeprecationWarning: `trainer.test(test_dataloaders)` is deprecated in v1.4 and will be removed in v1.6. Use `trainer.test(dataloaders)` instead.\n",
      "  rank_zero_deprecation(\n",
      "/opt/conda/lib/python3.8/site-packages/pytorch_lightning/trainer/data_loading.py:132: UserWarning: The dataloader, test_dataloader 0, does not have many workers which may be a bottleneck. Consider increasing the value of the `num_workers` argument` (try 38 which is the number of cpus on this machine) in the `DataLoader` init to improve performance.\n",
      "  rank_zero_warn(\n",
      "2022-03-18 09:48:39.834 | INFO     | DejaVu.models.interface.callbacks:on_test_epoch_end:107 - \n",
      "A@1=87.50% A@2=96.88% A@3=96.88% A@5=100.00% MAR=1.19  \n",
      "|id  |     |FR |AR |recurring|timestamp                |root cause                                                            |rank-1              |rank-2              |rank-3              |\n",
      "|65  |✅    |  1|  1|True     |2020-05-30T04:13:00+08:00|docker_002 CPU                                                        |docker_002 CPU      |docker_002          |db_003 Session      |\n",
      "|59  |✅    |  1|  1|True     |2020-05-29T03:41:00+08:00|docker_001 CPU                                                        |docker_001 CPU      |docker_008          |db_003 Session      |\n",
      "|18  |✅    |  1|  1|False    |2020-05-23T00:05:00+08:00|docker_004 CPU                                                        |docker_004 CPU      |docker_004          |db_003 Session      |\n",
      "|50  |✅    |  1|  1|True     |2020-05-27T05:09:00+08:00|docker_001 CPU                                                        |docker_001 CPU      |os_020 Network      |docker_001          |\n",
      "|44  |✅    |  1|  1|True     |2020-05-27T01:23:00+08:00|docker_006 CPU                                                        |docker_006 CPU      |docker_006          |db_009 Session      |\n",
      "|41  |✅    |  1|  1|True     |2020-05-26T05:15:00+08:00|docker_002 CPU                                                        |docker_002 CPU      |docker_002          |db_003 Session      |\n",
      "|8   |✅    |  1|  1|True     |2020-04-11T04:40:00+08:00|docker_008 CPU                                                        |docker_008 CPU      |docker_008          |db_007 Session      |\n",
      "|52  |✅    |  1|  1|True     |2020-05-28T00:47:00+08:00|docker_001 CPU                                                        |docker_001 CPU      |docker_001          |db_003 Session      |\n",
      "|24  |✅    |  1|  1|True     |2020-05-23T05:20:00+08:00|docker_005                                                            |docker_005          |os_017              |docker_005 CPU      |\n",
      "|31  |✅    |  1|  1|True     |2020-05-24T04:47:00+08:00|docker_004                                                            |docker_004          |docker_004 CPU      |os_021 Network      |\n",
      "|28  |✅    |  1|  1|True     |2020-05-24T02:47:00+08:00|docker_002                                                            |docker_002          |docker_002 CPU      |docker_002 Memory   |\n",
      "|77  |❌    |  2|  2|True     |2020-05-31T05:48:00+08:00|docker_003                                                            |docker_003 CPU      |docker_003          |db_003 Session      |\n",
      "|48  |✅    |  1|  1|True     |2020-05-27T03:23:00+08:00|docker_001                                                            |docker_001          |os_022 Network      |os_022              |\n",
      "|49  |✅    |  1|  1|True     |2020-05-27T04:39:00+08:00|docker_007                                                            |docker_007          |docker_007 CPU      |docker_007 Memory   |\n",
      "|16  |✅    |  1|  1|True     |2020-05-22T05:18:00+08:00|docker_007                                                            |docker_007          |os_019              |docker_003 CPU      |\n",
      "|67  |✅    |  1|  1|True     |2020-05-30T05:43:00+08:00|docker_002                                                            |docker_002          |os_022 Network      |docker_002 Memory   |\n",
      "|76  |✅    |  1|  1|True     |2020-05-31T04:47:00+08:00|docker_006                                                            |docker_006          |os_018              |docker_006 CPU      |\n",
      "|62  |✅    |  1|  1|True     |2020-05-30T00:43:00+08:00|docker_005                                                            |docker_005          |docker_004 CPU      |docker_005 CPU      |\n",
      "|60  |✅    |  1|  1|True     |2020-05-29T05:11:00+08:00|docker_006                                                            |docker_006          |os_018              |db_003 Session      |\n",
      "|69  |✅    |  1|  1|True     |2020-05-31T00:47:00+08:00|docker_001                                                            |docker_001          |os_022 Network      |os_022              |\n",
      "|19  |✅    |  1|  1|False    |2020-05-23T00:40:00+08:00|db_003 Session                                                        |db_003 Session      |db_009 Session      |db_007 Session      |\n",
      "|4   |✅    |  1|  1|True     |2020-04-11T02:15:00+08:00|db_007 Session                                                        |db_007 Session      |db_009 Session      |db_003 Session      |\n",
      "|57  |❌    |  4|  4|False    |2020-05-29T02:11:00+08:00|db_003 Session                                                        |os_021 Network      |db_009 Session      |db_007 Session      |\n",
      "|34  |✅    |  1|  1|True     |2020-05-25T04:47:00+08:00|db_003 State                                                          |db_003 State        |db_003 Session      |db_003              |\n",
      "|10  |✅    |  1|  1|True     |2020-04-11T05:45:00+08:00|db_003 State                                                          |db_003 State        |db_003 Session      |db_007 Session      |\n",
      "|40  |✅    |  1|  1|True     |2020-05-26T04:15:00+08:00|os_020 Network                                                        |os_020 Network      |os_021 Network      |db_009 Session      |\n",
      "|14  |✅    |  1|  1|True     |2020-05-22T01:48:00+08:00|os_018 Network                                                        |os_018 Network      |os_018              |db_007 Session      |\n",
      "|33  |❌    |  2|  2|False    |2020-05-25T03:47:00+08:00|os_017 Network                                                        |os_019 Network      |os_017 Network      |db_003 Session      |\n",
      "|66  |❌    |  2|  2|True     |2020-05-30T05:13:00+08:00|os_018 Network                                                        |os_022 Network      |os_018 Network      |os_018              |\n",
      "|43  |✅    |  1|  1|False    |2020-05-27T00:53:00+08:00|os_017 Network                                                        |os_017 Network      |os_017              |db_009 Session      |\n",
      "|73  |✅    |  1|  1|False    |2020-05-31T03:17:00+08:00|os_017 Network                                                        |os_017 Network      |os_017              |db_003 Session      |\n",
      "|72  |✅    |  1|  1|True     |2020-05-31T02:47:00+08:00|os_021 Network                                                        |os_021 Network      |os_021              |db_009 Session      |\n",
      "\n",
      "2022-03-18 09:48:40.871 | INFO     | DejaVu.models.interface.callbacks:on_test_epoch_end:107 - \n",
      "A@1=98.18% A@2=98.18% A@3=98.18% A@5=98.18% MAR=1.09  \n",
      "|id  |     |FR |AR |recurring|timestamp                |root cause                                                            |rank-1              |rank-2              |rank-3              |\n",
      "|65  |✅    |  1|  1|True     |2020-05-30T04:13:00+08:00|docker_002 CPU                                                        |docker_002 CPU      |docker_002          |docker_002 Memory   |\n",
      "|59  |✅    |  1|  1|True     |2020-05-29T03:41:00+08:00|docker_006 CPU                                                        |docker_006 CPU      |docker_006          |db_009 Session      |\n",
      "|18  |✅    |  1|  1|True     |2020-05-23T00:05:00+08:00|docker_001 CPU                                                        |docker_001 CPU      |docker_001          |db_003 Session      |\n",
      "|50  |✅    |  1|  1|True     |2020-05-27T05:09:00+08:00|docker_008 CPU                                                        |docker_008 CPU      |docker_008          |db_007 Session      |\n",
      "|44  |✅    |  1|  1|True     |2020-05-27T01:23:00+08:00|docker_003 CPU                                                        |docker_003 CPU      |docker_003          |docker_003 Memory   |\n",
      "|41  |✅    |  1|  1|True     |2020-05-26T05:15:00+08:00|docker_008 CPU                                                        |docker_008 CPU      |docker_008          |os_022 Network      |\n",
      "|8   |✅    |  1|  1|True     |2020-04-11T04:40:00+08:00|docker_006 CPU                                                        |docker_006 CPU      |docker_006          |db_007 Session      |\n",
      "|52  |❌    |  6|  6|True     |2020-05-28T00:47:00+08:00|docker_003                                                            |docker_003 Memory   |docker_003 Thread   |docker_003 FULL GC  |\n",
      "|24  |✅    |  1|  1|True     |2020-05-23T05:20:00+08:00|docker_007                                                            |docker_007          |os_019              |docker_007 CPU      |\n",
      "|31  |✅    |  1|  1|True     |2020-05-24T04:47:00+08:00|docker_008                                                            |docker_008          |db_003 Session      |os_020              |\n",
      "|28  |✅    |  1|  1|True     |2020-05-24T02:47:00+08:00|docker_008                                                            |docker_008          |docker_008 CPU      |os_020              |\n",
      "|77  |✅    |  1|  1|True     |2020-05-31T05:48:00+08:00|docker_001                                                            |docker_001          |os_022 Network      |docker_001 CPU      |\n",
      "|48  |✅    |  1|  1|True     |2020-05-27T03:23:00+08:00|docker_006                                                            |docker_006          |os_018 Network      |os_018              |\n",
      "|49  |✅    |  1|  1|True     |2020-05-27T04:39:00+08:00|docker_005                                                            |docker_005          |os_017              |docker_005 CPU      |\n",
      "|16  |✅    |  1|  1|True     |2020-05-22T05:18:00+08:00|docker_007                                                            |docker_007          |os_019              |db_003 Session      |\n",
      "|67  |✅    |  1|  1|True     |2020-05-30T05:43:00+08:00|docker_003                                                            |docker_003          |docker_003 CPU      |db_009 Session      |\n",
      "|76  |✅    |  1|  1|True     |2020-05-31T04:47:00+08:00|docker_002                                                            |docker_002          |os_022 Network      |docker_002 CPU      |\n",
      "|62  |✅    |  1|  1|True     |2020-05-30T00:43:00+08:00|docker_003                                                            |docker_003          |db_007 Session      |db_009 Session      |\n",
      "|60  |✅    |  1|  1|True     |2020-05-29T05:11:00+08:00|docker_004                                                            |docker_004          |db_009 Session      |db_007 Session      |\n",
      "|69  |✅    |  1|  1|True     |2020-05-31T00:47:00+08:00|db_007 Session                                                        |db_007 Session      |db_003 Session      |db_009 Session      |\n",
      "|19  |✅    |  1|  1|True     |2020-05-23T00:40:00+08:00|db_007 Session                                                        |db_007 Session      |db_009 Session      |db_003 Session      |\n",
      "|4   |✅    |  1|  1|True     |2020-04-11T02:15:00+08:00|db_007 Session                                                        |db_007 Session      |db_003 Session      |db_009 Session      |\n",
      "|57  |✅    |  1|  1|True     |2020-05-29T02:11:00+08:00|db_007 Session                                                        |db_007 Session      |db_009 Session      |db_003 Session      |\n",
      "|34  |✅    |  1|  1|True     |2020-05-25T04:47:00+08:00|db_007 Session                                                        |db_007 Session      |db_003 Session      |db_009 Session      |\n",
      "|10  |✅    |  1|  1|True     |2020-04-11T05:45:00+08:00|db_007 Session                                                        |db_007 Session      |db_009 Session      |db_003 Session      |\n",
      "|40  |✅    |  1|  1|True     |2020-05-26T04:15:00+08:00|db_007 Session                                                        |db_007 Session      |db_003 Session      |db_009 Session      |\n",
      "|14  |✅    |  1|  1|True     |2020-05-22T01:48:00+08:00|db_007 Session                                                        |db_007 Session      |db_009 Session      |db_003 Session      |\n",
      "|33  |✅    |  1|  1|True     |2020-05-25T03:47:00+08:00|db_007 Session                                                        |db_007 Session      |db_003 Session      |db_009 Session      |\n",
      "|66  |✅    |  1|  1|True     |2020-05-30T05:13:00+08:00|db_007 Session                                                        |db_007 Session      |db_009 Session      |db_003 Session      |\n",
      "|43  |✅    |  1|  1|True     |2020-05-27T00:53:00+08:00|db_007 Session                                                        |db_007 Session      |db_003 Session      |db_009 Session      |\n",
      "|73  |✅    |  1|  1|True     |2020-05-31T03:17:00+08:00|db_007 Session                                                        |db_007 Session      |db_009 Session      |db_003 Session      |\n",
      "|72  |✅    |  1|  1|True     |2020-05-31T02:47:00+08:00|db_007 State                                                          |db_007 State        |db_007 Session      |db_009 Session      |\n",
      "\n",
      "2022-03-18 09:48:41.536 | INFO     | DejaVu.models.interface.callbacks:on_test_epoch_end:107 - \n",
      "A@1=82.35% A@2=88.24% A@3=94.12% A@5=94.12% MAR=1.59  \n",
      "|id  |     |FR |AR |recurring|timestamp                |root cause                                                            |rank-1              |rank-2              |rank-3              |\n",
      "|65  |✅    |  1|  1|False    |2020-05-30T04:13:00+08:00|docker_004 CPU                                                        |docker_004 CPU      |docker_004          |docker_004 Memory   |\n",
      "|59  |✅    |  1|  1|True     |2020-05-29T03:41:00+08:00|docker_003 CPU                                                        |docker_003 CPU      |docker_003          |docker_003 Memory   |\n",
      "|18  |✅    |  1|  1|False    |2020-05-23T00:05:00+08:00|docker_004 CPU                                                        |docker_004 CPU      |docker_004          |db_003 Session      |\n",
      "|50  |❌    |  3|  3|False    |2020-05-27T05:09:00+08:00|docker_005 CPU                                                        |docker_006          |docker_005          |docker_005 CPU      |\n",
      "|44  |❌    |  2|  2|True     |2020-05-27T01:23:00+08:00|docker_001                                                            |docker_004 CPU      |docker_001          |os_022 Network      |\n",
      "|41  |✅    |  1|  1|True     |2020-05-26T05:15:00+08:00|docker_006                                                            |docker_006          |os_018              |docker_006 CPU      |\n",
      "|8   |✅    |  1|  1|True     |2020-04-11T04:40:00+08:00|docker_001                                                            |docker_001          |docker_001 CPU      |docker_001 Memory   |\n",
      "|52  |✅    |  1|  1|True     |2020-05-28T00:47:00+08:00|docker_007                                                            |docker_007          |os_019              |docker_007 CPU      |\n",
      "|24  |✅    |  1|  1|True     |2020-05-23T05:20:00+08:00|docker_008                                                            |docker_008          |docker_008 CPU      |os_020              |\n",
      "|31  |✅    |  1|  1|True     |2020-05-24T04:47:00+08:00|docker_001                                                            |docker_001          |docker_001 CPU      |os_022 Network      |\n",
      "|28  |✅    |  1|  1|False    |2020-05-24T02:47:00+08:00|db_003 Session                                                        |db_003 Session      |db_009 Session      |db_007 Session      |\n",
      "|77  |✅    |  1|  1|False    |2020-05-31T05:48:00+08:00|db_003 Session                                                        |db_003 Session      |db_007 Session      |db_009 Session      |\n",
      "|48  |✅    |  1|  1|True     |2020-05-27T03:23:00+08:00|db_007 State                                                          |db_007 State        |db_007 Session      |db_009 Session      |\n",
      "|49  |✅    |  1|  1|True     |2020-05-27T04:39:00+08:00|os_021 Network                                                        |os_021 Network      |os_021              |db_009 Session      |\n",
      "|16  |✅    |  1|  1|True     |2020-05-22T05:18:00+08:00|os_018 Network                                                        |os_018 Network      |os_018              |db_009 Session      |\n",
      "|67  |❌    |  8|  8|True     |2020-05-30T05:43:00+08:00|os_018 Network                                                        |db_003 Session      |docker_002 CPU      |db_007 Session      |\n",
      "|76  |✅    |  1|  1|True     |2020-05-31T04:47:00+08:00|os_020 Network                                                        |os_020 Network      |os_020              |db_003 Session      |\n",
      "\n"
     ]
    },
    {
     "name": "stdout",
     "output_type": "stream",
     "text": [
      "/data/SSF/experiment_outputs/run_GAT_node_classification.py.2021-12-22T03:50:07.949451/LIME_explain\n"
     ]
    }
   ],
   "source": [
    "from pathlib import Path\n",
    "exp_dir = Path('/data/SSF/experiment_outputs/run_GAT_node_classification.py.2021-12-22T03:50:07.949451')\n",
    "\n",
    "from DejaVu.models import get_GAT_model\n",
    "model, y_probs, y_preds = read_model(\n",
    "    exp_dir,\n",
    "    get_GAT_model,\n",
    "    override_config=dict(data_dir=Path(\"/SSF/data/A1\"), flush_dataset_cache=False)\n",
    ")\n",
    "\n",
    "cdp = fdg = model.fdg\n",
    "config = model.config\n",
    "cache = model.cache\n",
    "\n",
    "output_dir = config.output_dir / 'LIME_explain'\n",
    "output_dir.mkdir(exist_ok=True, parents=True)\n",
    "print(output_dir)"
   ]
  },
  {
   "cell_type": "code",
   "execution_count": 3,
   "id": "4b259c6d-fa92-4089-92e2-b17b83444e22",
   "metadata": {},
   "outputs": [],
   "source": [
    "from DejaVu.models import DejaVuModelInterface\n",
    "from typing import Callable\n",
    "from einops import rearrange, repeat\n",
    "import torch as th\n",
    "import numpy as np\n",
    "def wrap_predictor_for_DejaVu_model(model: DejaVuModelInterface, failure_instance: str, failure_id: int, metric_local_id=None) -> Callable:\n",
    "    if failure_id in model.train_failure_ids:\n",
    "        dataset = model.train_dataset\n",
    "    elif failure_id in model.validation_failure_ids:\n",
    "        dataset = model.validation_dataset\n",
    "    else:\n",
    "        dataset = model.test_dataset\n",
    "    features, _, _, g = dataset[dataset.fault_ids.tolist().index(failure_id)]\n",
    "    global_id = model.fdg.instance_to_gid(failure_instance)\n",
    "    failure_class, local_id = model.fdg.instance_to_local_id(failure_instance)\n",
    "    failure_class_id = model.fdg.failure_classes.index(failure_class)\n",
    "    \n",
    "    def func(ts: np.ndarray):\n",
    "        device = model.device\n",
    "        model.to(device)\n",
    "        new_features = []\n",
    "        for fc_id in range(len(model.fdg.failure_classes)):\n",
    "            feat = repeat(features[fc_id], \"i m t -> b i m t\", b=ts.shape[0]).to(device=device, dtype=th.float32)\n",
    "            if fc_id == failure_class_id:\n",
    "                if metric_local_id is None:\n",
    "                    feat[:, local_id, :, :] = th.from_numpy(ts).to(device=device, dtype=th.float32)\n",
    "                else:\n",
    "                    feat[:, local_id, metric_local_id, :] = th.from_numpy(ts).to(device=device, dtype=th.float32)\n",
    "            # print(feat.shape)\n",
    "            new_features.append(feat)\n",
    "        probs = th.sigmoid(model(new_features, [g]).detach()).numpy()[:, global_id]\n",
    "        return np.vstack([1-probs, probs]).T\n",
    "    return func"
   ]
  },
  {
   "cell_type": "code",
   "execution_count": 4,
   "id": "07e34739-8f4d-48e9-b2a1-2b51e47d33ac",
   "metadata": {},
   "outputs": [
    {
     "name": "stderr",
     "output_type": "stream",
     "text": [
      "/opt/conda/lib/python3.8/site-packages/dask/dataframe/backends.py:189: FutureWarning: pandas.Int64Index is deprecated and will be removed from pandas in a future version. Use pandas.Index with the appropriate dtype instead.\n",
      "  _numeric_index_types = (pd.Int64Index, pd.Float64Index, pd.UInt64Index)\n",
      "/opt/conda/lib/python3.8/site-packages/dask/dataframe/backends.py:189: FutureWarning: pandas.Float64Index is deprecated and will be removed from pandas in a future version. Use pandas.Index with the appropriate dtype instead.\n",
      "  _numeric_index_types = (pd.Int64Index, pd.Float64Index, pd.UInt64Index)\n",
      "/opt/conda/lib/python3.8/site-packages/dask/dataframe/backends.py:189: FutureWarning: pandas.UInt64Index is deprecated and will be removed from pandas in a future version. Use pandas.Index with the appropriate dtype instead.\n",
      "  _numeric_index_types = (pd.Int64Index, pd.Float64Index, pd.UInt64Index)\n"
     ]
    },
    {
     "name": "stdout",
     "output_type": "stream",
     "text": [
      "failure_id=73 rc_instance='os_017 Network'\n"
     ]
    },
    {
     "data": {
      "text/html": [
       "<div>\n",
       "<style scoped>\n",
       "    .dataframe tbody tr th:only-of-type {\n",
       "        vertical-align: middle;\n",
       "    }\n",
       "\n",
       "    .dataframe tbody tr th {\n",
       "        vertical-align: top;\n",
       "    }\n",
       "\n",
       "    .dataframe thead th {\n",
       "        text-align: right;\n",
       "    }\n",
       "</style>\n",
       "<table border=\"1\" class=\"dataframe\">\n",
       "  <thead>\n",
       "    <tr style=\"text-align: right;\">\n",
       "      <th></th>\n",
       "      <th>feature</th>\n",
       "      <th>importance</th>\n",
       "    </tr>\n",
       "  </thead>\n",
       "  <tbody>\n",
       "    <tr>\n",
       "      <th>5</th>\n",
       "      <td>Recv_total</td>\n",
       "      <td>0.001181</td>\n",
       "    </tr>\n",
       "    <tr>\n",
       "      <th>4</th>\n",
       "      <td>Received_queue</td>\n",
       "      <td>0.001158</td>\n",
       "    </tr>\n",
       "    <tr>\n",
       "      <th>10</th>\n",
       "      <td>ss_total</td>\n",
       "      <td>0.001132</td>\n",
       "    </tr>\n",
       "    <tr>\n",
       "      <th>9</th>\n",
       "      <td>Sent_queue</td>\n",
       "      <td>0.001090</td>\n",
       "    </tr>\n",
       "    <tr>\n",
       "      <th>7</th>\n",
       "      <td>Sent_errors_packets</td>\n",
       "      <td>0.001037</td>\n",
       "    </tr>\n",
       "    <tr>\n",
       "      <th>3</th>\n",
       "      <td>Received_packets</td>\n",
       "      <td>0.001019</td>\n",
       "    </tr>\n",
       "    <tr>\n",
       "      <th>6</th>\n",
       "      <td>Send_total</td>\n",
       "      <td>0.000931</td>\n",
       "    </tr>\n",
       "    <tr>\n",
       "      <th>1</th>\n",
       "      <td>Outgoing_network_traffic</td>\n",
       "      <td>0.000843</td>\n",
       "    </tr>\n",
       "    <tr>\n",
       "      <th>8</th>\n",
       "      <td>Sent_packets</td>\n",
       "      <td>0.000841</td>\n",
       "    </tr>\n",
       "    <tr>\n",
       "      <th>2</th>\n",
       "      <td>Received_errors_packets</td>\n",
       "      <td>0.000732</td>\n",
       "    </tr>\n",
       "    <tr>\n",
       "      <th>0</th>\n",
       "      <td>Incoming_network_traffic</td>\n",
       "      <td>0.000624</td>\n",
       "    </tr>\n",
       "  </tbody>\n",
       "</table>\n",
       "</div>"
      ],
      "text/plain": [
       "                     feature  importance\n",
       "5                 Recv_total    0.001181\n",
       "4             Received_queue    0.001158\n",
       "10                  ss_total    0.001132\n",
       "9                 Sent_queue    0.001090\n",
       "7        Sent_errors_packets    0.001037\n",
       "3           Received_packets    0.001019\n",
       "6                 Send_total    0.000931\n",
       "1   Outgoing_network_traffic    0.000843\n",
       "8               Sent_packets    0.000841\n",
       "2    Received_errors_packets    0.000732\n",
       "0   Incoming_network_traffic    0.000624"
      ]
     },
     "execution_count": 4,
     "metadata": {},
     "output_type": "execute_result"
    }
   ],
   "source": [
    "from DejaVu.explanability.lime_timeseries import LimeTimeSeriesExplainer\n",
    "import pandas as pd\n",
    "def get_explain(failure_id: int):\n",
    "    rc_instance = model.fdg.root_cause_instances_of(failure_id)[0]\n",
    "    rc_class = model.fdg.instance_to_class(rc_instance)\n",
    "    _, local_id = model.fdg.instance_to_local_id(rc_instance)\n",
    "    rc_class_id = model.fdg.failure_classes.index(rc_class)\n",
    "    print(f\"{failure_id=} {rc_instance=}\")\n",
    "    explainer = LimeTimeSeriesExplainer(class_names=['non-root-cause', 'root-cause'], signal_names=model.fdg.FC_metrics_dict[rc_class])\n",
    "    num_features = 500  # how many feature contained in explanation\n",
    "    num_slices = 1  # split time series\n",
    "    if failure_id in model.train_failure_ids:\n",
    "        dataset = model.train_dataset\n",
    "    elif failure_id in model.validation_failure_ids:\n",
    "        dataset = model.validation_dataset\n",
    "    else:\n",
    "        dataset = model.test_dataset\n",
    "    ts = dataset[dataset.fault_ids.tolist().index(failure_id)][0][rc_class_id][local_id].numpy()\n",
    "    exp = explainer.explain_instance(\n",
    "        ts, wrap_predictor_for_DejaVu_model(model, rc_instance, failure_id), \n",
    "        num_features=num_features, num_samples=1000, num_slices=num_slices, \n",
    "        replacement_method='total_mean'\n",
    "    )\n",
    "    df = pd.DataFrame(exp.as_list(), columns=[\"feature\", \"importance\"])\n",
    "    df['feature'] = df['feature'].map(lambda _: _.split(\" - \")[1])\n",
    "    df = df.groupby(['feature']).sum().reset_index()\n",
    "    df = df.sort_values(by=\"importance\", ascending=False)\n",
    "    return df\n",
    "\n",
    "get_explain(73)"
   ]
  },
  {
   "cell_type": "code",
   "execution_count": 7,
   "id": "b2aea8b8-6997-4234-af33-422450d66b48",
   "metadata": {},
   "outputs": [
    {
     "name": "stdout",
     "output_type": "stream",
     "text": [
      "failure_id=14 rc_instance='os_018 Network'\n"
     ]
    },
    {
     "data": {
      "text/html": [
       "<div>\n",
       "<style scoped>\n",
       "    .dataframe tbody tr th:only-of-type {\n",
       "        vertical-align: middle;\n",
       "    }\n",
       "\n",
       "    .dataframe tbody tr th {\n",
       "        vertical-align: top;\n",
       "    }\n",
       "\n",
       "    .dataframe thead th {\n",
       "        text-align: right;\n",
       "    }\n",
       "</style>\n",
       "<table border=\"1\" class=\"dataframe\">\n",
       "  <thead>\n",
       "    <tr style=\"text-align: right;\">\n",
       "      <th></th>\n",
       "      <th>feature</th>\n",
       "      <th>importance</th>\n",
       "    </tr>\n",
       "  </thead>\n",
       "  <tbody>\n",
       "    <tr>\n",
       "      <th>0</th>\n",
       "      <td>Incoming_network_traffic</td>\n",
       "      <td>0.001006</td>\n",
       "    </tr>\n",
       "    <tr>\n",
       "      <th>2</th>\n",
       "      <td>Received_errors_packets</td>\n",
       "      <td>0.000982</td>\n",
       "    </tr>\n",
       "    <tr>\n",
       "      <th>1</th>\n",
       "      <td>Outgoing_network_traffic</td>\n",
       "      <td>0.000943</td>\n",
       "    </tr>\n",
       "    <tr>\n",
       "      <th>4</th>\n",
       "      <td>Received_queue</td>\n",
       "      <td>0.000889</td>\n",
       "    </tr>\n",
       "    <tr>\n",
       "      <th>3</th>\n",
       "      <td>Received_packets</td>\n",
       "      <td>0.000868</td>\n",
       "    </tr>\n",
       "    <tr>\n",
       "      <th>10</th>\n",
       "      <td>ss_total</td>\n",
       "      <td>0.000863</td>\n",
       "    </tr>\n",
       "    <tr>\n",
       "      <th>7</th>\n",
       "      <td>Sent_errors_packets</td>\n",
       "      <td>0.000839</td>\n",
       "    </tr>\n",
       "    <tr>\n",
       "      <th>8</th>\n",
       "      <td>Sent_packets</td>\n",
       "      <td>0.000741</td>\n",
       "    </tr>\n",
       "    <tr>\n",
       "      <th>6</th>\n",
       "      <td>Send_total</td>\n",
       "      <td>0.000709</td>\n",
       "    </tr>\n",
       "    <tr>\n",
       "      <th>5</th>\n",
       "      <td>Recv_total</td>\n",
       "      <td>0.000673</td>\n",
       "    </tr>\n",
       "    <tr>\n",
       "      <th>9</th>\n",
       "      <td>Sent_queue</td>\n",
       "      <td>0.000649</td>\n",
       "    </tr>\n",
       "  </tbody>\n",
       "</table>\n",
       "</div>"
      ],
      "text/plain": [
       "                     feature  importance\n",
       "0   Incoming_network_traffic    0.001006\n",
       "2    Received_errors_packets    0.000982\n",
       "1   Outgoing_network_traffic    0.000943\n",
       "4             Received_queue    0.000889\n",
       "3           Received_packets    0.000868\n",
       "10                  ss_total    0.000863\n",
       "7        Sent_errors_packets    0.000839\n",
       "8               Sent_packets    0.000741\n",
       "6                 Send_total    0.000709\n",
       "5                 Recv_total    0.000673\n",
       "9                 Sent_queue    0.000649"
      ]
     },
     "execution_count": 7,
     "metadata": {},
     "output_type": "execute_result"
    }
   ],
   "source": [
    "get_explain(14)"
   ]
  },
  {
   "cell_type": "code",
   "execution_count": 8,
   "id": "963a3dfc-8820-4a89-88ae-baf81d48249c",
   "metadata": {},
   "outputs": [
    {
     "name": "stdout",
     "output_type": "stream",
     "text": [
      "failure_id=20 rc_instance='os_021 Network'\n"
     ]
    },
    {
     "data": {
      "text/html": [
       "<div>\n",
       "<style scoped>\n",
       "    .dataframe tbody tr th:only-of-type {\n",
       "        vertical-align: middle;\n",
       "    }\n",
       "\n",
       "    .dataframe tbody tr th {\n",
       "        vertical-align: top;\n",
       "    }\n",
       "\n",
       "    .dataframe thead th {\n",
       "        text-align: right;\n",
       "    }\n",
       "</style>\n",
       "<table border=\"1\" class=\"dataframe\">\n",
       "  <thead>\n",
       "    <tr style=\"text-align: right;\">\n",
       "      <th></th>\n",
       "      <th>feature</th>\n",
       "      <th>importance</th>\n",
       "    </tr>\n",
       "  </thead>\n",
       "  <tbody>\n",
       "    <tr>\n",
       "      <th>5</th>\n",
       "      <td>Recv_total</td>\n",
       "      <td>0.001123</td>\n",
       "    </tr>\n",
       "    <tr>\n",
       "      <th>10</th>\n",
       "      <td>ss_total</td>\n",
       "      <td>0.001072</td>\n",
       "    </tr>\n",
       "    <tr>\n",
       "      <th>4</th>\n",
       "      <td>Received_queue</td>\n",
       "      <td>0.001033</td>\n",
       "    </tr>\n",
       "    <tr>\n",
       "      <th>2</th>\n",
       "      <td>Received_errors_packets</td>\n",
       "      <td>0.000888</td>\n",
       "    </tr>\n",
       "    <tr>\n",
       "      <th>1</th>\n",
       "      <td>Outgoing_network_traffic</td>\n",
       "      <td>0.000864</td>\n",
       "    </tr>\n",
       "    <tr>\n",
       "      <th>8</th>\n",
       "      <td>Sent_packets</td>\n",
       "      <td>0.000824</td>\n",
       "    </tr>\n",
       "    <tr>\n",
       "      <th>7</th>\n",
       "      <td>Sent_errors_packets</td>\n",
       "      <td>0.000758</td>\n",
       "    </tr>\n",
       "    <tr>\n",
       "      <th>3</th>\n",
       "      <td>Received_packets</td>\n",
       "      <td>0.000698</td>\n",
       "    </tr>\n",
       "    <tr>\n",
       "      <th>0</th>\n",
       "      <td>Incoming_network_traffic</td>\n",
       "      <td>0.000697</td>\n",
       "    </tr>\n",
       "    <tr>\n",
       "      <th>9</th>\n",
       "      <td>Sent_queue</td>\n",
       "      <td>0.000695</td>\n",
       "    </tr>\n",
       "    <tr>\n",
       "      <th>6</th>\n",
       "      <td>Send_total</td>\n",
       "      <td>0.000628</td>\n",
       "    </tr>\n",
       "  </tbody>\n",
       "</table>\n",
       "</div>"
      ],
      "text/plain": [
       "                     feature  importance\n",
       "5                 Recv_total    0.001123\n",
       "10                  ss_total    0.001072\n",
       "4             Received_queue    0.001033\n",
       "2    Received_errors_packets    0.000888\n",
       "1   Outgoing_network_traffic    0.000864\n",
       "8               Sent_packets    0.000824\n",
       "7        Sent_errors_packets    0.000758\n",
       "3           Received_packets    0.000698\n",
       "0   Incoming_network_traffic    0.000697\n",
       "9                 Sent_queue    0.000695\n",
       "6                 Send_total    0.000628"
      ]
     },
     "execution_count": 8,
     "metadata": {},
     "output_type": "execute_result"
    }
   ],
   "source": [
    "get_explain(20)"
   ]
  },
  {
   "cell_type": "code",
   "execution_count": 5,
   "id": "76b9419b-72ce-4829-93a5-2416a1e28958",
   "metadata": {
    "scrolled": true,
    "tags": []
   },
   "outputs": [
    {
     "name": "stderr",
     "output_type": "stream",
     "text": [
      "  0%|          | 0/17 [00:00<?, ?it/s]"
     ]
    },
    {
     "name": "stdout",
     "output_type": "stream",
     "text": [
      "failure_id=14 rc_instance='os_018 Network'\n"
     ]
    },
    {
     "name": "stderr",
     "output_type": "stream",
     "text": [
      "  6%|▌         | 1/17 [00:00<00:15,  1.04it/s]"
     ]
    },
    {
     "name": "stdout",
     "output_type": "stream",
     "text": [
      "failure_id=20 rc_instance='os_021 Network'\n"
     ]
    },
    {
     "name": "stderr",
     "output_type": "stream",
     "text": [
      " 12%|█▏        | 2/17 [00:01<00:14,  1.02it/s]"
     ]
    },
    {
     "name": "stdout",
     "output_type": "stream",
     "text": [
      "failure_id=22 rc_instance='os_021 Network'\n"
     ]
    },
    {
     "name": "stderr",
     "output_type": "stream",
     "text": [
      " 18%|█▊        | 3/17 [00:02<00:13,  1.01it/s]"
     ]
    },
    {
     "name": "stdout",
     "output_type": "stream",
     "text": [
      "failure_id=32 rc_instance='os_020 Network'\n"
     ]
    },
    {
     "name": "stderr",
     "output_type": "stream",
     "text": [
      " 24%|██▎       | 4/17 [00:03<00:12,  1.01it/s]"
     ]
    },
    {
     "name": "stdout",
     "output_type": "stream",
     "text": [
      "failure_id=33 rc_instance='os_017 Network'\n"
     ]
    },
    {
     "name": "stderr",
     "output_type": "stream",
     "text": [
      " 29%|██▉       | 5/17 [00:04<00:11,  1.01it/s]"
     ]
    },
    {
     "name": "stdout",
     "output_type": "stream",
     "text": [
      "failure_id=38 rc_instance='os_021 Network'\n"
     ]
    },
    {
     "name": "stderr",
     "output_type": "stream",
     "text": [
      " 35%|███▌      | 6/17 [00:05<00:10,  1.01it/s]"
     ]
    },
    {
     "name": "stdout",
     "output_type": "stream",
     "text": [
      "failure_id=39 rc_instance='os_018 Network'\n"
     ]
    },
    {
     "name": "stderr",
     "output_type": "stream",
     "text": [
      " 41%|████      | 7/17 [00:06<00:09,  1.01it/s]"
     ]
    },
    {
     "name": "stdout",
     "output_type": "stream",
     "text": [
      "failure_id=40 rc_instance='os_020 Network'\n"
     ]
    },
    {
     "name": "stderr",
     "output_type": "stream",
     "text": [
      " 47%|████▋     | 8/17 [00:07<00:08,  1.00it/s]"
     ]
    },
    {
     "name": "stdout",
     "output_type": "stream",
     "text": [
      "failure_id=42 rc_instance='os_018 Network'\n"
     ]
    },
    {
     "name": "stderr",
     "output_type": "stream",
     "text": [
      " 53%|█████▎    | 9/17 [00:08<00:07,  1.00it/s]"
     ]
    },
    {
     "name": "stdout",
     "output_type": "stream",
     "text": [
      "failure_id=43 rc_instance='os_017 Network'\n"
     ]
    },
    {
     "name": "stderr",
     "output_type": "stream",
     "text": [
      " 59%|█████▉    | 10/17 [00:09<00:07,  1.02s/it]"
     ]
    },
    {
     "name": "stdout",
     "output_type": "stream",
     "text": [
      "failure_id=51 rc_instance='os_021 Network'\n"
     ]
    },
    {
     "name": "stderr",
     "output_type": "stream",
     "text": [
      " 65%|██████▍   | 11/17 [00:11<00:06,  1.04s/it]"
     ]
    },
    {
     "name": "stdout",
     "output_type": "stream",
     "text": [
      "failure_id=55 rc_instance='os_018 Network'\n"
     ]
    },
    {
     "name": "stderr",
     "output_type": "stream",
     "text": [
      " 71%|███████   | 12/17 [00:12<00:05,  1.03s/it]"
     ]
    },
    {
     "name": "stdout",
     "output_type": "stream",
     "text": [
      "failure_id=61 rc_instance='os_021 Network'\n"
     ]
    },
    {
     "name": "stderr",
     "output_type": "stream",
     "text": [
      " 76%|███████▋  | 13/17 [00:13<00:04,  1.02s/it]"
     ]
    },
    {
     "name": "stdout",
     "output_type": "stream",
     "text": [
      "failure_id=64 rc_instance='os_020 Network'\n"
     ]
    },
    {
     "name": "stderr",
     "output_type": "stream",
     "text": [
      " 82%|████████▏ | 14/17 [00:14<00:03,  1.02s/it]"
     ]
    },
    {
     "name": "stdout",
     "output_type": "stream",
     "text": [
      "failure_id=66 rc_instance='os_018 Network'\n"
     ]
    },
    {
     "name": "stderr",
     "output_type": "stream",
     "text": [
      " 88%|████████▊ | 15/17 [00:15<00:02,  1.02s/it]"
     ]
    },
    {
     "name": "stdout",
     "output_type": "stream",
     "text": [
      "failure_id=72 rc_instance='os_021 Network'\n"
     ]
    },
    {
     "name": "stderr",
     "output_type": "stream",
     "text": [
      " 94%|█████████▍| 16/17 [00:16<00:01,  1.01s/it]"
     ]
    },
    {
     "name": "stdout",
     "output_type": "stream",
     "text": [
      "failure_id=73 rc_instance='os_017 Network'\n"
     ]
    },
    {
     "name": "stderr",
     "output_type": "stream",
     "text": [
      "100%|██████████| 17/17 [00:17<00:00,  1.01s/it]\n"
     ]
    },
    {
     "data": {
      "text/html": [
       "<div>\n",
       "<style scoped>\n",
       "    .dataframe tbody tr th:only-of-type {\n",
       "        vertical-align: middle;\n",
       "    }\n",
       "\n",
       "    .dataframe tbody tr th {\n",
       "        vertical-align: top;\n",
       "    }\n",
       "\n",
       "    .dataframe thead th {\n",
       "        text-align: right;\n",
       "    }\n",
       "</style>\n",
       "<table border=\"1\" class=\"dataframe\">\n",
       "  <thead>\n",
       "    <tr style=\"text-align: right;\">\n",
       "      <th></th>\n",
       "      <th>feature</th>\n",
       "      <th>importance</th>\n",
       "      <th>fid</th>\n",
       "    </tr>\n",
       "  </thead>\n",
       "  <tbody>\n",
       "    <tr>\n",
       "      <th>10</th>\n",
       "      <td>ss_total</td>\n",
       "      <td>0.001006</td>\n",
       "      <td>14</td>\n",
       "    </tr>\n",
       "    <tr>\n",
       "      <th>1</th>\n",
       "      <td>Outgoing_network_traffic</td>\n",
       "      <td>0.000995</td>\n",
       "      <td>14</td>\n",
       "    </tr>\n",
       "    <tr>\n",
       "      <th>4</th>\n",
       "      <td>Received_queue</td>\n",
       "      <td>0.000931</td>\n",
       "      <td>14</td>\n",
       "    </tr>\n",
       "    <tr>\n",
       "      <th>3</th>\n",
       "      <td>Received_packets</td>\n",
       "      <td>0.000882</td>\n",
       "      <td>14</td>\n",
       "    </tr>\n",
       "    <tr>\n",
       "      <th>2</th>\n",
       "      <td>Received_errors_packets</td>\n",
       "      <td>0.000875</td>\n",
       "      <td>14</td>\n",
       "    </tr>\n",
       "    <tr>\n",
       "      <th>...</th>\n",
       "      <td>...</td>\n",
       "      <td>...</td>\n",
       "      <td>...</td>\n",
       "    </tr>\n",
       "    <tr>\n",
       "      <th>8</th>\n",
       "      <td>Sent_packets</td>\n",
       "      <td>0.000861</td>\n",
       "      <td>73</td>\n",
       "    </tr>\n",
       "    <tr>\n",
       "      <th>0</th>\n",
       "      <td>Incoming_network_traffic</td>\n",
       "      <td>0.000765</td>\n",
       "      <td>73</td>\n",
       "    </tr>\n",
       "    <tr>\n",
       "      <th>2</th>\n",
       "      <td>Received_errors_packets</td>\n",
       "      <td>0.000687</td>\n",
       "      <td>73</td>\n",
       "    </tr>\n",
       "    <tr>\n",
       "      <th>10</th>\n",
       "      <td>ss_total</td>\n",
       "      <td>0.000628</td>\n",
       "      <td>73</td>\n",
       "    </tr>\n",
       "    <tr>\n",
       "      <th>3</th>\n",
       "      <td>Received_packets</td>\n",
       "      <td>0.000578</td>\n",
       "      <td>73</td>\n",
       "    </tr>\n",
       "  </tbody>\n",
       "</table>\n",
       "<p>187 rows × 3 columns</p>\n",
       "</div>"
      ],
      "text/plain": [
       "                     feature  importance  fid\n",
       "10                  ss_total    0.001006   14\n",
       "1   Outgoing_network_traffic    0.000995   14\n",
       "4             Received_queue    0.000931   14\n",
       "3           Received_packets    0.000882   14\n",
       "2    Received_errors_packets    0.000875   14\n",
       "..                       ...         ...  ...\n",
       "8               Sent_packets    0.000861   73\n",
       "0   Incoming_network_traffic    0.000765   73\n",
       "2    Received_errors_packets    0.000687   73\n",
       "10                  ss_total    0.000628   73\n",
       "3           Received_packets    0.000578   73\n",
       "\n",
       "[187 rows x 3 columns]"
      ]
     },
     "execution_count": 5,
     "metadata": {},
     "output_type": "execute_result"
    }
   ],
   "source": [
    "from tqdm import tqdm\n",
    "exp_df_list = []\n",
    "for fid in tqdm([_ for _ in model.fdg.failure_ids if model.fdg.instance_to_class(model.fdg.root_cause_instances_of(_)[0]) == \"OS Network\"]):\n",
    "    __df = get_explain(fid)\n",
    "    __df[\"fid\"] = fid\n",
    "    exp_df_list.append(__df)\n",
    "exp_df = pd.concat(exp_df_list)\n",
    "exp_df"
   ]
  },
  {
   "cell_type": "code",
   "execution_count": 6,
   "id": "8c8acbd5-9e2e-4eba-8e41-9f5bfa80bd75",
   "metadata": {},
   "outputs": [
    {
     "data": {
      "image/png": "[encoded data removed]",
      "text/plain": [
       "<Figure size 1500x360 with 1 Axes>"
      ]
     },
     "metadata": {
      "needs_background": "light"
     },
     "output_type": "display_data"
    }
   ],
   "source": [
    "import matplotlib.pyplot as plt\n",
    "import seaborn as sns\n",
    "fig = plt.figure(dpi=300, figsize=(5, 1.2))\n",
    "order = exp_df.groupby([\"feature\"])[\"importance\"].mean().sort_values(ascending=False).index.tolist()[:5]\n",
    "sns.barplot(data=exp_df[exp_df.feature.isin(order)], y=\"feature\", x=\"importance\", order=order, palette=\"Blues_r\")\n",
    "plt.ylabel(None)\n",
    "plt.xlabel(\"Metric Importance by LIME\")\n",
    "plt.savefig(output_dir / \"OS_Network.pdf\", bbox_inches='tight', pad_inches=0)\n",
    "plt.show()\n",
    "plt.close()"
   ]
  },
  {
   "cell_type": "code",
   "execution_count": 12,
   "id": "69974ef3-9cf2-4e43-8ca5-ad844f1a12e5",
   "metadata": {},
   "outputs": [
    {
     "name": "stdout",
     "output_type": "stream",
     "text": [
      "failure_id=14 rc_instance='os_018 Network'\n",
      "failure_id=20 rc_instance='os_021 Network'\n"
     ]
    },
    {
     "data": {
      "image/png": "[encoded data removed]",
      "text/plain": [
       "<Figure size 2400x420 with 2 Axes>"
      ]
     },
     "metadata": {
      "needs_background": "light"
     },
     "output_type": "display_data"
    }
   ],
   "source": [
    "import matplotlib.pyplot as plt\n",
    "import seaborn as sns\n",
    "fig, axes = plt.subplots(1, 2, dpi=300, figsize=(8, 1.4))\n",
    "sns.barplot(data=get_explain(14).iloc[:5], y=\"feature\", x=\"importance\", palette=\"Blues_r\", ax=axes[0])\n",
    "axes[0].set_ylabel(None)\n",
    "axes[0].set_xlabel(\"Metric Importances of $T_1$                   \")\n",
    "# axes[0].yaxis.set_tick_params(labelsize=9)\n",
    "# axes[0].xlabel(-0.0007, 5.5, \"Feature Importance\")\n",
    "axes[0].ticklabel_format(style=\"sci\", axis=\"x\", scilimits=(-1, 1))\n",
    "\n",
    "sns.barplot(data=get_explain(20).iloc[:5], y=\"feature\", x=\"importance\", palette=\"Blues_r\", ax=axes[1])\n",
    "axes[1].set_ylabel(None)\n",
    "axes[1].set_xlabel(\"Metric Importances of $T_2$                   \")\n",
    "axes[1].ticklabel_format(style=\"sci\", axis=\"x\", scilimits=(-1, 1))\n",
    "# axes[0].text(-0.0008, 5.5, \"Feature Importance by LIME\")\n",
    "# axes[0].set_xlabel(\"$T_1$\")\n",
    "# plt.ylabel(None)\n",
    "# plt.xlabel(\"Feature Importance by LIME\")\n",
    "plt.subplots_adjust(wspace=0, hspace=0)\n",
    "plt.tight_layout()\n",
    "plt.savefig(\"/SSF/output/lime_local_interpretation_example.pdf\", bbox_inches='tight', pad_inches=0)\n",
    "plt.show()\n",
    "plt.close()"
   ]
  },
  {
   "cell_type": "code",
   "execution_count": null,
   "id": "fd5e0bbc-4402-4021-9aac-8129d0de55b4",
   "metadata": {},
   "outputs": [],
   "source": []
  }
 ],
 "metadata": {
  "jupytext": {
   "formats": "ipynb,py:percent"
  },
  "kernelspec": {
   "display_name": "Python 3 (ipykernel)",
   "language": "python",
   "name": "python3"
  },
  "language_info": {
   "codemirror_mode": {
    "name": "ipython",
    "version": 3
   },
   "file_extension": ".py",
   "mimetype": "text/x-python",
   "name": "python",
   "nbconvert_exporter": "python",
   "pygments_lexer": "ipython3",
   "version": "3.8.12"
  }
 },
 "nbformat": 4,
 "nbformat_minor": 5
}
