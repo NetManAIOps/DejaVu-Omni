{
 "cells": [
  {
   "cell_type": "code",
   "execution_count": 1,
   "id": "8dcb64ea-f27e-492d-b2a7-0314e2b412c8",
   "metadata": {},
   "outputs": [
    {
     "name": "stderr",
     "output_type": "stream",
     "text": [
      "Using backend: pytorch\n"
     ]
    }
   ],
   "source": [
    "%load_ext autoreload\n",
    "%autoreload 2\n",
    "\n",
    "import sys\n",
    "import os\n",
    "sys.path.insert(0, \"/SSF\")\n",
    "from DejaVu.explib.read_model import read_model"
   ]
  },
  {
   "cell_type": "code",
   "execution_count": 97,
   "id": "3a095f60-be41-48fd-a5ee-7766609fde05",
   "metadata": {
    "scrolled": true,
    "tags": []
   },
   "outputs": [
    {
     "name": "stderr",
     "output_type": "stream",
     "text": [
      "2022-02-24 03:41:39.989 | DEBUG    | utils.load_model:best_checkpoint:19 - path=PosixPath('/data/SSF/experiment_outputs/run_GAT_node_classification.py.2021-12-22T03:50:07.949451') metric='val_loss' mode='min'\n",
      "2022-02-24 03:41:40.014 | DEBUG    | utils.load_model:best_checkpoint:40 - ckpt_path=PosixPath('/data/SSF/experiment_outputs/run_GAT_node_classification.py.2021-12-22T03:50:07.949451/lightning_logs/version_0/checkpoints/epoch=449-A@1=0.647059-val_loss=0.296444-MAR=2.235294.ckpt') has metrics: {'epoch': '449', 'A@1': '0.647059', 'val_loss': '0.296444', 'MAR': '2.235294'}\n",
      "2022-02-24 03:41:40.016 | DEBUG    | utils.load_model:best_checkpoint:40 - ckpt_path=PosixPath('/data/SSF/experiment_outputs/run_GAT_node_classification.py.2021-12-22T03:50:07.949451/lightning_logs/version_0/checkpoints/epoch=119-A@1=0.882353-val_loss=0.346040-MAR=1.470588.ckpt') has metrics: {'epoch': '119', 'A@1': '0.882353', 'val_loss': '0.346040', 'MAR': '1.470588'}\n",
      "2022-02-24 03:41:40.017 | DEBUG    | utils.load_model:best_checkpoint:40 - ckpt_path=PosixPath('/data/SSF/experiment_outputs/run_GAT_node_classification.py.2021-12-22T03:50:07.949451/lightning_logs/version_0/checkpoints/epoch=109-A@1=0.882353-val_loss=0.331854-MAR=1.823529.ckpt') has metrics: {'epoch': '109', 'A@1': '0.882353', 'val_loss': '0.331854', 'MAR': '1.823529'}\n",
      "2022-02-24 03:41:40.018 | DEBUG    | utils.load_model:best_checkpoint:40 - ckpt_path=PosixPath('/data/SSF/experiment_outputs/run_GAT_node_classification.py.2021-12-22T03:50:07.949451/lightning_logs/version_0/checkpoints/epoch=69-A@1=0.882353-val_loss=0.341408-MAR=3.352941.ckpt') has metrics: {'epoch': '69', 'A@1': '0.882353', 'val_loss': '0.341408', 'MAR': '3.352941'}\n",
      "2022-02-24 03:41:40.019 | DEBUG    | utils.load_model:best_checkpoint:40 - ckpt_path=PosixPath('/data/SSF/experiment_outputs/run_GAT_node_classification.py.2021-12-22T03:50:07.949451/lightning_logs/version_0/checkpoints/epoch=59-A@1=0.823529-val_loss=0.295916-MAR=1.705882.ckpt') has metrics: {'epoch': '59', 'A@1': '0.823529', 'val_loss': '0.295916', 'MAR': '1.705882'}\n",
      "2022-02-24 03:41:40.019 | WARNING  | utils.load_model:best_checkpoint:35 - ckpt_path=PosixPath('/data/SSF/experiment_outputs/run_GAT_node_classification.py.2021-12-22T03:50:07.949451/lightning_logs/version_0/checkpoints/last.ckpt') not match\n",
      "2022-02-24 03:41:40.062 | DEBUG    | utils.load_model:best_checkpoint:47 - best ckpt: best_model_path=PosixPath('/data/SSF/experiment_outputs/run_GAT_node_classification.py.2021-12-22T03:50:07.949451/lightning_logs/version_0/checkpoints/epoch=59-A@1=0.823529-val_loss=0.295916-MAR=1.705882.ckpt')\n",
      "2022-02-24 03:41:40.492 | DEBUG    | failure_dependency_graph.failure_dependency_graph:load:185 - Load CDP: graph_path=PosixPath('/SSF/data/A1/graph.yml') metrics_path=PosixPath('/SSF/data/A1/metrics.norm.pkl') faults_path=PosixPath('/SSF/data/A1/faults.csv') failures_graph_paths=[]\n",
      "2022-02-24 03:41:40.493 | DEBUG    | failure_dependency_graph.parse_yaml_graph_config:parse_yaml_graph_config:25 - parsing Graph from /SSF/data/A1/graph.yml\n",
      "2022-02-24 03:41:41.407 | DEBUG    | failure_dependency_graph.failure_dependency_graph:__init__:87 - All edge types: ['DB-deployment-DB Load',\n",
      " 'DB-deployment-DB Memory',\n",
      " 'DB-deployment-DB Session',\n",
      " 'DB-deployment-DB State',\n",
      " 'DB-deployment-DB Usage',\n",
      " 'Docker-call-DB',\n",
      " 'Docker-call-Docker',\n",
      " 'Docker-deployment-Docker CPU',\n",
      " 'Docker-deployment-Docker FULL GC',\n",
      " 'Docker-deployment-Docker Memory',\n",
      " 'Docker-deployment-Docker Session',\n",
      " 'Docker-deployment-Docker Thread',\n",
      " 'Docker-deployment-OS',\n",
      " 'OS-deployment-OS Availability',\n",
      " 'OS-deployment-OS Disk',\n",
      " 'OS-deployment-OS Load',\n",
      " 'OS-deployment-OS Memory',\n",
      " 'OS-deployment-OS Network',\n",
      " 'OSB-call-Docker',\n",
      " 'OSB-deployment-OS Availability',\n",
      " 'OSB-deployment-OS Disk',\n",
      " 'OSB-deployment-OS Load',\n",
      " 'OSB-deployment-OS Memory',\n",
      " 'OSB-deployment-OS Network']\n",
      "2022-02-24 03:41:41.589 | INFO     | failure_dependency_graph.failure_dependency_graph:__init__:95 - the number of nodes: 102\n",
      "2022-02-24 03:41:41.590 | INFO     | failure_dependency_graph.failure_dependency_graph:__init__:96 - all (19) node types: ['DB', 'DB Load', 'DB Memory', 'DB Session', 'DB State', 'DB Usage', 'Docker', 'Docker CPU', 'Docker FULL GC', 'Docker Memory', 'Docker Session', 'Docker Thread', 'OS', 'OS Availability', 'OS Disk', 'OS Load', 'OS Memory', 'OS Network', 'OSB']\n",
      "2022-02-24 03:41:41.591 | INFO     | failure_dependency_graph.failure_dependency_graph:__init__:97 - the number of metrics: 147 (metric_type) 710 (name)\n",
      "2022-02-24 03:41:41.593 | INFO     | failure_dependency_graph.failure_dependency_graph:__init__:101 - The metrics of each node type: \n",
      "{'DB': ['cost', 'count', 'proc', 'succ_rate'],\n",
      " 'DB Load': ['ACS',\n",
      "             'AIOS',\n",
      "             'AWS',\n",
      "             'CPU_Used_Pct',\n",
      "             'CPU_free_pct',\n",
      "             'CPU_pused',\n",
      "             'Call_Per_Sec',\n",
      "             'DFParaWrite_Per_Sec',\n",
      "             'Exec_Per_Sec',\n",
      "             'LFParaWrite_Per_Sec',\n",
      "             'LFSync_Per_Sec',\n",
      "             'Logic_Read_Per_Sec',\n",
      "             'Login_Per_Sec',\n",
      "             'PGA_Used_Pct',\n",
      "             'Physical_Read_Per_Sec',\n",
      "             'SEQ_Used_Pct',\n",
      "             'SctRead_Per_Sec',\n",
      "             'SeqRead_Per_Sec',\n",
      "             'SeqRead_Per_Sec',\n",
      "             'SeqRead_Per_Sec',\n",
      "             'SeqRead_Per_Sec',\n",
      "             'Sess_Connect',\n",
      "             'TPS_Per_Sec',\n",
      "             'Tbs_Used_Pct',\n",
      "             'UndoTbs_Pct',\n",
      "             'User_Commit',\n",
      "             'User_Commit'],\n",
      " 'DB Memory': ['MEM_Total', 'MEM_Used', 'MEM_Used_Pct', 'MEM_real_util'],\n",
      " 'DB Session': ['Proc_Used_Pct',\n",
      "                'Proc_User_Used_Pct',\n",
      "                'Sess_Active',\n",
      "                'Sess_Connect',\n",
      "                'Sess_Connect',\n",
      "                'Sess_Used_Temp',\n",
      "                'Sess_Used_Undo',\n",
      "                'Session_pct'],\n",
      " 'DB State': ['DbTime',\n",
      "              'Hang',\n",
      "              'On_Off_State',\n",
      "              'Row_Lock',\n",
      "              'tnsping_result_time'],\n",
      " 'DB Usage': ['Asm_Free_Tb',\n",
      "              'DbFile_Used_Pct',\n",
      "              'New_Tbs_Free_Gb',\n",
      "              'New_Tbs_Free_Gb',\n",
      "              'New_Tbs_Used_Pct',\n",
      "              'PGA_used_total',\n",
      "              'Redo_Per_Sec',\n",
      "              'Tbs_Free_Gb',\n",
      "              'Tbs_Used_Pct',\n",
      "              'TempTbs_Pct',\n",
      "              'Total_Tbs_Size',\n",
      "              'Used_Tbs_Size'],\n",
      " 'Docker': ['cost', 'count', 'proc', 'succ_rate'],\n",
      " 'Docker CPU': ['container_cpu_used'],\n",
      " 'Docker FULL GC': ['container_fgc', 'container_fgct'],\n",
      " 'Docker Memory': ['container_mem_used'],\n",
      " 'Docker Session': ['container_session_used'],\n",
      " 'Docker Thread': ['container_thread_idle',\n",
      "                   'container_thread_running',\n",
      "                   'container_thread_total',\n",
      "                   'container_thread_used_pct'],\n",
      " 'OS': ['fake'],\n",
      " 'OS Availability': ['Agent_ping', 'ICMP_ping'],\n",
      " 'OS Disk': ['Disk_avgqu_sz',\n",
      "             'Disk_await',\n",
      "             'Disk_io_util',\n",
      "             'Disk_io_util',\n",
      "             'Disk_rd_ios',\n",
      "             'Disk_rd_kbs',\n",
      "             'Disk_svctm',\n",
      "             'Disk_wr_ios',\n",
      "             'Disk_wr_kbs',\n",
      "             'FS_max_avail',\n",
      "             'FS_max_util',\n",
      "             'FS_total_space',\n",
      "             'FS_used_pct',\n",
      "             'FS_used_space',\n",
      "             'Free_disk_space',\n",
      "             'Free_inodes',\n",
      "             'Total_disk_space',\n",
      "             'Total_inodes',\n",
      "             'Used_disk_space',\n",
      "             'Used_disk_space_pct',\n",
      "             'Used_inodes',\n",
      "             'Used_inodes_pct'],\n",
      " 'OS Load': ['Buffers_used',\n",
      "             'CPU_frequency',\n",
      "             'CPU_idle_pct',\n",
      "             'CPU_iowait_time',\n",
      "             'CPU_kernel_number',\n",
      "             'CPU_number',\n",
      "             'CPU_pused',\n",
      "             'CPU_system_time',\n",
      "             'CPU_user_time',\n",
      "             'CPU_util_pc',\n",
      "             'CPU_util_pct',\n",
      "             'Cpu_num',\n",
      "             'Num_of_processes',\n",
      "             'Num_of_running_processes',\n",
      "             'Processor_load_15_min',\n",
      "             'Processor_load_1_min',\n",
      "             'Processor_load_5_min',\n",
      "             'Received_queue',\n",
      "             'Sent_queue',\n",
      "             'System_block_queue_length',\n",
      "             'System_wait_queue_length',\n",
      "             'Zombie_Process'],\n",
      " 'OS Memory': ['Buffers_used',\n",
      "               'Cache_used',\n",
      "               'Memory_available',\n",
      "               'Memory_available_pct',\n",
      "               'Memory_free',\n",
      "               'Memory_total',\n",
      "               'Memory_used',\n",
      "               'Memory_used_pct',\n",
      "               'Page_pi',\n",
      "               'Page_po',\n",
      "               'Shared_memory',\n",
      "               'Swap_used_pct'],\n",
      " 'OS Network': ['Incoming_network_traffic',\n",
      "                'Outgoing_network_traffic',\n",
      "                'Received_errors_packets',\n",
      "                'Received_packets',\n",
      "                'Received_queue',\n",
      "                'Recv_total',\n",
      "                'Send_total',\n",
      "                'Sent_errors_packets',\n",
      "                'Sent_packets',\n",
      "                'Sent_queue',\n",
      "                'ss_total'],\n",
      " 'OSB': ['cost', 'count', 'proc', 'succ_rate']}\n",
      "2022-02-24 03:41:41.602 | INFO     | failure_dependency_graph.model_interface:__init__:47 - dataset_cache_dir=/tmp/SSF/.cache/faults=_SSF_data_A1_faults.csv.graph=_SSF_data_A1_graph.yml.metrics=_SSF_data_A1_metrics.norm.pkl.use_anomaly_direction_constraint=False\n",
      "2022-02-24 03:41:41.633 | INFO     | failure_dependency_graph.model_interface:split_failures_by_type:209 - fault ids with multiple root causes: []\n",
      "2022-02-24 03:41:41.634 | INFO     | failure_dependency_graph.model_interface:split_failures_by_type:234 - fault_type=('Docker CPU',)                \n",
      "train_length=7     train_ids=[5, 23, 12, 37, 0, 58, 30] \n",
      "validation_length=4     validation_ids=[75, 29, 3, 15] \n",
      "test_length=8     test_ids=[65, 59, 18, 50, 44, 41, 8, 52] \n",
      "(7   recurring faults)\n",
      "2022-02-24 03:41:41.635 | INFO     | failure_dependency_graph.model_interface:split_failures_by_type:234 - fault_type=('Docker',)                    \n",
      "train_length=12    train_ids=[35, 25, 56, 71, 53, 17, 13, 9, 6, 1, 7, 26] \n",
      "validation_length=6     validation_ids=[2, 21, 63, 68, 70, 54] \n",
      "test_length=12    test_ids=[24, 31, 28, 77, 48, 49, 16, 67, 76, 62, 60, 69] \n",
      "(12  recurring faults)\n",
      "2022-02-24 03:41:41.636 | INFO     | failure_dependency_graph.model_interface:split_failures_by_type:234 - fault_type=('DB Session',)                \n",
      "train_length=2     train_ids=[36, 47] \n",
      "validation_length=2     validation_ids=[74, 45] \n",
      "test_length=3     test_ids=[19, 4, 57] \n",
      "(1   recurring faults)\n",
      "2022-02-24 03:41:41.637 | INFO     | failure_dependency_graph.model_interface:split_failures_by_type:234 - fault_type=('DB State',)                  \n",
      "train_length=2     train_ids=[46, 11] \n",
      "validation_length=1     validation_ids=[27] \n",
      "test_length=2     test_ids=[34, 10] \n",
      "(2   recurring faults)\n",
      "2022-02-24 03:41:41.638 | INFO     | failure_dependency_graph.model_interface:split_failures_by_type:234 - fault_type=('OS Network',)                \n",
      "train_length=6     train_ids=[22, 39, 64, 61, 20, 38] \n",
      "validation_length=4     validation_ids=[51, 42, 55, 32] \n",
      "test_length=7     test_ids=[40, 14, 33, 66, 43, 73, 72] \n",
      "(4   recurring faults)\n",
      "2022-02-24 03:41:41.639 | INFO     | failure_dependency_graph.model_interface:split_failures_by_type:247 - repeat [5, 23, 12, 37, 0, 58, 30] for 1 times\n",
      "2022-02-24 03:41:41.640 | INFO     | failure_dependency_graph.model_interface:split_failures_by_type:247 - repeat [35, 25, 56, 71, 53, 17, 13, 9, 6, 1, 7, 26] for 1 times\n",
      "2022-02-24 03:41:41.640 | INFO     | failure_dependency_graph.model_interface:split_failures_by_type:247 - repeat [36, 47] for 6 times\n",
      "2022-02-24 03:41:41.641 | INFO     | failure_dependency_graph.model_interface:split_failures_by_type:247 - repeat [46, 11] for 6 times\n",
      "2022-02-24 03:41:41.642 | INFO     | failure_dependency_graph.model_interface:split_failures_by_type:247 - repeat [22, 39, 64, 61, 20, 38] for 2 times\n",
      "2022-02-24 03:41:41.643 | INFO     | failure_dependency_graph.model_interface:split_failures_by_type:265 - len(train_list)=55 len(set(train_list))=29 len(validation_list)=17 len(test_list)=32 \n",
      "2022-02-24 03:41:41.724 | WARNING  | failure_dependency_graph.model_interface:get_metric_preprocessor:105 - Use cached metric preprocessor\n",
      "/opt/conda/lib/python3.8/site-packages/pytorch_lightning/trainer/connectors/callback_connector.py:90: LightningDeprecationWarning: Setting `Trainer(progress_bar_refresh_rate=0)` is deprecated in v1.5 and will be removed in v1.7. Please pass `pytorch_lightning.callbacks.progress.TQDMProgressBar` with `refresh_rate` directly to the Trainer's `callbacks` argument instead. Or, to disable the progress bar pass `enable_progress_bar = False` to the Trainer.\n",
      "  rank_zero_deprecation(\n",
      "GPU available: True, used: False\n",
      "TPU available: False, using: 0 TPU cores\n",
      "IPU available: False, using: 0 IPUs\n",
      "/opt/conda/lib/python3.8/site-packages/pytorch_lightning/trainer/trainer.py:1584: UserWarning: GPU available but not used. Set the gpus flag in your trainer `Trainer(gpus=1)` or script `--gpus=1`.\n",
      "  rank_zero_warn(\n",
      "/opt/conda/lib/python3.8/site-packages/pytorch_lightning/trainer/trainer.py:906: LightningDeprecationWarning: `trainer.test(test_dataloaders)` is deprecated in v1.4 and will be removed in v1.6. Use `trainer.test(dataloaders)` instead.\n",
      "  rank_zero_deprecation(\n",
      "/opt/conda/lib/python3.8/site-packages/pytorch_lightning/trainer/data_loading.py:132: UserWarning: The dataloader, test_dataloader 0, does not have many workers which may be a bottleneck. Consider increasing the value of the `num_workers` argument` (try 32 which is the number of cpus on this machine) in the `DataLoader` init to improve performance.\n",
      "  rank_zero_warn(\n",
      "2022-02-24 03:41:47.905 | INFO     | DejaVu.models.interface.callbacks:on_test_epoch_end:107 - \n",
      "A@1=87.50% A@2=96.88% A@3=96.88% A@5=100.00% MAR=1.19  \n",
      "|id  |     |FR |AR |recurring|timestamp                |root cause                                                            |rank-1              |rank-2              |rank-3              |\n",
      "|65  |✅    |  1|  1|True     |2020-05-30T04:13:00+08:00|docker_002 CPU                                                        |docker_002 CPU      |docker_002          |db_003 Session      |\n",
      "|59  |✅    |  1|  1|True     |2020-05-29T03:41:00+08:00|docker_001 CPU                                                        |docker_001 CPU      |docker_008          |db_003 Session      |\n",
      "|18  |✅    |  1|  1|False    |2020-05-23T00:05:00+08:00|docker_004 CPU                                                        |docker_004 CPU      |docker_004          |db_003 Session      |\n",
      "|50  |✅    |  1|  1|True     |2020-05-27T05:09:00+08:00|docker_001 CPU                                                        |docker_001 CPU      |os_020 Network      |docker_001          |\n",
      "|44  |✅    |  1|  1|True     |2020-05-27T01:23:00+08:00|docker_006 CPU                                                        |docker_006 CPU      |docker_006          |db_009 Session      |\n",
      "|41  |✅    |  1|  1|True     |2020-05-26T05:15:00+08:00|docker_002 CPU                                                        |docker_002 CPU      |docker_002          |db_003 Session      |\n",
      "|8   |✅    |  1|  1|True     |2020-04-11T04:40:00+08:00|docker_008 CPU                                                        |docker_008 CPU      |docker_008          |db_007 Session      |\n",
      "|52  |✅    |  1|  1|True     |2020-05-28T00:47:00+08:00|docker_001 CPU                                                        |docker_001 CPU      |docker_001          |db_003 Session      |\n",
      "|24  |✅    |  1|  1|True     |2020-05-23T05:20:00+08:00|docker_005                                                            |docker_005          |os_017              |docker_005 CPU      |\n",
      "|31  |✅    |  1|  1|True     |2020-05-24T04:47:00+08:00|docker_004                                                            |docker_004          |docker_004 CPU      |os_021 Network      |\n",
      "|28  |✅    |  1|  1|True     |2020-05-24T02:47:00+08:00|docker_002                                                            |docker_002          |docker_002 CPU      |docker_002 Memory   |\n",
      "|77  |❌    |  2|  2|True     |2020-05-31T05:48:00+08:00|docker_003                                                            |docker_003 CPU      |docker_003          |db_003 Session      |\n",
      "|48  |✅    |  1|  1|True     |2020-05-27T03:23:00+08:00|docker_001                                                            |docker_001          |os_022 Network      |os_022              |\n",
      "|49  |✅    |  1|  1|True     |2020-05-27T04:39:00+08:00|docker_007                                                            |docker_007          |docker_007 CPU      |docker_007 Memory   |\n",
      "|16  |✅    |  1|  1|True     |2020-05-22T05:18:00+08:00|docker_007                                                            |docker_007          |os_019              |docker_003 CPU      |\n",
      "|67  |✅    |  1|  1|True     |2020-05-30T05:43:00+08:00|docker_002                                                            |docker_002          |os_022 Network      |docker_002 Memory   |\n",
      "|76  |✅    |  1|  1|True     |2020-05-31T04:47:00+08:00|docker_006                                                            |docker_006          |os_018              |docker_006 CPU      |\n",
      "|62  |✅    |  1|  1|True     |2020-05-30T00:43:00+08:00|docker_005                                                            |docker_005          |docker_004 CPU      |docker_005 CPU      |\n",
      "|60  |✅    |  1|  1|True     |2020-05-29T05:11:00+08:00|docker_006                                                            |docker_006          |os_018              |db_003 Session      |\n",
      "|69  |✅    |  1|  1|True     |2020-05-31T00:47:00+08:00|docker_001                                                            |docker_001          |os_022 Network      |os_022              |\n",
      "|19  |✅    |  1|  1|False    |2020-05-23T00:40:00+08:00|db_003 Session                                                        |db_003 Session      |db_009 Session      |db_007 Session      |\n",
      "|4   |✅    |  1|  1|True     |2020-04-11T02:15:00+08:00|db_007 Session                                                        |db_007 Session      |db_009 Session      |db_003 Session      |\n",
      "|57  |❌    |  4|  4|False    |2020-05-29T02:11:00+08:00|db_003 Session                                                        |os_021 Network      |db_009 Session      |db_007 Session      |\n",
      "|34  |✅    |  1|  1|True     |2020-05-25T04:47:00+08:00|db_003 State                                                          |db_003 State        |db_003 Session      |db_003              |\n",
      "|10  |✅    |  1|  1|True     |2020-04-11T05:45:00+08:00|db_003 State                                                          |db_003 State        |db_003 Session      |db_007 Session      |\n",
      "|40  |✅    |  1|  1|True     |2020-05-26T04:15:00+08:00|os_020 Network                                                        |os_020 Network      |os_021 Network      |db_009 Session      |\n",
      "|14  |✅    |  1|  1|True     |2020-05-22T01:48:00+08:00|os_018 Network                                                        |os_018 Network      |os_018              |db_007 Session      |\n",
      "|33  |❌    |  2|  2|False    |2020-05-25T03:47:00+08:00|os_017 Network                                                        |os_019 Network      |os_017 Network      |db_003 Session      |\n",
      "|66  |❌    |  2|  2|True     |2020-05-30T05:13:00+08:00|os_018 Network                                                        |os_022 Network      |os_018 Network      |os_018              |\n",
      "|43  |✅    |  1|  1|False    |2020-05-27T00:53:00+08:00|os_017 Network                                                        |os_017 Network      |os_017              |db_009 Session      |\n",
      "|73  |✅    |  1|  1|False    |2020-05-31T03:17:00+08:00|os_017 Network                                                        |os_017 Network      |os_017              |db_003 Session      |\n",
      "|72  |✅    |  1|  1|True     |2020-05-31T02:47:00+08:00|os_021 Network                                                        |os_021 Network      |os_021              |db_009 Session      |\n",
      "\n",
      "2022-02-24 03:41:49.380 | INFO     | DejaVu.models.interface.callbacks:on_test_epoch_end:107 - \n",
      "A@1=98.18% A@2=98.18% A@3=98.18% A@5=98.18% MAR=1.09  \n",
      "|id  |     |FR |AR |recurring|timestamp                |root cause                                                            |rank-1              |rank-2              |rank-3              |\n",
      "|65  |✅    |  1|  1|True     |2020-05-30T04:13:00+08:00|docker_002 CPU                                                        |docker_002 CPU      |docker_002          |docker_002 Memory   |\n",
      "|59  |✅    |  1|  1|True     |2020-05-29T03:41:00+08:00|docker_006 CPU                                                        |docker_006 CPU      |docker_006          |db_009 Session      |\n",
      "|18  |✅    |  1|  1|True     |2020-05-23T00:05:00+08:00|docker_001 CPU                                                        |docker_001 CPU      |docker_001          |db_003 Session      |\n",
      "|50  |✅    |  1|  1|True     |2020-05-27T05:09:00+08:00|docker_008 CPU                                                        |docker_008 CPU      |docker_008          |db_007 Session      |\n",
      "|44  |✅    |  1|  1|True     |2020-05-27T01:23:00+08:00|docker_003 CPU                                                        |docker_003 CPU      |docker_003          |docker_003 Memory   |\n",
      "|41  |✅    |  1|  1|True     |2020-05-26T05:15:00+08:00|docker_008 CPU                                                        |docker_008 CPU      |docker_008          |os_022 Network      |\n",
      "|8   |✅    |  1|  1|True     |2020-04-11T04:40:00+08:00|docker_006 CPU                                                        |docker_006 CPU      |docker_006          |db_007 Session      |\n",
      "|52  |❌    |  6|  6|True     |2020-05-28T00:47:00+08:00|docker_003                                                            |docker_003 Memory   |docker_003 Thread   |docker_003 FULL GC  |\n",
      "|24  |✅    |  1|  1|True     |2020-05-23T05:20:00+08:00|docker_007                                                            |docker_007          |os_019              |docker_007 CPU      |\n",
      "|31  |✅    |  1|  1|True     |2020-05-24T04:47:00+08:00|docker_008                                                            |docker_008          |db_003 Session      |os_020              |\n",
      "|28  |✅    |  1|  1|True     |2020-05-24T02:47:00+08:00|docker_008                                                            |docker_008          |docker_008 CPU      |os_020              |\n",
      "|77  |✅    |  1|  1|True     |2020-05-31T05:48:00+08:00|docker_001                                                            |docker_001          |os_022 Network      |docker_001 CPU      |\n",
      "|48  |✅    |  1|  1|True     |2020-05-27T03:23:00+08:00|docker_006                                                            |docker_006          |os_018 Network      |os_018              |\n",
      "|49  |✅    |  1|  1|True     |2020-05-27T04:39:00+08:00|docker_005                                                            |docker_005          |os_017              |docker_005 CPU      |\n",
      "|16  |✅    |  1|  1|True     |2020-05-22T05:18:00+08:00|docker_007                                                            |docker_007          |os_019              |db_003 Session      |\n",
      "|67  |✅    |  1|  1|True     |2020-05-30T05:43:00+08:00|docker_003                                                            |docker_003          |docker_003 CPU      |db_009 Session      |\n",
      "|76  |✅    |  1|  1|True     |2020-05-31T04:47:00+08:00|docker_002                                                            |docker_002          |os_022 Network      |docker_002 CPU      |\n",
      "|62  |✅    |  1|  1|True     |2020-05-30T00:43:00+08:00|docker_003                                                            |docker_003          |db_007 Session      |db_009 Session      |\n",
      "|60  |✅    |  1|  1|True     |2020-05-29T05:11:00+08:00|docker_004                                                            |docker_004          |db_009 Session      |db_007 Session      |\n",
      "|69  |✅    |  1|  1|True     |2020-05-31T00:47:00+08:00|db_007 Session                                                        |db_007 Session      |db_003 Session      |db_009 Session      |\n",
      "|19  |✅    |  1|  1|True     |2020-05-23T00:40:00+08:00|db_007 Session                                                        |db_007 Session      |db_009 Session      |db_003 Session      |\n",
      "|4   |✅    |  1|  1|True     |2020-04-11T02:15:00+08:00|db_007 Session                                                        |db_007 Session      |db_003 Session      |db_009 Session      |\n",
      "|57  |✅    |  1|  1|True     |2020-05-29T02:11:00+08:00|db_007 Session                                                        |db_007 Session      |db_009 Session      |db_003 Session      |\n",
      "|34  |✅    |  1|  1|True     |2020-05-25T04:47:00+08:00|db_007 Session                                                        |db_007 Session      |db_003 Session      |db_009 Session      |\n",
      "|10  |✅    |  1|  1|True     |2020-04-11T05:45:00+08:00|db_007 Session                                                        |db_007 Session      |db_009 Session      |db_003 Session      |\n",
      "|40  |✅    |  1|  1|True     |2020-05-26T04:15:00+08:00|db_007 Session                                                        |db_007 Session      |db_003 Session      |db_009 Session      |\n",
      "|14  |✅    |  1|  1|True     |2020-05-22T01:48:00+08:00|db_007 Session                                                        |db_007 Session      |db_009 Session      |db_003 Session      |\n",
      "|33  |✅    |  1|  1|True     |2020-05-25T03:47:00+08:00|db_007 Session                                                        |db_007 Session      |db_003 Session      |db_009 Session      |\n",
      "|66  |✅    |  1|  1|True     |2020-05-30T05:13:00+08:00|db_007 Session                                                        |db_007 Session      |db_009 Session      |db_003 Session      |\n",
      "|43  |✅    |  1|  1|True     |2020-05-27T00:53:00+08:00|db_007 Session                                                        |db_007 Session      |db_003 Session      |db_009 Session      |\n",
      "|73  |✅    |  1|  1|True     |2020-05-31T03:17:00+08:00|db_007 Session                                                        |db_007 Session      |db_009 Session      |db_003 Session      |\n",
      "|72  |✅    |  1|  1|True     |2020-05-31T02:47:00+08:00|db_007 State                                                          |db_007 State        |db_007 Session      |db_009 Session      |\n",
      "\n",
      "2022-02-24 03:41:50.220 | INFO     | DejaVu.models.interface.callbacks:on_test_epoch_end:107 - \n",
      "A@1=82.35% A@2=88.24% A@3=94.12% A@5=94.12% MAR=1.59  \n",
      "|id  |     |FR |AR |recurring|timestamp                |root cause                                                            |rank-1              |rank-2              |rank-3              |\n",
      "|65  |✅    |  1|  1|False    |2020-05-30T04:13:00+08:00|docker_004 CPU                                                        |docker_004 CPU      |docker_004          |docker_004 Memory   |\n",
      "|59  |✅    |  1|  1|True     |2020-05-29T03:41:00+08:00|docker_003 CPU                                                        |docker_003 CPU      |docker_003          |docker_003 Memory   |\n",
      "|18  |✅    |  1|  1|False    |2020-05-23T00:05:00+08:00|docker_004 CPU                                                        |docker_004 CPU      |docker_004          |db_003 Session      |\n",
      "|50  |❌    |  3|  3|False    |2020-05-27T05:09:00+08:00|docker_005 CPU                                                        |docker_006          |docker_005          |docker_005 CPU      |\n",
      "|44  |❌    |  2|  2|True     |2020-05-27T01:23:00+08:00|docker_001                                                            |docker_004 CPU      |docker_001          |os_022 Network      |\n",
      "|41  |✅    |  1|  1|True     |2020-05-26T05:15:00+08:00|docker_006                                                            |docker_006          |os_018              |docker_006 CPU      |\n",
      "|8   |✅    |  1|  1|True     |2020-04-11T04:40:00+08:00|docker_001                                                            |docker_001          |docker_001 CPU      |docker_001 Memory   |\n",
      "|52  |✅    |  1|  1|True     |2020-05-28T00:47:00+08:00|docker_007                                                            |docker_007          |os_019              |docker_007 CPU      |\n",
      "|24  |✅    |  1|  1|True     |2020-05-23T05:20:00+08:00|docker_008                                                            |docker_008          |docker_008 CPU      |os_020              |\n",
      "|31  |✅    |  1|  1|True     |2020-05-24T04:47:00+08:00|docker_001                                                            |docker_001          |docker_001 CPU      |os_022 Network      |\n",
      "|28  |✅    |  1|  1|False    |2020-05-24T02:47:00+08:00|db_003 Session                                                        |db_003 Session      |db_009 Session      |db_007 Session      |\n",
      "|77  |✅    |  1|  1|False    |2020-05-31T05:48:00+08:00|db_003 Session                                                        |db_003 Session      |db_007 Session      |db_009 Session      |\n",
      "|48  |✅    |  1|  1|True     |2020-05-27T03:23:00+08:00|db_007 State                                                          |db_007 State        |db_007 Session      |db_009 Session      |\n",
      "|49  |✅    |  1|  1|True     |2020-05-27T04:39:00+08:00|os_021 Network                                                        |os_021 Network      |os_021              |db_009 Session      |\n",
      "|16  |✅    |  1|  1|True     |2020-05-22T05:18:00+08:00|os_018 Network                                                        |os_018 Network      |os_018              |db_009 Session      |\n",
      "|67  |❌    |  8|  8|True     |2020-05-30T05:43:00+08:00|os_018 Network                                                        |db_003 Session      |docker_002 CPU      |db_007 Session      |\n",
      "|76  |✅    |  1|  1|True     |2020-05-31T04:47:00+08:00|os_020 Network                                                        |os_020 Network      |os_020              |db_003 Session      |\n",
      "\n"
     ]
    },
    {
     "name": "stdout",
     "output_type": "stream",
     "text": [
      "/data/SSF/experiment_outputs/run_GAT_node_classification.py.2021-12-22T03:50:07.949451/gnnexplainer_explain\n"
     ]
    }
   ],
   "source": [
    "from pathlib import Path\n",
    "exp_dir = Path('/data/SSF/experiment_outputs/run_GAT_node_classification.py.2021-12-22T03:50:07.949451')\n",
    "\n",
    "from DejaVu.models import get_GAT_model\n",
    "model, y_probs, y_preds = read_model(\n",
    "    exp_dir,\n",
    "    get_GAT_model,\n",
    "    override_config=dict(data_dir=Path(\"/SSF/data/A1\"), flush_dataset_cache=False)\n",
    ")\n",
    "\n",
    "cdp = fdg = model.fdg\n",
    "config = model.config\n",
    "cache = model.cache\n",
    "\n",
    "output_dir = config.output_dir / 'gnnexplainer_explain'\n",
    "output_dir.mkdir(exist_ok=True, parents=True)\n",
    "print(output_dir)"
   ]
  },
  {
   "cell_type": "code",
   "execution_count": 15,
   "id": "2adb9bc3-a8fe-4f62-adc6-9c8f8c5465b3",
   "metadata": {},
   "outputs": [],
   "source": [
    "from DejaVu.models import DejaVuModelInterface, GAT\n",
    "from typing import Tuple, List\n",
    "import dgl\n",
    "import torch as th\n",
    "from DejaVu.dataset import DejaVuDataset\n",
    "from einops import rearrange\n",
    "import copy\n",
    "\n",
    "\n",
    "class WrappedGATDejaVuModel(th.nn.Module):\n",
    "    def __init__(self, GAT_aggregators, predictor):\n",
    "        super().__init__()\n",
    "        self.GAT_aggregators = copy.deepcopy(GAT_aggregators)\n",
    "        self.predictor = copy.deepcopy(predictor)\n",
    "        \n",
    "    def forward(self, graph: dgl.DGLGraph, feat: th.Tensor, eweight=None):\n",
    "        with graph.local_scope():\n",
    "            for GAT_aggregator in self.GAT_aggregators:\n",
    "                feat = rearrange(GAT_aggregator(graph, feat), \"N H F -> N (H F)\")\n",
    "\n",
    "            node_weights = self.predictor(feat)\n",
    "            return rearrange(node_weights, \"N -> N 1\")\n",
    "        \n",
    "\n",
    "\n",
    "def wrap_gnnexplainer_model_from_DejaVu_model(model: DejaVuModelInterface) -> Tuple[WrappedGATDejaVuModel, List[dgl.DGLGraph], List[th.Tensor]]:\n",
    "    fdg = model.fdg\n",
    "    module: GAT = model.module\n",
    "    assert isinstance(module, GAT)\n",
    "    feature_projector = module.feature_projector\n",
    "    # shared_feature_mapper = module.shared_feature_mapper\n",
    "    GAT_aggregators = module.GAT_aggregators\n",
    "    predictor = module.predictor\n",
    "    wrapped_module = WrappedGATDejaVuModel(GAT_aggregators, predictor)\n",
    "    \n",
    "    dataset = DejaVuDataset(\n",
    "        cdp=model.fdg,\n",
    "        feature_extractor=model.metric_preprocessor,\n",
    "        fault_ids=fdg.failure_ids,\n",
    "        window_size=model.config.window_size,\n",
    "        augmentation=model.config.augmentation,\n",
    "        normal_data_weight=1. if model.config.augmentation else 0.,\n",
    "        drop_edges_fraction=model.config.drop_FDG_edges_fraction,\n",
    "        device=model.device,\n",
    "    )\n",
    "    \n",
    "    collate_fn = model.get_collate_fn(1)\n",
    "    graph_list = []\n",
    "    feat_list = []\n",
    "    for fid in fdg.failure_ids:\n",
    "        _features_list, _, _, _graph_list = collate_fn([dataset[fid]])\n",
    "        \n",
    "        _feat = feature_projector(_features_list)  # (batch_size, N, feature_size)\n",
    "\n",
    "        # select the features of the instances that are retained in the graphs\n",
    "        _feat = th.cat([_feat[i, g.ndata[dgl.NID]] for i, g in enumerate(_graph_list)])\n",
    "\n",
    "        # _feat = (feature_mapper(_feat) + _feat) / 2\n",
    "        \n",
    "        graph_list.append(_graph_list[0])\n",
    "        feat_list.append(_feat.detach())\n",
    "    \n",
    "    return wrapped_module, graph_list, feat_list\n",
    "    \n",
    "wrapped_module, graph_list, feat_list = wrap_gnnexplainer_model_from_DejaVu_model(model)"
   ]
  },
  {
   "cell_type": "code",
   "execution_count": 77,
   "id": "f3dbadde-d679-4ae8-92ef-ef6b6e1ef79f",
   "metadata": {},
   "outputs": [],
   "source": []
  },
  {
   "cell_type": "code",
   "execution_count": 113,
   "id": "8dd0dd1e-f9c0-4347-960e-ff0c56a2db59",
   "metadata": {
    "scrolled": true,
    "tags": []
   },
   "outputs": [
    {
     "name": "stdout",
     "output_type": "stream",
     "text": [
      "failure_id=0 model.fdg.root_cause_instances_of(failure_id)=['docker_003 CPU']\n"
     ]
    },
    {
     "name": "stderr",
     "output_type": "stream",
     "text": [
      "Explain node {node_id}: 100%|██████████| 100/100 [00:03<00:00, 27.97it/s]\n"
     ]
    },
    {
     "name": "stdout",
     "output_type": "stream",
     "text": [
      "failure_id=1 model.fdg.root_cause_instances_of(failure_id)=['docker_002']\n"
     ]
    },
    {
     "name": "stderr",
     "output_type": "stream",
     "text": [
      "Explain node {node_id}: 100%|██████████| 100/100 [00:03<00:00, 25.14it/s]\n"
     ]
    },
    {
     "name": "stdout",
     "output_type": "stream",
     "text": [
      "failure_id=2 model.fdg.root_cause_instances_of(failure_id)=['docker_001']\n"
     ]
    },
    {
     "name": "stderr",
     "output_type": "stream",
     "text": [
      "Explain node {node_id}: 100%|██████████| 100/100 [00:04<00:00, 23.61it/s]\n"
     ]
    },
    {
     "name": "stdout",
     "output_type": "stream",
     "text": [
      "failure_id=3 model.fdg.root_cause_instances_of(failure_id)=['docker_004 CPU']\n"
     ]
    },
    {
     "name": "stderr",
     "output_type": "stream",
     "text": [
      "Explain node {node_id}: 100%|██████████| 100/100 [00:03<00:00, 26.97it/s]\n"
     ]
    },
    {
     "name": "stdout",
     "output_type": "stream",
     "text": [
      "failure_id=4 model.fdg.root_cause_instances_of(failure_id)=['db_007 Session']\n"
     ]
    },
    {
     "name": "stderr",
     "output_type": "stream",
     "text": [
      "Explain node {node_id}: 100%|██████████| 100/100 [00:03<00:00, 26.78it/s]\n"
     ]
    },
    {
     "name": "stdout",
     "output_type": "stream",
     "text": [
      "failure_id=5 model.fdg.root_cause_instances_of(failure_id)=['docker_002 CPU']\n"
     ]
    },
    {
     "name": "stderr",
     "output_type": "stream",
     "text": [
      "Explain node {node_id}: 100%|██████████| 100/100 [00:03<00:00, 25.98it/s]\n"
     ]
    },
    {
     "name": "stdout",
     "output_type": "stream",
     "text": [
      "failure_id=6 model.fdg.root_cause_instances_of(failure_id)=['docker_003']\n"
     ]
    },
    {
     "name": "stderr",
     "output_type": "stream",
     "text": [
      "Explain node {node_id}: 100%|██████████| 100/100 [00:03<00:00, 25.56it/s]\n"
     ]
    },
    {
     "name": "stdout",
     "output_type": "stream",
     "text": [
      "failure_id=7 model.fdg.root_cause_instances_of(failure_id)=['docker_003']\n"
     ]
    },
    {
     "name": "stderr",
     "output_type": "stream",
     "text": [
      "Explain node {node_id}: 100%|██████████| 100/100 [00:03<00:00, 26.25it/s]\n"
     ]
    },
    {
     "name": "stdout",
     "output_type": "stream",
     "text": [
      "failure_id=8 model.fdg.root_cause_instances_of(failure_id)=['docker_008 CPU']\n"
     ]
    },
    {
     "name": "stderr",
     "output_type": "stream",
     "text": [
      "Explain node {node_id}: 100%|██████████| 100/100 [00:03<00:00, 26.68it/s]\n"
     ]
    },
    {
     "name": "stdout",
     "output_type": "stream",
     "text": [
      "failure_id=9 model.fdg.root_cause_instances_of(failure_id)=['docker_007']\n"
     ]
    },
    {
     "name": "stderr",
     "output_type": "stream",
     "text": [
      "Explain node {node_id}: 100%|██████████| 100/100 [00:03<00:00, 26.68it/s]\n"
     ]
    },
    {
     "name": "stdout",
     "output_type": "stream",
     "text": [
      "failure_id=10 model.fdg.root_cause_instances_of(failure_id)=['db_003 State']\n"
     ]
    },
    {
     "name": "stderr",
     "output_type": "stream",
     "text": [
      "Explain node {node_id}: 100%|██████████| 100/100 [00:03<00:00, 26.42it/s]\n"
     ]
    },
    {
     "name": "stdout",
     "output_type": "stream",
     "text": [
      "failure_id=11 model.fdg.root_cause_instances_of(failure_id)=['db_003 State']\n"
     ]
    },
    {
     "name": "stderr",
     "output_type": "stream",
     "text": [
      "Explain node {node_id}: 100%|██████████| 100/100 [00:03<00:00, 28.01it/s]\n"
     ]
    },
    {
     "name": "stdout",
     "output_type": "stream",
     "text": [
      "failure_id=12 model.fdg.root_cause_instances_of(failure_id)=['docker_001 CPU']\n"
     ]
    },
    {
     "name": "stderr",
     "output_type": "stream",
     "text": [
      "Explain node {node_id}: 100%|██████████| 100/100 [00:03<00:00, 26.13it/s]\n"
     ]
    },
    {
     "name": "stdout",
     "output_type": "stream",
     "text": [
      "failure_id=13 model.fdg.root_cause_instances_of(failure_id)=['docker_005']\n"
     ]
    },
    {
     "name": "stderr",
     "output_type": "stream",
     "text": [
      "Explain node {node_id}: 100%|██████████| 100/100 [00:03<00:00, 28.65it/s]\n"
     ]
    },
    {
     "name": "stdout",
     "output_type": "stream",
     "text": [
      "failure_id=14 model.fdg.root_cause_instances_of(failure_id)=['os_018 Network']\n"
     ]
    },
    {
     "name": "stderr",
     "output_type": "stream",
     "text": [
      "Explain node {node_id}: 100%|██████████| 100/100 [00:03<00:00, 28.18it/s]\n"
     ]
    },
    {
     "name": "stdout",
     "output_type": "stream",
     "text": [
      "failure_id=15 model.fdg.root_cause_instances_of(failure_id)=['docker_005 CPU']\n"
     ]
    },
    {
     "name": "stderr",
     "output_type": "stream",
     "text": [
      "Explain node {node_id}: 100%|██████████| 100/100 [00:04<00:00, 24.78it/s]\n"
     ]
    },
    {
     "name": "stdout",
     "output_type": "stream",
     "text": [
      "failure_id=16 model.fdg.root_cause_instances_of(failure_id)=['docker_007']\n"
     ]
    },
    {
     "name": "stderr",
     "output_type": "stream",
     "text": [
      "Explain node {node_id}: 100%|██████████| 100/100 [00:03<00:00, 26.46it/s]\n"
     ]
    },
    {
     "name": "stdout",
     "output_type": "stream",
     "text": [
      "failure_id=17 model.fdg.root_cause_instances_of(failure_id)=['docker_006']\n"
     ]
    },
    {
     "name": "stderr",
     "output_type": "stream",
     "text": [
      "Explain node {node_id}: 100%|██████████| 100/100 [00:03<00:00, 26.07it/s]\n"
     ]
    },
    {
     "name": "stdout",
     "output_type": "stream",
     "text": [
      "failure_id=18 model.fdg.root_cause_instances_of(failure_id)=['docker_004 CPU']\n"
     ]
    },
    {
     "name": "stderr",
     "output_type": "stream",
     "text": [
      "Explain node {node_id}: 100%|██████████| 100/100 [00:03<00:00, 28.67it/s]\n"
     ]
    },
    {
     "name": "stdout",
     "output_type": "stream",
     "text": [
      "failure_id=19 model.fdg.root_cause_instances_of(failure_id)=['db_003 Session']\n"
     ]
    },
    {
     "name": "stderr",
     "output_type": "stream",
     "text": [
      "Explain node {node_id}: 100%|██████████| 100/100 [00:03<00:00, 25.32it/s]\n"
     ]
    },
    {
     "name": "stdout",
     "output_type": "stream",
     "text": [
      "failure_id=20 model.fdg.root_cause_instances_of(failure_id)=['os_021 Network']\n"
     ]
    },
    {
     "name": "stderr",
     "output_type": "stream",
     "text": [
      "Explain node {node_id}: 100%|██████████| 100/100 [00:03<00:00, 27.20it/s]\n"
     ]
    },
    {
     "name": "stdout",
     "output_type": "stream",
     "text": [
      "failure_id=21 model.fdg.root_cause_instances_of(failure_id)=['docker_006']\n"
     ]
    },
    {
     "name": "stderr",
     "output_type": "stream",
     "text": [
      "Explain node {node_id}: 100%|██████████| 100/100 [00:03<00:00, 27.19it/s]\n"
     ]
    },
    {
     "name": "stdout",
     "output_type": "stream",
     "text": [
      "failure_id=22 model.fdg.root_cause_instances_of(failure_id)=['os_021 Network']\n"
     ]
    },
    {
     "name": "stderr",
     "output_type": "stream",
     "text": [
      "Explain node {node_id}: 100%|██████████| 100/100 [00:03<00:00, 26.64it/s]\n"
     ]
    },
    {
     "name": "stdout",
     "output_type": "stream",
     "text": [
      "failure_id=23 model.fdg.root_cause_instances_of(failure_id)=['docker_006 CPU']\n"
     ]
    },
    {
     "name": "stderr",
     "output_type": "stream",
     "text": [
      "Explain node {node_id}: 100%|██████████| 100/100 [00:03<00:00, 26.70it/s]\n"
     ]
    },
    {
     "name": "stdout",
     "output_type": "stream",
     "text": [
      "failure_id=24 model.fdg.root_cause_instances_of(failure_id)=['docker_005']\n"
     ]
    },
    {
     "name": "stderr",
     "output_type": "stream",
     "text": [
      "Explain node {node_id}: 100%|██████████| 100/100 [00:03<00:00, 26.45it/s]\n"
     ]
    },
    {
     "name": "stdout",
     "output_type": "stream",
     "text": [
      "failure_id=25 model.fdg.root_cause_instances_of(failure_id)=['docker_007']\n"
     ]
    },
    {
     "name": "stderr",
     "output_type": "stream",
     "text": [
      "Explain node {node_id}: 100%|██████████| 100/100 [00:03<00:00, 26.04it/s]\n"
     ]
    },
    {
     "name": "stdout",
     "output_type": "stream",
     "text": [
      "failure_id=26 model.fdg.root_cause_instances_of(failure_id)=['docker_004']\n"
     ]
    },
    {
     "name": "stderr",
     "output_type": "stream",
     "text": [
      "Explain node {node_id}: 100%|██████████| 100/100 [00:03<00:00, 27.57it/s]\n"
     ]
    },
    {
     "name": "stdout",
     "output_type": "stream",
     "text": [
      "failure_id=27 model.fdg.root_cause_instances_of(failure_id)=['db_007 State']\n"
     ]
    },
    {
     "name": "stderr",
     "output_type": "stream",
     "text": [
      "Explain node {node_id}: 100%|██████████| 100/100 [00:03<00:00, 28.24it/s]\n"
     ]
    },
    {
     "name": "stdout",
     "output_type": "stream",
     "text": [
      "failure_id=28 model.fdg.root_cause_instances_of(failure_id)=['docker_002']\n"
     ]
    },
    {
     "name": "stderr",
     "output_type": "stream",
     "text": [
      "Explain node {node_id}: 100%|██████████| 100/100 [00:03<00:00, 27.44it/s]\n"
     ]
    },
    {
     "name": "stdout",
     "output_type": "stream",
     "text": [
      "failure_id=29 model.fdg.root_cause_instances_of(failure_id)=['docker_003 CPU']\n"
     ]
    },
    {
     "name": "stderr",
     "output_type": "stream",
     "text": [
      "Explain node {node_id}: 100%|██████████| 100/100 [00:03<00:00, 27.79it/s]\n"
     ]
    },
    {
     "name": "stdout",
     "output_type": "stream",
     "text": [
      "failure_id=30 model.fdg.root_cause_instances_of(failure_id)=['docker_006 CPU']\n"
     ]
    },
    {
     "name": "stderr",
     "output_type": "stream",
     "text": [
      "Explain node {node_id}: 100%|██████████| 100/100 [00:03<00:00, 27.28it/s]\n"
     ]
    },
    {
     "name": "stdout",
     "output_type": "stream",
     "text": [
      "failure_id=31 model.fdg.root_cause_instances_of(failure_id)=['docker_004']\n"
     ]
    },
    {
     "name": "stderr",
     "output_type": "stream",
     "text": [
      "Explain node {node_id}: 100%|██████████| 100/100 [00:03<00:00, 26.12it/s]\n"
     ]
    },
    {
     "name": "stdout",
     "output_type": "stream",
     "text": [
      "failure_id=32 model.fdg.root_cause_instances_of(failure_id)=['os_020 Network']\n"
     ]
    },
    {
     "name": "stderr",
     "output_type": "stream",
     "text": [
      "Explain node {node_id}: 100%|██████████| 100/100 [00:03<00:00, 26.63it/s]\n"
     ]
    },
    {
     "name": "stdout",
     "output_type": "stream",
     "text": [
      "failure_id=33 model.fdg.root_cause_instances_of(failure_id)=['os_017 Network']\n"
     ]
    },
    {
     "name": "stderr",
     "output_type": "stream",
     "text": [
      "Explain node {node_id}: 100%|██████████| 100/100 [00:03<00:00, 26.47it/s]\n"
     ]
    },
    {
     "name": "stdout",
     "output_type": "stream",
     "text": [
      "failure_id=34 model.fdg.root_cause_instances_of(failure_id)=['db_003 State']\n"
     ]
    },
    {
     "name": "stderr",
     "output_type": "stream",
     "text": [
      "Explain node {node_id}: 100%|██████████| 100/100 [00:03<00:00, 27.69it/s]\n"
     ]
    },
    {
     "name": "stdout",
     "output_type": "stream",
     "text": [
      "failure_id=35 model.fdg.root_cause_instances_of(failure_id)=['docker_003']\n"
     ]
    },
    {
     "name": "stderr",
     "output_type": "stream",
     "text": [
      "Explain node {node_id}: 100%|██████████| 100/100 [00:03<00:00, 27.45it/s]\n"
     ]
    },
    {
     "name": "stdout",
     "output_type": "stream",
     "text": [
      "failure_id=36 model.fdg.root_cause_instances_of(failure_id)=['db_007 Session']\n"
     ]
    },
    {
     "name": "stderr",
     "output_type": "stream",
     "text": [
      "Explain node {node_id}: 100%|██████████| 100/100 [00:03<00:00, 27.28it/s]\n"
     ]
    },
    {
     "name": "stdout",
     "output_type": "stream",
     "text": [
      "failure_id=37 model.fdg.root_cause_instances_of(failure_id)=['docker_008 CPU']\n"
     ]
    },
    {
     "name": "stderr",
     "output_type": "stream",
     "text": [
      "Explain node {node_id}: 100%|██████████| 100/100 [00:03<00:00, 28.38it/s]\n"
     ]
    },
    {
     "name": "stdout",
     "output_type": "stream",
     "text": [
      "failure_id=38 model.fdg.root_cause_instances_of(failure_id)=['os_021 Network']\n"
     ]
    },
    {
     "name": "stderr",
     "output_type": "stream",
     "text": [
      "Explain node {node_id}: 100%|██████████| 100/100 [00:03<00:00, 28.92it/s]\n"
     ]
    },
    {
     "name": "stdout",
     "output_type": "stream",
     "text": [
      "failure_id=39 model.fdg.root_cause_instances_of(failure_id)=['os_018 Network']\n"
     ]
    },
    {
     "name": "stderr",
     "output_type": "stream",
     "text": [
      "Explain node {node_id}: 100%|██████████| 100/100 [00:03<00:00, 28.06it/s]\n"
     ]
    },
    {
     "name": "stdout",
     "output_type": "stream",
     "text": [
      "failure_id=40 model.fdg.root_cause_instances_of(failure_id)=['os_020 Network']\n"
     ]
    },
    {
     "name": "stderr",
     "output_type": "stream",
     "text": [
      "Explain node {node_id}: 100%|██████████| 100/100 [00:03<00:00, 27.59it/s]\n"
     ]
    },
    {
     "name": "stdout",
     "output_type": "stream",
     "text": [
      "failure_id=41 model.fdg.root_cause_instances_of(failure_id)=['docker_002 CPU']\n"
     ]
    },
    {
     "name": "stderr",
     "output_type": "stream",
     "text": [
      "Explain node {node_id}: 100%|██████████| 100/100 [00:03<00:00, 28.02it/s]\n"
     ]
    },
    {
     "name": "stdout",
     "output_type": "stream",
     "text": [
      "failure_id=42 model.fdg.root_cause_instances_of(failure_id)=['os_018 Network']\n"
     ]
    },
    {
     "name": "stderr",
     "output_type": "stream",
     "text": [
      "Explain node {node_id}: 100%|██████████| 100/100 [00:03<00:00, 27.56it/s]\n"
     ]
    },
    {
     "name": "stdout",
     "output_type": "stream",
     "text": [
      "failure_id=43 model.fdg.root_cause_instances_of(failure_id)=['os_017 Network']\n"
     ]
    },
    {
     "name": "stderr",
     "output_type": "stream",
     "text": [
      "Explain node {node_id}: 100%|██████████| 100/100 [00:03<00:00, 27.62it/s]\n"
     ]
    },
    {
     "name": "stdout",
     "output_type": "stream",
     "text": [
      "failure_id=44 model.fdg.root_cause_instances_of(failure_id)=['docker_006 CPU']\n"
     ]
    },
    {
     "name": "stderr",
     "output_type": "stream",
     "text": [
      "Explain node {node_id}: 100%|██████████| 100/100 [00:03<00:00, 26.08it/s]\n"
     ]
    },
    {
     "name": "stdout",
     "output_type": "stream",
     "text": [
      "failure_id=45 model.fdg.root_cause_instances_of(failure_id)=['db_003 Session']\n"
     ]
    },
    {
     "name": "stderr",
     "output_type": "stream",
     "text": [
      "Explain node {node_id}: 100%|██████████| 100/100 [00:03<00:00, 26.89it/s]\n"
     ]
    },
    {
     "name": "stdout",
     "output_type": "stream",
     "text": [
      "failure_id=46 model.fdg.root_cause_instances_of(failure_id)=['db_007 State']\n"
     ]
    },
    {
     "name": "stderr",
     "output_type": "stream",
     "text": [
      "Explain node {node_id}: 100%|██████████| 100/100 [00:03<00:00, 26.61it/s]\n"
     ]
    },
    {
     "name": "stdout",
     "output_type": "stream",
     "text": [
      "failure_id=47 model.fdg.root_cause_instances_of(failure_id)=['db_007 Session']\n"
     ]
    },
    {
     "name": "stderr",
     "output_type": "stream",
     "text": [
      "Explain node {node_id}: 100%|██████████| 100/100 [00:03<00:00, 28.94it/s]\n"
     ]
    },
    {
     "name": "stdout",
     "output_type": "stream",
     "text": [
      "failure_id=48 model.fdg.root_cause_instances_of(failure_id)=['docker_001']\n"
     ]
    },
    {
     "name": "stderr",
     "output_type": "stream",
     "text": [
      "Explain node {node_id}: 100%|██████████| 100/100 [00:03<00:00, 27.41it/s]\n"
     ]
    },
    {
     "name": "stdout",
     "output_type": "stream",
     "text": [
      "failure_id=49 model.fdg.root_cause_instances_of(failure_id)=['docker_007']\n"
     ]
    },
    {
     "name": "stderr",
     "output_type": "stream",
     "text": [
      "Explain node {node_id}: 100%|██████████| 100/100 [00:04<00:00, 24.96it/s]\n"
     ]
    },
    {
     "name": "stdout",
     "output_type": "stream",
     "text": [
      "failure_id=50 model.fdg.root_cause_instances_of(failure_id)=['docker_001 CPU']\n"
     ]
    },
    {
     "name": "stderr",
     "output_type": "stream",
     "text": [
      "Explain node {node_id}: 100%|██████████| 100/100 [00:03<00:00, 28.04it/s]\n"
     ]
    },
    {
     "name": "stdout",
     "output_type": "stream",
     "text": [
      "failure_id=51 model.fdg.root_cause_instances_of(failure_id)=['os_021 Network']\n"
     ]
    },
    {
     "name": "stderr",
     "output_type": "stream",
     "text": [
      "Explain node {node_id}: 100%|██████████| 100/100 [00:03<00:00, 28.58it/s]\n"
     ]
    },
    {
     "name": "stdout",
     "output_type": "stream",
     "text": [
      "failure_id=52 model.fdg.root_cause_instances_of(failure_id)=['docker_001 CPU']\n"
     ]
    },
    {
     "name": "stderr",
     "output_type": "stream",
     "text": [
      "Explain node {node_id}: 100%|██████████| 100/100 [00:03<00:00, 26.99it/s]\n"
     ]
    },
    {
     "name": "stdout",
     "output_type": "stream",
     "text": [
      "failure_id=53 model.fdg.root_cause_instances_of(failure_id)=['docker_001']\n"
     ]
    },
    {
     "name": "stderr",
     "output_type": "stream",
     "text": [
      "Explain node {node_id}: 100%|██████████| 100/100 [00:03<00:00, 25.27it/s]\n"
     ]
    },
    {
     "name": "stdout",
     "output_type": "stream",
     "text": [
      "failure_id=54 model.fdg.root_cause_instances_of(failure_id)=['docker_001']\n"
     ]
    },
    {
     "name": "stderr",
     "output_type": "stream",
     "text": [
      "Explain node {node_id}: 100%|██████████| 100/100 [00:03<00:00, 27.50it/s]\n"
     ]
    },
    {
     "name": "stdout",
     "output_type": "stream",
     "text": [
      "failure_id=55 model.fdg.root_cause_instances_of(failure_id)=['os_018 Network']\n"
     ]
    },
    {
     "name": "stderr",
     "output_type": "stream",
     "text": [
      "Explain node {node_id}: 100%|██████████| 100/100 [00:03<00:00, 28.32it/s]\n"
     ]
    },
    {
     "name": "stdout",
     "output_type": "stream",
     "text": [
      "failure_id=56 model.fdg.root_cause_instances_of(failure_id)=['docker_008']\n"
     ]
    },
    {
     "name": "stderr",
     "output_type": "stream",
     "text": [
      "Explain node {node_id}: 100%|██████████| 100/100 [00:03<00:00, 26.71it/s]\n"
     ]
    },
    {
     "name": "stdout",
     "output_type": "stream",
     "text": [
      "failure_id=57 model.fdg.root_cause_instances_of(failure_id)=['db_003 Session']\n"
     ]
    },
    {
     "name": "stderr",
     "output_type": "stream",
     "text": [
      "Explain node {node_id}: 100%|██████████| 100/100 [00:03<00:00, 28.48it/s]\n"
     ]
    },
    {
     "name": "stdout",
     "output_type": "stream",
     "text": [
      "failure_id=58 model.fdg.root_cause_instances_of(failure_id)=['docker_008 CPU']\n"
     ]
    },
    {
     "name": "stderr",
     "output_type": "stream",
     "text": [
      "Explain node {node_id}: 100%|██████████| 100/100 [00:03<00:00, 25.81it/s]\n"
     ]
    },
    {
     "name": "stdout",
     "output_type": "stream",
     "text": [
      "failure_id=59 model.fdg.root_cause_instances_of(failure_id)=['docker_001 CPU']\n"
     ]
    },
    {
     "name": "stderr",
     "output_type": "stream",
     "text": [
      "Explain node {node_id}: 100%|██████████| 100/100 [00:03<00:00, 26.28it/s]\n"
     ]
    },
    {
     "name": "stdout",
     "output_type": "stream",
     "text": [
      "failure_id=60 model.fdg.root_cause_instances_of(failure_id)=['docker_006']\n"
     ]
    },
    {
     "name": "stderr",
     "output_type": "stream",
     "text": [
      "Explain node {node_id}: 100%|██████████| 100/100 [00:03<00:00, 26.06it/s]\n"
     ]
    },
    {
     "name": "stdout",
     "output_type": "stream",
     "text": [
      "failure_id=61 model.fdg.root_cause_instances_of(failure_id)=['os_021 Network']\n"
     ]
    },
    {
     "name": "stderr",
     "output_type": "stream",
     "text": [
      "Explain node {node_id}: 100%|██████████| 100/100 [00:03<00:00, 25.57it/s]\n"
     ]
    },
    {
     "name": "stdout",
     "output_type": "stream",
     "text": [
      "failure_id=62 model.fdg.root_cause_instances_of(failure_id)=['docker_005']\n"
     ]
    },
    {
     "name": "stderr",
     "output_type": "stream",
     "text": [
      "Explain node {node_id}: 100%|██████████| 100/100 [00:03<00:00, 25.26it/s]\n"
     ]
    },
    {
     "name": "stdout",
     "output_type": "stream",
     "text": [
      "failure_id=63 model.fdg.root_cause_instances_of(failure_id)=['docker_001']\n"
     ]
    },
    {
     "name": "stderr",
     "output_type": "stream",
     "text": [
      "Explain node {node_id}: 100%|██████████| 100/100 [00:03<00:00, 27.65it/s]\n"
     ]
    },
    {
     "name": "stdout",
     "output_type": "stream",
     "text": [
      "failure_id=64 model.fdg.root_cause_instances_of(failure_id)=['os_020 Network']\n"
     ]
    },
    {
     "name": "stderr",
     "output_type": "stream",
     "text": [
      "Explain node {node_id}: 100%|██████████| 100/100 [00:03<00:00, 25.54it/s]\n"
     ]
    },
    {
     "name": "stdout",
     "output_type": "stream",
     "text": [
      "failure_id=65 model.fdg.root_cause_instances_of(failure_id)=['docker_002 CPU']\n"
     ]
    },
    {
     "name": "stderr",
     "output_type": "stream",
     "text": [
      "Explain node {node_id}: 100%|██████████| 100/100 [00:03<00:00, 25.57it/s]\n"
     ]
    },
    {
     "name": "stdout",
     "output_type": "stream",
     "text": [
      "failure_id=66 model.fdg.root_cause_instances_of(failure_id)=['os_018 Network']\n"
     ]
    },
    {
     "name": "stderr",
     "output_type": "stream",
     "text": [
      "Explain node {node_id}: 100%|██████████| 100/100 [00:03<00:00, 27.54it/s]\n"
     ]
    },
    {
     "name": "stdout",
     "output_type": "stream",
     "text": [
      "failure_id=67 model.fdg.root_cause_instances_of(failure_id)=['docker_002']\n"
     ]
    },
    {
     "name": "stderr",
     "output_type": "stream",
     "text": [
      "Explain node {node_id}: 100%|██████████| 100/100 [00:03<00:00, 25.89it/s]\n"
     ]
    },
    {
     "name": "stdout",
     "output_type": "stream",
     "text": [
      "failure_id=68 model.fdg.root_cause_instances_of(failure_id)=['docker_007']\n"
     ]
    },
    {
     "name": "stderr",
     "output_type": "stream",
     "text": [
      "Explain node {node_id}: 100%|██████████| 100/100 [00:03<00:00, 28.96it/s]\n"
     ]
    },
    {
     "name": "stdout",
     "output_type": "stream",
     "text": [
      "failure_id=69 model.fdg.root_cause_instances_of(failure_id)=['docker_001']\n"
     ]
    },
    {
     "name": "stderr",
     "output_type": "stream",
     "text": [
      "Explain node {node_id}: 100%|██████████| 100/100 [00:03<00:00, 26.55it/s]\n"
     ]
    },
    {
     "name": "stdout",
     "output_type": "stream",
     "text": [
      "failure_id=70 model.fdg.root_cause_instances_of(failure_id)=['docker_008']\n"
     ]
    },
    {
     "name": "stderr",
     "output_type": "stream",
     "text": [
      "Explain node {node_id}: 100%|██████████| 100/100 [00:03<00:00, 25.39it/s]\n"
     ]
    },
    {
     "name": "stdout",
     "output_type": "stream",
     "text": [
      "failure_id=71 model.fdg.root_cause_instances_of(failure_id)=['docker_008']\n"
     ]
    },
    {
     "name": "stderr",
     "output_type": "stream",
     "text": [
      "Explain node {node_id}: 100%|██████████| 100/100 [00:03<00:00, 27.16it/s]\n"
     ]
    },
    {
     "name": "stdout",
     "output_type": "stream",
     "text": [
      "failure_id=72 model.fdg.root_cause_instances_of(failure_id)=['os_021 Network']\n"
     ]
    },
    {
     "name": "stderr",
     "output_type": "stream",
     "text": [
      "Explain node {node_id}: 100%|██████████| 100/100 [00:03<00:00, 27.61it/s]\n"
     ]
    },
    {
     "name": "stdout",
     "output_type": "stream",
     "text": [
      "failure_id=73 model.fdg.root_cause_instances_of(failure_id)=['os_017 Network']\n"
     ]
    },
    {
     "name": "stderr",
     "output_type": "stream",
     "text": [
      "Explain node {node_id}: 100%|██████████| 100/100 [00:03<00:00, 26.61it/s]\n"
     ]
    },
    {
     "name": "stdout",
     "output_type": "stream",
     "text": [
      "failure_id=74 model.fdg.root_cause_instances_of(failure_id)=['db_003 Session']\n"
     ]
    },
    {
     "name": "stderr",
     "output_type": "stream",
     "text": [
      "Explain node {node_id}: 100%|██████████| 100/100 [00:03<00:00, 29.38it/s]\n"
     ]
    },
    {
     "name": "stdout",
     "output_type": "stream",
     "text": [
      "failure_id=75 model.fdg.root_cause_instances_of(failure_id)=['docker_004 CPU']\n"
     ]
    },
    {
     "name": "stderr",
     "output_type": "stream",
     "text": [
      "Explain node {node_id}: 100%|██████████| 100/100 [00:03<00:00, 26.99it/s]\n"
     ]
    },
    {
     "name": "stdout",
     "output_type": "stream",
     "text": [
      "failure_id=76 model.fdg.root_cause_instances_of(failure_id)=['docker_006']\n"
     ]
    },
    {
     "name": "stderr",
     "output_type": "stream",
     "text": [
      "Explain node {node_id}: 100%|██████████| 100/100 [00:04<00:00, 23.73it/s]\n"
     ]
    },
    {
     "name": "stdout",
     "output_type": "stream",
     "text": [
      "failure_id=77 model.fdg.root_cause_instances_of(failure_id)=['docker_003']\n"
     ]
    },
    {
     "name": "stderr",
     "output_type": "stream",
     "text": [
      "Explain node {node_id}: 100%|██████████| 100/100 [00:03<00:00, 26.61it/s]\n"
     ]
    },
    {
     "name": "stdout",
     "output_type": "stream",
     "text": [
      "failure_id=0 model.fdg.root_cause_instances_of(failure_id)=['docker_003 CPU']\n"
     ]
    },
    {
     "name": "stderr",
     "output_type": "stream",
     "text": [
      "Explain node {node_id}: 100%|██████████| 100/100 [00:03<00:00, 26.62it/s]\n"
     ]
    },
    {
     "name": "stdout",
     "output_type": "stream",
     "text": [
      "failure_id=1 model.fdg.root_cause_instances_of(failure_id)=['docker_002']\n"
     ]
    },
    {
     "name": "stderr",
     "output_type": "stream",
     "text": [
      "Explain node {node_id}: 100%|██████████| 100/100 [00:04<00:00, 24.72it/s]\n"
     ]
    },
    {
     "name": "stdout",
     "output_type": "stream",
     "text": [
      "failure_id=2 model.fdg.root_cause_instances_of(failure_id)=['docker_001']\n"
     ]
    },
    {
     "name": "stderr",
     "output_type": "stream",
     "text": [
      "Explain node {node_id}: 100%|██████████| 100/100 [00:03<00:00, 27.09it/s]\n"
     ]
    },
    {
     "name": "stdout",
     "output_type": "stream",
     "text": [
      "failure_id=3 model.fdg.root_cause_instances_of(failure_id)=['docker_004 CPU']\n"
     ]
    },
    {
     "name": "stderr",
     "output_type": "stream",
     "text": [
      "Explain node {node_id}: 100%|██████████| 100/100 [00:03<00:00, 27.20it/s]\n"
     ]
    },
    {
     "name": "stdout",
     "output_type": "stream",
     "text": [
      "failure_id=4 model.fdg.root_cause_instances_of(failure_id)=['db_007 Session']\n"
     ]
    },
    {
     "name": "stderr",
     "output_type": "stream",
     "text": [
      "Explain node {node_id}: 100%|██████████| 100/100 [00:03<00:00, 26.00it/s]\n"
     ]
    },
    {
     "name": "stdout",
     "output_type": "stream",
     "text": [
      "failure_id=5 model.fdg.root_cause_instances_of(failure_id)=['docker_002 CPU']\n"
     ]
    },
    {
     "name": "stderr",
     "output_type": "stream",
     "text": [
      "Explain node {node_id}: 100%|██████████| 100/100 [00:03<00:00, 26.50it/s]\n"
     ]
    },
    {
     "name": "stdout",
     "output_type": "stream",
     "text": [
      "failure_id=6 model.fdg.root_cause_instances_of(failure_id)=['docker_003']\n"
     ]
    },
    {
     "name": "stderr",
     "output_type": "stream",
     "text": [
      "Explain node {node_id}: 100%|██████████| 100/100 [00:03<00:00, 27.05it/s]\n"
     ]
    },
    {
     "name": "stdout",
     "output_type": "stream",
     "text": [
      "failure_id=7 model.fdg.root_cause_instances_of(failure_id)=['docker_003']\n"
     ]
    },
    {
     "name": "stderr",
     "output_type": "stream",
     "text": [
      "Explain node {node_id}: 100%|██████████| 100/100 [00:03<00:00, 26.75it/s]\n"
     ]
    },
    {
     "name": "stdout",
     "output_type": "stream",
     "text": [
      "failure_id=8 model.fdg.root_cause_instances_of(failure_id)=['docker_008 CPU']\n"
     ]
    },
    {
     "name": "stderr",
     "output_type": "stream",
     "text": [
      "Explain node {node_id}: 100%|██████████| 100/100 [00:03<00:00, 27.63it/s]\n"
     ]
    },
    {
     "name": "stdout",
     "output_type": "stream",
     "text": [
      "failure_id=9 model.fdg.root_cause_instances_of(failure_id)=['docker_007']\n"
     ]
    },
    {
     "name": "stderr",
     "output_type": "stream",
     "text": [
      "Explain node {node_id}: 100%|██████████| 100/100 [00:03<00:00, 25.89it/s]\n"
     ]
    },
    {
     "name": "stdout",
     "output_type": "stream",
     "text": [
      "failure_id=10 model.fdg.root_cause_instances_of(failure_id)=['db_003 State']\n"
     ]
    },
    {
     "name": "stderr",
     "output_type": "stream",
     "text": [
      "Explain node {node_id}: 100%|██████████| 100/100 [00:03<00:00, 27.51it/s]\n"
     ]
    },
    {
     "name": "stdout",
     "output_type": "stream",
     "text": [
      "failure_id=11 model.fdg.root_cause_instances_of(failure_id)=['db_003 State']\n"
     ]
    },
    {
     "name": "stderr",
     "output_type": "stream",
     "text": [
      "Explain node {node_id}: 100%|██████████| 100/100 [00:03<00:00, 25.96it/s]\n"
     ]
    },
    {
     "name": "stdout",
     "output_type": "stream",
     "text": [
      "failure_id=12 model.fdg.root_cause_instances_of(failure_id)=['docker_001 CPU']\n"
     ]
    },
    {
     "name": "stderr",
     "output_type": "stream",
     "text": [
      "Explain node {node_id}: 100%|██████████| 100/100 [00:03<00:00, 26.28it/s]\n"
     ]
    },
    {
     "name": "stdout",
     "output_type": "stream",
     "text": [
      "failure_id=13 model.fdg.root_cause_instances_of(failure_id)=['docker_005']\n"
     ]
    },
    {
     "name": "stderr",
     "output_type": "stream",
     "text": [
      "Explain node {node_id}: 100%|██████████| 100/100 [00:03<00:00, 25.91it/s]\n"
     ]
    },
    {
     "name": "stdout",
     "output_type": "stream",
     "text": [
      "failure_id=14 model.fdg.root_cause_instances_of(failure_id)=['os_018 Network']\n"
     ]
    },
    {
     "name": "stderr",
     "output_type": "stream",
     "text": [
      "Explain node {node_id}: 100%|██████████| 100/100 [00:03<00:00, 27.09it/s]\n"
     ]
    },
    {
     "name": "stdout",
     "output_type": "stream",
     "text": [
      "failure_id=15 model.fdg.root_cause_instances_of(failure_id)=['docker_005 CPU']\n"
     ]
    },
    {
     "name": "stderr",
     "output_type": "stream",
     "text": [
      "Explain node {node_id}: 100%|██████████| 100/100 [00:03<00:00, 27.56it/s]\n"
     ]
    },
    {
     "name": "stdout",
     "output_type": "stream",
     "text": [
      "failure_id=16 model.fdg.root_cause_instances_of(failure_id)=['docker_007']\n"
     ]
    },
    {
     "name": "stderr",
     "output_type": "stream",
     "text": [
      "Explain node {node_id}: 100%|██████████| 100/100 [00:03<00:00, 26.65it/s]\n"
     ]
    },
    {
     "name": "stdout",
     "output_type": "stream",
     "text": [
      "failure_id=17 model.fdg.root_cause_instances_of(failure_id)=['docker_006']\n"
     ]
    },
    {
     "name": "stderr",
     "output_type": "stream",
     "text": [
      "Explain node {node_id}: 100%|██████████| 100/100 [00:03<00:00, 26.64it/s]\n"
     ]
    },
    {
     "name": "stdout",
     "output_type": "stream",
     "text": [
      "failure_id=18 model.fdg.root_cause_instances_of(failure_id)=['docker_004 CPU']\n"
     ]
    },
    {
     "name": "stderr",
     "output_type": "stream",
     "text": [
      "Explain node {node_id}: 100%|██████████| 100/100 [00:03<00:00, 26.43it/s]\n"
     ]
    },
    {
     "name": "stdout",
     "output_type": "stream",
     "text": [
      "failure_id=19 model.fdg.root_cause_instances_of(failure_id)=['db_003 Session']\n"
     ]
    },
    {
     "name": "stderr",
     "output_type": "stream",
     "text": [
      "Explain node {node_id}: 100%|██████████| 100/100 [00:03<00:00, 27.74it/s]\n"
     ]
    },
    {
     "name": "stdout",
     "output_type": "stream",
     "text": [
      "failure_id=20 model.fdg.root_cause_instances_of(failure_id)=['os_021 Network']\n"
     ]
    },
    {
     "name": "stderr",
     "output_type": "stream",
     "text": [
      "Explain node {node_id}: 100%|██████████| 100/100 [00:03<00:00, 27.62it/s]\n"
     ]
    },
    {
     "name": "stdout",
     "output_type": "stream",
     "text": [
      "failure_id=21 model.fdg.root_cause_instances_of(failure_id)=['docker_006']\n"
     ]
    },
    {
     "name": "stderr",
     "output_type": "stream",
     "text": [
      "Explain node {node_id}: 100%|██████████| 100/100 [00:03<00:00, 26.77it/s]\n"
     ]
    },
    {
     "name": "stdout",
     "output_type": "stream",
     "text": [
      "failure_id=22 model.fdg.root_cause_instances_of(failure_id)=['os_021 Network']\n"
     ]
    },
    {
     "name": "stderr",
     "output_type": "stream",
     "text": [
      "Explain node {node_id}: 100%|██████████| 100/100 [00:03<00:00, 28.18it/s]\n"
     ]
    },
    {
     "name": "stdout",
     "output_type": "stream",
     "text": [
      "failure_id=23 model.fdg.root_cause_instances_of(failure_id)=['docker_006 CPU']\n"
     ]
    },
    {
     "name": "stderr",
     "output_type": "stream",
     "text": [
      "Explain node {node_id}: 100%|██████████| 100/100 [00:03<00:00, 27.90it/s]\n"
     ]
    },
    {
     "name": "stdout",
     "output_type": "stream",
     "text": [
      "failure_id=24 model.fdg.root_cause_instances_of(failure_id)=['docker_005']\n"
     ]
    },
    {
     "name": "stderr",
     "output_type": "stream",
     "text": [
      "Explain node {node_id}: 100%|██████████| 100/100 [00:03<00:00, 27.87it/s]\n"
     ]
    },
    {
     "name": "stdout",
     "output_type": "stream",
     "text": [
      "failure_id=25 model.fdg.root_cause_instances_of(failure_id)=['docker_007']\n"
     ]
    },
    {
     "name": "stderr",
     "output_type": "stream",
     "text": [
      "Explain node {node_id}: 100%|██████████| 100/100 [00:03<00:00, 26.28it/s]\n"
     ]
    },
    {
     "name": "stdout",
     "output_type": "stream",
     "text": [
      "failure_id=26 model.fdg.root_cause_instances_of(failure_id)=['docker_004']\n"
     ]
    },
    {
     "name": "stderr",
     "output_type": "stream",
     "text": [
      "Explain node {node_id}: 100%|██████████| 100/100 [00:03<00:00, 26.62it/s]\n"
     ]
    },
    {
     "name": "stdout",
     "output_type": "stream",
     "text": [
      "failure_id=27 model.fdg.root_cause_instances_of(failure_id)=['db_007 State']\n"
     ]
    },
    {
     "name": "stderr",
     "output_type": "stream",
     "text": [
      "Explain node {node_id}: 100%|██████████| 100/100 [00:03<00:00, 29.72it/s]\n"
     ]
    },
    {
     "name": "stdout",
     "output_type": "stream",
     "text": [
      "failure_id=28 model.fdg.root_cause_instances_of(failure_id)=['docker_002']\n"
     ]
    },
    {
     "name": "stderr",
     "output_type": "stream",
     "text": [
      "Explain node {node_id}: 100%|██████████| 100/100 [00:03<00:00, 26.54it/s]\n"
     ]
    },
    {
     "name": "stdout",
     "output_type": "stream",
     "text": [
      "failure_id=29 model.fdg.root_cause_instances_of(failure_id)=['docker_003 CPU']\n"
     ]
    },
    {
     "name": "stderr",
     "output_type": "stream",
     "text": [
      "Explain node {node_id}: 100%|██████████| 100/100 [00:03<00:00, 25.80it/s]\n"
     ]
    },
    {
     "name": "stdout",
     "output_type": "stream",
     "text": [
      "failure_id=30 model.fdg.root_cause_instances_of(failure_id)=['docker_006 CPU']\n"
     ]
    },
    {
     "name": "stderr",
     "output_type": "stream",
     "text": [
      "Explain node {node_id}: 100%|██████████| 100/100 [00:03<00:00, 25.65it/s]\n"
     ]
    },
    {
     "name": "stdout",
     "output_type": "stream",
     "text": [
      "failure_id=31 model.fdg.root_cause_instances_of(failure_id)=['docker_004']\n"
     ]
    },
    {
     "name": "stderr",
     "output_type": "stream",
     "text": [
      "Explain node {node_id}: 100%|██████████| 100/100 [00:03<00:00, 26.73it/s]\n"
     ]
    },
    {
     "name": "stdout",
     "output_type": "stream",
     "text": [
      "failure_id=32 model.fdg.root_cause_instances_of(failure_id)=['os_020 Network']\n"
     ]
    },
    {
     "name": "stderr",
     "output_type": "stream",
     "text": [
      "Explain node {node_id}: 100%|██████████| 100/100 [00:03<00:00, 25.09it/s]\n"
     ]
    },
    {
     "name": "stdout",
     "output_type": "stream",
     "text": [
      "failure_id=33 model.fdg.root_cause_instances_of(failure_id)=['os_017 Network']\n"
     ]
    },
    {
     "name": "stderr",
     "output_type": "stream",
     "text": [
      "Explain node {node_id}: 100%|██████████| 100/100 [00:03<00:00, 25.80it/s]\n"
     ]
    },
    {
     "name": "stdout",
     "output_type": "stream",
     "text": [
      "failure_id=34 model.fdg.root_cause_instances_of(failure_id)=['db_003 State']\n"
     ]
    },
    {
     "name": "stderr",
     "output_type": "stream",
     "text": [
      "Explain node {node_id}: 100%|██████████| 100/100 [00:03<00:00, 25.92it/s]\n"
     ]
    },
    {
     "name": "stdout",
     "output_type": "stream",
     "text": [
      "failure_id=35 model.fdg.root_cause_instances_of(failure_id)=['docker_003']\n"
     ]
    },
    {
     "name": "stderr",
     "output_type": "stream",
     "text": [
      "Explain node {node_id}: 100%|██████████| 100/100 [00:03<00:00, 26.05it/s]\n"
     ]
    },
    {
     "name": "stdout",
     "output_type": "stream",
     "text": [
      "failure_id=36 model.fdg.root_cause_instances_of(failure_id)=['db_007 Session']\n"
     ]
    },
    {
     "name": "stderr",
     "output_type": "stream",
     "text": [
      "Explain node {node_id}: 100%|██████████| 100/100 [00:03<00:00, 27.25it/s]\n"
     ]
    },
    {
     "name": "stdout",
     "output_type": "stream",
     "text": [
      "failure_id=37 model.fdg.root_cause_instances_of(failure_id)=['docker_008 CPU']\n"
     ]
    },
    {
     "name": "stderr",
     "output_type": "stream",
     "text": [
      "Explain node {node_id}: 100%|██████████| 100/100 [00:03<00:00, 27.30it/s]\n"
     ]
    },
    {
     "name": "stdout",
     "output_type": "stream",
     "text": [
      "failure_id=38 model.fdg.root_cause_instances_of(failure_id)=['os_021 Network']\n"
     ]
    },
    {
     "name": "stderr",
     "output_type": "stream",
     "text": [
      "Explain node {node_id}: 100%|██████████| 100/100 [00:03<00:00, 27.85it/s]\n"
     ]
    },
    {
     "name": "stdout",
     "output_type": "stream",
     "text": [
      "failure_id=39 model.fdg.root_cause_instances_of(failure_id)=['os_018 Network']\n"
     ]
    },
    {
     "name": "stderr",
     "output_type": "stream",
     "text": [
      "Explain node {node_id}: 100%|██████████| 100/100 [00:03<00:00, 28.29it/s]\n"
     ]
    },
    {
     "name": "stdout",
     "output_type": "stream",
     "text": [
      "failure_id=40 model.fdg.root_cause_instances_of(failure_id)=['os_020 Network']\n"
     ]
    },
    {
     "name": "stderr",
     "output_type": "stream",
     "text": [
      "Explain node {node_id}: 100%|██████████| 100/100 [00:03<00:00, 26.00it/s]\n"
     ]
    },
    {
     "name": "stdout",
     "output_type": "stream",
     "text": [
      "failure_id=41 model.fdg.root_cause_instances_of(failure_id)=['docker_002 CPU']\n"
     ]
    },
    {
     "name": "stderr",
     "output_type": "stream",
     "text": [
      "Explain node {node_id}: 100%|██████████| 100/100 [00:03<00:00, 28.28it/s]\n"
     ]
    },
    {
     "name": "stdout",
     "output_type": "stream",
     "text": [
      "failure_id=42 model.fdg.root_cause_instances_of(failure_id)=['os_018 Network']\n"
     ]
    },
    {
     "name": "stderr",
     "output_type": "stream",
     "text": [
      "Explain node {node_id}: 100%|██████████| 100/100 [00:03<00:00, 29.20it/s]\n"
     ]
    },
    {
     "name": "stdout",
     "output_type": "stream",
     "text": [
      "failure_id=43 model.fdg.root_cause_instances_of(failure_id)=['os_017 Network']\n"
     ]
    },
    {
     "name": "stderr",
     "output_type": "stream",
     "text": [
      "Explain node {node_id}: 100%|██████████| 100/100 [00:03<00:00, 26.17it/s]\n"
     ]
    },
    {
     "name": "stdout",
     "output_type": "stream",
     "text": [
      "failure_id=44 model.fdg.root_cause_instances_of(failure_id)=['docker_006 CPU']\n"
     ]
    },
    {
     "name": "stderr",
     "output_type": "stream",
     "text": [
      "Explain node {node_id}: 100%|██████████| 100/100 [00:04<00:00, 23.97it/s]\n"
     ]
    },
    {
     "name": "stdout",
     "output_type": "stream",
     "text": [
      "failure_id=45 model.fdg.root_cause_instances_of(failure_id)=['db_003 Session']\n"
     ]
    },
    {
     "name": "stderr",
     "output_type": "stream",
     "text": [
      "Explain node {node_id}: 100%|██████████| 100/100 [00:04<00:00, 24.98it/s]\n"
     ]
    },
    {
     "name": "stdout",
     "output_type": "stream",
     "text": [
      "failure_id=46 model.fdg.root_cause_instances_of(failure_id)=['db_007 State']\n"
     ]
    },
    {
     "name": "stderr",
     "output_type": "stream",
     "text": [
      "Explain node {node_id}: 100%|██████████| 100/100 [00:03<00:00, 25.31it/s]\n"
     ]
    },
    {
     "name": "stdout",
     "output_type": "stream",
     "text": [
      "failure_id=47 model.fdg.root_cause_instances_of(failure_id)=['db_007 Session']\n"
     ]
    },
    {
     "name": "stderr",
     "output_type": "stream",
     "text": [
      "Explain node {node_id}: 100%|██████████| 100/100 [00:03<00:00, 25.88it/s]\n"
     ]
    },
    {
     "name": "stdout",
     "output_type": "stream",
     "text": [
      "failure_id=48 model.fdg.root_cause_instances_of(failure_id)=['docker_001']\n"
     ]
    },
    {
     "name": "stderr",
     "output_type": "stream",
     "text": [
      "Explain node {node_id}: 100%|██████████| 100/100 [00:03<00:00, 25.80it/s]\n"
     ]
    },
    {
     "name": "stdout",
     "output_type": "stream",
     "text": [
      "failure_id=49 model.fdg.root_cause_instances_of(failure_id)=['docker_007']\n"
     ]
    },
    {
     "name": "stderr",
     "output_type": "stream",
     "text": [
      "Explain node {node_id}: 100%|██████████| 100/100 [00:03<00:00, 25.81it/s]\n"
     ]
    },
    {
     "name": "stdout",
     "output_type": "stream",
     "text": [
      "failure_id=50 model.fdg.root_cause_instances_of(failure_id)=['docker_001 CPU']\n"
     ]
    },
    {
     "name": "stderr",
     "output_type": "stream",
     "text": [
      "Explain node {node_id}: 100%|██████████| 100/100 [00:03<00:00, 26.08it/s]\n"
     ]
    },
    {
     "name": "stdout",
     "output_type": "stream",
     "text": [
      "failure_id=51 model.fdg.root_cause_instances_of(failure_id)=['os_021 Network']\n"
     ]
    },
    {
     "name": "stderr",
     "output_type": "stream",
     "text": [
      "Explain node {node_id}: 100%|██████████| 100/100 [00:03<00:00, 27.37it/s]\n"
     ]
    },
    {
     "name": "stdout",
     "output_type": "stream",
     "text": [
      "failure_id=52 model.fdg.root_cause_instances_of(failure_id)=['docker_001 CPU']\n"
     ]
    },
    {
     "name": "stderr",
     "output_type": "stream",
     "text": [
      "Explain node {node_id}: 100%|██████████| 100/100 [00:03<00:00, 26.29it/s]\n"
     ]
    },
    {
     "name": "stdout",
     "output_type": "stream",
     "text": [
      "failure_id=53 model.fdg.root_cause_instances_of(failure_id)=['docker_001']\n"
     ]
    },
    {
     "name": "stderr",
     "output_type": "stream",
     "text": [
      "Explain node {node_id}: 100%|██████████| 100/100 [00:03<00:00, 25.10it/s]\n"
     ]
    },
    {
     "name": "stdout",
     "output_type": "stream",
     "text": [
      "failure_id=54 model.fdg.root_cause_instances_of(failure_id)=['docker_001']\n"
     ]
    },
    {
     "name": "stderr",
     "output_type": "stream",
     "text": [
      "Explain node {node_id}: 100%|██████████| 100/100 [00:03<00:00, 27.17it/s]\n"
     ]
    },
    {
     "name": "stdout",
     "output_type": "stream",
     "text": [
      "failure_id=55 model.fdg.root_cause_instances_of(failure_id)=['os_018 Network']\n"
     ]
    },
    {
     "name": "stderr",
     "output_type": "stream",
     "text": [
      "Explain node {node_id}: 100%|██████████| 100/100 [00:03<00:00, 26.91it/s]\n"
     ]
    },
    {
     "name": "stdout",
     "output_type": "stream",
     "text": [
      "failure_id=56 model.fdg.root_cause_instances_of(failure_id)=['docker_008']\n"
     ]
    },
    {
     "name": "stderr",
     "output_type": "stream",
     "text": [
      "Explain node {node_id}: 100%|██████████| 100/100 [00:03<00:00, 25.53it/s]\n"
     ]
    },
    {
     "name": "stdout",
     "output_type": "stream",
     "text": [
      "failure_id=57 model.fdg.root_cause_instances_of(failure_id)=['db_003 Session']\n"
     ]
    },
    {
     "name": "stderr",
     "output_type": "stream",
     "text": [
      "Explain node {node_id}: 100%|██████████| 100/100 [00:03<00:00, 26.57it/s]\n"
     ]
    },
    {
     "name": "stdout",
     "output_type": "stream",
     "text": [
      "failure_id=58 model.fdg.root_cause_instances_of(failure_id)=['docker_008 CPU']\n"
     ]
    },
    {
     "name": "stderr",
     "output_type": "stream",
     "text": [
      "Explain node {node_id}: 100%|██████████| 100/100 [00:03<00:00, 25.27it/s]\n"
     ]
    },
    {
     "name": "stdout",
     "output_type": "stream",
     "text": [
      "failure_id=59 model.fdg.root_cause_instances_of(failure_id)=['docker_001 CPU']\n"
     ]
    },
    {
     "name": "stderr",
     "output_type": "stream",
     "text": [
      "Explain node {node_id}: 100%|██████████| 100/100 [00:03<00:00, 26.51it/s]\n"
     ]
    },
    {
     "name": "stdout",
     "output_type": "stream",
     "text": [
      "failure_id=60 model.fdg.root_cause_instances_of(failure_id)=['docker_006']\n"
     ]
    },
    {
     "name": "stderr",
     "output_type": "stream",
     "text": [
      "Explain node {node_id}: 100%|██████████| 100/100 [00:03<00:00, 26.40it/s]\n"
     ]
    },
    {
     "name": "stdout",
     "output_type": "stream",
     "text": [
      "failure_id=61 model.fdg.root_cause_instances_of(failure_id)=['os_021 Network']\n"
     ]
    },
    {
     "name": "stderr",
     "output_type": "stream",
     "text": [
      "Explain node {node_id}: 100%|██████████| 100/100 [00:03<00:00, 25.78it/s]\n"
     ]
    },
    {
     "name": "stdout",
     "output_type": "stream",
     "text": [
      "failure_id=62 model.fdg.root_cause_instances_of(failure_id)=['docker_005']\n"
     ]
    },
    {
     "name": "stderr",
     "output_type": "stream",
     "text": [
      "Explain node {node_id}: 100%|██████████| 100/100 [00:04<00:00, 24.52it/s]\n"
     ]
    },
    {
     "name": "stdout",
     "output_type": "stream",
     "text": [
      "failure_id=63 model.fdg.root_cause_instances_of(failure_id)=['docker_001']\n"
     ]
    },
    {
     "name": "stderr",
     "output_type": "stream",
     "text": [
      "Explain node {node_id}: 100%|██████████| 100/100 [00:03<00:00, 26.38it/s]\n"
     ]
    },
    {
     "name": "stdout",
     "output_type": "stream",
     "text": [
      "failure_id=64 model.fdg.root_cause_instances_of(failure_id)=['os_020 Network']\n"
     ]
    },
    {
     "name": "stderr",
     "output_type": "stream",
     "text": [
      "Explain node {node_id}: 100%|██████████| 100/100 [00:03<00:00, 26.10it/s]\n"
     ]
    },
    {
     "name": "stdout",
     "output_type": "stream",
     "text": [
      "failure_id=65 model.fdg.root_cause_instances_of(failure_id)=['docker_002 CPU']\n"
     ]
    },
    {
     "name": "stderr",
     "output_type": "stream",
     "text": [
      "Explain node {node_id}: 100%|██████████| 100/100 [00:03<00:00, 25.66it/s]\n"
     ]
    },
    {
     "name": "stdout",
     "output_type": "stream",
     "text": [
      "failure_id=66 model.fdg.root_cause_instances_of(failure_id)=['os_018 Network']\n"
     ]
    },
    {
     "name": "stderr",
     "output_type": "stream",
     "text": [
      "Explain node {node_id}: 100%|██████████| 100/100 [00:03<00:00, 27.16it/s]\n"
     ]
    },
    {
     "name": "stdout",
     "output_type": "stream",
     "text": [
      "failure_id=67 model.fdg.root_cause_instances_of(failure_id)=['docker_002']\n"
     ]
    },
    {
     "name": "stderr",
     "output_type": "stream",
     "text": [
      "Explain node {node_id}: 100%|██████████| 100/100 [00:03<00:00, 25.51it/s]\n"
     ]
    },
    {
     "name": "stdout",
     "output_type": "stream",
     "text": [
      "failure_id=68 model.fdg.root_cause_instances_of(failure_id)=['docker_007']\n"
     ]
    },
    {
     "name": "stderr",
     "output_type": "stream",
     "text": [
      "Explain node {node_id}: 100%|██████████| 100/100 [00:03<00:00, 28.14it/s]\n"
     ]
    },
    {
     "name": "stdout",
     "output_type": "stream",
     "text": [
      "failure_id=69 model.fdg.root_cause_instances_of(failure_id)=['docker_001']\n"
     ]
    },
    {
     "name": "stderr",
     "output_type": "stream",
     "text": [
      "Explain node {node_id}: 100%|██████████| 100/100 [00:03<00:00, 26.61it/s]\n"
     ]
    },
    {
     "name": "stdout",
     "output_type": "stream",
     "text": [
      "failure_id=70 model.fdg.root_cause_instances_of(failure_id)=['docker_008']\n"
     ]
    },
    {
     "name": "stderr",
     "output_type": "stream",
     "text": [
      "Explain node {node_id}: 100%|██████████| 100/100 [00:03<00:00, 28.52it/s]\n"
     ]
    },
    {
     "name": "stdout",
     "output_type": "stream",
     "text": [
      "failure_id=71 model.fdg.root_cause_instances_of(failure_id)=['docker_008']\n"
     ]
    },
    {
     "name": "stderr",
     "output_type": "stream",
     "text": [
      "Explain node {node_id}: 100%|██████████| 100/100 [00:03<00:00, 27.10it/s]\n"
     ]
    },
    {
     "name": "stdout",
     "output_type": "stream",
     "text": [
      "failure_id=72 model.fdg.root_cause_instances_of(failure_id)=['os_021 Network']\n"
     ]
    },
    {
     "name": "stderr",
     "output_type": "stream",
     "text": [
      "Explain node {node_id}: 100%|██████████| 100/100 [00:03<00:00, 28.24it/s]\n"
     ]
    },
    {
     "name": "stdout",
     "output_type": "stream",
     "text": [
      "failure_id=73 model.fdg.root_cause_instances_of(failure_id)=['os_017 Network']\n"
     ]
    },
    {
     "name": "stderr",
     "output_type": "stream",
     "text": [
      "Explain node {node_id}: 100%|██████████| 100/100 [00:03<00:00, 28.69it/s]\n"
     ]
    },
    {
     "name": "stdout",
     "output_type": "stream",
     "text": [
      "failure_id=74 model.fdg.root_cause_instances_of(failure_id)=['db_003 Session']\n"
     ]
    },
    {
     "name": "stderr",
     "output_type": "stream",
     "text": [
      "Explain node {node_id}: 100%|██████████| 100/100 [00:04<00:00, 23.30it/s]\n"
     ]
    },
    {
     "name": "stdout",
     "output_type": "stream",
     "text": [
      "failure_id=75 model.fdg.root_cause_instances_of(failure_id)=['docker_004 CPU']\n"
     ]
    },
    {
     "name": "stderr",
     "output_type": "stream",
     "text": [
      "Explain node {node_id}: 100%|██████████| 100/100 [00:03<00:00, 25.45it/s]\n"
     ]
    },
    {
     "name": "stdout",
     "output_type": "stream",
     "text": [
      "failure_id=76 model.fdg.root_cause_instances_of(failure_id)=['docker_006']\n"
     ]
    },
    {
     "name": "stderr",
     "output_type": "stream",
     "text": [
      "Explain node {node_id}: 100%|██████████| 100/100 [00:04<00:00, 22.86it/s]\n"
     ]
    },
    {
     "name": "stdout",
     "output_type": "stream",
     "text": [
      "failure_id=77 model.fdg.root_cause_instances_of(failure_id)=['docker_003']\n"
     ]
    },
    {
     "name": "stderr",
     "output_type": "stream",
     "text": [
      "Explain node {node_id}: 100%|██████████| 100/100 [00:03<00:00, 26.70it/s]\n"
     ]
    },
    {
     "name": "stdout",
     "output_type": "stream",
     "text": [
      "failure_id=0 model.fdg.root_cause_instances_of(failure_id)=['docker_003 CPU']\n"
     ]
    },
    {
     "name": "stderr",
     "output_type": "stream",
     "text": [
      "Explain node {node_id}: 100%|██████████| 100/100 [00:04<00:00, 23.60it/s]\n"
     ]
    },
    {
     "name": "stdout",
     "output_type": "stream",
     "text": [
      "failure_id=1 model.fdg.root_cause_instances_of(failure_id)=['docker_002']\n"
     ]
    },
    {
     "name": "stderr",
     "output_type": "stream",
     "text": [
      "Explain node {node_id}: 100%|██████████| 100/100 [00:03<00:00, 26.19it/s]\n"
     ]
    },
    {
     "name": "stdout",
     "output_type": "stream",
     "text": [
      "failure_id=2 model.fdg.root_cause_instances_of(failure_id)=['docker_001']\n"
     ]
    },
    {
     "name": "stderr",
     "output_type": "stream",
     "text": [
      "Explain node {node_id}: 100%|██████████| 100/100 [00:03<00:00, 26.21it/s]\n"
     ]
    },
    {
     "name": "stdout",
     "output_type": "stream",
     "text": [
      "failure_id=3 model.fdg.root_cause_instances_of(failure_id)=['docker_004 CPU']\n"
     ]
    },
    {
     "name": "stderr",
     "output_type": "stream",
     "text": [
      "Explain node {node_id}: 100%|██████████| 100/100 [00:03<00:00, 26.33it/s]\n"
     ]
    },
    {
     "name": "stdout",
     "output_type": "stream",
     "text": [
      "failure_id=4 model.fdg.root_cause_instances_of(failure_id)=['db_007 Session']\n"
     ]
    },
    {
     "name": "stderr",
     "output_type": "stream",
     "text": [
      "Explain node {node_id}: 100%|██████████| 100/100 [00:03<00:00, 25.39it/s]\n"
     ]
    },
    {
     "name": "stdout",
     "output_type": "stream",
     "text": [
      "failure_id=5 model.fdg.root_cause_instances_of(failure_id)=['docker_002 CPU']\n"
     ]
    },
    {
     "name": "stderr",
     "output_type": "stream",
     "text": [
      "Explain node {node_id}: 100%|██████████| 100/100 [00:03<00:00, 27.48it/s]\n"
     ]
    },
    {
     "name": "stdout",
     "output_type": "stream",
     "text": [
      "failure_id=6 model.fdg.root_cause_instances_of(failure_id)=['docker_003']\n"
     ]
    },
    {
     "name": "stderr",
     "output_type": "stream",
     "text": [
      "Explain node {node_id}: 100%|██████████| 100/100 [00:03<00:00, 27.04it/s]\n"
     ]
    },
    {
     "name": "stdout",
     "output_type": "stream",
     "text": [
      "failure_id=7 model.fdg.root_cause_instances_of(failure_id)=['docker_003']\n"
     ]
    },
    {
     "name": "stderr",
     "output_type": "stream",
     "text": [
      "Explain node {node_id}: 100%|██████████| 100/100 [00:03<00:00, 25.53it/s]\n"
     ]
    },
    {
     "name": "stdout",
     "output_type": "stream",
     "text": [
      "failure_id=8 model.fdg.root_cause_instances_of(failure_id)=['docker_008 CPU']\n"
     ]
    },
    {
     "name": "stderr",
     "output_type": "stream",
     "text": [
      "Explain node {node_id}: 100%|██████████| 100/100 [00:03<00:00, 26.65it/s]\n"
     ]
    },
    {
     "name": "stdout",
     "output_type": "stream",
     "text": [
      "failure_id=9 model.fdg.root_cause_instances_of(failure_id)=['docker_007']\n"
     ]
    },
    {
     "name": "stderr",
     "output_type": "stream",
     "text": [
      "Explain node {node_id}: 100%|██████████| 100/100 [00:03<00:00, 25.61it/s]\n"
     ]
    },
    {
     "name": "stdout",
     "output_type": "stream",
     "text": [
      "failure_id=10 model.fdg.root_cause_instances_of(failure_id)=['db_003 State']\n"
     ]
    },
    {
     "name": "stderr",
     "output_type": "stream",
     "text": [
      "Explain node {node_id}: 100%|██████████| 100/100 [00:03<00:00, 26.57it/s]\n"
     ]
    },
    {
     "name": "stdout",
     "output_type": "stream",
     "text": [
      "failure_id=11 model.fdg.root_cause_instances_of(failure_id)=['db_003 State']\n"
     ]
    },
    {
     "name": "stderr",
     "output_type": "stream",
     "text": [
      "Explain node {node_id}: 100%|██████████| 100/100 [00:03<00:00, 25.28it/s]\n"
     ]
    },
    {
     "name": "stdout",
     "output_type": "stream",
     "text": [
      "failure_id=12 model.fdg.root_cause_instances_of(failure_id)=['docker_001 CPU']\n"
     ]
    },
    {
     "name": "stderr",
     "output_type": "stream",
     "text": [
      "Explain node {node_id}: 100%|██████████| 100/100 [00:03<00:00, 25.86it/s]\n"
     ]
    },
    {
     "name": "stdout",
     "output_type": "stream",
     "text": [
      "failure_id=13 model.fdg.root_cause_instances_of(failure_id)=['docker_005']\n"
     ]
    },
    {
     "name": "stderr",
     "output_type": "stream",
     "text": [
      "Explain node {node_id}: 100%|██████████| 100/100 [00:03<00:00, 25.60it/s]\n"
     ]
    },
    {
     "name": "stdout",
     "output_type": "stream",
     "text": [
      "failure_id=14 model.fdg.root_cause_instances_of(failure_id)=['os_018 Network']\n"
     ]
    },
    {
     "name": "stderr",
     "output_type": "stream",
     "text": [
      "Explain node {node_id}: 100%|██████████| 100/100 [00:03<00:00, 27.36it/s]\n"
     ]
    },
    {
     "name": "stdout",
     "output_type": "stream",
     "text": [
      "failure_id=15 model.fdg.root_cause_instances_of(failure_id)=['docker_005 CPU']\n"
     ]
    },
    {
     "name": "stderr",
     "output_type": "stream",
     "text": [
      "Explain node {node_id}: 100%|██████████| 100/100 [00:04<00:00, 24.67it/s]\n"
     ]
    },
    {
     "name": "stdout",
     "output_type": "stream",
     "text": [
      "failure_id=16 model.fdg.root_cause_instances_of(failure_id)=['docker_007']\n"
     ]
    },
    {
     "name": "stderr",
     "output_type": "stream",
     "text": [
      "Explain node {node_id}: 100%|██████████| 100/100 [00:04<00:00, 24.52it/s]\n"
     ]
    },
    {
     "name": "stdout",
     "output_type": "stream",
     "text": [
      "failure_id=17 model.fdg.root_cause_instances_of(failure_id)=['docker_006']\n"
     ]
    },
    {
     "name": "stderr",
     "output_type": "stream",
     "text": [
      "Explain node {node_id}: 100%|██████████| 100/100 [00:04<00:00, 23.27it/s]\n"
     ]
    },
    {
     "name": "stdout",
     "output_type": "stream",
     "text": [
      "failure_id=18 model.fdg.root_cause_instances_of(failure_id)=['docker_004 CPU']\n"
     ]
    },
    {
     "name": "stderr",
     "output_type": "stream",
     "text": [
      "Explain node {node_id}: 100%|██████████| 100/100 [00:03<00:00, 26.07it/s]\n"
     ]
    },
    {
     "name": "stdout",
     "output_type": "stream",
     "text": [
      "failure_id=19 model.fdg.root_cause_instances_of(failure_id)=['db_003 Session']\n"
     ]
    },
    {
     "name": "stderr",
     "output_type": "stream",
     "text": [
      "Explain node {node_id}: 100%|██████████| 100/100 [00:03<00:00, 28.09it/s]\n"
     ]
    },
    {
     "name": "stdout",
     "output_type": "stream",
     "text": [
      "failure_id=20 model.fdg.root_cause_instances_of(failure_id)=['os_021 Network']\n"
     ]
    },
    {
     "name": "stderr",
     "output_type": "stream",
     "text": [
      "Explain node {node_id}: 100%|██████████| 100/100 [00:03<00:00, 26.13it/s]\n"
     ]
    },
    {
     "name": "stdout",
     "output_type": "stream",
     "text": [
      "failure_id=21 model.fdg.root_cause_instances_of(failure_id)=['docker_006']\n"
     ]
    },
    {
     "name": "stderr",
     "output_type": "stream",
     "text": [
      "Explain node {node_id}: 100%|██████████| 100/100 [00:03<00:00, 26.38it/s]\n"
     ]
    },
    {
     "name": "stdout",
     "output_type": "stream",
     "text": [
      "failure_id=22 model.fdg.root_cause_instances_of(failure_id)=['os_021 Network']\n"
     ]
    },
    {
     "name": "stderr",
     "output_type": "stream",
     "text": [
      "Explain node {node_id}: 100%|██████████| 100/100 [00:03<00:00, 27.72it/s]\n"
     ]
    },
    {
     "name": "stdout",
     "output_type": "stream",
     "text": [
      "failure_id=23 model.fdg.root_cause_instances_of(failure_id)=['docker_006 CPU']\n"
     ]
    },
    {
     "name": "stderr",
     "output_type": "stream",
     "text": [
      "Explain node {node_id}: 100%|██████████| 100/100 [00:04<00:00, 24.63it/s]\n"
     ]
    },
    {
     "name": "stdout",
     "output_type": "stream",
     "text": [
      "failure_id=24 model.fdg.root_cause_instances_of(failure_id)=['docker_005']\n"
     ]
    },
    {
     "name": "stderr",
     "output_type": "stream",
     "text": [
      "Explain node {node_id}: 100%|██████████| 100/100 [00:03<00:00, 26.78it/s]\n"
     ]
    },
    {
     "name": "stdout",
     "output_type": "stream",
     "text": [
      "failure_id=25 model.fdg.root_cause_instances_of(failure_id)=['docker_007']\n"
     ]
    },
    {
     "name": "stderr",
     "output_type": "stream",
     "text": [
      "Explain node {node_id}: 100%|██████████| 100/100 [00:03<00:00, 26.83it/s]\n"
     ]
    },
    {
     "name": "stdout",
     "output_type": "stream",
     "text": [
      "failure_id=26 model.fdg.root_cause_instances_of(failure_id)=['docker_004']\n"
     ]
    },
    {
     "name": "stderr",
     "output_type": "stream",
     "text": [
      "Explain node {node_id}: 100%|██████████| 100/100 [00:04<00:00, 23.89it/s]\n"
     ]
    },
    {
     "name": "stdout",
     "output_type": "stream",
     "text": [
      "failure_id=27 model.fdg.root_cause_instances_of(failure_id)=['db_007 State']\n"
     ]
    },
    {
     "name": "stderr",
     "output_type": "stream",
     "text": [
      "Explain node {node_id}: 100%|██████████| 100/100 [00:03<00:00, 28.67it/s]\n"
     ]
    },
    {
     "name": "stdout",
     "output_type": "stream",
     "text": [
      "failure_id=28 model.fdg.root_cause_instances_of(failure_id)=['docker_002']\n"
     ]
    },
    {
     "name": "stderr",
     "output_type": "stream",
     "text": [
      "Explain node {node_id}: 100%|██████████| 100/100 [00:04<00:00, 24.51it/s]\n"
     ]
    },
    {
     "name": "stdout",
     "output_type": "stream",
     "text": [
      "failure_id=29 model.fdg.root_cause_instances_of(failure_id)=['docker_003 CPU']\n"
     ]
    },
    {
     "name": "stderr",
     "output_type": "stream",
     "text": [
      "Explain node {node_id}: 100%|██████████| 100/100 [00:03<00:00, 25.66it/s]\n"
     ]
    },
    {
     "name": "stdout",
     "output_type": "stream",
     "text": [
      "failure_id=30 model.fdg.root_cause_instances_of(failure_id)=['docker_006 CPU']\n"
     ]
    },
    {
     "name": "stderr",
     "output_type": "stream",
     "text": [
      "Explain node {node_id}: 100%|██████████| 100/100 [00:03<00:00, 29.01it/s]\n"
     ]
    },
    {
     "name": "stdout",
     "output_type": "stream",
     "text": [
      "failure_id=31 model.fdg.root_cause_instances_of(failure_id)=['docker_004']\n"
     ]
    },
    {
     "name": "stderr",
     "output_type": "stream",
     "text": [
      "Explain node {node_id}: 100%|██████████| 100/100 [00:03<00:00, 25.27it/s]\n"
     ]
    },
    {
     "name": "stdout",
     "output_type": "stream",
     "text": [
      "failure_id=32 model.fdg.root_cause_instances_of(failure_id)=['os_020 Network']\n"
     ]
    },
    {
     "name": "stderr",
     "output_type": "stream",
     "text": [
      "Explain node {node_id}: 100%|██████████| 100/100 [00:03<00:00, 28.36it/s]\n"
     ]
    },
    {
     "name": "stdout",
     "output_type": "stream",
     "text": [
      "failure_id=33 model.fdg.root_cause_instances_of(failure_id)=['os_017 Network']\n"
     ]
    },
    {
     "name": "stderr",
     "output_type": "stream",
     "text": [
      "Explain node {node_id}: 100%|██████████| 100/100 [00:03<00:00, 29.24it/s]\n"
     ]
    },
    {
     "name": "stdout",
     "output_type": "stream",
     "text": [
      "failure_id=34 model.fdg.root_cause_instances_of(failure_id)=['db_003 State']\n"
     ]
    },
    {
     "name": "stderr",
     "output_type": "stream",
     "text": [
      "Explain node {node_id}: 100%|██████████| 100/100 [00:04<00:00, 23.96it/s]\n"
     ]
    },
    {
     "name": "stdout",
     "output_type": "stream",
     "text": [
      "failure_id=35 model.fdg.root_cause_instances_of(failure_id)=['docker_003']\n"
     ]
    },
    {
     "name": "stderr",
     "output_type": "stream",
     "text": [
      "Explain node {node_id}: 100%|██████████| 100/100 [00:03<00:00, 26.93it/s]\n"
     ]
    },
    {
     "name": "stdout",
     "output_type": "stream",
     "text": [
      "failure_id=36 model.fdg.root_cause_instances_of(failure_id)=['db_007 Session']\n"
     ]
    },
    {
     "name": "stderr",
     "output_type": "stream",
     "text": [
      "Explain node {node_id}: 100%|██████████| 100/100 [00:03<00:00, 26.75it/s]\n"
     ]
    },
    {
     "name": "stdout",
     "output_type": "stream",
     "text": [
      "failure_id=37 model.fdg.root_cause_instances_of(failure_id)=['docker_008 CPU']\n"
     ]
    },
    {
     "name": "stderr",
     "output_type": "stream",
     "text": [
      "Explain node {node_id}: 100%|██████████| 100/100 [00:03<00:00, 27.10it/s]\n"
     ]
    },
    {
     "name": "stdout",
     "output_type": "stream",
     "text": [
      "failure_id=38 model.fdg.root_cause_instances_of(failure_id)=['os_021 Network']\n"
     ]
    },
    {
     "name": "stderr",
     "output_type": "stream",
     "text": [
      "Explain node {node_id}: 100%|██████████| 100/100 [00:03<00:00, 28.71it/s]\n"
     ]
    },
    {
     "name": "stdout",
     "output_type": "stream",
     "text": [
      "failure_id=39 model.fdg.root_cause_instances_of(failure_id)=['os_018 Network']\n"
     ]
    },
    {
     "name": "stderr",
     "output_type": "stream",
     "text": [
      "Explain node {node_id}: 100%|██████████| 100/100 [00:03<00:00, 31.62it/s]\n"
     ]
    },
    {
     "name": "stdout",
     "output_type": "stream",
     "text": [
      "failure_id=40 model.fdg.root_cause_instances_of(failure_id)=['os_020 Network']\n"
     ]
    },
    {
     "name": "stderr",
     "output_type": "stream",
     "text": [
      "Explain node {node_id}: 100%|██████████| 100/100 [00:03<00:00, 29.09it/s]\n"
     ]
    },
    {
     "name": "stdout",
     "output_type": "stream",
     "text": [
      "failure_id=41 model.fdg.root_cause_instances_of(failure_id)=['docker_002 CPU']\n"
     ]
    },
    {
     "name": "stderr",
     "output_type": "stream",
     "text": [
      "Explain node {node_id}: 100%|██████████| 100/100 [00:03<00:00, 27.51it/s]\n"
     ]
    },
    {
     "name": "stdout",
     "output_type": "stream",
     "text": [
      "failure_id=42 model.fdg.root_cause_instances_of(failure_id)=['os_018 Network']\n"
     ]
    },
    {
     "name": "stderr",
     "output_type": "stream",
     "text": [
      "Explain node {node_id}: 100%|██████████| 100/100 [00:04<00:00, 24.85it/s]\n"
     ]
    },
    {
     "name": "stdout",
     "output_type": "stream",
     "text": [
      "failure_id=43 model.fdg.root_cause_instances_of(failure_id)=['os_017 Network']\n"
     ]
    },
    {
     "name": "stderr",
     "output_type": "stream",
     "text": [
      "Explain node {node_id}: 100%|██████████| 100/100 [00:03<00:00, 25.07it/s]\n"
     ]
    },
    {
     "name": "stdout",
     "output_type": "stream",
     "text": [
      "failure_id=44 model.fdg.root_cause_instances_of(failure_id)=['docker_006 CPU']\n"
     ]
    },
    {
     "name": "stderr",
     "output_type": "stream",
     "text": [
      "Explain node {node_id}: 100%|██████████| 100/100 [00:03<00:00, 28.10it/s]\n"
     ]
    },
    {
     "name": "stdout",
     "output_type": "stream",
     "text": [
      "failure_id=45 model.fdg.root_cause_instances_of(failure_id)=['db_003 Session']\n"
     ]
    },
    {
     "name": "stderr",
     "output_type": "stream",
     "text": [
      "Explain node {node_id}: 100%|██████████| 100/100 [00:04<00:00, 24.92it/s]\n"
     ]
    },
    {
     "name": "stdout",
     "output_type": "stream",
     "text": [
      "failure_id=46 model.fdg.root_cause_instances_of(failure_id)=['db_007 State']\n"
     ]
    },
    {
     "name": "stderr",
     "output_type": "stream",
     "text": [
      "Explain node {node_id}: 100%|██████████| 100/100 [00:03<00:00, 27.15it/s]\n"
     ]
    },
    {
     "name": "stdout",
     "output_type": "stream",
     "text": [
      "failure_id=47 model.fdg.root_cause_instances_of(failure_id)=['db_007 Session']\n"
     ]
    },
    {
     "name": "stderr",
     "output_type": "stream",
     "text": [
      "Explain node {node_id}: 100%|██████████| 100/100 [00:03<00:00, 28.40it/s]\n"
     ]
    },
    {
     "name": "stdout",
     "output_type": "stream",
     "text": [
      "failure_id=48 model.fdg.root_cause_instances_of(failure_id)=['docker_001']\n"
     ]
    },
    {
     "name": "stderr",
     "output_type": "stream",
     "text": [
      "Explain node {node_id}: 100%|██████████| 100/100 [00:04<00:00, 24.82it/s]\n"
     ]
    },
    {
     "name": "stdout",
     "output_type": "stream",
     "text": [
      "failure_id=49 model.fdg.root_cause_instances_of(failure_id)=['docker_007']\n"
     ]
    },
    {
     "name": "stderr",
     "output_type": "stream",
     "text": [
      "Explain node {node_id}: 100%|██████████| 100/100 [00:03<00:00, 25.92it/s]\n"
     ]
    },
    {
     "name": "stdout",
     "output_type": "stream",
     "text": [
      "failure_id=50 model.fdg.root_cause_instances_of(failure_id)=['docker_001 CPU']\n"
     ]
    },
    {
     "name": "stderr",
     "output_type": "stream",
     "text": [
      "Explain node {node_id}: 100%|██████████| 100/100 [00:04<00:00, 24.45it/s]\n"
     ]
    },
    {
     "name": "stdout",
     "output_type": "stream",
     "text": [
      "failure_id=51 model.fdg.root_cause_instances_of(failure_id)=['os_021 Network']\n"
     ]
    },
    {
     "name": "stderr",
     "output_type": "stream",
     "text": [
      "Explain node {node_id}: 100%|██████████| 100/100 [00:04<00:00, 24.75it/s]\n"
     ]
    },
    {
     "name": "stdout",
     "output_type": "stream",
     "text": [
      "failure_id=52 model.fdg.root_cause_instances_of(failure_id)=['docker_001 CPU']\n"
     ]
    },
    {
     "name": "stderr",
     "output_type": "stream",
     "text": [
      "Explain node {node_id}: 100%|██████████| 100/100 [00:03<00:00, 25.53it/s]\n"
     ]
    },
    {
     "name": "stdout",
     "output_type": "stream",
     "text": [
      "failure_id=53 model.fdg.root_cause_instances_of(failure_id)=['docker_001']\n"
     ]
    },
    {
     "name": "stderr",
     "output_type": "stream",
     "text": [
      "Explain node {node_id}: 100%|██████████| 100/100 [00:03<00:00, 27.08it/s]\n"
     ]
    },
    {
     "name": "stdout",
     "output_type": "stream",
     "text": [
      "failure_id=54 model.fdg.root_cause_instances_of(failure_id)=['docker_001']\n"
     ]
    },
    {
     "name": "stderr",
     "output_type": "stream",
     "text": [
      "Explain node {node_id}: 100%|██████████| 100/100 [00:03<00:00, 27.50it/s]\n"
     ]
    },
    {
     "name": "stdout",
     "output_type": "stream",
     "text": [
      "failure_id=55 model.fdg.root_cause_instances_of(failure_id)=['os_018 Network']\n"
     ]
    },
    {
     "name": "stderr",
     "output_type": "stream",
     "text": [
      "Explain node {node_id}: 100%|██████████| 100/100 [00:04<00:00, 23.77it/s]\n"
     ]
    },
    {
     "name": "stdout",
     "output_type": "stream",
     "text": [
      "failure_id=56 model.fdg.root_cause_instances_of(failure_id)=['docker_008']\n"
     ]
    },
    {
     "name": "stderr",
     "output_type": "stream",
     "text": [
      "Explain node {node_id}: 100%|██████████| 100/100 [00:03<00:00, 26.99it/s]\n"
     ]
    },
    {
     "name": "stdout",
     "output_type": "stream",
     "text": [
      "failure_id=57 model.fdg.root_cause_instances_of(failure_id)=['db_003 Session']\n"
     ]
    },
    {
     "name": "stderr",
     "output_type": "stream",
     "text": [
      "Explain node {node_id}: 100%|██████████| 100/100 [00:03<00:00, 25.32it/s]\n"
     ]
    },
    {
     "name": "stdout",
     "output_type": "stream",
     "text": [
      "failure_id=58 model.fdg.root_cause_instances_of(failure_id)=['docker_008 CPU']\n"
     ]
    },
    {
     "name": "stderr",
     "output_type": "stream",
     "text": [
      "Explain node {node_id}: 100%|██████████| 100/100 [00:03<00:00, 25.14it/s]\n"
     ]
    },
    {
     "name": "stdout",
     "output_type": "stream",
     "text": [
      "failure_id=59 model.fdg.root_cause_instances_of(failure_id)=['docker_001 CPU']\n"
     ]
    },
    {
     "name": "stderr",
     "output_type": "stream",
     "text": [
      "Explain node {node_id}: 100%|██████████| 100/100 [00:03<00:00, 26.18it/s]\n"
     ]
    },
    {
     "name": "stdout",
     "output_type": "stream",
     "text": [
      "failure_id=60 model.fdg.root_cause_instances_of(failure_id)=['docker_006']\n"
     ]
    },
    {
     "name": "stderr",
     "output_type": "stream",
     "text": [
      "Explain node {node_id}: 100%|██████████| 100/100 [00:04<00:00, 24.76it/s]\n"
     ]
    },
    {
     "name": "stdout",
     "output_type": "stream",
     "text": [
      "failure_id=61 model.fdg.root_cause_instances_of(failure_id)=['os_021 Network']\n"
     ]
    },
    {
     "name": "stderr",
     "output_type": "stream",
     "text": [
      "Explain node {node_id}: 100%|██████████| 100/100 [00:03<00:00, 25.57it/s]\n"
     ]
    },
    {
     "name": "stdout",
     "output_type": "stream",
     "text": [
      "failure_id=62 model.fdg.root_cause_instances_of(failure_id)=['docker_005']\n"
     ]
    },
    {
     "name": "stderr",
     "output_type": "stream",
     "text": [
      "Explain node {node_id}: 100%|██████████| 100/100 [00:03<00:00, 27.34it/s]\n"
     ]
    },
    {
     "name": "stdout",
     "output_type": "stream",
     "text": [
      "failure_id=63 model.fdg.root_cause_instances_of(failure_id)=['docker_001']\n"
     ]
    },
    {
     "name": "stderr",
     "output_type": "stream",
     "text": [
      "Explain node {node_id}: 100%|██████████| 100/100 [00:03<00:00, 26.87it/s]\n"
     ]
    },
    {
     "name": "stdout",
     "output_type": "stream",
     "text": [
      "failure_id=64 model.fdg.root_cause_instances_of(failure_id)=['os_020 Network']\n"
     ]
    },
    {
     "name": "stderr",
     "output_type": "stream",
     "text": [
      "Explain node {node_id}: 100%|██████████| 100/100 [00:03<00:00, 27.63it/s]\n"
     ]
    },
    {
     "name": "stdout",
     "output_type": "stream",
     "text": [
      "failure_id=65 model.fdg.root_cause_instances_of(failure_id)=['docker_002 CPU']\n"
     ]
    },
    {
     "name": "stderr",
     "output_type": "stream",
     "text": [
      "Explain node {node_id}: 100%|██████████| 100/100 [00:03<00:00, 26.48it/s]\n"
     ]
    },
    {
     "name": "stdout",
     "output_type": "stream",
     "text": [
      "failure_id=66 model.fdg.root_cause_instances_of(failure_id)=['os_018 Network']\n"
     ]
    },
    {
     "name": "stderr",
     "output_type": "stream",
     "text": [
      "Explain node {node_id}: 100%|██████████| 100/100 [00:03<00:00, 27.46it/s]\n"
     ]
    },
    {
     "name": "stdout",
     "output_type": "stream",
     "text": [
      "failure_id=67 model.fdg.root_cause_instances_of(failure_id)=['docker_002']\n"
     ]
    },
    {
     "name": "stderr",
     "output_type": "stream",
     "text": [
      "Explain node {node_id}: 100%|██████████| 100/100 [00:04<00:00, 24.53it/s]\n"
     ]
    },
    {
     "name": "stdout",
     "output_type": "stream",
     "text": [
      "failure_id=68 model.fdg.root_cause_instances_of(failure_id)=['docker_007']\n"
     ]
    },
    {
     "name": "stderr",
     "output_type": "stream",
     "text": [
      "Explain node {node_id}: 100%|██████████| 100/100 [00:03<00:00, 26.88it/s]\n"
     ]
    },
    {
     "name": "stdout",
     "output_type": "stream",
     "text": [
      "failure_id=69 model.fdg.root_cause_instances_of(failure_id)=['docker_001']\n"
     ]
    },
    {
     "name": "stderr",
     "output_type": "stream",
     "text": [
      "Explain node {node_id}: 100%|██████████| 100/100 [00:03<00:00, 25.45it/s]\n"
     ]
    },
    {
     "name": "stdout",
     "output_type": "stream",
     "text": [
      "failure_id=70 model.fdg.root_cause_instances_of(failure_id)=['docker_008']\n"
     ]
    },
    {
     "name": "stderr",
     "output_type": "stream",
     "text": [
      "Explain node {node_id}: 100%|██████████| 100/100 [00:03<00:00, 25.06it/s]\n"
     ]
    },
    {
     "name": "stdout",
     "output_type": "stream",
     "text": [
      "failure_id=71 model.fdg.root_cause_instances_of(failure_id)=['docker_008']\n"
     ]
    },
    {
     "name": "stderr",
     "output_type": "stream",
     "text": [
      "Explain node {node_id}: 100%|██████████| 100/100 [00:04<00:00, 24.13it/s]\n"
     ]
    },
    {
     "name": "stdout",
     "output_type": "stream",
     "text": [
      "failure_id=72 model.fdg.root_cause_instances_of(failure_id)=['os_021 Network']\n"
     ]
    },
    {
     "name": "stderr",
     "output_type": "stream",
     "text": [
      "Explain node {node_id}: 100%|██████████| 100/100 [00:03<00:00, 28.84it/s]\n"
     ]
    },
    {
     "name": "stdout",
     "output_type": "stream",
     "text": [
      "failure_id=73 model.fdg.root_cause_instances_of(failure_id)=['os_017 Network']\n"
     ]
    },
    {
     "name": "stderr",
     "output_type": "stream",
     "text": [
      "Explain node {node_id}: 100%|██████████| 100/100 [00:03<00:00, 27.32it/s]\n"
     ]
    },
    {
     "name": "stdout",
     "output_type": "stream",
     "text": [
      "failure_id=74 model.fdg.root_cause_instances_of(failure_id)=['db_003 Session']\n"
     ]
    },
    {
     "name": "stderr",
     "output_type": "stream",
     "text": [
      "Explain node {node_id}: 100%|██████████| 100/100 [00:04<00:00, 24.17it/s]\n"
     ]
    },
    {
     "name": "stdout",
     "output_type": "stream",
     "text": [
      "failure_id=75 model.fdg.root_cause_instances_of(failure_id)=['docker_004 CPU']\n"
     ]
    },
    {
     "name": "stderr",
     "output_type": "stream",
     "text": [
      "Explain node {node_id}: 100%|██████████| 100/100 [00:04<00:00, 23.83it/s]\n"
     ]
    },
    {
     "name": "stdout",
     "output_type": "stream",
     "text": [
      "failure_id=76 model.fdg.root_cause_instances_of(failure_id)=['docker_006']\n"
     ]
    },
    {
     "name": "stderr",
     "output_type": "stream",
     "text": [
      "Explain node {node_id}: 100%|██████████| 100/100 [00:04<00:00, 24.66it/s]\n"
     ]
    },
    {
     "name": "stdout",
     "output_type": "stream",
     "text": [
      "failure_id=77 model.fdg.root_cause_instances_of(failure_id)=['docker_003']\n"
     ]
    },
    {
     "name": "stderr",
     "output_type": "stream",
     "text": [
      "Explain node {node_id}: 100%|██████████| 100/100 [00:03<00:00, 25.93it/s]\n"
     ]
    },
    {
     "name": "stdout",
     "output_type": "stream",
     "text": [
      "failure_id=0 model.fdg.root_cause_instances_of(failure_id)=['docker_003 CPU']\n"
     ]
    },
    {
     "name": "stderr",
     "output_type": "stream",
     "text": [
      "Explain node {node_id}: 100%|██████████| 100/100 [00:03<00:00, 27.18it/s]\n"
     ]
    },
    {
     "name": "stdout",
     "output_type": "stream",
     "text": [
      "failure_id=1 model.fdg.root_cause_instances_of(failure_id)=['docker_002']\n"
     ]
    },
    {
     "name": "stderr",
     "output_type": "stream",
     "text": [
      "Explain node {node_id}: 100%|██████████| 100/100 [00:04<00:00, 23.54it/s]\n"
     ]
    },
    {
     "name": "stdout",
     "output_type": "stream",
     "text": [
      "failure_id=2 model.fdg.root_cause_instances_of(failure_id)=['docker_001']\n"
     ]
    },
    {
     "name": "stderr",
     "output_type": "stream",
     "text": [
      "Explain node {node_id}: 100%|██████████| 100/100 [00:04<00:00, 24.67it/s]\n"
     ]
    },
    {
     "name": "stdout",
     "output_type": "stream",
     "text": [
      "failure_id=3 model.fdg.root_cause_instances_of(failure_id)=['docker_004 CPU']\n"
     ]
    },
    {
     "name": "stderr",
     "output_type": "stream",
     "text": [
      "Explain node {node_id}: 100%|██████████| 100/100 [00:03<00:00, 25.99it/s]\n"
     ]
    },
    {
     "name": "stdout",
     "output_type": "stream",
     "text": [
      "failure_id=4 model.fdg.root_cause_instances_of(failure_id)=['db_007 Session']\n"
     ]
    },
    {
     "name": "stderr",
     "output_type": "stream",
     "text": [
      "Explain node {node_id}: 100%|██████████| 100/100 [00:03<00:00, 25.95it/s]\n"
     ]
    },
    {
     "name": "stdout",
     "output_type": "stream",
     "text": [
      "failure_id=5 model.fdg.root_cause_instances_of(failure_id)=['docker_002 CPU']\n"
     ]
    },
    {
     "name": "stderr",
     "output_type": "stream",
     "text": [
      "Explain node {node_id}: 100%|██████████| 100/100 [00:03<00:00, 29.01it/s]\n"
     ]
    },
    {
     "name": "stdout",
     "output_type": "stream",
     "text": [
      "failure_id=6 model.fdg.root_cause_instances_of(failure_id)=['docker_003']\n"
     ]
    },
    {
     "name": "stderr",
     "output_type": "stream",
     "text": [
      "Explain node {node_id}: 100%|██████████| 100/100 [00:04<00:00, 24.65it/s]\n"
     ]
    },
    {
     "name": "stdout",
     "output_type": "stream",
     "text": [
      "failure_id=7 model.fdg.root_cause_instances_of(failure_id)=['docker_003']\n"
     ]
    },
    {
     "name": "stderr",
     "output_type": "stream",
     "text": [
      "Explain node {node_id}: 100%|██████████| 100/100 [00:03<00:00, 26.01it/s]\n"
     ]
    },
    {
     "name": "stdout",
     "output_type": "stream",
     "text": [
      "failure_id=8 model.fdg.root_cause_instances_of(failure_id)=['docker_008 CPU']\n"
     ]
    },
    {
     "name": "stderr",
     "output_type": "stream",
     "text": [
      "Explain node {node_id}: 100%|██████████| 100/100 [00:03<00:00, 25.24it/s]\n"
     ]
    },
    {
     "name": "stdout",
     "output_type": "stream",
     "text": [
      "failure_id=9 model.fdg.root_cause_instances_of(failure_id)=['docker_007']\n"
     ]
    },
    {
     "name": "stderr",
     "output_type": "stream",
     "text": [
      "Explain node {node_id}: 100%|██████████| 100/100 [00:03<00:00, 25.49it/s]\n"
     ]
    },
    {
     "name": "stdout",
     "output_type": "stream",
     "text": [
      "failure_id=10 model.fdg.root_cause_instances_of(failure_id)=['db_003 State']\n"
     ]
    },
    {
     "name": "stderr",
     "output_type": "stream",
     "text": [
      "Explain node {node_id}: 100%|██████████| 100/100 [00:03<00:00, 29.50it/s]\n"
     ]
    },
    {
     "name": "stdout",
     "output_type": "stream",
     "text": [
      "failure_id=11 model.fdg.root_cause_instances_of(failure_id)=['db_003 State']\n"
     ]
    },
    {
     "name": "stderr",
     "output_type": "stream",
     "text": [
      "Explain node {node_id}: 100%|██████████| 100/100 [00:03<00:00, 26.37it/s]\n"
     ]
    },
    {
     "name": "stdout",
     "output_type": "stream",
     "text": [
      "failure_id=12 model.fdg.root_cause_instances_of(failure_id)=['docker_001 CPU']\n"
     ]
    },
    {
     "name": "stderr",
     "output_type": "stream",
     "text": [
      "Explain node {node_id}: 100%|██████████| 100/100 [00:04<00:00, 24.44it/s]\n"
     ]
    },
    {
     "name": "stdout",
     "output_type": "stream",
     "text": [
      "failure_id=13 model.fdg.root_cause_instances_of(failure_id)=['docker_005']\n"
     ]
    },
    {
     "name": "stderr",
     "output_type": "stream",
     "text": [
      "Explain node {node_id}: 100%|██████████| 100/100 [00:03<00:00, 25.15it/s]\n"
     ]
    },
    {
     "name": "stdout",
     "output_type": "stream",
     "text": [
      "failure_id=14 model.fdg.root_cause_instances_of(failure_id)=['os_018 Network']\n"
     ]
    },
    {
     "name": "stderr",
     "output_type": "stream",
     "text": [
      "Explain node {node_id}: 100%|██████████| 100/100 [00:03<00:00, 25.85it/s]\n"
     ]
    },
    {
     "name": "stdout",
     "output_type": "stream",
     "text": [
      "failure_id=15 model.fdg.root_cause_instances_of(failure_id)=['docker_005 CPU']\n"
     ]
    },
    {
     "name": "stderr",
     "output_type": "stream",
     "text": [
      "Explain node {node_id}: 100%|██████████| 100/100 [00:04<00:00, 24.59it/s]\n"
     ]
    },
    {
     "name": "stdout",
     "output_type": "stream",
     "text": [
      "failure_id=16 model.fdg.root_cause_instances_of(failure_id)=['docker_007']\n"
     ]
    },
    {
     "name": "stderr",
     "output_type": "stream",
     "text": [
      "Explain node {node_id}: 100%|██████████| 100/100 [00:04<00:00, 24.31it/s]\n"
     ]
    },
    {
     "name": "stdout",
     "output_type": "stream",
     "text": [
      "failure_id=17 model.fdg.root_cause_instances_of(failure_id)=['docker_006']\n"
     ]
    },
    {
     "name": "stderr",
     "output_type": "stream",
     "text": [
      "Explain node {node_id}: 100%|██████████| 100/100 [00:04<00:00, 24.87it/s]\n"
     ]
    },
    {
     "name": "stdout",
     "output_type": "stream",
     "text": [
      "failure_id=18 model.fdg.root_cause_instances_of(failure_id)=['docker_004 CPU']\n"
     ]
    },
    {
     "name": "stderr",
     "output_type": "stream",
     "text": [
      "Explain node {node_id}: 100%|██████████| 100/100 [00:04<00:00, 24.44it/s]\n"
     ]
    },
    {
     "name": "stdout",
     "output_type": "stream",
     "text": [
      "failure_id=19 model.fdg.root_cause_instances_of(failure_id)=['db_003 Session']\n"
     ]
    },
    {
     "name": "stderr",
     "output_type": "stream",
     "text": [
      "Explain node {node_id}: 100%|██████████| 100/100 [00:04<00:00, 24.77it/s]\n"
     ]
    },
    {
     "name": "stdout",
     "output_type": "stream",
     "text": [
      "failure_id=20 model.fdg.root_cause_instances_of(failure_id)=['os_021 Network']\n"
     ]
    },
    {
     "name": "stderr",
     "output_type": "stream",
     "text": [
      "Explain node {node_id}: 100%|██████████| 100/100 [00:03<00:00, 27.57it/s]\n"
     ]
    },
    {
     "name": "stdout",
     "output_type": "stream",
     "text": [
      "failure_id=21 model.fdg.root_cause_instances_of(failure_id)=['docker_006']\n"
     ]
    },
    {
     "name": "stderr",
     "output_type": "stream",
     "text": [
      "Explain node {node_id}: 100%|██████████| 100/100 [00:03<00:00, 26.05it/s]\n"
     ]
    },
    {
     "name": "stdout",
     "output_type": "stream",
     "text": [
      "failure_id=22 model.fdg.root_cause_instances_of(failure_id)=['os_021 Network']\n"
     ]
    },
    {
     "name": "stderr",
     "output_type": "stream",
     "text": [
      "Explain node {node_id}: 100%|██████████| 100/100 [00:03<00:00, 27.10it/s]\n"
     ]
    },
    {
     "name": "stdout",
     "output_type": "stream",
     "text": [
      "failure_id=23 model.fdg.root_cause_instances_of(failure_id)=['docker_006 CPU']\n"
     ]
    },
    {
     "name": "stderr",
     "output_type": "stream",
     "text": [
      "Explain node {node_id}: 100%|██████████| 100/100 [00:03<00:00, 26.30it/s]\n"
     ]
    },
    {
     "name": "stdout",
     "output_type": "stream",
     "text": [
      "failure_id=24 model.fdg.root_cause_instances_of(failure_id)=['docker_005']\n"
     ]
    },
    {
     "name": "stderr",
     "output_type": "stream",
     "text": [
      "Explain node {node_id}: 100%|██████████| 100/100 [00:03<00:00, 25.12it/s]\n"
     ]
    },
    {
     "name": "stdout",
     "output_type": "stream",
     "text": [
      "failure_id=25 model.fdg.root_cause_instances_of(failure_id)=['docker_007']\n"
     ]
    },
    {
     "name": "stderr",
     "output_type": "stream",
     "text": [
      "Explain node {node_id}: 100%|██████████| 100/100 [00:03<00:00, 27.43it/s]\n"
     ]
    },
    {
     "name": "stdout",
     "output_type": "stream",
     "text": [
      "failure_id=26 model.fdg.root_cause_instances_of(failure_id)=['docker_004']\n"
     ]
    },
    {
     "name": "stderr",
     "output_type": "stream",
     "text": [
      "Explain node {node_id}: 100%|██████████| 100/100 [00:04<00:00, 23.81it/s]\n"
     ]
    },
    {
     "name": "stdout",
     "output_type": "stream",
     "text": [
      "failure_id=27 model.fdg.root_cause_instances_of(failure_id)=['db_007 State']\n"
     ]
    },
    {
     "name": "stderr",
     "output_type": "stream",
     "text": [
      "Explain node {node_id}: 100%|██████████| 100/100 [00:04<00:00, 23.05it/s]\n"
     ]
    },
    {
     "name": "stdout",
     "output_type": "stream",
     "text": [
      "failure_id=28 model.fdg.root_cause_instances_of(failure_id)=['docker_002']\n"
     ]
    },
    {
     "name": "stderr",
     "output_type": "stream",
     "text": [
      "Explain node {node_id}: 100%|██████████| 100/100 [00:03<00:00, 25.45it/s]\n"
     ]
    },
    {
     "name": "stdout",
     "output_type": "stream",
     "text": [
      "failure_id=29 model.fdg.root_cause_instances_of(failure_id)=['docker_003 CPU']\n"
     ]
    },
    {
     "name": "stderr",
     "output_type": "stream",
     "text": [
      "Explain node {node_id}: 100%|██████████| 100/100 [00:03<00:00, 25.07it/s]\n"
     ]
    },
    {
     "name": "stdout",
     "output_type": "stream",
     "text": [
      "failure_id=30 model.fdg.root_cause_instances_of(failure_id)=['docker_006 CPU']\n"
     ]
    },
    {
     "name": "stderr",
     "output_type": "stream",
     "text": [
      "Explain node {node_id}: 100%|██████████| 100/100 [00:04<00:00, 24.27it/s]\n"
     ]
    },
    {
     "name": "stdout",
     "output_type": "stream",
     "text": [
      "failure_id=31 model.fdg.root_cause_instances_of(failure_id)=['docker_004']\n"
     ]
    },
    {
     "name": "stderr",
     "output_type": "stream",
     "text": [
      "Explain node {node_id}: 100%|██████████| 100/100 [00:03<00:00, 26.23it/s]\n"
     ]
    },
    {
     "name": "stdout",
     "output_type": "stream",
     "text": [
      "failure_id=32 model.fdg.root_cause_instances_of(failure_id)=['os_020 Network']\n"
     ]
    },
    {
     "name": "stderr",
     "output_type": "stream",
     "text": [
      "Explain node {node_id}: 100%|██████████| 100/100 [00:03<00:00, 27.31it/s]\n"
     ]
    },
    {
     "name": "stdout",
     "output_type": "stream",
     "text": [
      "failure_id=33 model.fdg.root_cause_instances_of(failure_id)=['os_017 Network']\n"
     ]
    },
    {
     "name": "stderr",
     "output_type": "stream",
     "text": [
      "Explain node {node_id}: 100%|██████████| 100/100 [00:03<00:00, 26.07it/s]\n"
     ]
    },
    {
     "name": "stdout",
     "output_type": "stream",
     "text": [
      "failure_id=34 model.fdg.root_cause_instances_of(failure_id)=['db_003 State']\n"
     ]
    },
    {
     "name": "stderr",
     "output_type": "stream",
     "text": [
      "Explain node {node_id}: 100%|██████████| 100/100 [00:03<00:00, 25.31it/s]\n"
     ]
    },
    {
     "name": "stdout",
     "output_type": "stream",
     "text": [
      "failure_id=35 model.fdg.root_cause_instances_of(failure_id)=['docker_003']\n"
     ]
    },
    {
     "name": "stderr",
     "output_type": "stream",
     "text": [
      "Explain node {node_id}: 100%|██████████| 100/100 [00:03<00:00, 25.34it/s]\n"
     ]
    },
    {
     "name": "stdout",
     "output_type": "stream",
     "text": [
      "failure_id=36 model.fdg.root_cause_instances_of(failure_id)=['db_007 Session']\n"
     ]
    },
    {
     "name": "stderr",
     "output_type": "stream",
     "text": [
      "Explain node {node_id}: 100%|██████████| 100/100 [00:04<00:00, 24.06it/s]\n"
     ]
    },
    {
     "name": "stdout",
     "output_type": "stream",
     "text": [
      "failure_id=37 model.fdg.root_cause_instances_of(failure_id)=['docker_008 CPU']\n"
     ]
    },
    {
     "name": "stderr",
     "output_type": "stream",
     "text": [
      "Explain node {node_id}: 100%|██████████| 100/100 [00:03<00:00, 25.38it/s]\n"
     ]
    },
    {
     "name": "stdout",
     "output_type": "stream",
     "text": [
      "failure_id=38 model.fdg.root_cause_instances_of(failure_id)=['os_021 Network']\n"
     ]
    },
    {
     "name": "stderr",
     "output_type": "stream",
     "text": [
      "Explain node {node_id}: 100%|██████████| 100/100 [00:04<00:00, 24.12it/s]\n"
     ]
    },
    {
     "name": "stdout",
     "output_type": "stream",
     "text": [
      "failure_id=39 model.fdg.root_cause_instances_of(failure_id)=['os_018 Network']\n"
     ]
    },
    {
     "name": "stderr",
     "output_type": "stream",
     "text": [
      "Explain node {node_id}: 100%|██████████| 100/100 [00:03<00:00, 26.32it/s]\n"
     ]
    },
    {
     "name": "stdout",
     "output_type": "stream",
     "text": [
      "failure_id=40 model.fdg.root_cause_instances_of(failure_id)=['os_020 Network']\n"
     ]
    },
    {
     "name": "stderr",
     "output_type": "stream",
     "text": [
      "Explain node {node_id}: 100%|██████████| 100/100 [00:03<00:00, 27.04it/s]\n"
     ]
    },
    {
     "name": "stdout",
     "output_type": "stream",
     "text": [
      "failure_id=41 model.fdg.root_cause_instances_of(failure_id)=['docker_002 CPU']\n"
     ]
    },
    {
     "name": "stderr",
     "output_type": "stream",
     "text": [
      "Explain node {node_id}: 100%|██████████| 100/100 [00:04<00:00, 24.70it/s]\n"
     ]
    },
    {
     "name": "stdout",
     "output_type": "stream",
     "text": [
      "failure_id=42 model.fdg.root_cause_instances_of(failure_id)=['os_018 Network']\n"
     ]
    },
    {
     "name": "stderr",
     "output_type": "stream",
     "text": [
      "Explain node {node_id}: 100%|██████████| 100/100 [00:03<00:00, 26.26it/s]\n"
     ]
    },
    {
     "name": "stdout",
     "output_type": "stream",
     "text": [
      "failure_id=43 model.fdg.root_cause_instances_of(failure_id)=['os_017 Network']\n"
     ]
    },
    {
     "name": "stderr",
     "output_type": "stream",
     "text": [
      "Explain node {node_id}: 100%|██████████| 100/100 [00:03<00:00, 25.73it/s]\n"
     ]
    },
    {
     "name": "stdout",
     "output_type": "stream",
     "text": [
      "failure_id=44 model.fdg.root_cause_instances_of(failure_id)=['docker_006 CPU']\n"
     ]
    },
    {
     "name": "stderr",
     "output_type": "stream",
     "text": [
      "Explain node {node_id}: 100%|██████████| 100/100 [00:04<00:00, 24.71it/s]\n"
     ]
    },
    {
     "name": "stdout",
     "output_type": "stream",
     "text": [
      "failure_id=45 model.fdg.root_cause_instances_of(failure_id)=['db_003 Session']\n"
     ]
    },
    {
     "name": "stderr",
     "output_type": "stream",
     "text": [
      "Explain node {node_id}: 100%|██████████| 100/100 [00:04<00:00, 24.22it/s]\n"
     ]
    },
    {
     "name": "stdout",
     "output_type": "stream",
     "text": [
      "failure_id=46 model.fdg.root_cause_instances_of(failure_id)=['db_007 State']\n"
     ]
    },
    {
     "name": "stderr",
     "output_type": "stream",
     "text": [
      "Explain node {node_id}: 100%|██████████| 100/100 [00:04<00:00, 23.61it/s]\n"
     ]
    },
    {
     "name": "stdout",
     "output_type": "stream",
     "text": [
      "failure_id=47 model.fdg.root_cause_instances_of(failure_id)=['db_007 Session']\n"
     ]
    },
    {
     "name": "stderr",
     "output_type": "stream",
     "text": [
      "Explain node {node_id}: 100%|██████████| 100/100 [00:03<00:00, 27.60it/s]\n"
     ]
    },
    {
     "name": "stdout",
     "output_type": "stream",
     "text": [
      "failure_id=48 model.fdg.root_cause_instances_of(failure_id)=['docker_001']\n"
     ]
    },
    {
     "name": "stderr",
     "output_type": "stream",
     "text": [
      "Explain node {node_id}: 100%|██████████| 100/100 [00:03<00:00, 27.25it/s]\n"
     ]
    },
    {
     "name": "stdout",
     "output_type": "stream",
     "text": [
      "failure_id=49 model.fdg.root_cause_instances_of(failure_id)=['docker_007']\n"
     ]
    },
    {
     "name": "stderr",
     "output_type": "stream",
     "text": [
      "Explain node {node_id}: 100%|██████████| 100/100 [00:04<00:00, 24.68it/s]\n"
     ]
    },
    {
     "name": "stdout",
     "output_type": "stream",
     "text": [
      "failure_id=50 model.fdg.root_cause_instances_of(failure_id)=['docker_001 CPU']\n"
     ]
    },
    {
     "name": "stderr",
     "output_type": "stream",
     "text": [
      "Explain node {node_id}: 100%|██████████| 100/100 [00:04<00:00, 24.22it/s]\n"
     ]
    },
    {
     "name": "stdout",
     "output_type": "stream",
     "text": [
      "failure_id=51 model.fdg.root_cause_instances_of(failure_id)=['os_021 Network']\n"
     ]
    },
    {
     "name": "stderr",
     "output_type": "stream",
     "text": [
      "Explain node {node_id}: 100%|██████████| 100/100 [00:03<00:00, 26.98it/s]\n"
     ]
    },
    {
     "name": "stdout",
     "output_type": "stream",
     "text": [
      "failure_id=52 model.fdg.root_cause_instances_of(failure_id)=['docker_001 CPU']\n"
     ]
    },
    {
     "name": "stderr",
     "output_type": "stream",
     "text": [
      "Explain node {node_id}: 100%|██████████| 100/100 [00:03<00:00, 25.11it/s]\n"
     ]
    },
    {
     "name": "stdout",
     "output_type": "stream",
     "text": [
      "failure_id=53 model.fdg.root_cause_instances_of(failure_id)=['docker_001']\n"
     ]
    },
    {
     "name": "stderr",
     "output_type": "stream",
     "text": [
      "Explain node {node_id}: 100%|██████████| 100/100 [00:03<00:00, 25.65it/s]\n"
     ]
    },
    {
     "name": "stdout",
     "output_type": "stream",
     "text": [
      "failure_id=54 model.fdg.root_cause_instances_of(failure_id)=['docker_001']\n"
     ]
    },
    {
     "name": "stderr",
     "output_type": "stream",
     "text": [
      "Explain node {node_id}: 100%|██████████| 100/100 [00:03<00:00, 26.31it/s]\n"
     ]
    },
    {
     "name": "stdout",
     "output_type": "stream",
     "text": [
      "failure_id=55 model.fdg.root_cause_instances_of(failure_id)=['os_018 Network']\n"
     ]
    },
    {
     "name": "stderr",
     "output_type": "stream",
     "text": [
      "Explain node {node_id}: 100%|██████████| 100/100 [00:03<00:00, 26.93it/s]\n"
     ]
    },
    {
     "name": "stdout",
     "output_type": "stream",
     "text": [
      "failure_id=56 model.fdg.root_cause_instances_of(failure_id)=['docker_008']\n"
     ]
    },
    {
     "name": "stderr",
     "output_type": "stream",
     "text": [
      "Explain node {node_id}: 100%|██████████| 100/100 [00:04<00:00, 24.48it/s]\n"
     ]
    },
    {
     "name": "stdout",
     "output_type": "stream",
     "text": [
      "failure_id=57 model.fdg.root_cause_instances_of(failure_id)=['db_003 Session']\n"
     ]
    },
    {
     "name": "stderr",
     "output_type": "stream",
     "text": [
      "Explain node {node_id}: 100%|██████████| 100/100 [00:03<00:00, 25.51it/s]\n"
     ]
    },
    {
     "name": "stdout",
     "output_type": "stream",
     "text": [
      "failure_id=58 model.fdg.root_cause_instances_of(failure_id)=['docker_008 CPU']\n"
     ]
    },
    {
     "name": "stderr",
     "output_type": "stream",
     "text": [
      "Explain node {node_id}: 100%|██████████| 100/100 [00:03<00:00, 28.02it/s]\n"
     ]
    },
    {
     "name": "stdout",
     "output_type": "stream",
     "text": [
      "failure_id=59 model.fdg.root_cause_instances_of(failure_id)=['docker_001 CPU']\n"
     ]
    },
    {
     "name": "stderr",
     "output_type": "stream",
     "text": [
      "Explain node {node_id}: 100%|██████████| 100/100 [00:04<00:00, 25.00it/s]\n"
     ]
    },
    {
     "name": "stdout",
     "output_type": "stream",
     "text": [
      "failure_id=60 model.fdg.root_cause_instances_of(failure_id)=['docker_006']\n"
     ]
    },
    {
     "name": "stderr",
     "output_type": "stream",
     "text": [
      "Explain node {node_id}: 100%|██████████| 100/100 [00:03<00:00, 26.60it/s]\n"
     ]
    },
    {
     "name": "stdout",
     "output_type": "stream",
     "text": [
      "failure_id=61 model.fdg.root_cause_instances_of(failure_id)=['os_021 Network']\n"
     ]
    },
    {
     "name": "stderr",
     "output_type": "stream",
     "text": [
      "Explain node {node_id}: 100%|██████████| 100/100 [00:03<00:00, 27.59it/s]\n"
     ]
    },
    {
     "name": "stdout",
     "output_type": "stream",
     "text": [
      "failure_id=62 model.fdg.root_cause_instances_of(failure_id)=['docker_005']\n"
     ]
    },
    {
     "name": "stderr",
     "output_type": "stream",
     "text": [
      "Explain node {node_id}: 100%|██████████| 100/100 [00:04<00:00, 24.30it/s]\n"
     ]
    },
    {
     "name": "stdout",
     "output_type": "stream",
     "text": [
      "failure_id=63 model.fdg.root_cause_instances_of(failure_id)=['docker_001']\n"
     ]
    },
    {
     "name": "stderr",
     "output_type": "stream",
     "text": [
      "Explain node {node_id}: 100%|██████████| 100/100 [00:03<00:00, 25.58it/s]\n"
     ]
    },
    {
     "name": "stdout",
     "output_type": "stream",
     "text": [
      "failure_id=64 model.fdg.root_cause_instances_of(failure_id)=['os_020 Network']\n"
     ]
    },
    {
     "name": "stderr",
     "output_type": "stream",
     "text": [
      "Explain node {node_id}: 100%|██████████| 100/100 [00:04<00:00, 23.95it/s]\n"
     ]
    },
    {
     "name": "stdout",
     "output_type": "stream",
     "text": [
      "failure_id=65 model.fdg.root_cause_instances_of(failure_id)=['docker_002 CPU']\n"
     ]
    },
    {
     "name": "stderr",
     "output_type": "stream",
     "text": [
      "Explain node {node_id}: 100%|██████████| 100/100 [00:03<00:00, 25.32it/s]\n"
     ]
    },
    {
     "name": "stdout",
     "output_type": "stream",
     "text": [
      "failure_id=66 model.fdg.root_cause_instances_of(failure_id)=['os_018 Network']\n"
     ]
    },
    {
     "name": "stderr",
     "output_type": "stream",
     "text": [
      "Explain node {node_id}: 100%|██████████| 100/100 [00:03<00:00, 25.15it/s]\n"
     ]
    },
    {
     "name": "stdout",
     "output_type": "stream",
     "text": [
      "failure_id=67 model.fdg.root_cause_instances_of(failure_id)=['docker_002']\n"
     ]
    },
    {
     "name": "stderr",
     "output_type": "stream",
     "text": [
      "Explain node {node_id}: 100%|██████████| 100/100 [00:03<00:00, 25.46it/s]\n"
     ]
    },
    {
     "name": "stdout",
     "output_type": "stream",
     "text": [
      "failure_id=68 model.fdg.root_cause_instances_of(failure_id)=['docker_007']\n"
     ]
    },
    {
     "name": "stderr",
     "output_type": "stream",
     "text": [
      "Explain node {node_id}: 100%|██████████| 100/100 [00:03<00:00, 26.05it/s]\n"
     ]
    },
    {
     "name": "stdout",
     "output_type": "stream",
     "text": [
      "failure_id=69 model.fdg.root_cause_instances_of(failure_id)=['docker_001']\n"
     ]
    },
    {
     "name": "stderr",
     "output_type": "stream",
     "text": [
      "Explain node {node_id}: 100%|██████████| 100/100 [00:04<00:00, 24.31it/s]\n"
     ]
    },
    {
     "name": "stdout",
     "output_type": "stream",
     "text": [
      "failure_id=70 model.fdg.root_cause_instances_of(failure_id)=['docker_008']\n"
     ]
    },
    {
     "name": "stderr",
     "output_type": "stream",
     "text": [
      "Explain node {node_id}: 100%|██████████| 100/100 [00:04<00:00, 24.79it/s]\n"
     ]
    },
    {
     "name": "stdout",
     "output_type": "stream",
     "text": [
      "failure_id=71 model.fdg.root_cause_instances_of(failure_id)=['docker_008']\n"
     ]
    },
    {
     "name": "stderr",
     "output_type": "stream",
     "text": [
      "Explain node {node_id}: 100%|██████████| 100/100 [00:03<00:00, 25.80it/s]\n"
     ]
    },
    {
     "name": "stdout",
     "output_type": "stream",
     "text": [
      "failure_id=72 model.fdg.root_cause_instances_of(failure_id)=['os_021 Network']\n"
     ]
    },
    {
     "name": "stderr",
     "output_type": "stream",
     "text": [
      "Explain node {node_id}: 100%|██████████| 100/100 [00:03<00:00, 25.39it/s]\n"
     ]
    },
    {
     "name": "stdout",
     "output_type": "stream",
     "text": [
      "failure_id=73 model.fdg.root_cause_instances_of(failure_id)=['os_017 Network']\n"
     ]
    },
    {
     "name": "stderr",
     "output_type": "stream",
     "text": [
      "Explain node {node_id}: 100%|██████████| 100/100 [00:03<00:00, 25.89it/s]\n"
     ]
    },
    {
     "name": "stdout",
     "output_type": "stream",
     "text": [
      "failure_id=74 model.fdg.root_cause_instances_of(failure_id)=['db_003 Session']\n"
     ]
    },
    {
     "name": "stderr",
     "output_type": "stream",
     "text": [
      "Explain node {node_id}: 100%|██████████| 100/100 [00:03<00:00, 25.57it/s]\n"
     ]
    },
    {
     "name": "stdout",
     "output_type": "stream",
     "text": [
      "failure_id=75 model.fdg.root_cause_instances_of(failure_id)=['docker_004 CPU']\n"
     ]
    },
    {
     "name": "stderr",
     "output_type": "stream",
     "text": [
      "Explain node {node_id}: 100%|██████████| 100/100 [00:04<00:00, 24.86it/s]\n"
     ]
    },
    {
     "name": "stdout",
     "output_type": "stream",
     "text": [
      "failure_id=76 model.fdg.root_cause_instances_of(failure_id)=['docker_006']\n"
     ]
    },
    {
     "name": "stderr",
     "output_type": "stream",
     "text": [
      "Explain node {node_id}: 100%|██████████| 100/100 [00:03<00:00, 26.45it/s]\n"
     ]
    },
    {
     "name": "stdout",
     "output_type": "stream",
     "text": [
      "failure_id=77 model.fdg.root_cause_instances_of(failure_id)=['docker_003']\n"
     ]
    },
    {
     "name": "stderr",
     "output_type": "stream",
     "text": [
      "Explain node {node_id}: 100%|██████████| 100/100 [00:03<00:00, 25.08it/s]\n"
     ]
    },
    {
     "name": "stdout",
     "output_type": "stream",
     "text": [
      "failure_id=0 model.fdg.root_cause_instances_of(failure_id)=['docker_003 CPU']\n"
     ]
    },
    {
     "name": "stderr",
     "output_type": "stream",
     "text": [
      "Explain node {node_id}: 100%|██████████| 100/100 [00:03<00:00, 25.51it/s]\n"
     ]
    },
    {
     "name": "stdout",
     "output_type": "stream",
     "text": [
      "failure_id=1 model.fdg.root_cause_instances_of(failure_id)=['docker_002']\n"
     ]
    },
    {
     "name": "stderr",
     "output_type": "stream",
     "text": [
      "Explain node {node_id}: 100%|██████████| 100/100 [00:03<00:00, 27.20it/s]\n"
     ]
    },
    {
     "name": "stdout",
     "output_type": "stream",
     "text": [
      "failure_id=2 model.fdg.root_cause_instances_of(failure_id)=['docker_001']\n"
     ]
    },
    {
     "name": "stderr",
     "output_type": "stream",
     "text": [
      "Explain node {node_id}: 100%|██████████| 100/100 [00:03<00:00, 27.72it/s]\n"
     ]
    },
    {
     "name": "stdout",
     "output_type": "stream",
     "text": [
      "failure_id=3 model.fdg.root_cause_instances_of(failure_id)=['docker_004 CPU']\n"
     ]
    },
    {
     "name": "stderr",
     "output_type": "stream",
     "text": [
      "Explain node {node_id}: 100%|██████████| 100/100 [00:03<00:00, 26.97it/s]\n"
     ]
    },
    {
     "name": "stdout",
     "output_type": "stream",
     "text": [
      "failure_id=4 model.fdg.root_cause_instances_of(failure_id)=['db_007 Session']\n"
     ]
    },
    {
     "name": "stderr",
     "output_type": "stream",
     "text": [
      "Explain node {node_id}: 100%|██████████| 100/100 [00:04<00:00, 24.25it/s]\n"
     ]
    },
    {
     "name": "stdout",
     "output_type": "stream",
     "text": [
      "failure_id=5 model.fdg.root_cause_instances_of(failure_id)=['docker_002 CPU']\n"
     ]
    },
    {
     "name": "stderr",
     "output_type": "stream",
     "text": [
      "Explain node {node_id}: 100%|██████████| 100/100 [00:04<00:00, 24.32it/s]\n"
     ]
    },
    {
     "name": "stdout",
     "output_type": "stream",
     "text": [
      "failure_id=6 model.fdg.root_cause_instances_of(failure_id)=['docker_003']\n"
     ]
    },
    {
     "name": "stderr",
     "output_type": "stream",
     "text": [
      "Explain node {node_id}: 100%|██████████| 100/100 [00:04<00:00, 24.14it/s]\n"
     ]
    },
    {
     "name": "stdout",
     "output_type": "stream",
     "text": [
      "failure_id=7 model.fdg.root_cause_instances_of(failure_id)=['docker_003']\n"
     ]
    },
    {
     "name": "stderr",
     "output_type": "stream",
     "text": [
      "Explain node {node_id}: 100%|██████████| 100/100 [00:04<00:00, 24.79it/s]\n"
     ]
    },
    {
     "name": "stdout",
     "output_type": "stream",
     "text": [
      "failure_id=8 model.fdg.root_cause_instances_of(failure_id)=['docker_008 CPU']\n"
     ]
    },
    {
     "name": "stderr",
     "output_type": "stream",
     "text": [
      "Explain node {node_id}: 100%|██████████| 100/100 [00:04<00:00, 23.72it/s]\n"
     ]
    },
    {
     "name": "stdout",
     "output_type": "stream",
     "text": [
      "failure_id=9 model.fdg.root_cause_instances_of(failure_id)=['docker_007']\n"
     ]
    },
    {
     "name": "stderr",
     "output_type": "stream",
     "text": [
      "Explain node {node_id}: 100%|██████████| 100/100 [00:04<00:00, 24.67it/s]\n"
     ]
    },
    {
     "name": "stdout",
     "output_type": "stream",
     "text": [
      "failure_id=10 model.fdg.root_cause_instances_of(failure_id)=['db_003 State']\n"
     ]
    },
    {
     "name": "stderr",
     "output_type": "stream",
     "text": [
      "Explain node {node_id}: 100%|██████████| 100/100 [00:03<00:00, 26.89it/s]\n"
     ]
    },
    {
     "name": "stdout",
     "output_type": "stream",
     "text": [
      "failure_id=11 model.fdg.root_cause_instances_of(failure_id)=['db_003 State']\n"
     ]
    },
    {
     "name": "stderr",
     "output_type": "stream",
     "text": [
      "Explain node {node_id}: 100%|██████████| 100/100 [00:04<00:00, 23.65it/s]\n"
     ]
    },
    {
     "name": "stdout",
     "output_type": "stream",
     "text": [
      "failure_id=12 model.fdg.root_cause_instances_of(failure_id)=['docker_001 CPU']\n"
     ]
    },
    {
     "name": "stderr",
     "output_type": "stream",
     "text": [
      "Explain node {node_id}: 100%|██████████| 100/100 [00:03<00:00, 26.52it/s]\n"
     ]
    },
    {
     "name": "stdout",
     "output_type": "stream",
     "text": [
      "failure_id=13 model.fdg.root_cause_instances_of(failure_id)=['docker_005']\n"
     ]
    },
    {
     "name": "stderr",
     "output_type": "stream",
     "text": [
      "Explain node {node_id}: 100%|██████████| 100/100 [00:03<00:00, 27.40it/s]\n"
     ]
    },
    {
     "name": "stdout",
     "output_type": "stream",
     "text": [
      "failure_id=14 model.fdg.root_cause_instances_of(failure_id)=['os_018 Network']\n"
     ]
    },
    {
     "name": "stderr",
     "output_type": "stream",
     "text": [
      "Explain node {node_id}: 100%|██████████| 100/100 [00:03<00:00, 25.31it/s]\n"
     ]
    },
    {
     "name": "stdout",
     "output_type": "stream",
     "text": [
      "failure_id=15 model.fdg.root_cause_instances_of(failure_id)=['docker_005 CPU']\n"
     ]
    },
    {
     "name": "stderr",
     "output_type": "stream",
     "text": [
      "Explain node {node_id}: 100%|██████████| 100/100 [00:04<00:00, 24.83it/s]\n"
     ]
    },
    {
     "name": "stdout",
     "output_type": "stream",
     "text": [
      "failure_id=16 model.fdg.root_cause_instances_of(failure_id)=['docker_007']\n"
     ]
    },
    {
     "name": "stderr",
     "output_type": "stream",
     "text": [
      "Explain node {node_id}: 100%|██████████| 100/100 [00:03<00:00, 25.86it/s]\n"
     ]
    },
    {
     "name": "stdout",
     "output_type": "stream",
     "text": [
      "failure_id=17 model.fdg.root_cause_instances_of(failure_id)=['docker_006']\n"
     ]
    },
    {
     "name": "stderr",
     "output_type": "stream",
     "text": [
      "Explain node {node_id}: 100%|██████████| 100/100 [00:04<00:00, 24.00it/s]\n"
     ]
    },
    {
     "name": "stdout",
     "output_type": "stream",
     "text": [
      "failure_id=18 model.fdg.root_cause_instances_of(failure_id)=['docker_004 CPU']\n"
     ]
    },
    {
     "name": "stderr",
     "output_type": "stream",
     "text": [
      "Explain node {node_id}: 100%|██████████| 100/100 [00:04<00:00, 22.22it/s]\n"
     ]
    },
    {
     "name": "stdout",
     "output_type": "stream",
     "text": [
      "failure_id=19 model.fdg.root_cause_instances_of(failure_id)=['db_003 Session']\n"
     ]
    },
    {
     "name": "stderr",
     "output_type": "stream",
     "text": [
      "Explain node {node_id}: 100%|██████████| 100/100 [00:03<00:00, 26.79it/s]\n"
     ]
    },
    {
     "name": "stdout",
     "output_type": "stream",
     "text": [
      "failure_id=20 model.fdg.root_cause_instances_of(failure_id)=['os_021 Network']\n"
     ]
    },
    {
     "name": "stderr",
     "output_type": "stream",
     "text": [
      "Explain node {node_id}: 100%|██████████| 100/100 [00:03<00:00, 25.71it/s]\n"
     ]
    },
    {
     "name": "stdout",
     "output_type": "stream",
     "text": [
      "failure_id=21 model.fdg.root_cause_instances_of(failure_id)=['docker_006']\n"
     ]
    },
    {
     "name": "stderr",
     "output_type": "stream",
     "text": [
      "Explain node {node_id}: 100%|██████████| 100/100 [00:03<00:00, 25.96it/s]\n"
     ]
    },
    {
     "name": "stdout",
     "output_type": "stream",
     "text": [
      "failure_id=22 model.fdg.root_cause_instances_of(failure_id)=['os_021 Network']\n"
     ]
    },
    {
     "name": "stderr",
     "output_type": "stream",
     "text": [
      "Explain node {node_id}: 100%|██████████| 100/100 [00:03<00:00, 25.44it/s]\n"
     ]
    },
    {
     "name": "stdout",
     "output_type": "stream",
     "text": [
      "failure_id=23 model.fdg.root_cause_instances_of(failure_id)=['docker_006 CPU']\n"
     ]
    },
    {
     "name": "stderr",
     "output_type": "stream",
     "text": [
      "Explain node {node_id}: 100%|██████████| 100/100 [00:03<00:00, 26.42it/s]\n"
     ]
    },
    {
     "name": "stdout",
     "output_type": "stream",
     "text": [
      "failure_id=24 model.fdg.root_cause_instances_of(failure_id)=['docker_005']\n"
     ]
    },
    {
     "name": "stderr",
     "output_type": "stream",
     "text": [
      "Explain node {node_id}: 100%|██████████| 100/100 [00:03<00:00, 26.52it/s]\n"
     ]
    },
    {
     "name": "stdout",
     "output_type": "stream",
     "text": [
      "failure_id=25 model.fdg.root_cause_instances_of(failure_id)=['docker_007']\n"
     ]
    },
    {
     "name": "stderr",
     "output_type": "stream",
     "text": [
      "Explain node {node_id}: 100%|██████████| 100/100 [00:03<00:00, 25.90it/s]\n"
     ]
    },
    {
     "name": "stdout",
     "output_type": "stream",
     "text": [
      "failure_id=26 model.fdg.root_cause_instances_of(failure_id)=['docker_004']\n"
     ]
    },
    {
     "name": "stderr",
     "output_type": "stream",
     "text": [
      "Explain node {node_id}: 100%|██████████| 100/100 [00:03<00:00, 25.37it/s]\n"
     ]
    },
    {
     "name": "stdout",
     "output_type": "stream",
     "text": [
      "failure_id=27 model.fdg.root_cause_instances_of(failure_id)=['db_007 State']\n"
     ]
    },
    {
     "name": "stderr",
     "output_type": "stream",
     "text": [
      "Explain node {node_id}: 100%|██████████| 100/100 [00:03<00:00, 27.53it/s]\n"
     ]
    },
    {
     "name": "stdout",
     "output_type": "stream",
     "text": [
      "failure_id=28 model.fdg.root_cause_instances_of(failure_id)=['docker_002']\n"
     ]
    },
    {
     "name": "stderr",
     "output_type": "stream",
     "text": [
      "Explain node {node_id}: 100%|██████████| 100/100 [00:04<00:00, 23.23it/s]\n"
     ]
    },
    {
     "name": "stdout",
     "output_type": "stream",
     "text": [
      "failure_id=29 model.fdg.root_cause_instances_of(failure_id)=['docker_003 CPU']\n"
     ]
    },
    {
     "name": "stderr",
     "output_type": "stream",
     "text": [
      "Explain node {node_id}: 100%|██████████| 100/100 [00:03<00:00, 26.58it/s]\n"
     ]
    },
    {
     "name": "stdout",
     "output_type": "stream",
     "text": [
      "failure_id=30 model.fdg.root_cause_instances_of(failure_id)=['docker_006 CPU']\n"
     ]
    },
    {
     "name": "stderr",
     "output_type": "stream",
     "text": [
      "Explain node {node_id}: 100%|██████████| 100/100 [00:03<00:00, 25.56it/s]\n"
     ]
    },
    {
     "name": "stdout",
     "output_type": "stream",
     "text": [
      "failure_id=31 model.fdg.root_cause_instances_of(failure_id)=['docker_004']\n"
     ]
    },
    {
     "name": "stderr",
     "output_type": "stream",
     "text": [
      "Explain node {node_id}: 100%|██████████| 100/100 [00:03<00:00, 27.79it/s]\n"
     ]
    },
    {
     "name": "stdout",
     "output_type": "stream",
     "text": [
      "failure_id=32 model.fdg.root_cause_instances_of(failure_id)=['os_020 Network']\n"
     ]
    },
    {
     "name": "stderr",
     "output_type": "stream",
     "text": [
      "Explain node {node_id}: 100%|██████████| 100/100 [00:03<00:00, 25.26it/s]\n"
     ]
    },
    {
     "name": "stdout",
     "output_type": "stream",
     "text": [
      "failure_id=33 model.fdg.root_cause_instances_of(failure_id)=['os_017 Network']\n"
     ]
    },
    {
     "name": "stderr",
     "output_type": "stream",
     "text": [
      "Explain node {node_id}: 100%|██████████| 100/100 [00:03<00:00, 27.04it/s]\n"
     ]
    },
    {
     "name": "stdout",
     "output_type": "stream",
     "text": [
      "failure_id=34 model.fdg.root_cause_instances_of(failure_id)=['db_003 State']\n"
     ]
    },
    {
     "name": "stderr",
     "output_type": "stream",
     "text": [
      "Explain node {node_id}: 100%|██████████| 100/100 [00:03<00:00, 26.81it/s]\n"
     ]
    },
    {
     "name": "stdout",
     "output_type": "stream",
     "text": [
      "failure_id=35 model.fdg.root_cause_instances_of(failure_id)=['docker_003']\n"
     ]
    },
    {
     "name": "stderr",
     "output_type": "stream",
     "text": [
      "Explain node {node_id}: 100%|██████████| 100/100 [00:03<00:00, 25.47it/s]\n"
     ]
    },
    {
     "name": "stdout",
     "output_type": "stream",
     "text": [
      "failure_id=36 model.fdg.root_cause_instances_of(failure_id)=['db_007 Session']\n"
     ]
    },
    {
     "name": "stderr",
     "output_type": "stream",
     "text": [
      "Explain node {node_id}: 100%|██████████| 100/100 [00:04<00:00, 23.98it/s]\n"
     ]
    },
    {
     "name": "stdout",
     "output_type": "stream",
     "text": [
      "failure_id=37 model.fdg.root_cause_instances_of(failure_id)=['docker_008 CPU']\n"
     ]
    },
    {
     "name": "stderr",
     "output_type": "stream",
     "text": [
      "Explain node {node_id}: 100%|██████████| 100/100 [00:03<00:00, 26.47it/s]\n"
     ]
    },
    {
     "name": "stdout",
     "output_type": "stream",
     "text": [
      "failure_id=38 model.fdg.root_cause_instances_of(failure_id)=['os_021 Network']\n"
     ]
    },
    {
     "name": "stderr",
     "output_type": "stream",
     "text": [
      "Explain node {node_id}: 100%|██████████| 100/100 [00:03<00:00, 26.38it/s]\n"
     ]
    },
    {
     "name": "stdout",
     "output_type": "stream",
     "text": [
      "failure_id=39 model.fdg.root_cause_instances_of(failure_id)=['os_018 Network']\n"
     ]
    },
    {
     "name": "stderr",
     "output_type": "stream",
     "text": [
      "Explain node {node_id}: 100%|██████████| 100/100 [00:04<00:00, 24.67it/s]\n"
     ]
    },
    {
     "name": "stdout",
     "output_type": "stream",
     "text": [
      "failure_id=40 model.fdg.root_cause_instances_of(failure_id)=['os_020 Network']\n"
     ]
    },
    {
     "name": "stderr",
     "output_type": "stream",
     "text": [
      "Explain node {node_id}: 100%|██████████| 100/100 [00:03<00:00, 25.71it/s]\n"
     ]
    },
    {
     "name": "stdout",
     "output_type": "stream",
     "text": [
      "failure_id=41 model.fdg.root_cause_instances_of(failure_id)=['docker_002 CPU']\n"
     ]
    },
    {
     "name": "stderr",
     "output_type": "stream",
     "text": [
      "Explain node {node_id}: 100%|██████████| 100/100 [00:03<00:00, 25.59it/s]\n"
     ]
    },
    {
     "name": "stdout",
     "output_type": "stream",
     "text": [
      "failure_id=42 model.fdg.root_cause_instances_of(failure_id)=['os_018 Network']\n"
     ]
    },
    {
     "name": "stderr",
     "output_type": "stream",
     "text": [
      "Explain node {node_id}: 100%|██████████| 100/100 [00:03<00:00, 25.16it/s]\n"
     ]
    },
    {
     "name": "stdout",
     "output_type": "stream",
     "text": [
      "failure_id=43 model.fdg.root_cause_instances_of(failure_id)=['os_017 Network']\n"
     ]
    },
    {
     "name": "stderr",
     "output_type": "stream",
     "text": [
      "Explain node {node_id}: 100%|██████████| 100/100 [00:04<00:00, 24.57it/s]\n"
     ]
    },
    {
     "name": "stdout",
     "output_type": "stream",
     "text": [
      "failure_id=44 model.fdg.root_cause_instances_of(failure_id)=['docker_006 CPU']\n"
     ]
    },
    {
     "name": "stderr",
     "output_type": "stream",
     "text": [
      "Explain node {node_id}: 100%|██████████| 100/100 [00:04<00:00, 22.69it/s]\n"
     ]
    },
    {
     "name": "stdout",
     "output_type": "stream",
     "text": [
      "failure_id=45 model.fdg.root_cause_instances_of(failure_id)=['db_003 Session']\n"
     ]
    },
    {
     "name": "stderr",
     "output_type": "stream",
     "text": [
      "Explain node {node_id}: 100%|██████████| 100/100 [00:03<00:00, 25.87it/s]\n"
     ]
    },
    {
     "name": "stdout",
     "output_type": "stream",
     "text": [
      "failure_id=46 model.fdg.root_cause_instances_of(failure_id)=['db_007 State']\n"
     ]
    },
    {
     "name": "stderr",
     "output_type": "stream",
     "text": [
      "Explain node {node_id}: 100%|██████████| 100/100 [00:03<00:00, 25.05it/s]\n"
     ]
    },
    {
     "name": "stdout",
     "output_type": "stream",
     "text": [
      "failure_id=47 model.fdg.root_cause_instances_of(failure_id)=['db_007 Session']\n"
     ]
    },
    {
     "name": "stderr",
     "output_type": "stream",
     "text": [
      "Explain node {node_id}: 100%|██████████| 100/100 [00:04<00:00, 23.30it/s]\n"
     ]
    },
    {
     "name": "stdout",
     "output_type": "stream",
     "text": [
      "failure_id=48 model.fdg.root_cause_instances_of(failure_id)=['docker_001']\n"
     ]
    },
    {
     "name": "stderr",
     "output_type": "stream",
     "text": [
      "Explain node {node_id}: 100%|██████████| 100/100 [00:03<00:00, 25.87it/s]\n"
     ]
    },
    {
     "name": "stdout",
     "output_type": "stream",
     "text": [
      "failure_id=49 model.fdg.root_cause_instances_of(failure_id)=['docker_007']\n"
     ]
    },
    {
     "name": "stderr",
     "output_type": "stream",
     "text": [
      "Explain node {node_id}: 100%|██████████| 100/100 [00:04<00:00, 24.79it/s]\n"
     ]
    },
    {
     "name": "stdout",
     "output_type": "stream",
     "text": [
      "failure_id=50 model.fdg.root_cause_instances_of(failure_id)=['docker_001 CPU']\n"
     ]
    },
    {
     "name": "stderr",
     "output_type": "stream",
     "text": [
      "Explain node {node_id}: 100%|██████████| 100/100 [00:04<00:00, 23.35it/s]\n"
     ]
    },
    {
     "name": "stdout",
     "output_type": "stream",
     "text": [
      "failure_id=51 model.fdg.root_cause_instances_of(failure_id)=['os_021 Network']\n"
     ]
    },
    {
     "name": "stderr",
     "output_type": "stream",
     "text": [
      "Explain node {node_id}: 100%|██████████| 100/100 [00:03<00:00, 26.05it/s]\n"
     ]
    },
    {
     "name": "stdout",
     "output_type": "stream",
     "text": [
      "failure_id=52 model.fdg.root_cause_instances_of(failure_id)=['docker_001 CPU']\n"
     ]
    },
    {
     "name": "stderr",
     "output_type": "stream",
     "text": [
      "Explain node {node_id}: 100%|██████████| 100/100 [00:03<00:00, 25.36it/s]\n"
     ]
    },
    {
     "name": "stdout",
     "output_type": "stream",
     "text": [
      "failure_id=53 model.fdg.root_cause_instances_of(failure_id)=['docker_001']\n"
     ]
    },
    {
     "name": "stderr",
     "output_type": "stream",
     "text": [
      "Explain node {node_id}: 100%|██████████| 100/100 [00:03<00:00, 25.53it/s]\n"
     ]
    },
    {
     "name": "stdout",
     "output_type": "stream",
     "text": [
      "failure_id=54 model.fdg.root_cause_instances_of(failure_id)=['docker_001']\n"
     ]
    },
    {
     "name": "stderr",
     "output_type": "stream",
     "text": [
      "Explain node {node_id}: 100%|██████████| 100/100 [00:04<00:00, 24.39it/s]\n"
     ]
    },
    {
     "name": "stdout",
     "output_type": "stream",
     "text": [
      "failure_id=55 model.fdg.root_cause_instances_of(failure_id)=['os_018 Network']\n"
     ]
    },
    {
     "name": "stderr",
     "output_type": "stream",
     "text": [
      "Explain node {node_id}: 100%|██████████| 100/100 [00:03<00:00, 28.46it/s]\n"
     ]
    },
    {
     "name": "stdout",
     "output_type": "stream",
     "text": [
      "failure_id=56 model.fdg.root_cause_instances_of(failure_id)=['docker_008']\n"
     ]
    },
    {
     "name": "stderr",
     "output_type": "stream",
     "text": [
      "Explain node {node_id}: 100%|██████████| 100/100 [00:03<00:00, 25.90it/s]\n"
     ]
    },
    {
     "name": "stdout",
     "output_type": "stream",
     "text": [
      "failure_id=57 model.fdg.root_cause_instances_of(failure_id)=['db_003 Session']\n"
     ]
    },
    {
     "name": "stderr",
     "output_type": "stream",
     "text": [
      "Explain node {node_id}: 100%|██████████| 100/100 [00:03<00:00, 25.29it/s]\n"
     ]
    },
    {
     "name": "stdout",
     "output_type": "stream",
     "text": [
      "failure_id=58 model.fdg.root_cause_instances_of(failure_id)=['docker_008 CPU']\n"
     ]
    },
    {
     "name": "stderr",
     "output_type": "stream",
     "text": [
      "Explain node {node_id}: 100%|██████████| 100/100 [00:04<00:00, 24.81it/s]\n"
     ]
    },
    {
     "name": "stdout",
     "output_type": "stream",
     "text": [
      "failure_id=59 model.fdg.root_cause_instances_of(failure_id)=['docker_001 CPU']\n"
     ]
    },
    {
     "name": "stderr",
     "output_type": "stream",
     "text": [
      "Explain node {node_id}: 100%|██████████| 100/100 [00:03<00:00, 25.57it/s]\n"
     ]
    },
    {
     "name": "stdout",
     "output_type": "stream",
     "text": [
      "failure_id=60 model.fdg.root_cause_instances_of(failure_id)=['docker_006']\n"
     ]
    },
    {
     "name": "stderr",
     "output_type": "stream",
     "text": [
      "Explain node {node_id}: 100%|██████████| 100/100 [00:03<00:00, 27.44it/s]\n"
     ]
    },
    {
     "name": "stdout",
     "output_type": "stream",
     "text": [
      "failure_id=61 model.fdg.root_cause_instances_of(failure_id)=['os_021 Network']\n"
     ]
    },
    {
     "name": "stderr",
     "output_type": "stream",
     "text": [
      "Explain node {node_id}: 100%|██████████| 100/100 [00:04<00:00, 24.86it/s]\n"
     ]
    },
    {
     "name": "stdout",
     "output_type": "stream",
     "text": [
      "failure_id=62 model.fdg.root_cause_instances_of(failure_id)=['docker_005']\n"
     ]
    },
    {
     "name": "stderr",
     "output_type": "stream",
     "text": [
      "Explain node {node_id}: 100%|██████████| 100/100 [00:03<00:00, 26.08it/s]\n"
     ]
    },
    {
     "name": "stdout",
     "output_type": "stream",
     "text": [
      "failure_id=63 model.fdg.root_cause_instances_of(failure_id)=['docker_001']\n"
     ]
    },
    {
     "name": "stderr",
     "output_type": "stream",
     "text": [
      "Explain node {node_id}: 100%|██████████| 100/100 [00:04<00:00, 24.13it/s]\n"
     ]
    },
    {
     "name": "stdout",
     "output_type": "stream",
     "text": [
      "failure_id=64 model.fdg.root_cause_instances_of(failure_id)=['os_020 Network']\n"
     ]
    },
    {
     "name": "stderr",
     "output_type": "stream",
     "text": [
      "Explain node {node_id}: 100%|██████████| 100/100 [00:03<00:00, 25.00it/s]\n"
     ]
    },
    {
     "name": "stdout",
     "output_type": "stream",
     "text": [
      "failure_id=65 model.fdg.root_cause_instances_of(failure_id)=['docker_002 CPU']\n"
     ]
    },
    {
     "name": "stderr",
     "output_type": "stream",
     "text": [
      "Explain node {node_id}: 100%|██████████| 100/100 [00:03<00:00, 25.56it/s]\n"
     ]
    },
    {
     "name": "stdout",
     "output_type": "stream",
     "text": [
      "failure_id=66 model.fdg.root_cause_instances_of(failure_id)=['os_018 Network']\n"
     ]
    },
    {
     "name": "stderr",
     "output_type": "stream",
     "text": [
      "Explain node {node_id}: 100%|██████████| 100/100 [00:03<00:00, 26.78it/s]\n"
     ]
    },
    {
     "name": "stdout",
     "output_type": "stream",
     "text": [
      "failure_id=67 model.fdg.root_cause_instances_of(failure_id)=['docker_002']\n"
     ]
    },
    {
     "name": "stderr",
     "output_type": "stream",
     "text": [
      "Explain node {node_id}: 100%|██████████| 100/100 [00:04<00:00, 22.86it/s]\n"
     ]
    },
    {
     "name": "stdout",
     "output_type": "stream",
     "text": [
      "failure_id=68 model.fdg.root_cause_instances_of(failure_id)=['docker_007']\n"
     ]
    },
    {
     "name": "stderr",
     "output_type": "stream",
     "text": [
      "Explain node {node_id}: 100%|██████████| 100/100 [00:04<00:00, 23.19it/s]\n"
     ]
    },
    {
     "name": "stdout",
     "output_type": "stream",
     "text": [
      "failure_id=69 model.fdg.root_cause_instances_of(failure_id)=['docker_001']\n"
     ]
    },
    {
     "name": "stderr",
     "output_type": "stream",
     "text": [
      "Explain node {node_id}: 100%|██████████| 100/100 [00:03<00:00, 25.67it/s]\n"
     ]
    },
    {
     "name": "stdout",
     "output_type": "stream",
     "text": [
      "failure_id=70 model.fdg.root_cause_instances_of(failure_id)=['docker_008']\n"
     ]
    },
    {
     "name": "stderr",
     "output_type": "stream",
     "text": [
      "Explain node {node_id}: 100%|██████████| 100/100 [00:03<00:00, 25.39it/s]\n"
     ]
    },
    {
     "name": "stdout",
     "output_type": "stream",
     "text": [
      "failure_id=71 model.fdg.root_cause_instances_of(failure_id)=['docker_008']\n"
     ]
    },
    {
     "name": "stderr",
     "output_type": "stream",
     "text": [
      "Explain node {node_id}: 100%|██████████| 100/100 [00:03<00:00, 27.14it/s]\n"
     ]
    },
    {
     "name": "stdout",
     "output_type": "stream",
     "text": [
      "failure_id=72 model.fdg.root_cause_instances_of(failure_id)=['os_021 Network']\n"
     ]
    },
    {
     "name": "stderr",
     "output_type": "stream",
     "text": [
      "Explain node {node_id}: 100%|██████████| 100/100 [00:03<00:00, 26.04it/s]\n"
     ]
    },
    {
     "name": "stdout",
     "output_type": "stream",
     "text": [
      "failure_id=73 model.fdg.root_cause_instances_of(failure_id)=['os_017 Network']\n"
     ]
    },
    {
     "name": "stderr",
     "output_type": "stream",
     "text": [
      "Explain node {node_id}: 100%|██████████| 100/100 [00:03<00:00, 26.09it/s]\n"
     ]
    },
    {
     "name": "stdout",
     "output_type": "stream",
     "text": [
      "failure_id=74 model.fdg.root_cause_instances_of(failure_id)=['db_003 Session']\n"
     ]
    },
    {
     "name": "stderr",
     "output_type": "stream",
     "text": [
      "Explain node {node_id}: 100%|██████████| 100/100 [00:03<00:00, 26.48it/s]\n"
     ]
    },
    {
     "name": "stdout",
     "output_type": "stream",
     "text": [
      "failure_id=75 model.fdg.root_cause_instances_of(failure_id)=['docker_004 CPU']\n"
     ]
    },
    {
     "name": "stderr",
     "output_type": "stream",
     "text": [
      "Explain node {node_id}: 100%|██████████| 100/100 [00:03<00:00, 25.82it/s]\n"
     ]
    },
    {
     "name": "stdout",
     "output_type": "stream",
     "text": [
      "failure_id=76 model.fdg.root_cause_instances_of(failure_id)=['docker_006']\n"
     ]
    },
    {
     "name": "stderr",
     "output_type": "stream",
     "text": [
      "Explain node {node_id}: 100%|██████████| 100/100 [00:03<00:00, 25.25it/s]\n"
     ]
    },
    {
     "name": "stdout",
     "output_type": "stream",
     "text": [
      "failure_id=77 model.fdg.root_cause_instances_of(failure_id)=['docker_003']\n"
     ]
    },
    {
     "name": "stderr",
     "output_type": "stream",
     "text": [
      "Explain node {node_id}: 100%|██████████| 100/100 [00:04<00:00, 24.74it/s]\n"
     ]
    }
   ],
   "source": [
    "from graphviz import Digraph\n",
    "import networkx as nx\n",
    "failure_id=0\n",
    "\n",
    "def plot_explain_graph(failure_id: int, num_hops=1) -> Digraph:\n",
    "    from dgl.nn import GNNExplainer\n",
    "    explainer = GNNExplainer(wrapped_module, num_hops=num_hops)\n",
    "\n",
    "    rc = model.fdg.root_cause_instances_of(failure_id)[0]\n",
    "    rc_gid = model.fdg.instance_to_gid(rc)\n",
    "    print(f\"{failure_id=} {model.fdg.root_cause_instances_of(failure_id)=}\")\n",
    "    new_center, sg, feat_mask, edge_mask = explainer.explain_node(\n",
    "        rc_gid, \n",
    "        graph_list[failure_id], \n",
    "        feat_list[failure_id]\n",
    "    )\n",
    "\n",
    "    nid_dict = {i: nid.item() for i, nid in enumerate(sg.ndata[dgl.NID])}\n",
    "    # print(nid_dict)\n",
    "    for n in sg.nodes().tolist():\n",
    "        n = model.fdg.gid_to_instance(nid_dict[n])\n",
    "\n",
    "    nx_graph = nx.DiGraph()\n",
    "    \n",
    "    for u, v, weight in zip(*[_.tolist() for _ in sg.edges()], edge_mask):\n",
    "        u = model.fdg.gid_to_instance(nid_dict[u])\n",
    "        v = model.fdg.gid_to_instance(nid_dict[v])\n",
    "        # print(u, v)\n",
    "        if weight > 0.5 or u == rc or v == rc:\n",
    "            color = f\"gray{100 - int(weight * 100)}\"\n",
    "            nx_graph.add_edge(u, v, penwidth=f\"{1 + weight}\", color=color)\n",
    "    nx_graph = nx_graph.subgraph([_ for _ in nx.weakly_connected_components(nx_graph) if rc in _][0])\n",
    "            \n",
    "    gv_graph = Digraph()\n",
    "    for n in nx_graph.nodes():\n",
    "        gv_graph.node(n, color=\"red\" if n == rc else \"cornflowerblue\", style=\"filled\", fontcolor=\"white\")\n",
    "    for u, v, data in nx_graph.edges(data=True):\n",
    "        gv_graph.edge(u, v, **data)\n",
    "    gv_graph.render(str(output_dir / f\"{num_hops}\" / f\"{failure_id}_{rc}\".replace(\" \", \"_\")), format=\"pdf\")\n",
    "    return gv_graph\n",
    "\n",
    "# plot_explain_graph(0, num_hops=5)\n",
    "for num_hops in [1, 2, 3, 4, 5]:\n",
    "    for fid in model.fdg.failure_ids:\n",
    "        plot_explain_graph(fid, num_hops=num_hops)"
   ]
  },
  {
   "cell_type": "code",
   "execution_count": 96,
   "id": "21158551-a066-4e75-a648-06231fb45ca3",
   "metadata": {},
   "outputs": [
    {
     "data": {
      "text/plain": [
       "PosixPath('/data/SSF/experiment_outputs/run_GAT_node_classification.py.2021-12-22T03:50:07.949451/LIME_explain')"
      ]
     },
     "execution_count": 96,
     "metadata": {},
     "output_type": "execute_result"
    }
   ],
   "source": [
    "output_dir"
   ]
  },
  {
   "cell_type": "code",
   "execution_count": 28,
   "id": "c90c90ed-dc0a-472f-9068-7be2b1c61a1b",
   "metadata": {},
   "outputs": [
    {
     "data": {
      "text/plain": [
       "(tensor([0, 0, 0, 0, 0, 0, 0, 0, 0, 0, 1, 1, 2, 2, 3, 3, 4, 4, 5, 5, 6, 6, 7, 7,\n",
       "         8, 8, 9, 9]),\n",
       " tensor([1, 2, 3, 4, 5, 6, 7, 8, 9, 0, 0, 1, 0, 2, 0, 3, 0, 4, 0, 5, 0, 6, 0, 7,\n",
       "         0, 8, 0, 9]))"
      ]
     },
     "execution_count": 28,
     "metadata": {},
     "output_type": "execute_result"
    }
   ],
   "source": [
    "sg.edges()"
   ]
  },
  {
   "cell_type": "code",
   "execution_count": 29,
   "id": "1d55d2b0-dee8-4697-9714-748a2cd9e765",
   "metadata": {},
   "outputs": [
    {
     "data": {
      "text/plain": [
       "tensor([ 1,  4,  7, 10, 13, 16, 18, 19, 20, 21])"
      ]
     },
     "execution_count": 29,
     "metadata": {},
     "output_type": "execute_result"
    }
   ],
   "source": [
    "sg.ndata[dgl.NID]"
   ]
  },
  {
   "cell_type": "code",
   "execution_count": 39,
   "id": "29fb4b81-cd58-4b45-9862-6cfd0cb8f0fb",
   "metadata": {},
   "outputs": [
    {
     "data": {
      "text/plain": [
       "<zip at 0x7f4c89fd0680>"
      ]
     },
     "execution_count": 39,
     "metadata": {},
     "output_type": "execute_result"
    }
   ],
   "source": [
    "zip(*[_.tolist() for _ in sg.edges()])"
   ]
  },
  {
   "cell_type": "code",
   "execution_count": null,
   "id": "1a751865-9967-4ddc-84a7-6256e3281825",
   "metadata": {},
   "outputs": [],
   "source": []
  }
 ],
 "metadata": {
  "jupytext": {
   "formats": "ipynb,py:light"
  },
  "kernelspec": {
   "display_name": "Python 3 (ipykernel)",
   "language": "python",
   "name": "python3"
  },
  "language_info": {
   "codemirror_mode": {
    "name": "ipython",
    "version": 3
   },
   "file_extension": ".py",
   "mimetype": "text/x-python",
   "name": "python",
   "nbconvert_exporter": "python",
   "pygments_lexer": "ipython3",
   "version": "3.8.12"
  }
 },
 "nbformat": 4,
 "nbformat_minor": 5
}
