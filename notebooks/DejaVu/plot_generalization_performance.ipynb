{
 "cells": [
  {
   "cell_type": "code",
   "execution_count": 1,
   "id": "6b594540",
   "metadata": {},
   "outputs": [
    {
     "name": "stderr",
     "output_type": "stream",
     "text": [
      "Using backend: pytorch\n"
     ]
    },
    {
     "name": "stdout",
     "output_type": "stream",
     "text": [
      "download finished\n"
     ]
    }
   ],
   "source": [
    "%load_ext autoreload \n",
    "%autoreload 2\n",
    "import sys\n",
    "import pandas as pd\n",
    "pd.options.display.max_rows=100\n",
    "pd.options.display.min_rows=100\n",
    "pd.options.display.max_colwidth=120\n",
    "sys.path.insert(0, '/SSF')\n",
    "import os\n",
    "os.chdir('/SSF')\n",
    "\n",
    "from DejaVu.explib import get_eval_results\n",
    "eval_rets, _ = get_eval_results()"
   ]
  },
  {
   "cell_type": "code",
   "execution_count": 2,
   "id": "575a57c1",
   "metadata": {
    "tags": []
   },
   "outputs": [],
   "source": [
    "from loguru import logger\n",
    "from pathlib import Path\n",
    "import pickle\n",
    "import sys\n",
    "from DejaVu.models import DejaVuModelInterface, get_GAT_model\n",
    "from DejaVu.explib import read_model\n",
    "from utils.load_model import best_checkpoint\n",
    "import numpy as np\n",
    "\n",
    "logger.remove()\n",
    "logger.add(sys.stdout, level='ERROR')\n",
    "\n",
    "def parse_pred_ret_by_recurring(exp_dir_lists, dataset):\n",
    "    records = []\n",
    "    exp_dir_lists = [Path(_) for _ in exp_dir_lists]\n",
    "    exp_dir_lists = [_ if _.is_dir() else _.parent for _ in exp_dir_lists]\n",
    "    \n",
    "    model, _, _ = read_model(exp_dir_lists[0], get_GAT_model, override_config=dict(flush_dataset_cache=False))\n",
    "    fdg = model.fdg\n",
    "    module: DejaVuModelInterface = model.module\n",
    "    trainer = model.trainer\n",
    "    test_fault_ids = model.test_failure_ids\n",
    "    train_fault_ids = model.train_failure_ids\n",
    "    train_rc_nodes = set()\n",
    "    for fault_id in train_fault_ids:\n",
    "        train_rc_nodes |= set(fdg.root_cause_instances_of(fault_id))\n",
    "    \n",
    "    for exp_dir in exp_dir_lists:\n",
    "        exp_records = []\n",
    "        print(exp_dir)\n",
    "        trainer.test(\n",
    "            model, test_dataloaders=model.test_dataloader(), verbose=False,\n",
    "            ckpt_path=str(best_checkpoint(exp_dir, debug=True)),\n",
    "        )\n",
    "        y_preds = np.asarray(model.preds_list)\n",
    "#         print(y_preds.shape)\n",
    "        for failt_id_idx, fault_id in enumerate(test_fault_ids):\n",
    "            rc_nodes = set(fdg.root_cause_instances_of(fault_id))\n",
    "            for n in rc_nodes:\n",
    "                exp_records.append({\n",
    "                    'Seen': n in train_rc_nodes,\n",
    "                    'Rank': np.where(y_preds[failt_id_idx, :] == fdg.instance_to_gid(n))[0][0] + 1,\n",
    "                    'fault_id': fault_id,\n",
    "                    \"node\": n,\n",
    "                })\n",
    "        records.extend(exp_records)\n",
    "        # break\n",
    "    ret_df = pd.DataFrame.from_records(records)\n",
    "    ret_df['Dataset'] = dataset\n",
    "    return ret_df\n",
    "\n",
    "OUTPUT_DIR = Path('/SSF/output/plot_generalization_performance/')\n",
    "OUTPUT_DIR.mkdir(exist_ok=True, parents=True)"
   ]
  },
  {
   "cell_type": "code",
   "execution_count": 3,
   "id": "a9b6d881",
   "metadata": {
    "pycharm": {
     "name": "#%%\n"
    },
    "scrolled": true,
    "tags": []
   },
   "outputs": [
    {
     "name": "stderr",
     "output_type": "stream",
     "text": [
      "/opt/conda/lib/python3.8/site-packages/pytorch_lightning/trainer/connectors/callback_connector.py:90: LightningDeprecationWarning: Setting `Trainer(progress_bar_refresh_rate=0)` is deprecated in v1.5 and will be removed in v1.7. Please pass `pytorch_lightning.callbacks.progress.TQDMProgressBar` with `refresh_rate` directly to the Trainer's `callbacks` argument instead. Or, to disable the progress bar pass `enable_progress_bar = False` to the Trainer.\n",
      "  rank_zero_deprecation(\n",
      "GPU available: False, used: False\n",
      "TPU available: False, using: 0 TPU cores\n",
      "IPU available: False, using: 0 IPUs\n",
      "/opt/conda/lib/python3.8/site-packages/pytorch_lightning/trainer/trainer.py:902: LightningDeprecationWarning: `trainer.test(test_dataloaders)` is deprecated in v1.4 and will be removed in v1.6. Use `trainer.test(dataloaders)` instead.\n",
      "  rank_zero_deprecation(\n",
      "/opt/conda/lib/python3.8/site-packages/pytorch_lightning/trainer/data_loading.py:116: UserWarning: The dataloader, test_dataloader 0, does not have many workers which may be a bottleneck. Consider increasing the value of the `num_workers` argument` (try 38 which is the number of cpus on this machine) in the `DataLoader` init to improve performance.\n",
      "  rank_zero_warn(\n",
      "Restoring states from the checkpoint path at /data/SSF/experiment_outputs/run_GAT_node_classification.py.2021-12-22T03:17:22.642597/lightning_logs/version_0/checkpoints/epoch=19-A@1=0.647059-val_loss=0.368552-MAR=3.588235.ckpt\n",
      "Loaded model weights from checkpoint at /data/SSF/experiment_outputs/run_GAT_node_classification.py.2021-12-22T03:17:22.642597/lightning_logs/version_0/checkpoints/epoch=19-A@1=0.647059-val_loss=0.368552-MAR=3.588235.ckpt\n"
     ]
    },
    {
     "name": "stdout",
     "output_type": "stream",
     "text": [
      "/data/SSF/experiment_outputs/run_GAT_node_classification.py.2021-12-22T03:17:22.642597\n"
     ]
    },
    {
     "name": "stderr",
     "output_type": "stream",
     "text": [
      "Restoring states from the checkpoint path at /data/SSF/experiment_outputs/run_GAT_node_classification.py.2021-12-22T03:28:56.479672/lightning_logs/version_0/checkpoints/epoch=429-A@1=0.705882-val_loss=0.219537-MAR=2.529412.ckpt\n",
      "Loaded model weights from checkpoint at /data/SSF/experiment_outputs/run_GAT_node_classification.py.2021-12-22T03:28:56.479672/lightning_logs/version_0/checkpoints/epoch=429-A@1=0.705882-val_loss=0.219537-MAR=2.529412.ckpt\n"
     ]
    },
    {
     "name": "stdout",
     "output_type": "stream",
     "text": [
      "/data/SSF/experiment_outputs/run_GAT_node_classification.py.2021-12-22T03:28:56.479672\n"
     ]
    },
    {
     "name": "stderr",
     "output_type": "stream",
     "text": [
      "Restoring states from the checkpoint path at /data/SSF/experiment_outputs/run_GAT_node_classification.py.2021-12-22T03:50:07.949451/lightning_logs/version_0/checkpoints/epoch=59-A@1=0.823529-val_loss=0.295916-MAR=1.705882.ckpt\n",
      "Loaded model weights from checkpoint at /data/SSF/experiment_outputs/run_GAT_node_classification.py.2021-12-22T03:50:07.949451/lightning_logs/version_0/checkpoints/epoch=59-A@1=0.823529-val_loss=0.295916-MAR=1.705882.ckpt\n"
     ]
    },
    {
     "name": "stdout",
     "output_type": "stream",
     "text": [
      "/data/SSF/experiment_outputs/run_GAT_node_classification.py.2021-12-22T03:50:07.949451\n"
     ]
    },
    {
     "name": "stderr",
     "output_type": "stream",
     "text": [
      "Restoring states from the checkpoint path at /data/SSF/experiment_outputs/run_GAT_node_classification.py.2021-12-22T04:02:54.233057/lightning_logs/version_0/checkpoints/epoch=19-A@1=0.823529-val_loss=0.318761-MAR=3.647059.ckpt\n",
      "Loaded model weights from checkpoint at /data/SSF/experiment_outputs/run_GAT_node_classification.py.2021-12-22T04:02:54.233057/lightning_logs/version_0/checkpoints/epoch=19-A@1=0.823529-val_loss=0.318761-MAR=3.647059.ckpt\n"
     ]
    },
    {
     "name": "stdout",
     "output_type": "stream",
     "text": [
      "/data/SSF/experiment_outputs/run_GAT_node_classification.py.2021-12-22T04:02:54.233057\n"
     ]
    },
    {
     "name": "stderr",
     "output_type": "stream",
     "text": [
      "Restoring states from the checkpoint path at /data/SSF/experiment_outputs/run_GAT_node_classification.py.2021-12-22T04:14:13.533849/lightning_logs/version_0/checkpoints/epoch=149-A@1=0.823529-val_loss=0.195744-MAR=1.470588.ckpt\n",
      "Loaded model weights from checkpoint at /data/SSF/experiment_outputs/run_GAT_node_classification.py.2021-12-22T04:14:13.533849/lightning_logs/version_0/checkpoints/epoch=149-A@1=0.823529-val_loss=0.195744-MAR=1.470588.ckpt\n"
     ]
    },
    {
     "name": "stdout",
     "output_type": "stream",
     "text": [
      "/data/SSF/experiment_outputs/run_GAT_node_classification.py.2021-12-22T04:14:13.533849\n"
     ]
    },
    {
     "name": "stderr",
     "output_type": "stream",
     "text": [
      "Restoring states from the checkpoint path at /data/SSF/experiment_outputs/run_GAT_node_classification.py.2021-12-22T04:28:27.682491/lightning_logs/version_0/checkpoints/epoch=29-A@1=0.823529-val_loss=0.316814-MAR=1.764706.ckpt\n",
      "Loaded model weights from checkpoint at /data/SSF/experiment_outputs/run_GAT_node_classification.py.2021-12-22T04:28:27.682491/lightning_logs/version_0/checkpoints/epoch=29-A@1=0.823529-val_loss=0.316814-MAR=1.764706.ckpt\n"
     ]
    },
    {
     "name": "stdout",
     "output_type": "stream",
     "text": [
      "/data/SSF/experiment_outputs/run_GAT_node_classification.py.2021-12-22T04:28:27.682491\n"
     ]
    },
    {
     "name": "stderr",
     "output_type": "stream",
     "text": [
      "Restoring states from the checkpoint path at /data/SSF/experiment_outputs/run_GAT_node_classification.py.2021-12-22T04:40:22.168527/lightning_logs/version_0/checkpoints/epoch=19-A@1=0.529412-val_loss=0.276028-MAR=2.176471.ckpt\n"
     ]
    },
    {
     "name": "stdout",
     "output_type": "stream",
     "text": [
      "/data/SSF/experiment_outputs/run_GAT_node_classification.py.2021-12-22T04:40:22.168527\n"
     ]
    },
    {
     "name": "stderr",
     "output_type": "stream",
     "text": [
      "Loaded model weights from checkpoint at /data/SSF/experiment_outputs/run_GAT_node_classification.py.2021-12-22T04:40:22.168527/lightning_logs/version_0/checkpoints/epoch=19-A@1=0.529412-val_loss=0.276028-MAR=2.176471.ckpt\n",
      "Restoring states from the checkpoint path at /data/SSF/experiment_outputs/run_GAT_node_classification.py.2021-12-22T04:52:25.595552/lightning_logs/version_0/checkpoints/epoch=79-A@1=0.823529-val_loss=0.208382-MAR=1.705882.ckpt\n",
      "Loaded model weights from checkpoint at /data/SSF/experiment_outputs/run_GAT_node_classification.py.2021-12-22T04:52:25.595552/lightning_logs/version_0/checkpoints/epoch=79-A@1=0.823529-val_loss=0.208382-MAR=1.705882.ckpt\n"
     ]
    },
    {
     "name": "stdout",
     "output_type": "stream",
     "text": [
      "/data/SSF/experiment_outputs/run_GAT_node_classification.py.2021-12-22T04:52:25.595552\n"
     ]
    },
    {
     "name": "stderr",
     "output_type": "stream",
     "text": [
      "Restoring states from the checkpoint path at /data/SSF/experiment_outputs/run_GAT_node_classification.py.2021-12-22T05:06:14.612595/lightning_logs/version_0/checkpoints/epoch=939-A@1=0.823529-val_loss=0.136368-MAR=1.294118.ckpt\n"
     ]
    },
    {
     "name": "stdout",
     "output_type": "stream",
     "text": [
      "/data/SSF/experiment_outputs/run_GAT_node_classification.py.2021-12-22T05:06:14.612595\n"
     ]
    },
    {
     "name": "stderr",
     "output_type": "stream",
     "text": [
      "Loaded model weights from checkpoint at /data/SSF/experiment_outputs/run_GAT_node_classification.py.2021-12-22T05:06:14.612595/lightning_logs/version_0/checkpoints/epoch=939-A@1=0.823529-val_loss=0.136368-MAR=1.294118.ckpt\n",
      "Restoring states from the checkpoint path at /data/SSF/experiment_outputs/run_GAT_node_classification.py.2021-12-22T05:40:04.796783/lightning_logs/version_0/checkpoints/epoch=749-A@1=0.882353-val_loss=0.441310-MAR=4.705883.ckpt\n",
      "Loaded model weights from checkpoint at /data/SSF/experiment_outputs/run_GAT_node_classification.py.2021-12-22T05:40:04.796783/lightning_logs/version_0/checkpoints/epoch=749-A@1=0.882353-val_loss=0.441310-MAR=4.705883.ckpt\n"
     ]
    },
    {
     "name": "stdout",
     "output_type": "stream",
     "text": [
      "/data/SSF/experiment_outputs/run_GAT_node_classification.py.2021-12-22T05:40:04.796783\n"
     ]
    },
    {
     "name": "stderr",
     "output_type": "stream",
     "text": [
      "Restoring states from the checkpoint path at /data/SSF/experiment_outputs/run_GAT_node_classification.py.2021-12-22T03:17:50.514853/lightning_logs/version_0/checkpoints/epoch=69-A@1=0.500000-val_loss=0.203309-MAR=1.659091.ckpt\n"
     ]
    },
    {
     "name": "stdout",
     "output_type": "stream",
     "text": [
      "/data/SSF/experiment_outputs/run_GAT_node_classification.py.2021-12-22T03:17:50.514853\n"
     ]
    },
    {
     "name": "stderr",
     "output_type": "stream",
     "text": [
      "Loaded model weights from checkpoint at /data/SSF/experiment_outputs/run_GAT_node_classification.py.2021-12-22T03:17:50.514853/lightning_logs/version_0/checkpoints/epoch=69-A@1=0.500000-val_loss=0.203309-MAR=1.659091.ckpt\n",
      "Restoring states from the checkpoint path at /data/SSF/experiment_outputs/run_GAT_node_classification.py.2021-12-22T03:38:01.672764/lightning_logs/version_0/checkpoints/epoch=9-A@1=0.681818-val_loss=0.184808-MAR=1.795455.ckpt\n",
      "Loaded model weights from checkpoint at /data/SSF/experiment_outputs/run_GAT_node_classification.py.2021-12-22T03:38:01.672764/lightning_logs/version_0/checkpoints/epoch=9-A@1=0.681818-val_loss=0.184808-MAR=1.795455.ckpt\n"
     ]
    },
    {
     "name": "stdout",
     "output_type": "stream",
     "text": [
      "/data/SSF/experiment_outputs/run_GAT_node_classification.py.2021-12-22T03:38:01.672764\n"
     ]
    },
    {
     "name": "stderr",
     "output_type": "stream",
     "text": [
      "Restoring states from the checkpoint path at /data/SSF/experiment_outputs/run_GAT_node_classification.py.2021-12-22T03:56:06.741261/lightning_logs/version_0/checkpoints/epoch=119-A@1=0.681818-val_loss=0.091008-MAR=1.545455.ckpt\n",
      "Loaded model weights from checkpoint at /data/SSF/experiment_outputs/run_GAT_node_classification.py.2021-12-22T03:56:06.741261/lightning_logs/version_0/checkpoints/epoch=119-A@1=0.681818-val_loss=0.091008-MAR=1.545455.ckpt\n"
     ]
    },
    {
     "name": "stdout",
     "output_type": "stream",
     "text": [
      "/data/SSF/experiment_outputs/run_GAT_node_classification.py.2021-12-22T03:56:06.741261\n"
     ]
    },
    {
     "name": "stderr",
     "output_type": "stream",
     "text": [
      "Restoring states from the checkpoint path at /data/SSF/experiment_outputs/run_GAT_node_classification.py.2021-12-22T04:18:31.364564/lightning_logs/version_0/checkpoints/epoch=29-A@1=0.681818-val_loss=0.087565-MAR=1.409091.ckpt\n"
     ]
    },
    {
     "name": "stdout",
     "output_type": "stream",
     "text": [
      "/data/SSF/experiment_outputs/run_GAT_node_classification.py.2021-12-22T04:18:31.364564\n"
     ]
    },
    {
     "name": "stderr",
     "output_type": "stream",
     "text": [
      "Loaded model weights from checkpoint at /data/SSF/experiment_outputs/run_GAT_node_classification.py.2021-12-22T04:18:31.364564/lightning_logs/version_0/checkpoints/epoch=29-A@1=0.681818-val_loss=0.087565-MAR=1.409091.ckpt\n",
      "Restoring states from the checkpoint path at /data/SSF/experiment_outputs/run_GAT_node_classification.py.2021-12-22T04:37:54.310968/lightning_logs/version_0/checkpoints/epoch=49-A@1=0.681818-val_loss=0.230334-MAR=1.590909.ckpt\n",
      "Loaded model weights from checkpoint at /data/SSF/experiment_outputs/run_GAT_node_classification.py.2021-12-22T04:37:54.310968/lightning_logs/version_0/checkpoints/epoch=49-A@1=0.681818-val_loss=0.230334-MAR=1.590909.ckpt\n"
     ]
    },
    {
     "name": "stdout",
     "output_type": "stream",
     "text": [
      "/data/SSF/experiment_outputs/run_GAT_node_classification.py.2021-12-22T04:37:54.310968\n"
     ]
    },
    {
     "name": "stderr",
     "output_type": "stream",
     "text": [
      "Restoring states from the checkpoint path at /data/SSF/experiment_outputs/run_GAT_node_classification.py.2021-12-22T04:58:07.739071/lightning_logs/version_0/checkpoints/epoch=39-A@1=0.681818-val_loss=0.122517-MAR=1.636364.ckpt\n",
      "Loaded model weights from checkpoint at /data/SSF/experiment_outputs/run_GAT_node_classification.py.2021-12-22T04:58:07.739071/lightning_logs/version_0/checkpoints/epoch=39-A@1=0.681818-val_loss=0.122517-MAR=1.636364.ckpt\n"
     ]
    },
    {
     "name": "stdout",
     "output_type": "stream",
     "text": [
      "/data/SSF/experiment_outputs/run_GAT_node_classification.py.2021-12-22T04:58:07.739071\n"
     ]
    },
    {
     "name": "stderr",
     "output_type": "stream",
     "text": [
      "Restoring states from the checkpoint path at /data/SSF/experiment_outputs/run_GAT_node_classification.py.2021-12-22T05:17:44.692198/lightning_logs/version_0/checkpoints/epoch=19-A@1=0.590909-val_loss=0.159085-MAR=1.431818.ckpt\n",
      "Loaded model weights from checkpoint at /data/SSF/experiment_outputs/run_GAT_node_classification.py.2021-12-22T05:17:44.692198/lightning_logs/version_0/checkpoints/epoch=19-A@1=0.590909-val_loss=0.159085-MAR=1.431818.ckpt\n"
     ]
    },
    {
     "name": "stdout",
     "output_type": "stream",
     "text": [
      "/data/SSF/experiment_outputs/run_GAT_node_classification.py.2021-12-22T05:17:44.692198\n"
     ]
    },
    {
     "name": "stderr",
     "output_type": "stream",
     "text": [
      "Restoring states from the checkpoint path at /data/SSF/experiment_outputs/run_GAT_node_classification.py.2021-12-22T05:36:13.034872/lightning_logs/version_0/checkpoints/epoch=39-A@1=0.681818-val_loss=0.070621-MAR=1.409091.ckpt\n",
      "Loaded model weights from checkpoint at /data/SSF/experiment_outputs/run_GAT_node_classification.py.2021-12-22T05:36:13.034872/lightning_logs/version_0/checkpoints/epoch=39-A@1=0.681818-val_loss=0.070621-MAR=1.409091.ckpt\n"
     ]
    },
    {
     "name": "stdout",
     "output_type": "stream",
     "text": [
      "/data/SSF/experiment_outputs/run_GAT_node_classification.py.2021-12-22T05:36:13.034872\n"
     ]
    },
    {
     "name": "stderr",
     "output_type": "stream",
     "text": [
      "Restoring states from the checkpoint path at /data/SSF/experiment_outputs/run_GAT_node_classification.py.2021-12-22T05:55:33.672403/lightning_logs/version_0/checkpoints/epoch=29-A@1=0.636364-val_loss=0.160665-MAR=1.636364.ckpt\n",
      "Loaded model weights from checkpoint at /data/SSF/experiment_outputs/run_GAT_node_classification.py.2021-12-22T05:55:33.672403/lightning_logs/version_0/checkpoints/epoch=29-A@1=0.636364-val_loss=0.160665-MAR=1.636364.ckpt\n"
     ]
    },
    {
     "name": "stdout",
     "output_type": "stream",
     "text": [
      "/data/SSF/experiment_outputs/run_GAT_node_classification.py.2021-12-22T05:55:33.672403\n"
     ]
    },
    {
     "name": "stderr",
     "output_type": "stream",
     "text": [
      "Restoring states from the checkpoint path at /data/SSF/experiment_outputs/run_GAT_node_classification.py.2021-12-22T06:14:39.846177/lightning_logs/version_0/checkpoints/epoch=79-A@1=0.545455-val_loss=0.153557-MAR=1.795455.ckpt\n"
     ]
    },
    {
     "name": "stdout",
     "output_type": "stream",
     "text": [
      "/data/SSF/experiment_outputs/run_GAT_node_classification.py.2021-12-22T06:14:39.846177\n"
     ]
    },
    {
     "name": "stderr",
     "output_type": "stream",
     "text": [
      "Loaded model weights from checkpoint at /data/SSF/experiment_outputs/run_GAT_node_classification.py.2021-12-22T06:14:39.846177/lightning_logs/version_0/checkpoints/epoch=79-A@1=0.545455-val_loss=0.153557-MAR=1.795455.ckpt\n",
      "GPU available: False, used: False\n",
      "TPU available: False, using: 0 TPU cores\n",
      "IPU available: False, using: 0 IPUs\n",
      "Restoring states from the checkpoint path at /data/SSF/experiment_outputs/run_GAT_node_classification.py.2021-12-22T03:18:16.419229/lightning_logs/version_0/checkpoints/epoch=49-A@1=0.689655-val_loss=0.628525-MAR=13.241380.ckpt\n",
      "Loaded model weights from checkpoint at /data/SSF/experiment_outputs/run_GAT_node_classification.py.2021-12-22T03:18:16.419229/lightning_logs/version_0/checkpoints/epoch=49-A@1=0.689655-val_loss=0.628525-MAR=13.241380.ckpt\n"
     ]
    },
    {
     "name": "stdout",
     "output_type": "stream",
     "text": [
      "/data/SSF/experiment_outputs/run_GAT_node_classification.py.2021-12-22T03:18:16.419229\n"
     ]
    },
    {
     "name": "stderr",
     "output_type": "stream",
     "text": [
      "Restoring states from the checkpoint path at /data/SSF/experiment_outputs/run_GAT_node_classification.py.2021-12-22T04:25:24.640314/lightning_logs/version_0/checkpoints/epoch=109-A@1=0.689655-val_loss=0.367823-MAR=4.758621.ckpt\n",
      "Loaded model weights from checkpoint at /data/SSF/experiment_outputs/run_GAT_node_classification.py.2021-12-22T04:25:24.640314/lightning_logs/version_0/checkpoints/epoch=109-A@1=0.689655-val_loss=0.367823-MAR=4.758621.ckpt\n"
     ]
    },
    {
     "name": "stdout",
     "output_type": "stream",
     "text": [
      "/data/SSF/experiment_outputs/run_GAT_node_classification.py.2021-12-22T04:25:24.640314\n"
     ]
    },
    {
     "name": "stderr",
     "output_type": "stream",
     "text": [
      "Restoring states from the checkpoint path at /data/SSF/experiment_outputs/run_GAT_node_classification.py.2021-12-22T05:39:33.887970/lightning_logs/version_0/checkpoints/epoch=529-A@1=0.586207-val_loss=0.479361-MAR=5.689655.ckpt\n",
      "Loaded model weights from checkpoint at /data/SSF/experiment_outputs/run_GAT_node_classification.py.2021-12-22T05:39:33.887970/lightning_logs/version_0/checkpoints/epoch=529-A@1=0.586207-val_loss=0.479361-MAR=5.689655.ckpt\n"
     ]
    },
    {
     "name": "stdout",
     "output_type": "stream",
     "text": [
      "/data/SSF/experiment_outputs/run_GAT_node_classification.py.2021-12-22T05:39:33.887970\n"
     ]
    },
    {
     "name": "stderr",
     "output_type": "stream",
     "text": [
      "Restoring states from the checkpoint path at /data/SSF/experiment_outputs/run_GAT_node_classification.py.2021-12-22T07:38:37.180390/lightning_logs/version_0/checkpoints/epoch=249-A@1=0.758621-val_loss=0.424752-MAR=5.103448.ckpt\n",
      "Loaded model weights from checkpoint at /data/SSF/experiment_outputs/run_GAT_node_classification.py.2021-12-22T07:38:37.180390/lightning_logs/version_0/checkpoints/epoch=249-A@1=0.758621-val_loss=0.424752-MAR=5.103448.ckpt\n"
     ]
    },
    {
     "name": "stdout",
     "output_type": "stream",
     "text": [
      "/data/SSF/experiment_outputs/run_GAT_node_classification.py.2021-12-22T07:38:37.180390\n"
     ]
    },
    {
     "name": "stderr",
     "output_type": "stream",
     "text": [
      "Restoring states from the checkpoint path at /data/SSF/experiment_outputs/run_GAT_node_classification.py.2021-12-22T09:06:52.115015/lightning_logs/version_0/checkpoints/epoch=509-A@1=0.689655-val_loss=0.405792-MAR=7.724138.ckpt\n",
      "Loaded model weights from checkpoint at /data/SSF/experiment_outputs/run_GAT_node_classification.py.2021-12-22T09:06:52.115015/lightning_logs/version_0/checkpoints/epoch=509-A@1=0.689655-val_loss=0.405792-MAR=7.724138.ckpt\n"
     ]
    },
    {
     "name": "stdout",
     "output_type": "stream",
     "text": [
      "/data/SSF/experiment_outputs/run_GAT_node_classification.py.2021-12-22T09:06:52.115015\n"
     ]
    },
    {
     "name": "stderr",
     "output_type": "stream",
     "text": [
      "Restoring states from the checkpoint path at /data/SSF/experiment_outputs/run_GAT_node_classification.py.2021-12-22T11:02:26.916245/lightning_logs/version_0/checkpoints/epoch=189-A@1=0.689655-val_loss=0.468595-MAR=6.137931.ckpt\n"
     ]
    },
    {
     "name": "stdout",
     "output_type": "stream",
     "text": [
      "/data/SSF/experiment_outputs/run_GAT_node_classification.py.2021-12-22T11:02:26.916245\n"
     ]
    },
    {
     "name": "stderr",
     "output_type": "stream",
     "text": [
      "Loaded model weights from checkpoint at /data/SSF/experiment_outputs/run_GAT_node_classification.py.2021-12-22T11:02:26.916245/lightning_logs/version_0/checkpoints/epoch=189-A@1=0.689655-val_loss=0.468595-MAR=6.137931.ckpt\n",
      "Restoring states from the checkpoint path at /data/SSF/experiment_outputs/run_GAT_node_classification.py.2021-12-22T12:24:31.135155/lightning_logs/version_0/checkpoints/epoch=449-A@1=0.551724-val_loss=0.560256-MAR=7.000000.ckpt\n",
      "Loaded model weights from checkpoint at /data/SSF/experiment_outputs/run_GAT_node_classification.py.2021-12-22T12:24:31.135155/lightning_logs/version_0/checkpoints/epoch=449-A@1=0.551724-val_loss=0.560256-MAR=7.000000.ckpt\n"
     ]
    },
    {
     "name": "stdout",
     "output_type": "stream",
     "text": [
      "/data/SSF/experiment_outputs/run_GAT_node_classification.py.2021-12-22T12:24:31.135155\n"
     ]
    },
    {
     "name": "stderr",
     "output_type": "stream",
     "text": [
      "Restoring states from the checkpoint path at /data/SSF/experiment_outputs/run_GAT_node_classification.py.2021-12-22T14:15:16.291135/lightning_logs/version_0/checkpoints/epoch=459-A@1=0.620690-val_loss=0.479403-MAR=7.586207.ckpt\n",
      "Loaded model weights from checkpoint at /data/SSF/experiment_outputs/run_GAT_node_classification.py.2021-12-22T14:15:16.291135/lightning_logs/version_0/checkpoints/epoch=459-A@1=0.620690-val_loss=0.479403-MAR=7.586207.ckpt\n"
     ]
    },
    {
     "name": "stdout",
     "output_type": "stream",
     "text": [
      "/data/SSF/experiment_outputs/run_GAT_node_classification.py.2021-12-22T14:15:16.291135\n"
     ]
    },
    {
     "name": "stderr",
     "output_type": "stream",
     "text": [
      "Restoring states from the checkpoint path at /data/SSF/experiment_outputs/run_GAT_node_classification.py.2021-12-22T16:06:54.149648/lightning_logs/version_0/checkpoints/epoch=29-A@1=0.689655-val_loss=0.462187-MAR=6.965517.ckpt\n"
     ]
    },
    {
     "name": "stdout",
     "output_type": "stream",
     "text": [
      "/data/SSF/experiment_outputs/run_GAT_node_classification.py.2021-12-22T16:06:54.149648\n"
     ]
    },
    {
     "name": "stderr",
     "output_type": "stream",
     "text": [
      "Loaded model weights from checkpoint at /data/SSF/experiment_outputs/run_GAT_node_classification.py.2021-12-22T16:06:54.149648/lightning_logs/version_0/checkpoints/epoch=29-A@1=0.689655-val_loss=0.462187-MAR=6.965517.ckpt\n",
      "Restoring states from the checkpoint path at /data/SSF/experiment_outputs/run_GAT_node_classification.py.2021-12-22T17:10:31.935783/lightning_logs/version_0/checkpoints/epoch=9-A@1=0.655172-val_loss=0.494317-MAR=8.206897.ckpt\n",
      "Loaded model weights from checkpoint at /data/SSF/experiment_outputs/run_GAT_node_classification.py.2021-12-22T17:10:31.935783/lightning_logs/version_0/checkpoints/epoch=9-A@1=0.655172-val_loss=0.494317-MAR=8.206897.ckpt\n"
     ]
    },
    {
     "name": "stdout",
     "output_type": "stream",
     "text": [
      "/data/SSF/experiment_outputs/run_GAT_node_classification.py.2021-12-22T17:10:31.935783\n"
     ]
    },
    {
     "name": "stderr",
     "output_type": "stream",
     "text": [
      "GPU available: False, used: False\n",
      "TPU available: False, using: 0 TPU cores\n",
      "IPU available: False, using: 0 IPUs\n",
      "Restoring states from the checkpoint path at /data/SSF/experiment_outputs/run_GAT_node_classification.py.2021-12-22T03:18:24.328446/lightning_logs/version_0/checkpoints/epoch=149-A@1=0.411765-val_loss=0.354066-MAR=1.941176.ckpt\n"
     ]
    },
    {
     "name": "stdout",
     "output_type": "stream",
     "text": [
      "/data/SSF/experiment_outputs/run_GAT_node_classification.py.2021-12-22T03:18:24.328446\n"
     ]
    },
    {
     "name": "stderr",
     "output_type": "stream",
     "text": [
      "Loaded model weights from checkpoint at /data/SSF/experiment_outputs/run_GAT_node_classification.py.2021-12-22T03:18:24.328446/lightning_logs/version_0/checkpoints/epoch=149-A@1=0.411765-val_loss=0.354066-MAR=1.941176.ckpt\n",
      "Restoring states from the checkpoint path at /data/SSF/experiment_outputs/run_GAT_node_classification.py.2021-12-22T04:51:50.909060/lightning_logs/version_0/checkpoints/epoch=29-A@1=0.411765-val_loss=0.374686-MAR=1.882353.ckpt\n"
     ]
    },
    {
     "name": "stdout",
     "output_type": "stream",
     "text": [
      "/data/SSF/experiment_outputs/run_GAT_node_classification.py.2021-12-22T04:51:50.909060\n"
     ]
    },
    {
     "name": "stderr",
     "output_type": "stream",
     "text": [
      "Loaded model weights from checkpoint at /data/SSF/experiment_outputs/run_GAT_node_classification.py.2021-12-22T04:51:50.909060/lightning_logs/version_0/checkpoints/epoch=29-A@1=0.411765-val_loss=0.374686-MAR=1.882353.ckpt\n",
      "Restoring states from the checkpoint path at /data/SSF/experiment_outputs/run_GAT_node_classification.py.2021-12-22T06:08:17.876258/lightning_logs/version_0/checkpoints/epoch=69-A@1=0.470588-val_loss=0.349783-MAR=2.088235.ckpt\n"
     ]
    },
    {
     "name": "stdout",
     "output_type": "stream",
     "text": [
      "/data/SSF/experiment_outputs/run_GAT_node_classification.py.2021-12-22T06:08:17.876258\n"
     ]
    },
    {
     "name": "stderr",
     "output_type": "stream",
     "text": [
      "Loaded model weights from checkpoint at /data/SSF/experiment_outputs/run_GAT_node_classification.py.2021-12-22T06:08:17.876258/lightning_logs/version_0/checkpoints/epoch=69-A@1=0.470588-val_loss=0.349783-MAR=2.088235.ckpt\n",
      "Restoring states from the checkpoint path at /data/SSF/experiment_outputs/run_GAT_node_classification.py.2021-12-22T07:31:39.339525/lightning_logs/version_0/checkpoints/epoch=429-A@1=0.411765-val_loss=0.467199-MAR=2.176471.ckpt\n"
     ]
    },
    {
     "name": "stdout",
     "output_type": "stream",
     "text": [
      "/data/SSF/experiment_outputs/run_GAT_node_classification.py.2021-12-22T07:31:39.339525\n"
     ]
    },
    {
     "name": "stderr",
     "output_type": "stream",
     "text": [
      "Loaded model weights from checkpoint at /data/SSF/experiment_outputs/run_GAT_node_classification.py.2021-12-22T07:31:39.339525/lightning_logs/version_0/checkpoints/epoch=429-A@1=0.411765-val_loss=0.467199-MAR=2.176471.ckpt\n",
      "Restoring states from the checkpoint path at /data/SSF/experiment_outputs/run_GAT_node_classification.py.2021-12-22T09:45:59.121433/lightning_logs/version_0/checkpoints/epoch=19-A@1=0.529412-val_loss=0.440156-MAR=1.852941.ckpt\n"
     ]
    },
    {
     "name": "stdout",
     "output_type": "stream",
     "text": [
      "/data/SSF/experiment_outputs/run_GAT_node_classification.py.2021-12-22T09:45:59.121433\n"
     ]
    },
    {
     "name": "stderr",
     "output_type": "stream",
     "text": [
      "Loaded model weights from checkpoint at /data/SSF/experiment_outputs/run_GAT_node_classification.py.2021-12-22T09:45:59.121433/lightning_logs/version_0/checkpoints/epoch=19-A@1=0.529412-val_loss=0.440156-MAR=1.852941.ckpt\n",
      "Restoring states from the checkpoint path at /data/SSF/experiment_outputs/run_GAT_node_classification.py.2021-12-22T11:02:30.934210/lightning_logs/version_0/checkpoints/epoch=19-A@1=0.294118-val_loss=0.424742-MAR=2.205882.ckpt\n"
     ]
    },
    {
     "name": "stdout",
     "output_type": "stream",
     "text": [
      "/data/SSF/experiment_outputs/run_GAT_node_classification.py.2021-12-22T11:02:30.934210\n"
     ]
    },
    {
     "name": "stderr",
     "output_type": "stream",
     "text": [
      "Loaded model weights from checkpoint at /data/SSF/experiment_outputs/run_GAT_node_classification.py.2021-12-22T11:02:30.934210/lightning_logs/version_0/checkpoints/epoch=19-A@1=0.294118-val_loss=0.424742-MAR=2.205882.ckpt\n",
      "Restoring states from the checkpoint path at /data/SSF/experiment_outputs/run_GAT_node_classification.py.2021-12-22T12:17:14.194292/lightning_logs/version_0/checkpoints/epoch=89-A@1=0.529412-val_loss=0.406856-MAR=1.970588.ckpt\n"
     ]
    },
    {
     "name": "stdout",
     "output_type": "stream",
     "text": [
      "/data/SSF/experiment_outputs/run_GAT_node_classification.py.2021-12-22T12:17:14.194292\n"
     ]
    },
    {
     "name": "stderr",
     "output_type": "stream",
     "text": [
      "Loaded model weights from checkpoint at /data/SSF/experiment_outputs/run_GAT_node_classification.py.2021-12-22T12:17:14.194292/lightning_logs/version_0/checkpoints/epoch=89-A@1=0.529412-val_loss=0.406856-MAR=1.970588.ckpt\n",
      "Restoring states from the checkpoint path at /data/SSF/experiment_outputs/run_GAT_node_classification.py.2021-12-22T13:44:01.040557/lightning_logs/version_0/checkpoints/epoch=39-A@1=0.411765-val_loss=0.461513-MAR=2.029412.ckpt\n"
     ]
    },
    {
     "name": "stdout",
     "output_type": "stream",
     "text": [
      "/data/SSF/experiment_outputs/run_GAT_node_classification.py.2021-12-22T13:44:01.040557\n"
     ]
    },
    {
     "name": "stderr",
     "output_type": "stream",
     "text": [
      "Loaded model weights from checkpoint at /data/SSF/experiment_outputs/run_GAT_node_classification.py.2021-12-22T13:44:01.040557/lightning_logs/version_0/checkpoints/epoch=39-A@1=0.411765-val_loss=0.461513-MAR=2.029412.ckpt\n",
      "Restoring states from the checkpoint path at /data/SSF/experiment_outputs/run_GAT_node_classification.py.2021-12-22T15:02:37.766670/lightning_logs/version_0/checkpoints/epoch=209-A@1=0.647059-val_loss=0.384537-MAR=1.705882.ckpt\n"
     ]
    },
    {
     "name": "stdout",
     "output_type": "stream",
     "text": [
      "/data/SSF/experiment_outputs/run_GAT_node_classification.py.2021-12-22T15:02:37.766670\n"
     ]
    },
    {
     "name": "stderr",
     "output_type": "stream",
     "text": [
      "Loaded model weights from checkpoint at /data/SSF/experiment_outputs/run_GAT_node_classification.py.2021-12-22T15:02:37.766670/lightning_logs/version_0/checkpoints/epoch=209-A@1=0.647059-val_loss=0.384537-MAR=1.705882.ckpt\n",
      "Restoring states from the checkpoint path at /data/SSF/experiment_outputs/run_GAT_node_classification.py.2021-12-22T16:44:40.087226/lightning_logs/version_0/checkpoints/epoch=19-A@1=0.411765-val_loss=0.504260-MAR=2.029412.ckpt\n"
     ]
    },
    {
     "name": "stdout",
     "output_type": "stream",
     "text": [
      "/data/SSF/experiment_outputs/run_GAT_node_classification.py.2021-12-22T16:44:40.087226\n"
     ]
    },
    {
     "name": "stderr",
     "output_type": "stream",
     "text": [
      "Loaded model weights from checkpoint at /data/SSF/experiment_outputs/run_GAT_node_classification.py.2021-12-22T16:44:40.087226/lightning_logs/version_0/checkpoints/epoch=19-A@1=0.411765-val_loss=0.504260-MAR=2.029412.ckpt\n"
     ]
    }
   ],
   "source": [
    "df1 = pd.concat([\n",
    "    parse_pred_ret_by_recurring(eval_rets.loc[\n",
    "        (eval_rets.Method == 'GRU+GAT-H4-L8+BAL') & \n",
    "        (eval_rets.Dataset.str.startswith('AIOPS20')),\n",
    "        \"实验路径\",\n",
    "    ].values, dataset='A'),\n",
    "    parse_pred_ret_by_recurring(eval_rets.loc[\n",
    "        (eval_rets.Method == 'GRU+GAT-H4-L8+BAL') & \n",
    "        (eval_rets.Dataset.str.startswith('AIOPS21')),\n",
    "        \"实验路径\",\n",
    "    ].values, dataset='B'),\n",
    "    parse_pred_ret_by_recurring(eval_rets.loc[\n",
    "        (eval_rets.Method == 'GRU+GAT-H4-L8+BAL') & \n",
    "        (eval_rets.Dataset == 'CCB-Oracle'),\n",
    "        \"实验路径\",\n",
    "    ].values, dataset='C')\n",
    "])\n",
    "df1['Method'] = 'Ours'"
   ]
  },
  {
   "cell_type": "code",
   "execution_count": 4,
   "id": "e1a0c5dc",
   "metadata": {},
   "outputs": [],
   "source": [
    "df1.to_pickle(OUTPUT_DIR / \"ours_rank.pkl\")"
   ]
  },
  {
   "cell_type": "code",
   "execution_count": 5,
   "id": "fe6a9fb2",
   "metadata": {},
   "outputs": [
    {
     "name": "stdout",
     "output_type": "stream",
     "text": [
      "dataset_cache_dir=/tmp/SSF/.cache/faults=_SSF_data_A1_faults.csv.graph=_SSF_data_A1_graph.yml.metrics=_SSF_data_A1_metrics.norm.csv\n"
     ]
    },
    {
     "name": "stderr",
     "output_type": "stream",
     "text": [
      "kpi anomaly detection: 100%|██████████| 78/78 [00:00<00:00, 96.63it/s] \n",
      "detecting: 100%|██████████| 32/32 [00:00<00:00, 41.59it/s]\n"
     ]
    },
    {
     "name": "stdout",
     "output_type": "stream",
     "text": [
      "dataset_cache_dir=/tmp/SSF/.cache/faults=_SSF_data_A2_faults.csv.graph=_SSF_data_A2_graph.yml.metrics=_SSF_data_A2_metrics.norm.csv\n"
     ]
    },
    {
     "name": "stderr",
     "output_type": "stream",
     "text": [
      "kpi anomaly detection: 100%|██████████| 110/110 [00:00<00:00, 117.86it/s]\n",
      "detecting: 100%|██████████| 46/46 [00:01<00:00, 25.10it/s]\n"
     ]
    },
    {
     "name": "stdout",
     "output_type": "stream",
     "text": [
      "dataset_cache_dir=/tmp/SSF/.cache/faults=_SSF_data_B_faults.csv.graph=_SSF_data_B_graph.yml.metrics=_SSF_data_B_metrics.norm.csv\n"
     ]
    },
    {
     "name": "stderr",
     "output_type": "stream",
     "text": [
      "kpi anomaly detection: 100%|██████████| 158/158 [00:02<00:00, 60.51it/s]\n",
      "detecting: 100%|██████████| 66/66 [00:11<00:00,  5.88it/s]\n"
     ]
    },
    {
     "name": "stdout",
     "output_type": "stream",
     "text": [
      "dataset_cache_dir=/tmp/SSF/.cache/faults=_SSF_data_C_faults.csv.graph=_SSF_data_C_graph.yml.metrics=_SSF_data_C_metrics.norm.csv\n"
     ]
    },
    {
     "name": "stderr",
     "output_type": "stream",
     "text": [
      "kpi anomaly detection: 100%|██████████| 99/99 [00:01<00:00, 50.08it/s]\n",
      "detecting: 100%|██████████| 38/38 [00:01<00:00, 31.23it/s]\n"
     ]
    }
   ],
   "source": [
    "from DejaVu.config import DejaVuConfig\n",
    "from iSQUAD.iSQ import ISQUARD\n",
    "from failure_dependency_graph import FDG, FDGModelInterface\n",
    "from diskcache import Cache\n",
    "def parse_isq(config: DejaVuConfig, dataset):\n",
    "    fdg, real_paths = FDG.load(\n",
    "        dir_path=config.data_dir,\n",
    "        graph_path=config.graph_config_path, metrics_path=config.metrics_path, faults_path=config.faults_path,\n",
    "        return_real_path=True\n",
    "    )\n",
    "    dataset_cache_dir = config.cache_dir / \".\".join(\n",
    "        f\"{k}={real_paths[k]}\" for k in sorted(real_paths.keys())\n",
    "    ).replace('/', '_')\n",
    "    print(f\"dataset_cache_dir={dataset_cache_dir}\")\n",
    "    cache = Cache(str(dataset_cache_dir), size_limit=int(1e10))\n",
    "    del dataset_cache_dir, real_paths\n",
    "    mp = FDGModelInterface.get_metric_preprocessor(fdg, cache, config)\n",
    "    del cache\n",
    "        \n",
    "    isq = ISQUARD(fdg, config, mp)\n",
    "    \n",
    "    train_rc_nodes = set()\n",
    "    for fault_id in isq.train_fault_ids:\n",
    "        train_rc_nodes |= set(fdg.root_cause_instances_of(fault_id))\n",
    "    \n",
    "    y_preds = isq()\n",
    "    records = []\n",
    "    for fault_id, y_pred in zip(isq.test_fault_ids, y_preds):\n",
    "#         print(y_pred)\n",
    "        for n in set(fdg.root_cause_instances_of(fault_id)):\n",
    "            if fdg.instance_to_gid(n) not in y_pred:\n",
    "#                 assert n not in train_rc_nodes\n",
    "                rank = len(y_pred) / 2 + fdg.n_failure_instances / 2\n",
    "            else:\n",
    "                rank = y_pred.index(fdg.instance_to_gid(n)) + 1\n",
    "            records.append({\n",
    "                'Seen': n in train_rc_nodes,\n",
    "                \"Rank\": rank,\n",
    "                \"fault_id\": fault_id,\n",
    "                \"node\": n,\n",
    "                \"Method\": \"iSQUAD\",\n",
    "            })\n",
    "    ret_df = pd.DataFrame.from_records(records)\n",
    "    ret_df['Dataset'] = dataset\n",
    "    return ret_df\n",
    "df2 = pd.concat([\n",
    "    parse_isq(DejaVuConfig().from_dict(dict(flush_dataset_cache=False, data_dir=\"/SSF/data/A1\")), dataset='A'),\n",
    "    parse_isq(DejaVuConfig().from_dict(dict(flush_dataset_cache=False, data_dir=\"/SSF/data/A2\")), dataset='A'),\n",
    "    parse_isq(DejaVuConfig().from_dict(dict(flush_dataset_cache=False, data_dir=\"/SSF/data/B\")), dataset='B'),\n",
    "    parse_isq(DejaVuConfig().from_dict(dict(flush_dataset_cache=False, data_dir=\"/SSF/data/C\")), dataset='C'),\n",
    "])"
   ]
  },
  {
   "cell_type": "code",
   "execution_count": 6,
   "id": "074352ac",
   "metadata": {},
   "outputs": [],
   "source": [
    "df2.to_pickle(OUTPUT_DIR / \"isq_rank.pkl\")"
   ]
  },
  {
   "cell_type": "code",
   "execution_count": 7,
   "id": "641b0bc4",
   "metadata": {},
   "outputs": [
    {
     "name": "stdout",
     "output_type": "stream",
     "text": [
      "dataset_cache_dir=/tmp/SSF/.cache/faults=_SSF_data_A1_faults.csv.graph=_SSF_data_A1_graph.yml.metrics=_SSF_data_A1_metrics.norm.csv\n"
     ]
    },
    {
     "name": "stderr",
     "output_type": "stream",
     "text": [
      "100%|██████████| 29/29 [00:00<00:00, 56.76it/s]\n"
     ]
    },
    {
     "name": "stdout",
     "output_type": "stream",
     "text": [
      "dataset_cache_dir=/tmp/SSF/.cache/faults=_SSF_data_A2_faults.csv.graph=_SSF_data_A2_graph.yml.metrics=_SSF_data_A2_metrics.norm.csv\n"
     ]
    },
    {
     "name": "stderr",
     "output_type": "stream",
     "text": [
      "100%|██████████| 42/42 [00:00<00:00, 56.85it/s]\n"
     ]
    },
    {
     "name": "stdout",
     "output_type": "stream",
     "text": [
      "dataset_cache_dir=/tmp/SSF/.cache/faults=_SSF_data_B_faults.csv.graph=_SSF_data_B_graph.yml.metrics=_SSF_data_B_metrics.norm.csv\n"
     ]
    },
    {
     "name": "stderr",
     "output_type": "stream",
     "text": [
      "100%|██████████| 63/63 [00:02<00:00, 30.67it/s]\n"
     ]
    },
    {
     "name": "stdout",
     "output_type": "stream",
     "text": [
      "dataset_cache_dir=/tmp/SSF/.cache/faults=_SSF_data_C_faults.csv.graph=_SSF_data_C_graph.yml.metrics=_SSF_data_C_metrics.norm.csv\n"
     ]
    },
    {
     "name": "stderr",
     "output_type": "stream",
     "text": [
      "100%|██████████| 44/44 [00:00<00:00, 77.56it/s]\n"
     ]
    }
   ],
   "source": [
    "from DejaVu.config import DejaVuConfig\n",
    "from failure_dependency_graph import FDG\n",
    "from diskcache import Cache\n",
    "from JSS20.system_graph import GraphLibrary\n",
    "from failure_dependency_graph import split_failures_by_type\n",
    "\n",
    "def parse_jss20(config: DejaVuConfig, dataset):\n",
    "    cdp, real_paths = FDG.load(\n",
    "        dir_path=config.data_dir,\n",
    "        graph_path=config.graph_config_path, metrics_path=config.metrics_path, faults_path=config.faults_path,\n",
    "        return_real_path=True\n",
    "    )\n",
    "    train_ids, _, test_ids = split_failures_by_type(\n",
    "        cdp.failures_df, split=config.dataset_split_ratio,\n",
    "        train_set_sampling_ratio=config.train_set_sampling,\n",
    "        fdg=cdp,\n",
    "    )\n",
    "    dataset_cache_dir = config.cache_dir / \".\".join(\n",
    "        f\"{k}={real_paths[k]}\" for k in sorted(real_paths.keys())\n",
    "    ).replace('/', '_')\n",
    "    print(f\"dataset_cache_dir={dataset_cache_dir}\")\n",
    "    cache = Cache(str(dataset_cache_dir), size_limit=int(1e10))\n",
    "    del dataset_cache_dir, real_paths\n",
    "    mp = FDGModelInterface.get_metric_preprocessor(cdp, cache, config)\n",
    "    del cache\n",
    "    graph_library = GraphLibrary(cdp, train_ids[:], mp=mp)\n",
    "    \n",
    "    train_rc_nodes = set()\n",
    "    for fault_id in train_ids:\n",
    "        train_rc_nodes |= set(cdp.failures_df.iloc[fault_id]['root_cause_node'].split(';'))\n",
    "    \n",
    "    records = []\n",
    "    for fault_id  in test_ids:\n",
    "        y_pred = graph_library.query(fault_id)\n",
    "        for n in set(cdp.failures_df.iloc[fault_id]['root_cause_node'].split(';')):\n",
    "            if n not in y_pred:\n",
    "                rank = len(y_pred) / 2 + cdp.n_failure_instances / 2\n",
    "            else:\n",
    "                rank = y_pred.index(n) + 1\n",
    "            records.append({\n",
    "                'Seen': n in train_rc_nodes,\n",
    "                \"Rank\": rank,\n",
    "                \"fault_id\": fault_id,\n",
    "                \"node\": n,\n",
    "                \"Method\": \"JSS'20\",\n",
    "            })\n",
    "    ret_df = pd.DataFrame.from_records(records)\n",
    "    ret_df['Dataset'] = dataset\n",
    "    return ret_df\n",
    "df3 = pd.concat([\n",
    "    parse_jss20(DejaVuConfig().from_dict(dict(flush_dataset_cache=False, data_dir=\"/SSF/data/A1\")), dataset='A'),\n",
    "    parse_jss20(DejaVuConfig().from_dict(dict(flush_dataset_cache=False, data_dir=\"/SSF/data/A2\")), dataset='A'),\n",
    "    parse_jss20(DejaVuConfig().from_dict(dict(flush_dataset_cache=False, data_dir=\"/SSF/data/B\")), dataset='B'),\n",
    "    parse_jss20(DejaVuConfig().from_dict(dict(flush_dataset_cache=False, data_dir=\"/SSF/data/C\")), dataset='C'),\n",
    "])"
   ]
  },
  {
   "cell_type": "code",
   "execution_count": 8,
   "id": "272acd39",
   "metadata": {},
   "outputs": [],
   "source": [
    "df3.to_pickle(OUTPUT_DIR / \"jss20_rank.pkl\")"
   ]
  },
  {
   "cell_type": "code",
   "execution_count": 9,
   "id": "0bbcf337",
   "metadata": {
    "scrolled": true,
    "tags": []
   },
   "outputs": [
    {
     "name": "stderr",
     "output_type": "stream",
     "text": [
      "preprocess metrics for each instance type: 100%|██████████| 19/19 [00:04<00:00,  3.89it/s]\n",
      "preprocess metrics for each instance type: 100%|██████████| 19/19 [00:03<00:00,  5.33it/s]\n",
      "preprocess metrics for each instance type: 100%|██████████| 28/28 [00:40<00:00,  1.44s/it]\n",
      "preprocess metrics for each instance type: 100%|██████████| 41/41 [00:03<00:00, 12.70it/s]\n"
     ]
    }
   ],
   "source": [
    "from DejaVu.dataset import prepare_sklearn_dataset\n",
    "from sklearn.tree import DecisionTreeClassifier\n",
    "from pyprof import profile\n",
    "from failure_dependency_graph import FDG\n",
    "\n",
    "def parse_decision_trees(config: DejaVuConfig, dataset):\n",
    "    dataset_name = dataset\n",
    "    cdp, real_paths = FDG.load(\n",
    "        dir_path=config.data_dir,\n",
    "        graph_path=config.graph_config_path, metrics_path=config.metrics_path, faults_path=config.faults_path,\n",
    "        return_real_path=True\n",
    "    )\n",
    "    dataset_cache_dir = config.cache_dir / \".\".join(\n",
    "        f\"{k}={real_paths[k]}\" for k in sorted(real_paths.keys())\n",
    "    ).replace('/', '_')\n",
    "    logger.info(f\"dataset_cache_dir={dataset_cache_dir}\")\n",
    "    cache = Cache(str(dataset_cache_dir), size_limit=int(1e10))\n",
    "    del dataset_cache_dir, real_paths\n",
    "\n",
    "    dataset, (train_fault_ids, _, test_fault_ids) = prepare_sklearn_dataset(cdp, config, cache, mode=config.ts_feature_mode)\n",
    "\n",
    "    y_probs = np.zeros((len(test_fault_ids), cdp.n_failure_instances), dtype=np.float32)\n",
    "    y_trues = []\n",
    "    for fault_id in test_fault_ids:\n",
    "        y_trues.append(set(map(cdp.instance_to_gid, cdp.failures_df.iloc[fault_id]['root_cause_node'].split(';'))))\n",
    "    models = {}\n",
    "    for node_type in cdp.failure_classes:\n",
    "        feature_names, (\n",
    "            (train_x, train_y, _, _), _, (test_x, _, fault_ids, node_names)\n",
    "        ) = dataset[node_type]\n",
    "        model = DecisionTreeClassifier()\n",
    "        with profile(\"Training\"):\n",
    "            model.fit(train_x, train_y)\n",
    "        models[node_type] = model\n",
    "        _y_probs = model.predict_proba(test_x)\n",
    "        for fault_id, node_name, prob in zip(fault_ids, node_names, _y_probs):\n",
    "            with profile(\"Inference for each failure\"):\n",
    "                y_probs[test_fault_ids.index(fault_id), cdp.instance_to_gid(node_name)] = 1 - prob[0].item()\n",
    "    y_preds = [np.arange(len(prob))[np.argsort(prob, axis=-1)[::-1]].tolist() for prob in y_probs]\n",
    "    \n",
    "    train_rc_nodes = set()\n",
    "    for fault_id in train_fault_ids:\n",
    "        train_rc_nodes |= set(cdp.failures_df.iloc[fault_id]['root_cause_node'].split(';'))\n",
    "    \n",
    "    records = []\n",
    "    for fault_id, y_pred in zip(test_fault_ids, y_preds):\n",
    "#         print(y_pred)\n",
    "        for n in set(cdp.failures_df.iloc[fault_id]['root_cause_node'].split(';')):\n",
    "            if cdp.instance_to_gid(n) not in y_pred:\n",
    "#                 assert n not in train_rc_nodes\n",
    "                rank = len(y_pred) / 2 + cdp.n_failure_instances / 2\n",
    "            else:\n",
    "                rank = y_pred.index(cdp.instance_to_gid(n)) + 1\n",
    "            records.append({\n",
    "                'Seen': n in train_rc_nodes,\n",
    "                \"Rank\": rank,\n",
    "                \"fault_id\": fault_id,\n",
    "                \"node\": n,\n",
    "                \"Method\": \"Decision Tree\",\n",
    "            })\n",
    "    ret_df = pd.DataFrame.from_records(records)\n",
    "    ret_df['Dataset'] = dataset_name\n",
    "    return ret_df\n",
    "            \n",
    "df4 = pd.concat([\n",
    "    parse_decision_trees(DejaVuConfig().from_dict(dict(flush_dataset_cache=False, data_dir=\"/SSF/data/A1\")), dataset='A'),\n",
    "    parse_decision_trees(DejaVuConfig().from_dict(dict(flush_dataset_cache=False, data_dir=\"/SSF/data/A2\")), dataset='A'),\n",
    "    parse_decision_trees(DejaVuConfig().from_dict(dict(flush_dataset_cache=False, data_dir=\"/SSF/data/B\")), dataset='B'),\n",
    "    parse_decision_trees(DejaVuConfig().from_dict(dict(flush_dataset_cache=False, data_dir=\"/SSF/data/C\")), dataset='C'),\n",
    "])"
   ]
  },
  {
   "cell_type": "code",
   "execution_count": 10,
   "id": "aa5de0bd",
   "metadata": {},
   "outputs": [],
   "source": [
    "df4.to_pickle(OUTPUT_DIR / \"dt_rank.pkl\")"
   ]
  },
  {
   "cell_type": "code",
   "execution_count": 4,
   "id": "a3dd3ece-dbc7-4e80-a41a-74371a11f9fc",
   "metadata": {},
   "outputs": [],
   "source": [
    "from pycausal.pycausal import pycausal as pc\n",
    "pc = pc()\n",
    "pc.start_vm()"
   ]
  },
  {
   "cell_type": "code",
   "execution_count": 12,
   "id": "626cc501-f829-413a-a413-79e18ec0a00a",
   "metadata": {
    "scrolled": true,
    "tags": []
   },
   "outputs": [
    {
     "name": "stderr",
     "output_type": "stream",
     "text": [
      "  0%|          | 0/32 [00:00<?, ?it/s]invalid value encountered in true_divide\n",
      "invalid value encountered in true_divide\n",
      "Mean of empty slice\n",
      "  3%|▎         | 1/32 [00:01<00:44,  1.43s/it]invalid value encountered in true_divide\n",
      "invalid value encountered in true_divide\n",
      "Mean of empty slice\n",
      "  6%|▋         | 2/32 [00:02<00:37,  1.25s/it]invalid value encountered in true_divide\n",
      "invalid value encountered in true_divide\n",
      "Mean of empty slice\n",
      "  9%|▉         | 3/32 [00:04<00:44,  1.53s/it]invalid value encountered in true_divide\n",
      "invalid value encountered in true_divide\n",
      "Mean of empty slice\n",
      " 12%|█▎        | 4/32 [00:05<00:39,  1.40s/it]invalid value encountered in true_divide\n",
      "invalid value encountered in true_divide\n",
      "Mean of empty slice\n",
      " 16%|█▌        | 5/32 [00:06<00:34,  1.26s/it]invalid value encountered in true_divide\n",
      "invalid value encountered in true_divide\n",
      "Mean of empty slice\n",
      " 19%|█▉        | 6/32 [00:07<00:31,  1.21s/it]invalid value encountered in true_divide\n",
      "invalid value encountered in true_divide\n",
      "Mean of empty slice\n",
      " 22%|██▏       | 7/32 [00:08<00:30,  1.21s/it]invalid value encountered in true_divide\n",
      "invalid value encountered in true_divide\n",
      "Mean of empty slice\n",
      " 25%|██▌       | 8/32 [00:10<00:30,  1.28s/it]invalid value encountered in true_divide\n",
      "invalid value encountered in true_divide\n",
      "Mean of empty slice\n",
      " 28%|██▊       | 9/32 [00:11<00:28,  1.22s/it]invalid value encountered in true_divide\n",
      "invalid value encountered in true_divide\n",
      "Mean of empty slice\n",
      " 31%|███▏      | 10/32 [00:12<00:26,  1.20s/it]invalid value encountered in true_divide\n",
      "invalid value encountered in true_divide\n",
      "Mean of empty slice\n",
      " 34%|███▍      | 11/32 [00:13<00:25,  1.21s/it]invalid value encountered in true_divide\n",
      "invalid value encountered in true_divide\n",
      "Mean of empty slice\n",
      " 38%|███▊      | 12/32 [00:15<00:24,  1.22s/it]invalid value encountered in true_divide\n",
      "invalid value encountered in true_divide\n",
      "Mean of empty slice\n",
      " 41%|████      | 13/32 [00:16<00:21,  1.15s/it]invalid value encountered in true_divide\n",
      "invalid value encountered in true_divide\n",
      "Mean of empty slice\n",
      " 44%|████▍     | 14/32 [00:17<00:23,  1.29s/it]invalid value encountered in true_divide\n",
      "invalid value encountered in true_divide\n",
      "Mean of empty slice\n",
      " 47%|████▋     | 15/32 [00:18<00:19,  1.17s/it]invalid value encountered in true_divide\n",
      "invalid value encountered in true_divide\n",
      "Mean of empty slice\n",
      " 50%|█████     | 16/32 [00:20<00:20,  1.27s/it]invalid value encountered in true_divide\n",
      "invalid value encountered in true_divide\n",
      "Mean of empty slice\n",
      " 53%|█████▎    | 17/32 [00:21<00:20,  1.34s/it]invalid value encountered in true_divide\n",
      "invalid value encountered in true_divide\n",
      "Mean of empty slice\n",
      " 56%|█████▋    | 18/32 [00:22<00:17,  1.26s/it]invalid value encountered in true_divide\n",
      "invalid value encountered in true_divide\n",
      "Mean of empty slice\n",
      " 59%|█████▉    | 19/32 [00:23<00:15,  1.20s/it]invalid value encountered in true_divide\n",
      "invalid value encountered in true_divide\n",
      "Mean of empty slice\n",
      " 62%|██████▎   | 20/32 [00:24<00:14,  1.21s/it]invalid value encountered in true_divide\n",
      "invalid value encountered in true_divide\n",
      "Mean of empty slice\n",
      " 66%|██████▌   | 21/32 [00:26<00:12,  1.17s/it]invalid value encountered in true_divide\n",
      "invalid value encountered in true_divide\n",
      "Mean of empty slice\n",
      " 69%|██████▉   | 22/32 [00:27<00:12,  1.21s/it]invalid value encountered in true_divide\n",
      "invalid value encountered in true_divide\n",
      "Mean of empty slice\n",
      " 72%|███████▏  | 23/32 [00:28<00:10,  1.16s/it]invalid value encountered in true_divide\n",
      "invalid value encountered in true_divide\n",
      "Mean of empty slice\n",
      " 75%|███████▌  | 24/32 [00:29<00:09,  1.18s/it]invalid value encountered in true_divide\n",
      "invalid value encountered in true_divide\n",
      "Mean of empty slice\n",
      " 78%|███████▊  | 25/32 [00:30<00:07,  1.12s/it]invalid value encountered in true_divide\n",
      "invalid value encountered in true_divide\n",
      "Mean of empty slice\n",
      " 81%|████████▏ | 26/32 [00:31<00:07,  1.19s/it]invalid value encountered in true_divide\n",
      "invalid value encountered in true_divide\n",
      "Mean of empty slice\n",
      " 84%|████████▍ | 27/32 [00:32<00:05,  1.06s/it]invalid value encountered in true_divide\n",
      "invalid value encountered in true_divide\n",
      "Mean of empty slice\n",
      " 88%|████████▊ | 28/32 [00:33<00:04,  1.12s/it]invalid value encountered in true_divide\n",
      "invalid value encountered in true_divide\n",
      "Mean of empty slice\n",
      " 91%|█████████ | 29/32 [00:35<00:03,  1.14s/it]invalid value encountered in true_divide\n",
      "invalid value encountered in true_divide\n",
      "Mean of empty slice\n",
      " 94%|█████████▍| 30/32 [00:36<00:02,  1.13s/it]invalid value encountered in true_divide\n",
      "invalid value encountered in true_divide\n",
      "Mean of empty slice\n",
      " 97%|█████████▋| 31/32 [00:37<00:01,  1.22s/it]invalid value encountered in true_divide\n",
      "invalid value encountered in true_divide\n",
      "Mean of empty slice\n",
      "100%|██████████| 32/32 [00:38<00:00,  1.21s/it]\n",
      "  0%|          | 0/47 [00:00<?, ?it/s]invalid value encountered in true_divide\n",
      "invalid value encountered in true_divide\n",
      "Mean of empty slice\n",
      "  2%|▏         | 1/47 [00:01<01:15,  1.65s/it]invalid value encountered in true_divide\n",
      "invalid value encountered in true_divide\n",
      "Mean of empty slice\n",
      "  4%|▍         | 2/47 [00:02<01:05,  1.46s/it]invalid value encountered in true_divide\n",
      "invalid value encountered in true_divide\n",
      "Mean of empty slice\n",
      "  6%|▋         | 3/47 [00:04<01:00,  1.37s/it]invalid value encountered in true_divide\n",
      "invalid value encountered in true_divide\n",
      "Mean of empty slice\n",
      "  9%|▊         | 4/47 [00:05<00:59,  1.38s/it]invalid value encountered in true_divide\n",
      "invalid value encountered in true_divide\n",
      "Mean of empty slice\n",
      " 11%|█         | 5/47 [00:06<00:51,  1.22s/it]invalid value encountered in true_divide\n",
      "invalid value encountered in true_divide\n",
      "Mean of empty slice\n",
      " 13%|█▎        | 6/47 [00:07<00:46,  1.13s/it]invalid value encountered in true_divide\n",
      "invalid value encountered in true_divide\n",
      "Mean of empty slice\n",
      " 15%|█▍        | 7/47 [00:08<00:43,  1.09s/it]invalid value encountered in true_divide\n",
      "invalid value encountered in true_divide\n",
      "Mean of empty slice\n",
      " 17%|█▋        | 8/47 [00:09<00:45,  1.16s/it]invalid value encountered in true_divide\n",
      "invalid value encountered in true_divide\n",
      "Mean of empty slice\n",
      " 19%|█▉        | 9/47 [00:10<00:44,  1.16s/it]invalid value encountered in true_divide\n",
      "invalid value encountered in true_divide\n",
      "Mean of empty slice\n",
      " 21%|██▏       | 10/47 [00:12<00:41,  1.11s/it]invalid value encountered in true_divide\n",
      "invalid value encountered in true_divide\n",
      "Mean of empty slice\n",
      " 23%|██▎       | 11/47 [00:13<00:41,  1.15s/it]invalid value encountered in true_divide\n",
      "invalid value encountered in true_divide\n",
      "Mean of empty slice\n",
      " 26%|██▌       | 12/47 [00:14<00:45,  1.31s/it]invalid value encountered in true_divide\n",
      "invalid value encountered in true_divide\n",
      "Mean of empty slice\n",
      " 28%|██▊       | 13/47 [00:16<00:43,  1.28s/it]invalid value encountered in true_divide\n",
      "invalid value encountered in true_divide\n",
      "Mean of empty slice\n",
      " 30%|██▉       | 14/47 [00:17<00:42,  1.29s/it]invalid value encountered in true_divide\n",
      "invalid value encountered in true_divide\n",
      "Mean of empty slice\n",
      " 32%|███▏      | 15/47 [00:18<00:39,  1.22s/it]invalid value encountered in true_divide\n",
      "invalid value encountered in true_divide\n",
      "Mean of empty slice\n",
      " 34%|███▍      | 16/47 [00:19<00:38,  1.26s/it]invalid value encountered in true_divide\n",
      "invalid value encountered in true_divide\n",
      "Mean of empty slice\n",
      " 36%|███▌      | 17/47 [00:20<00:36,  1.21s/it]invalid value encountered in true_divide\n",
      "invalid value encountered in true_divide\n",
      "Mean of empty slice\n",
      " 38%|███▊      | 18/47 [00:22<00:35,  1.23s/it]invalid value encountered in true_divide\n",
      "invalid value encountered in true_divide\n",
      "Mean of empty slice\n",
      " 40%|████      | 19/47 [00:23<00:35,  1.28s/it]invalid value encountered in true_divide\n",
      "invalid value encountered in true_divide\n",
      "Mean of empty slice\n",
      " 43%|████▎     | 20/47 [00:24<00:33,  1.25s/it]invalid value encountered in true_divide\n",
      "invalid value encountered in true_divide\n",
      "Mean of empty slice\n",
      " 45%|████▍     | 21/47 [00:26<00:32,  1.25s/it]invalid value encountered in true_divide\n",
      "invalid value encountered in true_divide\n",
      "Mean of empty slice\n",
      " 47%|████▋     | 22/47 [00:27<00:30,  1.21s/it]invalid value encountered in true_divide\n",
      "invalid value encountered in true_divide\n",
      "Mean of empty slice\n",
      " 49%|████▉     | 23/47 [00:28<00:28,  1.19s/it]invalid value encountered in true_divide\n",
      "invalid value encountered in true_divide\n",
      "Mean of empty slice\n",
      " 51%|█████     | 24/47 [00:29<00:25,  1.11s/it]invalid value encountered in true_divide\n",
      "invalid value encountered in true_divide\n",
      "Mean of empty slice\n",
      " 53%|█████▎    | 25/47 [00:30<00:26,  1.21s/it]invalid value encountered in true_divide\n",
      "invalid value encountered in true_divide\n",
      "Mean of empty slice\n",
      " 55%|█████▌    | 26/47 [00:31<00:24,  1.18s/it]invalid value encountered in true_divide\n",
      "invalid value encountered in true_divide\n",
      "Mean of empty slice\n",
      " 57%|█████▋    | 27/47 [00:33<00:24,  1.21s/it]invalid value encountered in true_divide\n",
      "invalid value encountered in true_divide\n",
      "Mean of empty slice\n",
      " 60%|█████▉    | 28/47 [00:34<00:22,  1.19s/it]invalid value encountered in true_divide\n",
      "invalid value encountered in true_divide\n",
      "Mean of empty slice\n",
      " 62%|██████▏   | 29/47 [00:35<00:22,  1.27s/it]invalid value encountered in true_divide\n",
      "invalid value encountered in true_divide\n",
      "Mean of empty slice\n",
      " 64%|██████▍   | 30/47 [00:36<00:21,  1.28s/it]invalid value encountered in true_divide\n",
      "invalid value encountered in true_divide\n",
      "Mean of empty slice\n",
      " 66%|██████▌   | 31/47 [00:38<00:20,  1.31s/it]invalid value encountered in true_divide\n",
      "invalid value encountered in true_divide\n",
      "Mean of empty slice\n",
      " 68%|██████▊   | 32/47 [00:39<00:20,  1.38s/it]invalid value encountered in true_divide\n",
      "invalid value encountered in true_divide\n",
      "Mean of empty slice\n",
      " 70%|███████   | 33/47 [00:40<00:18,  1.29s/it]invalid value encountered in true_divide\n",
      "invalid value encountered in true_divide\n",
      "Mean of empty slice\n",
      " 72%|███████▏  | 34/47 [00:42<00:17,  1.32s/it]invalid value encountered in true_divide\n",
      "invalid value encountered in true_divide\n",
      "Mean of empty slice\n",
      " 74%|███████▍  | 35/47 [00:43<00:15,  1.32s/it]invalid value encountered in true_divide\n",
      "invalid value encountered in true_divide\n",
      "Mean of empty slice\n",
      " 77%|███████▋  | 36/47 [00:44<00:13,  1.20s/it]invalid value encountered in true_divide\n",
      "invalid value encountered in true_divide\n",
      "Mean of empty slice\n",
      " 79%|███████▊  | 37/47 [00:45<00:12,  1.23s/it]invalid value encountered in true_divide\n",
      "invalid value encountered in true_divide\n",
      "Mean of empty slice\n",
      " 81%|████████  | 38/47 [00:46<00:10,  1.18s/it]invalid value encountered in true_divide\n",
      "invalid value encountered in true_divide\n",
      "Mean of empty slice\n",
      " 83%|████████▎ | 39/47 [00:48<00:09,  1.25s/it]invalid value encountered in true_divide\n",
      "invalid value encountered in true_divide\n",
      "Mean of empty slice\n",
      " 85%|████████▌ | 40/47 [00:49<00:09,  1.29s/it]invalid value encountered in true_divide\n",
      "invalid value encountered in true_divide\n",
      "Mean of empty slice\n",
      " 87%|████████▋ | 41/47 [00:50<00:07,  1.18s/it]invalid value encountered in true_divide\n",
      "invalid value encountered in true_divide\n",
      "Mean of empty slice\n",
      " 89%|████████▉ | 42/47 [00:52<00:06,  1.24s/it]invalid value encountered in true_divide\n",
      "invalid value encountered in true_divide\n",
      "Mean of empty slice\n",
      " 91%|█████████▏| 43/47 [00:53<00:04,  1.22s/it]invalid value encountered in true_divide\n",
      "invalid value encountered in true_divide\n",
      "Mean of empty slice\n",
      " 94%|█████████▎| 44/47 [00:54<00:03,  1.22s/it]invalid value encountered in true_divide\n",
      "invalid value encountered in true_divide\n",
      "Mean of empty slice\n",
      " 96%|█████████▌| 45/47 [00:55<00:02,  1.17s/it]invalid value encountered in true_divide\n",
      "invalid value encountered in true_divide\n",
      "Mean of empty slice\n",
      " 98%|█████████▊| 46/47 [00:56<00:01,  1.23s/it]invalid value encountered in true_divide\n",
      "invalid value encountered in true_divide\n",
      "Mean of empty slice\n",
      "100%|██████████| 47/47 [00:58<00:00,  1.24s/it]\n",
      "  0%|          | 0/64 [00:00<?, ?it/s]invalid value encountered in true_divide\n",
      "invalid value encountered in true_divide\n",
      "Mean of empty slice\n",
      "  2%|▏         | 1/64 [00:06<07:08,  6.80s/it]invalid value encountered in true_divide\n",
      "invalid value encountered in true_divide\n",
      "Mean of empty slice\n",
      "  3%|▎         | 2/64 [00:11<05:50,  5.66s/it]invalid value encountered in true_divide\n",
      "invalid value encountered in true_divide\n",
      "Mean of empty slice\n",
      "  5%|▍         | 3/64 [00:14<04:33,  4.48s/it]invalid value encountered in true_divide\n",
      "invalid value encountered in true_divide\n",
      "Mean of empty slice\n",
      "  6%|▋         | 4/64 [00:19<04:25,  4.43s/it]invalid value encountered in true_divide\n",
      "invalid value encountered in true_divide\n",
      "Mean of empty slice\n",
      "  8%|▊         | 5/64 [00:24<04:34,  4.66s/it]invalid value encountered in true_divide\n",
      "invalid value encountered in true_divide\n",
      "Mean of empty slice\n",
      "  9%|▉         | 6/64 [00:28<04:16,  4.42s/it]invalid value encountered in true_divide\n",
      "invalid value encountered in true_divide\n",
      "Mean of empty slice\n",
      " 11%|█         | 7/64 [00:32<04:09,  4.38s/it]invalid value encountered in true_divide\n",
      "invalid value encountered in true_divide\n",
      "Mean of empty slice\n",
      " 12%|█▎        | 8/64 [00:38<04:31,  4.85s/it]invalid value encountered in true_divide\n",
      "invalid value encountered in true_divide\n",
      "Mean of empty slice\n",
      " 14%|█▍        | 9/64 [00:42<04:17,  4.69s/it]invalid value encountered in true_divide\n",
      "invalid value encountered in true_divide\n",
      "Mean of empty slice\n",
      " 16%|█▌        | 10/64 [00:47<04:22,  4.85s/it]invalid value encountered in true_divide\n",
      "invalid value encountered in true_divide\n",
      "Mean of empty slice\n",
      " 17%|█▋        | 11/64 [00:52<04:12,  4.76s/it]invalid value encountered in true_divide\n",
      "invalid value encountered in true_divide\n",
      "Mean of empty slice\n",
      " 19%|█▉        | 12/64 [00:57<04:16,  4.94s/it]invalid value encountered in true_divide\n",
      "invalid value encountered in true_divide\n",
      "Mean of empty slice\n",
      " 20%|██        | 13/64 [01:03<04:28,  5.27s/it]invalid value encountered in true_divide\n",
      "invalid value encountered in true_divide\n",
      "Mean of empty slice\n",
      " 22%|██▏       | 14/64 [01:09<04:27,  5.35s/it]invalid value encountered in true_divide\n",
      "invalid value encountered in true_divide\n",
      "Mean of empty slice\n",
      " 23%|██▎       | 15/64 [01:13<04:06,  5.04s/it]invalid value encountered in true_divide\n",
      "invalid value encountered in true_divide\n",
      "Mean of empty slice\n",
      " 25%|██▌       | 16/64 [01:18<03:56,  4.93s/it]invalid value encountered in true_divide\n",
      "invalid value encountered in true_divide\n",
      "Mean of empty slice\n",
      " 27%|██▋       | 17/64 [01:22<03:47,  4.84s/it]invalid value encountered in true_divide\n",
      "invalid value encountered in true_divide\n",
      "Mean of empty slice\n",
      " 28%|██▊       | 18/64 [01:28<03:50,  5.01s/it]invalid value encountered in true_divide\n",
      "invalid value encountered in true_divide\n",
      "Mean of empty slice\n",
      " 30%|██▉       | 19/64 [01:32<03:38,  4.85s/it]invalid value encountered in true_divide\n",
      "invalid value encountered in true_divide\n",
      "Mean of empty slice\n",
      " 31%|███▏      | 20/64 [01:38<03:42,  5.06s/it]invalid value encountered in true_divide\n",
      "invalid value encountered in true_divide\n",
      "Mean of empty slice\n",
      " 33%|███▎      | 21/64 [01:43<03:33,  4.97s/it]invalid value encountered in true_divide\n",
      "invalid value encountered in true_divide\n",
      "Mean of empty slice\n",
      " 34%|███▍      | 22/64 [01:47<03:23,  4.84s/it]invalid value encountered in true_divide\n",
      "invalid value encountered in true_divide\n",
      "Mean of empty slice\n",
      " 36%|███▌      | 23/64 [01:53<03:25,  5.02s/it]invalid value encountered in true_divide\n",
      "invalid value encountered in true_divide\n",
      "Mean of empty slice\n",
      " 38%|███▊      | 24/64 [01:56<03:04,  4.62s/it]invalid value encountered in true_divide\n",
      "invalid value encountered in true_divide\n",
      "Mean of empty slice\n",
      " 39%|███▉      | 25/64 [02:01<02:55,  4.50s/it]invalid value encountered in true_divide\n",
      "invalid value encountered in true_divide\n",
      "Mean of empty slice\n",
      " 41%|████      | 26/64 [02:06<03:06,  4.90s/it]invalid value encountered in true_divide\n",
      "invalid value encountered in true_divide\n",
      "Mean of empty slice\n",
      " 42%|████▏     | 27/64 [02:11<02:59,  4.85s/it]invalid value encountered in true_divide\n",
      "invalid value encountered in true_divide\n",
      "Mean of empty slice\n",
      " 44%|████▍     | 28/64 [02:16<02:58,  4.97s/it]invalid value encountered in true_divide\n",
      "invalid value encountered in true_divide\n",
      "Mean of empty slice\n",
      " 45%|████▌     | 29/64 [02:21<02:56,  5.03s/it]invalid value encountered in true_divide\n",
      "invalid value encountered in true_divide\n",
      "Mean of empty slice\n",
      " 47%|████▋     | 30/64 [02:26<02:48,  4.96s/it]invalid value encountered in true_divide\n",
      "invalid value encountered in true_divide\n",
      "Mean of empty slice\n",
      " 48%|████▊     | 31/64 [02:29<02:25,  4.42s/it]invalid value encountered in true_divide\n",
      "invalid value encountered in true_divide\n",
      "Mean of empty slice\n",
      " 50%|█████     | 32/64 [02:34<02:24,  4.53s/it]invalid value encountered in true_divide\n",
      "invalid value encountered in true_divide\n",
      "Mean of empty slice\n",
      " 52%|█████▏    | 33/64 [02:38<02:12,  4.28s/it]invalid value encountered in true_divide\n",
      "invalid value encountered in true_divide\n",
      "Mean of empty slice\n",
      " 53%|█████▎    | 34/64 [02:42<02:08,  4.28s/it]invalid value encountered in true_divide\n",
      "invalid value encountered in true_divide\n",
      "Mean of empty slice\n",
      " 55%|█████▍    | 35/64 [02:45<01:54,  3.95s/it]invalid value encountered in true_divide\n",
      "invalid value encountered in true_divide\n",
      "Mean of empty slice\n",
      " 56%|█████▋    | 36/64 [02:52<02:11,  4.70s/it]invalid value encountered in true_divide\n",
      "invalid value encountered in true_divide\n",
      "Mean of empty slice\n",
      " 58%|█████▊    | 37/64 [02:59<02:28,  5.51s/it]invalid value encountered in true_divide\n",
      "invalid value encountered in true_divide\n",
      "Mean of empty slice\n",
      " 59%|█████▉    | 38/64 [03:03<02:12,  5.08s/it]invalid value encountered in true_divide\n",
      "invalid value encountered in true_divide\n",
      "Mean of empty slice\n",
      " 61%|██████    | 39/64 [03:08<02:03,  4.94s/it]invalid value encountered in true_divide\n",
      "invalid value encountered in true_divide\n",
      "Mean of empty slice\n",
      " 62%|██████▎   | 40/64 [03:13<02:00,  5.03s/it]invalid value encountered in true_divide\n",
      "invalid value encountered in true_divide\n",
      "Mean of empty slice\n",
      " 64%|██████▍   | 41/64 [03:16<01:42,  4.46s/it]invalid value encountered in true_divide\n",
      "invalid value encountered in true_divide\n",
      "Mean of empty slice\n",
      " 66%|██████▌   | 42/64 [03:21<01:41,  4.63s/it]invalid value encountered in true_divide\n",
      "invalid value encountered in true_divide\n",
      "Mean of empty slice\n",
      " 67%|██████▋   | 43/64 [03:26<01:39,  4.72s/it]invalid value encountered in true_divide\n",
      "invalid value encountered in true_divide\n",
      "Mean of empty slice\n",
      " 69%|██████▉   | 44/64 [03:31<01:37,  4.85s/it]invalid value encountered in true_divide\n",
      "invalid value encountered in true_divide\n",
      "Mean of empty slice\n",
      " 70%|███████   | 45/64 [03:37<01:37,  5.11s/it]invalid value encountered in true_divide\n",
      "invalid value encountered in true_divide\n",
      "Mean of empty slice\n",
      " 72%|███████▏  | 46/64 [03:41<01:26,  4.81s/it]invalid value encountered in true_divide\n",
      "invalid value encountered in true_divide\n",
      "Mean of empty slice\n",
      " 73%|███████▎  | 47/64 [03:47<01:26,  5.07s/it]invalid value encountered in true_divide\n",
      "invalid value encountered in true_divide\n",
      "Mean of empty slice\n",
      " 75%|███████▌  | 48/64 [03:51<01:18,  4.89s/it]invalid value encountered in true_divide\n",
      "invalid value encountered in true_divide\n",
      "Mean of empty slice\n",
      " 77%|███████▋  | 49/64 [03:56<01:12,  4.85s/it]invalid value encountered in true_divide\n",
      "invalid value encountered in true_divide\n",
      "Mean of empty slice\n",
      " 78%|███████▊  | 50/64 [03:59<01:00,  4.36s/it]invalid value encountered in true_divide\n",
      "invalid value encountered in true_divide\n",
      "Mean of empty slice\n",
      " 80%|███████▉  | 51/64 [04:05<01:03,  4.89s/it]invalid value encountered in true_divide\n",
      "invalid value encountered in true_divide\n",
      "Mean of empty slice\n",
      " 81%|████████▏ | 52/64 [04:09<00:54,  4.58s/it]invalid value encountered in true_divide\n",
      "invalid value encountered in true_divide\n",
      "Mean of empty slice\n",
      " 83%|████████▎ | 53/64 [04:14<00:51,  4.65s/it]invalid value encountered in true_divide\n",
      "invalid value encountered in true_divide\n",
      "Mean of empty slice\n",
      " 84%|████████▍ | 54/64 [04:19<00:46,  4.68s/it]invalid value encountered in true_divide\n",
      "invalid value encountered in true_divide\n",
      "Mean of empty slice\n",
      " 86%|████████▌ | 55/64 [04:23<00:40,  4.55s/it]invalid value encountered in true_divide\n",
      "invalid value encountered in true_divide\n",
      "Mean of empty slice\n",
      " 88%|████████▊ | 56/64 [04:28<00:36,  4.51s/it]invalid value encountered in true_divide\n",
      "invalid value encountered in true_divide\n",
      "Mean of empty slice\n",
      " 89%|████████▉ | 57/64 [04:33<00:32,  4.65s/it]invalid value encountered in true_divide\n",
      "invalid value encountered in true_divide\n",
      "Mean of empty slice\n",
      " 91%|█████████ | 58/64 [04:36<00:25,  4.21s/it]invalid value encountered in true_divide\n",
      "invalid value encountered in true_divide\n",
      "Mean of empty slice\n",
      " 92%|█████████▏| 59/64 [04:40<00:21,  4.30s/it]invalid value encountered in true_divide\n",
      "invalid value encountered in true_divide\n",
      "Mean of empty slice\n",
      " 94%|█████████▍| 60/64 [04:46<00:18,  4.59s/it]invalid value encountered in true_divide\n",
      "invalid value encountered in true_divide\n",
      "Mean of empty slice\n",
      " 95%|█████████▌| 61/64 [04:51<00:14,  4.87s/it]invalid value encountered in true_divide\n",
      "invalid value encountered in true_divide\n",
      "Mean of empty slice\n",
      " 97%|█████████▋| 62/64 [04:56<00:09,  4.89s/it]invalid value encountered in true_divide\n",
      "invalid value encountered in true_divide\n",
      "Mean of empty slice\n",
      " 98%|█████████▊| 63/64 [05:00<00:04,  4.63s/it]invalid value encountered in true_divide\n",
      "invalid value encountered in true_divide\n",
      "Mean of empty slice\n",
      "100%|██████████| 64/64 [05:06<00:00,  4.79s/it]\n"
     ]
    }
   ],
   "source": [
    "from random_walk_failure_instance import workflow as rw_fi_workflow\n",
    "from random_walk_failure_instance import RandomWalkFailureInstanceConfig\n",
    "from random_walk_single_metric import RandomWalkSingleMetricConfig\n",
    "from random_walk_single_metric import workflow as rw_metric_workflow\n",
    "from failure_dependency_graph import FDGModelInterface\n",
    "from pathlib import Path\n",
    "from functools import partial\n",
    "\n",
    "def parse_random_walk(config, workflow_func, dataset_name, method_name):\n",
    "    y_trues, y_preds = workflow_func(config)\n",
    "    base = FDGModelInterface(config)\n",
    "    fdg = base.fdg\n",
    "    \n",
    "    train_rc_nodes = set()\n",
    "    for fault_id in base.train_failure_ids:\n",
    "        train_rc_nodes |= set(fdg.root_cause_instances_of(fault_id))\n",
    "    \n",
    "    records = []\n",
    "    for fault_id, y_pred in zip(base.test_failure_ids, y_preds):\n",
    "        for n in set(fdg.root_cause_instances_of(fault_id)):\n",
    "            if n not in y_pred:\n",
    "                rank = len(y_pred) / 2 + fdg.n_failure_instances / 2\n",
    "            else:\n",
    "                rank = y_pred.index(n) + 1\n",
    "            records.append({\n",
    "                'Seen': n in train_rc_nodes,\n",
    "                \"Rank\": rank,\n",
    "                \"fault_id\": fault_id,\n",
    "                \"node\": n,\n",
    "                \"Method\": method_name,\n",
    "            })\n",
    "    ret_df = pd.DataFrame.from_records(records)\n",
    "    ret_df['Dataset'] = dataset_name\n",
    "    return ret_df\n",
    "\n",
    "df5 = pd.concat([\n",
    "    parse_random_walk(\n",
    "        RandomWalkSingleMetricConfig().from_dict(dict(\n",
    "            flush_dataset_cache=False, data_dir=Path(\"/SSF/data/A1\"), output_dir=OUTPUT_DIR / \"A1_RW@Metric\", flush_causal_graph_cache=False\n",
    "        )),\n",
    "        partial(rw_metric_workflow, in_jvm_context=True),\n",
    "        dataset_name='A',\n",
    "        method_name=\"RW@Metric\",\n",
    "    ),\n",
    "    parse_random_walk(\n",
    "        RandomWalkSingleMetricConfig().from_dict(dict(\n",
    "            flush_dataset_cache=False, data_dir=Path(\"/SSF/data/A2\"), output_dir=OUTPUT_DIR / \"A2_RW@Metric\", flush_causal_graph_cache=False\n",
    "        )),\n",
    "        partial(rw_metric_workflow, in_jvm_context=True),\n",
    "        dataset_name='A',\n",
    "        method_name=\"RW@Metric\",\n",
    "    ),\n",
    "    parse_random_walk(\n",
    "        RandomWalkSingleMetricConfig().from_dict(dict(\n",
    "            flush_dataset_cache=False, data_dir=Path(\"/SSF/data/B\"), output_dir=OUTPUT_DIR / \"B_RW@Metric\", flush_causal_graph_cache=False\n",
    "        )),\n",
    "        partial(rw_metric_workflow, in_jvm_context=True),\n",
    "        dataset_name='B',\n",
    "        method_name=\"RW@Metric\",\n",
    "    ),\n",
    "])"
   ]
  },
  {
   "cell_type": "code",
   "execution_count": 14,
   "id": "b168b72b-5a3f-4800-b0c1-e842dc017fbf",
   "metadata": {},
   "outputs": [],
   "source": [
    "df5.to_pickle(OUTPUT_DIR / \"rw_metric_rank.pkl\")"
   ]
  },
  {
   "cell_type": "code",
   "execution_count": 15,
   "id": "7b90cb85-a97c-4e27-9b09-010f568d0307",
   "metadata": {},
   "outputs": [
    {
     "name": "stderr",
     "output_type": "stream",
     "text": [
      "  0%|          | 0/32 [00:00<?, ?it/s]invalid value encountered in true_divide\n",
      "invalid value encountered in true_divide\n",
      "100%|██████████| 32/32 [00:14<00:00,  2.20it/s]\n",
      "  0%|          | 0/47 [00:00<?, ?it/s]invalid value encountered in true_divide\n",
      "invalid value encountered in true_divide\n",
      "100%|██████████| 47/47 [00:16<00:00,  2.82it/s]\n",
      "  0%|          | 0/64 [00:00<?, ?it/s]invalid value encountered in true_divide\n",
      "invalid value encountered in true_divide\n",
      "100%|██████████| 64/64 [00:42<00:00,  1.52it/s]\n"
     ]
    }
   ],
   "source": [
    "df6 = pd.concat([\n",
    "    parse_random_walk(\n",
    "        RandomWalkFailureInstanceConfig().from_dict(dict(flush_dataset_cache=False, data_dir=Path(\"/SSF/data/A1\"), output_dir=OUTPUT_DIR / \"A1_RW@FI\")),\n",
    "        rw_fi_workflow,\n",
    "        dataset_name='A',\n",
    "        method_name=\"RW@FI\",\n",
    "    ),\n",
    "    parse_random_walk(\n",
    "        RandomWalkFailureInstanceConfig().from_dict(dict(flush_dataset_cache=False, data_dir=Path(\"/SSF/data/A2\"), output_dir=OUTPUT_DIR / \"A2_RW@FI\")),\n",
    "        rw_fi_workflow,\n",
    "        dataset_name='A',\n",
    "        method_name=\"RW@FI\",\n",
    "    ),\n",
    "    parse_random_walk(\n",
    "        RandomWalkFailureInstanceConfig().from_dict(dict(flush_dataset_cache=False, data_dir=Path(\"/SSF/data/B\"), output_dir=OUTPUT_DIR / \"B_RW@FI\")),\n",
    "        rw_fi_workflow,\n",
    "        dataset_name='B',\n",
    "        method_name=\"RW@FI\",\n",
    "    ),\n",
    "])"
   ]
  },
  {
   "cell_type": "code",
   "execution_count": 16,
   "id": "8ec64f63-3650-445e-805c-70ca395ffe4d",
   "metadata": {},
   "outputs": [],
   "source": [
    "df6.to_pickle(OUTPUT_DIR / \"rw_fi_rank.pkl\")"
   ]
  },
  {
   "cell_type": "code",
   "execution_count": 17,
   "id": "ac00a094",
   "metadata": {},
   "outputs": [],
   "source": [
    "import pandas as pd\n",
    "df1 = pd.read_pickle(OUTPUT_DIR / 'ours_rank.pkl')\n",
    "df2 = pd.read_pickle(OUTPUT_DIR / 'isq_rank.pkl')\n",
    "df3 = pd.read_pickle(OUTPUT_DIR / 'jss20_rank.pkl')\n",
    "df4 = pd.read_pickle(OUTPUT_DIR / 'dt_rank.pkl')\n",
    "df5 = pd.read_pickle(OUTPUT_DIR / 'rw_metric_rank.pkl')\n",
    "df6 = pd.read_pickle(OUTPUT_DIR / 'rw_fi_rank.pkl')"
   ]
  },
  {
   "cell_type": "code",
   "execution_count": 21,
   "id": "5b060b02",
   "metadata": {
    "pycharm": {
     "name": "#%%\n"
    }
   },
   "outputs": [
    {
     "data": {
      "image/png": "[encoded data removed]",
      "text/plain": [
       "<Figure size 1350x300 with 1 Axes>"
      ]
     },
     "metadata": {
      "needs_background": "light"
     },
     "output_type": "display_data"
    },
    {
     "data": {
      "image/png": "[encoded data removed]",
      "text/plain": [
       "<Figure size 1350x300 with 1 Axes>"
      ]
     },
     "metadata": {
      "needs_background": "light"
     },
     "output_type": "display_data"
    }
   ],
   "source": [
    "import seaborn as sns\n",
    "import matplotlib.pyplot as plt\n",
    "import numpy as np\n",
    "df = pd.concat([df1, df2, df3, df4, df5, df6])\n",
    "df['log(Rank)'] = df['Rank'].map(np.log)\n",
    "df['Seen'] = df['Seen'].map(lambda _: {True: 'Seen', False: 'Unseen'}[_])\n",
    "\n",
    "df.replace({\"Ours\": \"DéjàVu\"}, inplace=True)\n",
    "\n",
    "plt.figure(dpi=300, figsize=(4.5, 1.))\n",
    "ax = sns.barplot(data=df[df.Dataset == 'A'], y='log(Rank)', x='Method', hue='Seen', hue_order=['Seen', 'Unseen'], palette='Blues')\n",
    "plt.legend(title=False, fontsize='small')\n",
    "plt.xlabel(None)\n",
    "plt.ylabel(\"$\\log_{10}(rank)$\")\n",
    "plt.xticks(rotation=15)\n",
    "plt.yticks([0.0, 2.5, 5.0], )\n",
    "plt.savefig(OUTPUT_DIR / 'A.pdf', bbox_inches='tight', pad_inches=0)\n",
    "plt.show()\n",
    "plt.close()\n",
    "\n",
    "plt.figure(dpi=300, figsize=(4.5, 1.))\n",
    "ax = sns.barplot(data=df[df.Dataset == 'B'], y='log(Rank)', x='Method', hue='Seen', hue_order=['Seen', 'Unseen'], palette='Blues')\n",
    "plt.legend(title=False, loc='upper left', fontsize='small')\n",
    "plt.xlabel(None)\n",
    "plt.yticks([0.0, 2.5, 5.0])\n",
    "plt.xticks(rotation=15)\n",
    "plt.ylabel(\"$\\log_{10}(rank)$\")\n",
    "plt.savefig(OUTPUT_DIR / 'B.pdf', bbox_inches='tight', pad_inches=0)\n",
    "plt.show()\n",
    "plt.close()"
   ]
  },
  {
   "cell_type": "markdown",
   "id": "5f3e7fd2-de48-4fe9-b0a1-d1ff7895ad42",
   "metadata": {},
   "source": [
    "##### "
   ]
  },
  {
   "cell_type": "code",
   "execution_count": null,
   "id": "f9119f91-1a44-4da8-b543-b6ef5eedaebc",
   "metadata": {},
   "outputs": [],
   "source": []
  }
 ],
 "metadata": {
  "jupytext": {
   "encoding": "# -*- coding: utf-8 -*-",
   "formats": "ipynb,py:percent"
  },
  "kernelspec": {
   "display_name": "Python 3 (ipykernel)",
   "language": "python",
   "name": "python3"
  },
  "language_info": {
   "codemirror_mode": {
    "name": "ipython",
    "version": 3
   },
   "file_extension": ".py",
   "mimetype": "text/x-python",
   "name": "python",
   "nbconvert_exporter": "python",
   "pygments_lexer": "ipython3",
   "version": "3.8.12"
  }
 },
 "nbformat": 4,
 "nbformat_minor": 5
}
